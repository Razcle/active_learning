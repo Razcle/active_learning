{
 "cells": [
  {
   "cell_type": "code",
   "execution_count": 1,
   "metadata": {},
   "outputs": [
    {
     "data": {
      "text/plain": [
       "<torch._C.Generator at 0x1110d8d10>"
      ]
     },
     "execution_count": 1,
     "metadata": {},
     "output_type": "execute_result"
    }
   ],
   "source": [
    "import torch\n",
    "import torchvision\n",
    "import torch.nn as nn\n",
    "import torch.nn.functional as F\n",
    "import torch.optim as optim\n",
    "import matplotlib.pyplot as plt\n",
    "import numpy as np\n",
    "from hessian import *\n",
    "import operator\n",
    "torch.manual_seed(1)\n"
   ]
  },
  {
   "cell_type": "code",
   "execution_count": 2,
   "metadata": {},
   "outputs": [],
   "source": [
    "train_data=torchvision.datasets.MNIST('./', train=True, download=True,transform=torchvision.transforms.ToTensor())\n",
    "test_data=torchvision.datasets.MNIST('./', train=False, download=True,transform=torchvision.transforms.ToTensor())\n",
    "# train_loader = torch.utils.data.DataLoader(train_data, batch_size=100, shuffle=True)\n",
    "test_loader = torch.utils.data.DataLoader(test_data, batch_size=100, shuffle=True)"
   ]
  },
  {
   "cell_type": "code",
   "execution_count": 3,
   "metadata": {},
   "outputs": [],
   "source": [
    "train_dict={}\n",
    "for (data, target) in train_data:\n",
    "    if  target not in train_dict:\n",
    "        train_dict[ target]=[]\n",
    "        train_dict[ target].append(data)\n",
    "    else:\n",
    "        train_dict[ target].append(data)"
   ]
  },
  {
   "cell_type": "code",
   "execution_count": 4,
   "metadata": {},
   "outputs": [
    {
     "name": "stdout",
     "output_type": "stream",
     "text": [
      "[0, 0, 0, 0, 0, 0, 0, 0, 0, 0, 0, 0, 0, 0, 0, 0, 0, 0, 0, 0, 0, 0, 0, 0, 0, 0, 0, 0, 0, 0, 0, 0, 0, 0, 0, 0, 0, 0, 0, 0, 0, 0, 0, 0, 0, 0, 0, 0, 0, 0, 0, 0, 0, 0, 0, 0, 0, 0, 0, 0, 0, 0, 0, 0, 0, 0, 0, 0, 0, 0, 0, 0, 0, 0, 0, 0, 0, 0, 0, 0, 0, 0, 0, 0, 0, 0, 0, 0, 0, 0, 0, 0, 0, 0, 0, 0, 0, 0, 0, 0]\n"
     ]
    },
    {
     "data": {
      "image/png": "[encoded data removed]",
      "text/plain": [
       "<Figure size 432x288 with 1 Axes>"
      ]
     },
     "metadata": {
      "needs_background": "light"
     },
     "output_type": "display_data"
    },
    {
     "data": {
      "image/png": "[encoded data removed]",
      "text/plain": [
       "<Figure size 432x288 with 1 Axes>"
      ]
     },
     "metadata": {
      "needs_background": "light"
     },
     "output_type": "display_data"
    },
    {
     "data": {
      "image/png": "[encoded data removed]",
      "text/plain": [
       "<Figure size 432x288 with 1 Axes>"
      ]
     },
     "metadata": {
      "needs_background": "light"
     },
     "output_type": "display_data"
    }
   ],
   "source": [
    "initial_train_data=[]\n",
    "initial_train_label=[]\n",
    "initial_test_data=[]\n",
    "\n",
    "for i in range(0,1):\n",
    "    for j in range(100):\n",
    "        initial_train_data.append(train_dict[i][j])\n",
    "        initial_train_label.append(i)\n",
    "    \n",
    "\n",
    "test_6=train_dict[6][0]\n",
    "test_1=train_dict[1][1]\n",
    "    \n",
    "print(initial_train_label)\n",
    "\n",
    "plt.imshow(train_dict[1][0].reshape(28,28), cmap='gray', interpolation='none')\n",
    "plt.show()\n",
    "\n",
    "plt.imshow(test_1.reshape(28,28), cmap='gray', interpolation='none')\n",
    "plt.show()\n",
    "plt.imshow(test_6.reshape(28,28), cmap='gray', interpolation='none')\n",
    "plt.show()"
   ]
  },
  {
   "cell_type": "code",
   "execution_count": 5,
   "metadata": {},
   "outputs": [
    {
     "name": "stdout",
     "output_type": "stream",
     "text": [
      "torch.Size([100, 1, 28, 28])\n",
      "torch.Size([100])\n"
     ]
    }
   ],
   "source": [
    "initial_train_data_tensor=torch.stack(initial_train_data)\n",
    "initial_train_label_tensor=torch.tensor(initial_train_label)\n",
    "# train_x=torch.stack([data for (data, target) in train_data])\n",
    "# train_label=torch.tensor([target for (data, target) in train_data])\n",
    "print(initial_train_data_tensor.size())\n",
    "print(initial_train_label_tensor.size())"
   ]
  },
  {
   "cell_type": "code",
   "execution_count": 59,
   "metadata": {},
   "outputs": [],
   "source": [
    "class Net(nn.Module):\n",
    "    def __init__(self):\n",
    "        super(Net, self).__init__()\n",
    "        self.conv1 = nn.Conv2d(1, 10, kernel_size=5)\n",
    "        self.conv2 = nn.Conv2d(10, 20, kernel_size=5)\n",
    "        self.fc1 = nn.Linear(320, 50)\n",
    "        self.fc2 = nn.Linear(50, 20)\n",
    "        self.loss=nn.CrossEntropyLoss()\n",
    "        self.final_weight=torch.nn.Parameter(nn.init.xavier_uniform_(torch.empty(20, 10),0.1))\n",
    "#         for name, param in self.named_parameters():\n",
    "#             if param.requires_grad:\n",
    "#                 print (name, param.data)\n",
    "\n",
    "        self.optimizer = optim.Adam(self.parameters(), lr=0.0005)\n",
    "        self.optimizer_final = optim.Adam([self.final_weight], lr=0.0005)\n",
    "    \n",
    "    \n",
    "    \n",
    "    def feature_forward(self, x ):\n",
    "        x=x.view(-1,1,28,28)\n",
    "        x = F.relu(F.max_pool2d(self.conv1(x), 2))\n",
    "        x = F.relu(F.max_pool2d(self.conv2(x), 2))\n",
    "        x = x.view(-1, 320)\n",
    "        x = F.relu(self.fc1(x))\n",
    "        x = self.fc2(x)\n",
    "        \n",
    "        return x\n",
    "    \n",
    "    def forward(self, x):\n",
    "        x=x.view(-1,1,28,28)\n",
    "        x = F.relu(F.max_pool2d(self.conv1(x), 2))\n",
    "        x = F.relu(F.max_pool2d(self.conv2(x), 2))\n",
    "        x = x.view(-1, 320)\n",
    "        x = F.relu(self.fc1(x))\n",
    "        x = self.fc2(x)\n",
    "        x= torch.matmul(x,self.final_weight)\n",
    "        return x\n",
    "    \n",
    "    def predictive_distribution_entropy(self,x):\n",
    "        final_weight_samples=self.posterior.sample().view(20,10)\n",
    "#         print(final_weight_samples)\n",
    "#         print(self.posterior.mean)\n",
    "        final_weight_samples=self.posterior.sample([100]).view(100,20,10).permute(0, 2, 1)\n",
    "\n",
    "#         final_weight_samples=self.posterior.mean.repeat([100,1]).view(100,20,10).permute(0, 2, 1)\n",
    "#         print(final_weight_samples.size())\n",
    "        feature_of_data=self.feature_forward(x)[0]\n",
    "#         print(feature_of_data.size())\n",
    "        output_logit=final_weight_samples@feature_of_data\n",
    "#         print(output_logit.size())\n",
    "        # output_probs=torch.exp(output_logit)\n",
    "#         print(output_logit)\n",
    "        output_dis=torch.distributions.categorical.Categorical(logits=output_logit)\n",
    "        \n",
    "        sample=output_dis.sample([100]).reshape([-1,1])\n",
    "#         print(sample)\n",
    "        entropy=-torch.mean(torch.log(torch.mean(torch.exp(output_dis.log_prob(sample)),dim=-1)))\n",
    "#         print(entropy)\n",
    "        \n",
    "        return entropy\n",
    "        \n",
    "    def predict(self,x):\n",
    "        with torch.no_grad():\n",
    "            output = torch.exp(self.forward(x))\n",
    "            pred = output.data.max(dim=1, keepdim=True)[1]\n",
    "            return pred\n",
    "    \n",
    "    def pre_train(self,x,label):\n",
    "        train_losses = []\n",
    "#         if x.size(0)>100:\n",
    "#             for it in range(0,500):\n",
    "#                 index=np.random.choice(x.size(0),100)\n",
    "#                 self.optimizer.zero_grad()\n",
    "#                 output = self.forward(x[index])\n",
    "#                 #loss = F.nll_loss(output,label[index])\n",
    "#                 loss = self.loss(output,label[index])+0.1*torch.norm(self.final_weight,2)\n",
    "#                 loss.backward()\n",
    "#                 self.optimizer.step()\n",
    "#                 train_losses.append(loss.item())\n",
    "#             for it in range(0,500):\n",
    "#                 index=np.random.choice(x.size(0),100)\n",
    "#                 self.optimizer.zero_grad()\n",
    "#                 output = self.forward(x[index])\n",
    "#                 #loss = F.nll_loss(output,label[index])\n",
    "#                 loss = self.loss(output,label[index])+0.1*torch.norm(self.final_weight,2)\n",
    "#                 loss.backward()\n",
    "#                 self.optimizer.step()\n",
    "#                 train_losses.append(loss.item())\n",
    "        \n",
    "#         else:    \n",
    "        for it in range(0,100):\n",
    "            self.optimizer.zero_grad()\n",
    "            output = self.forward(x)\n",
    "            loss = 100*self.loss(output,label)+100*torch.norm(self.final_weight,2)\n",
    "            loss.backward()\n",
    "            self.optimizer.step()\n",
    "            train_losses.append(loss.item())\n",
    "        for it in range(0,500):\n",
    "            self.optimizer.zero_grad()\n",
    "            output = self.forward(x)\n",
    "            loss = 100*self.loss(output,label)+100*torch.norm(self.final_weight,2)\n",
    "            loss.backward()\n",
    "            self.optimizer_final.step()\n",
    "            train_losses.append(loss.item())\n",
    "#                 print(self.final_weight[0])\n",
    "        plt.plot(train_losses)\n",
    "        plt.show()\n",
    "    \n",
    "    \n",
    "    def get_posterior(self,x,label):\n",
    "        output = self.forward(x)\n",
    "        loss = 100*self.loss(output,label)+100*torch.norm(self.final_weight,2)\n",
    "        hessian_w=hessian(loss,self.final_weight)#+torch.eye(200)*1e-6\n",
    "        hessian_inverse=torch.inverse(hessian_w)\n",
    "        print(torch.diag(hessian_inverse))\n",
    "        self.posterior=torch.distributions.multivariate_normal.MultivariateNormal(loc=self.final_weight.reshape(-1),covariance_matrix=hessian_inverse)\n",
    "        return self.posterior\n",
    "\n",
    "        \n",
    "        \n",
    "    def test(self):\n",
    "        correct=0\n",
    "        for data, target in test_loader:\n",
    "            pred = self.predict(data)\n",
    "            correct += pred.eq(target.data.view_as(pred)).sum()\n",
    "            correct_ratio= float(correct)/len(test_loader.dataset)\n",
    "        return correct_ratio\n",
    "    "
   ]
  },
  {
   "cell_type": "code",
   "execution_count": 60,
   "metadata": {},
   "outputs": [
    {
     "data": {
      "image/png": "[encoded data removed]",
      "text/plain": [
       "<Figure size 432x288 with 1 Axes>"
      ]
     },
     "metadata": {
      "needs_background": "light"
     },
     "output_type": "display_data"
    }
   ],
   "source": [
    "active_bnn = Net()\n",
    "active_bnn.pre_train(initial_train_data_tensor,initial_train_label_tensor)\n",
    "\n"
   ]
  },
  {
   "cell_type": "code",
   "execution_count": 61,
   "metadata": {},
   "outputs": [
    {
     "name": "stdout",
     "output_type": "stream",
     "text": [
      "tensor([0.0009, 0.0009, 0.0009, 0.0009, 0.0009, 0.0009, 0.0009, 0.0009, 0.0009,\n",
      "        0.0009, 0.0009, 0.0009, 0.0009, 0.0009, 0.0009, 0.0009, 0.0009, 0.0009,\n",
      "        0.0009, 0.0009, 0.0008, 0.0009, 0.0009, 0.0009, 0.0009, 0.0009, 0.0009,\n",
      "        0.0009, 0.0009, 0.0009, 0.0009, 0.0009, 0.0009, 0.0009, 0.0009, 0.0009,\n",
      "        0.0009, 0.0009, 0.0009, 0.0009, 0.0009, 0.0009, 0.0009, 0.0009, 0.0009,\n",
      "        0.0009, 0.0009, 0.0009, 0.0009, 0.0009, 0.0008, 0.0009, 0.0009, 0.0009,\n",
      "        0.0009, 0.0009, 0.0009, 0.0009, 0.0009, 0.0009, 0.0009, 0.0009, 0.0009,\n",
      "        0.0009, 0.0009, 0.0009, 0.0009, 0.0009, 0.0009, 0.0009, 0.0009, 0.0009,\n",
      "        0.0009, 0.0009, 0.0009, 0.0009, 0.0009, 0.0009, 0.0009, 0.0009, 0.0009,\n",
      "        0.0009, 0.0009, 0.0009, 0.0009, 0.0009, 0.0009, 0.0009, 0.0009, 0.0009,\n",
      "        0.0009, 0.0009, 0.0009, 0.0009, 0.0009, 0.0009, 0.0009, 0.0009, 0.0009,\n",
      "        0.0009, 0.0008, 0.0009, 0.0009, 0.0009, 0.0009, 0.0009, 0.0009, 0.0009,\n",
      "        0.0009, 0.0009, 0.0009, 0.0009, 0.0009, 0.0009, 0.0009, 0.0009, 0.0009,\n",
      "        0.0009, 0.0009, 0.0009, 0.0008, 0.0009, 0.0009, 0.0009, 0.0009, 0.0009,\n",
      "        0.0009, 0.0009, 0.0009, 0.0009, 0.0009, 0.0009, 0.0009, 0.0009, 0.0009,\n",
      "        0.0009, 0.0009, 0.0009, 0.0009, 0.0009, 0.0009, 0.0009, 0.0009, 0.0009,\n",
      "        0.0009, 0.0009, 0.0009, 0.0009, 0.0009, 0.0009, 0.0008, 0.0009, 0.0009,\n",
      "        0.0009, 0.0009, 0.0009, 0.0009, 0.0009, 0.0009, 0.0009, 0.0008, 0.0009,\n",
      "        0.0009, 0.0009, 0.0009, 0.0009, 0.0009, 0.0009, 0.0009, 0.0009, 0.0009,\n",
      "        0.0009, 0.0009, 0.0009, 0.0009, 0.0009, 0.0009, 0.0009, 0.0009, 0.0009,\n",
      "        0.0009, 0.0009, 0.0009, 0.0009, 0.0009, 0.0009, 0.0009, 0.0009, 0.0009,\n",
      "        0.0009, 0.0009, 0.0009, 0.0009, 0.0009, 0.0009, 0.0009, 0.0009, 0.0009,\n",
      "        0.0009, 0.0009])\n"
     ]
    }
   ],
   "source": [
    "posterior=active_bnn.get_posterior(initial_train_data_tensor,initial_train_label_tensor)"
   ]
  },
  {
   "cell_type": "code",
   "execution_count": 94,
   "metadata": {},
   "outputs": [
    {
     "name": "stdout",
     "output_type": "stream",
     "text": [
      "tensor(0.1755, grad_fn=<NegBackward>)\n",
      "tensor(0.2202, grad_fn=<NegBackward>)\n",
      "tensor(0.2215, grad_fn=<NegBackward>)\n",
      "tensor(0.6486, grad_fn=<NegBackward>)\n",
      "tensor(0.4361, grad_fn=<NegBackward>)\n",
      "tensor(0.3933, grad_fn=<NegBackward>)\n",
      "tensor(0.6798, grad_fn=<NegBackward>)\n",
      "tensor(0.6198, grad_fn=<NegBackward>)\n",
      "tensor(0.8537, grad_fn=<NegBackward>)\n"
     ]
    }
   ],
   "source": [
    "print(active_bnn.predictive_distribution_entropy(train_dict[0][2]))\n",
    "print(active_bnn.predictive_distribution_entropy(train_dict[0][4]))\n",
    "print(active_bnn.predictive_distribution_entropy(train_dict[0][9]))\n",
    "print(active_bnn.predictive_distribution_entropy(train_dict[1][0]))\n",
    "print(active_bnn.predictive_distribution_entropy(train_dict[8][17]))\n",
    "print(active_bnn.predictive_distribution_entropy(train_dict[3][13]))\n",
    "print(active_bnn.predictive_distribution_entropy(train_dict[4][0]))\n",
    "print(active_bnn.predictive_distribution_entropy(train_dict[4][3]))\n",
    "print(active_bnn.predictive_distribution_entropy(train_dict[7][3]))"
   ]
  },
  {
   "cell_type": "code",
   "execution_count": null,
   "metadata": {},
   "outputs": [],
   "source": [
    "# final_weight_samples=posterior.sample([100]).view(100,20,10).permute(0, 2, 1)\n",
    "# print(final_weight_samples.size())\n",
    "# feature_of_data=active_bnn.feature_forward(test_1)[0]\n",
    "# print(feature_of_data.size())\n",
    "# output_logit=final_weight_samples@feature_of_data\n",
    "# print(output_logit.size())\n",
    "# # output_probs=torch.exp(output_logit)\n",
    "# output_dis=torch.distributions.categorical.Categorical(logits=output_logit)\n",
    "# sample=output_dis.sample([10]).reshape([-1,1])\n",
    "# print(sample.size())\n",
    "# entropy=-torch.mean(torch.log(torch.mean(torch.exp(output_dis.log_prob(sample)),dim=-1)))\n",
    "# print(entropy)"
   ]
  },
  {
   "cell_type": "code",
   "execution_count": null,
   "metadata": {},
   "outputs": [],
   "source": [
    "mixture_of_categorical=active_bnn.predictive_distribution(test_1,posterior)"
   ]
  }
 ],
 "metadata": {
  "kernelspec": {
   "display_name": "rl",
   "language": "python",
   "name": "myenv"
  },
  "language_info": {
   "codemirror_mode": {
    "name": "ipython",
    "version": 3
   },
   "file_extension": ".py",
   "mimetype": "text/x-python",
   "name": "python",
   "nbconvert_exporter": "python",
   "pygments_lexer": "ipython3",
   "version": "3.7.3"
  }
 },
 "nbformat": 4,
 "nbformat_minor": 2
}

{
 "cells": [
  {
   "cell_type": "code",
   "execution_count": 1,
   "metadata": {},
   "outputs": [
    {
     "data": {
      "text/plain": [
       "<torch._C.Generator at 0x113105d10>"
      ]
     },
     "execution_count": 1,
     "metadata": {},
     "output_type": "execute_result"
    }
   ],
   "source": [
    "import torch\n",
    "import torchvision\n",
    "import torch.nn as nn\n",
    "import torch.nn.functional as F\n",
    "import torch.optim as optim\n",
    "import matplotlib.pyplot as plt\n",
    "import numpy as np\n",
    "from hessian import *\n",
    "import operator\n",
    "torch.manual_seed(1)\n"
   ]
  },
  {
   "cell_type": "code",
   "execution_count": 2,
   "metadata": {},
   "outputs": [],
   "source": [
    "train_data=torchvision.datasets.MNIST('./', train=True, download=True,transform=torchvision.transforms.ToTensor())\n",
    "test_data=torchvision.datasets.MNIST('./', train=False, download=True,transform=torchvision.transforms.ToTensor())\n",
    "# train_loader = torch.utils.data.DataLoader(train_data, batch_size=100, shuffle=True)\n",
    "test_loader = torch.utils.data.DataLoader(test_data, batch_size=100, shuffle=True)"
   ]
  },
  {
   "cell_type": "code",
   "execution_count": 3,
   "metadata": {},
   "outputs": [],
   "source": [
    "train_dict={}\n",
    "for (data, target) in train_data:\n",
    "    if  target not in train_dict:\n",
    "        train_dict[ target]=[]\n",
    "        train_dict[ target].append(data)\n",
    "    else:\n",
    "        train_dict[ target].append(data)"
   ]
  },
  {
   "cell_type": "code",
   "execution_count": 116,
   "metadata": {},
   "outputs": [
    {
     "name": "stdout",
     "output_type": "stream",
     "text": [
      "[0, 0, 0, 0, 0, 0, 0, 0, 0, 0, 0, 0, 0, 0, 0, 0, 0, 0, 0, 0, 0, 0, 0, 0, 0, 0, 0, 0, 0, 0, 0, 0, 0, 0, 0, 0, 0, 0, 0, 0, 0, 0, 0, 0, 0, 0, 0, 0, 0, 0, 0, 0, 0, 0, 0, 0, 0, 0, 0, 0, 0, 0, 0, 0, 0, 0, 0, 0, 0, 0, 0, 0, 0, 0, 0, 0, 0, 0, 0, 0, 0, 0, 0, 0, 0, 0, 0, 0, 0, 0, 0, 0, 0, 0, 0, 0, 0, 0, 0, 0]\n"
     ]
    },
    {
     "data": {
      "image/png": "[encoded data removed]",
      "text/plain": [
       "<Figure size 432x288 with 1 Axes>"
      ]
     },
     "metadata": {
      "needs_background": "light"
     },
     "output_type": "display_data"
    },
    {
     "data": {
      "image/png": "[encoded data removed]",
      "text/plain": [
       "<Figure size 432x288 with 1 Axes>"
      ]
     },
     "metadata": {
      "needs_background": "light"
     },
     "output_type": "display_data"
    },
    {
     "data": {
      "image/png": "[encoded data removed]",
      "text/plain": [
       "<Figure size 432x288 with 1 Axes>"
      ]
     },
     "metadata": {
      "needs_background": "light"
     },
     "output_type": "display_data"
    }
   ],
   "source": [
    "initial_train_data=[]\n",
    "initial_train_label=[]\n",
    "initial_test_data=[]\n",
    "\n",
    "for i in range(0,1):\n",
    "    for j in range(100):\n",
    "        initial_train_data.append(train_dict[i][j])\n",
    "        initial_train_label.append(i)\n",
    "    \n",
    "\n",
    "test_6=train_dict[6][0]\n",
    "test_1=train_dict[1][1]\n",
    "    \n",
    "print(initial_train_label)\n",
    "\n",
    "plt.imshow(train_dict[1][0].reshape(28,28), cmap='gray', interpolation='none')\n",
    "plt.show()\n",
    "\n",
    "plt.imshow(test_1.reshape(28,28), cmap='gray', interpolation='none')\n",
    "plt.show()\n",
    "plt.imshow(test_6.reshape(28,28), cmap='gray', interpolation='none')\n",
    "plt.show()"
   ]
  },
  {
   "cell_type": "code",
   "execution_count": 118,
   "metadata": {},
   "outputs": [
    {
     "name": "stdout",
     "output_type": "stream",
     "text": [
      "torch.Size([100, 1, 28, 28])\n",
      "torch.Size([100])\n"
     ]
    }
   ],
   "source": [
    "initial_train_data_tensor=torch.stack(initial_train_data)\n",
    "initial_train_label_tensor=torch.tensor(initial_train_label)\n",
    "# train_x=torch.stack([data for (data, target) in train_data])\n",
    "# train_label=torch.tensor([target for (data, target) in train_data])\n",
    "print(initial_train_data_tensor.size())\n",
    "print(initial_train_label_tensor.size())"
   ]
  },
  {
   "cell_type": "code",
   "execution_count": 193,
   "metadata": {},
   "outputs": [],
   "source": [
    "class Net(nn.Module):\n",
    "    def __init__(self):\n",
    "        super(Net, self).__init__()\n",
    "        self.conv1 = nn.Conv2d(1, 10, kernel_size=5)\n",
    "        self.conv2 = nn.Conv2d(10, 20, kernel_size=5)\n",
    "        self.fc1 = nn.Linear(320, 50)\n",
    "        self.fc2 = nn.Linear(50, 20)\n",
    "        self.loss=nn.CrossEntropyLoss()\n",
    "        self.final_weight=torch.nn.Parameter(nn.init.xavier_uniform_(torch.empty(20, 10),0.1))\n",
    "#         for name, param in self.named_parameters():\n",
    "#             if param.requires_grad:\n",
    "#                 print (name, param.data)\n",
    "\n",
    "        self.optimizer = optim.Adam(self.parameters(), lr=0.0005)\n",
    "        self.optimizer_final = optim.Adam([self.final_weight], lr=0.0005)\n",
    "    \n",
    "    \n",
    "    \n",
    "    def feature_forward(self, x ):\n",
    "        x=x.view(-1,1,28,28)\n",
    "        x = F.relu(F.max_pool2d(self.conv1(x), 2))\n",
    "        x = F.relu(F.max_pool2d(self.conv2(x), 2))\n",
    "        x = x.view(-1, 320)\n",
    "        x = F.relu(self.fc1(x))\n",
    "        x = self.fc2(x)\n",
    "        \n",
    "        return x\n",
    "    \n",
    "    def forward(self, x):\n",
    "        x=x.view(-1,1,28,28)\n",
    "        x = F.relu(F.max_pool2d(self.conv1(x), 2))\n",
    "        x = F.relu(F.max_pool2d(self.conv2(x), 2))\n",
    "        x = x.view(-1, 320)\n",
    "        x = F.relu(self.fc1(x))\n",
    "        x = self.fc2(x)\n",
    "        x= torch.matmul(x,self.final_weight)\n",
    "        return x\n",
    "    \n",
    "    def predictive_distribution_entropy(self,x):\n",
    "        final_weight_samples=self.posterior.sample().view(20,10)\n",
    "        print(final_weight_samples)\n",
    "        print(self.posterior.mean)\n",
    "#         final_weight_samples=self.posterior.sample([100]).view(100,20,10).permute(0, 2, 1)\n",
    "\n",
    "# #         final_weight_samples=self.posterior.mean.repeat([100,1]).view(100,20,10).permute(0, 2, 1)\n",
    "# #         print(final_weight_samples.size())\n",
    "#         feature_of_data=self.feature_forward(x)[0]\n",
    "# #         print(feature_of_data.size())\n",
    "#         output_logit=final_weight_samples@feature_of_data\n",
    "# #         print(output_logit.size())\n",
    "#         # output_probs=torch.exp(output_logit)\n",
    "# #         print(output_logit)\n",
    "#         output_dis=torch.distributions.categorical.Categorical(logits=output_logit)\n",
    "        \n",
    "#         sample=output_dis.sample([1]).reshape([-1,1])\n",
    "#         print(sample)\n",
    "#         entropy=-torch.mean(torch.log(torch.mean(torch.exp(output_dis.log_prob(sample)),dim=-1)))\n",
    "#         print(entropy)\n",
    "        \n",
    "        return entropy\n",
    "        \n",
    "    def predict(self,x):\n",
    "        with torch.no_grad():\n",
    "            output = torch.exp(self.forward(x))\n",
    "            pred = output.data.max(dim=1, keepdim=True)[1]\n",
    "            return pred\n",
    "    \n",
    "    def pre_train(self,x,label):\n",
    "        train_losses = []\n",
    "#         if x.size(0)>100:\n",
    "#             for it in range(0,500):\n",
    "#                 index=np.random.choice(x.size(0),100)\n",
    "#                 self.optimizer.zero_grad()\n",
    "#                 output = self.forward(x[index])\n",
    "#                 #loss = F.nll_loss(output,label[index])\n",
    "#                 loss = self.loss(output,label[index])+0.1*torch.norm(self.final_weight,2)\n",
    "#                 loss.backward()\n",
    "#                 self.optimizer.step()\n",
    "#                 train_losses.append(loss.item())\n",
    "#             for it in range(0,500):\n",
    "#                 index=np.random.choice(x.size(0),100)\n",
    "#                 self.optimizer.zero_grad()\n",
    "#                 output = self.forward(x[index])\n",
    "#                 #loss = F.nll_loss(output,label[index])\n",
    "#                 loss = self.loss(output,label[index])+0.1*torch.norm(self.final_weight,2)\n",
    "#                 loss.backward()\n",
    "#                 self.optimizer.step()\n",
    "#                 train_losses.append(loss.item())\n",
    "        \n",
    "#         else:    \n",
    "        for it in range(0,500):\n",
    "            self.optimizer.zero_grad()\n",
    "            output = self.forward(x)\n",
    "            loss = self.loss(output,label)+0.1*torch.norm(self.final_weight,2)\n",
    "            loss.backward()\n",
    "            self.optimizer.step()\n",
    "            train_losses.append(loss.item())\n",
    "        for it in range(0,500):\n",
    "            self.optimizer.zero_grad()\n",
    "            output = self.forward(x)\n",
    "            loss = 100*self.loss(output,label)+0.1*torch.norm(self.final_weight,2)\n",
    "            loss.backward()\n",
    "            self.optimizer_final.step()\n",
    "            train_losses.append(loss.item())\n",
    "#                 print(self.final_weight[0])\n",
    "        plt.plot(train_losses)\n",
    "        plt.show()\n",
    "    \n",
    "    \n",
    "    def get_posterior(self,x,label):\n",
    "        output = self.forward(x)\n",
    "        loss = 100*self.loss(output,label)+0.1*torch.norm(self.final_weight,2)\n",
    "        hessian_w=hessian(loss,self.final_weight)#+torch.eye(200)*1e-6\n",
    "        hessian_inverse=torch.inverse(hessian_w)\n",
    "        print(torch.diag(hessian_inverse))\n",
    "        self.posterior=torch.distributions.multivariate_normal.MultivariateNormal(loc=self.final_weight.reshape(-1),covariance_matrix=hessian_inverse)\n",
    "        return self.posterior\n",
    "\n",
    "        \n",
    "        \n",
    "    def test(self):\n",
    "        correct=0\n",
    "        for data, target in test_loader:\n",
    "            pred = self.predict(data)\n",
    "            correct += pred.eq(target.data.view_as(pred)).sum()\n",
    "            correct_ratio= float(correct)/len(test_loader.dataset)\n",
    "        return correct_ratio\n",
    "    "
   ]
  },
  {
   "cell_type": "code",
   "execution_count": 194,
   "metadata": {},
   "outputs": [
    {
     "data": {
      "image/png": "[encoded data removed]",
      "text/plain": [
       "<Figure size 432x288 with 1 Axes>"
      ]
     },
     "metadata": {
      "needs_background": "light"
     },
     "output_type": "display_data"
    }
   ],
   "source": [
    "active_bnn = Net()\n",
    "active_bnn.pre_train(initial_train_data_tensor,initial_train_label_tensor)"
   ]
  },
  {
   "cell_type": "code",
   "execution_count": 195,
   "metadata": {},
   "outputs": [
    {
     "name": "stdout",
     "output_type": "stream",
     "text": [
      "tensor([1.1072, 1.1079, 1.1079, 1.1079, 1.1079, 1.1079, 1.1079, 1.1079, 1.1079,\n",
      "        1.1079, 1.0788, 1.0799, 1.0799, 1.0799, 1.0799, 1.0799, 1.0799, 1.0799,\n",
      "        1.0799, 1.0799, 1.0341, 1.0354, 1.0354, 1.0354, 1.0354, 1.0354, 1.0354,\n",
      "        1.0354, 1.0354, 1.0354, 1.1001, 1.1005, 1.1005, 1.1005, 1.1005, 1.1005,\n",
      "        1.1005, 1.1005, 1.1005, 1.1005, 1.0423, 1.0435, 1.0435, 1.0435, 1.0435,\n",
      "        1.0435, 1.0435, 1.0435, 1.0435, 1.0435, 1.0841, 1.0853, 1.0853, 1.0853,\n",
      "        1.0853, 1.0853, 1.0853, 1.0853, 1.0853, 1.0853, 1.0155, 1.0168, 1.0168,\n",
      "        1.0168, 1.0168, 1.0168, 1.0168, 1.0168, 1.0168, 1.0168, 1.0834, 1.0842,\n",
      "        1.0842, 1.0842, 1.0842, 1.0842, 1.0842, 1.0842, 1.0842, 1.0842, 1.0975,\n",
      "        1.0981, 1.0981, 1.0981, 1.0981, 1.0981, 1.0981, 1.0981, 1.0981, 1.0981,\n",
      "        1.0585, 1.0604, 1.0604, 1.0604, 1.0604, 1.0604, 1.0604, 1.0604, 1.0604,\n",
      "        1.0604, 1.0815, 1.0843, 1.0843, 1.0843, 1.0843, 1.0843, 1.0843, 1.0843,\n",
      "        1.0843, 1.0843, 1.1029, 1.1040, 1.1040, 1.1040, 1.1040, 1.1040, 1.1040,\n",
      "        1.1040, 1.1040, 1.1040, 1.1110, 1.1115, 1.1115, 1.1115, 1.1115, 1.1115,\n",
      "        1.1115, 1.1115, 1.1115, 1.1115, 1.1167, 1.1184, 1.1184, 1.1184, 1.1184,\n",
      "        1.1184, 1.1184, 1.1184, 1.1184, 1.1184, 1.0436, 1.0453, 1.0453, 1.0453,\n",
      "        1.0453, 1.0453, 1.0453, 1.0453, 1.0453, 1.0453, 1.1105, 1.1109, 1.1109,\n",
      "        1.1109, 1.1109, 1.1109, 1.1109, 1.1109, 1.1109, 1.1109, 0.9661, 0.9683,\n",
      "        0.9683, 0.9683, 0.9683, 0.9683, 0.9683, 0.9683, 0.9683, 0.9683, 1.0609,\n",
      "        1.0618, 1.0618, 1.0618, 1.0618, 1.0618, 1.0618, 1.0618, 1.0618, 1.0618,\n",
      "        1.0879, 1.0893, 1.0893, 1.0893, 1.0893, 1.0893, 1.0893, 1.0893, 1.0893,\n",
      "        1.0893, 1.0845, 1.0853, 1.0853, 1.0853, 1.0853, 1.0853, 1.0853, 1.0853,\n",
      "        1.0853, 1.0853])\n"
     ]
    }
   ],
   "source": [
    "posterior=active_bnn.get_posterior(initial_train_data_tensor,initial_train_label_tensor)"
   ]
  },
  {
   "cell_type": "code",
   "execution_count": 192,
   "metadata": {},
   "outputs": [
    {
     "name": "stdout",
     "output_type": "stream",
     "text": [
      "tensor([[ 0.1214, -0.0826, -0.6086, -1.0368,  1.1389, -0.3682,  0.8549,  1.3743,\n",
      "         -0.4679,  1.1029],\n",
      "        [ 0.9408, -2.1349, -0.0302, -0.0153,  0.8714, -0.7773,  0.4872, -0.1903,\n",
      "          0.9607, -0.4601],\n",
      "        [ 1.0414, -0.6960,  1.4093, -0.1946, -0.6081,  0.8372, -1.3921, -0.3419,\n",
      "          0.4132,  0.3788],\n",
      "        [ 1.3766,  1.0519,  0.3915, -0.3209, -0.3532, -0.2663,  0.2780,  2.2502,\n",
      "          0.1474,  0.1168],\n",
      "        [-1.4259,  0.1286,  0.9877,  0.3305, -0.4472,  0.7531, -0.0463, -1.6054,\n",
      "         -0.8262, -0.0260],\n",
      "        [ 1.4580, -0.3071,  0.4178, -0.9083,  0.5087,  2.0190, -1.9552,  0.9349,\n",
      "         -0.0851,  0.0637],\n",
      "        [-0.0074,  0.5592,  0.3075,  1.6940,  0.1516, -0.3681, -0.5342,  0.5120,\n",
      "         -1.1382,  0.3677],\n",
      "        [ 0.2343, -0.7686, -1.0639, -0.5575,  0.2952,  1.0461,  1.5656,  0.1530,\n",
      "          0.4707,  0.2442],\n",
      "        [-0.3779,  0.9944, -1.0146,  1.3264, -0.0761, -0.1968, -0.2224, -2.2830,\n",
      "         -0.3579, -0.0445],\n",
      "        [-0.6616,  0.6921, -0.4282, -0.7197, -0.6708,  0.4009, -1.0902, -0.2888,\n",
      "          0.5012,  0.4221],\n",
      "        [ 1.0211, -0.6492, -2.5074, -0.7153, -0.5670,  0.0782,  1.5169, -1.9811,\n",
      "          1.8308, -0.8288],\n",
      "        [ 0.4255,  0.1972, -0.5814,  0.7370, -0.2347,  0.5359, -0.6604,  0.0758,\n",
      "         -0.2941, -0.3667],\n",
      "        [ 0.9427, -0.2796, -1.1553, -0.2292, -0.8640,  0.5759, -0.0380, -0.9384,\n",
      "         -0.7008, -0.8771],\n",
      "        [ 0.1367, -1.4866, -0.8409, -0.3560,  0.3397, -0.1114,  0.0792, -1.1143,\n",
      "         -1.2503, -0.1398],\n",
      "        [-0.1330,  0.2575, -0.0307,  0.3904,  1.1016, -0.6044, -1.8766,  0.0121,\n",
      "          2.1433, -0.2374],\n",
      "        [-0.5516,  0.9158,  0.5513,  0.5593,  1.2949, -0.1529, -0.5541,  1.4713,\n",
      "          1.3593, -1.8888],\n",
      "        [-0.1435, -0.5268,  1.7479, -0.7279,  0.0984, -0.5470,  0.3201,  0.0126,\n",
      "         -0.1301,  0.2201],\n",
      "        [ 0.2973, -0.1402, -0.7731,  1.8275,  1.4283, -0.8182,  2.0044,  0.0038,\n",
      "         -0.5071, -0.1591],\n",
      "        [ 0.5859,  0.1950, -0.8556,  1.2533,  0.5568, -0.1295, -0.1605,  0.9587,\n",
      "          0.4402, -0.8698],\n",
      "        [ 2.2591,  0.3916,  0.4454, -0.3151, -0.8260, -0.5420,  1.2979,  1.2759,\n",
      "          0.7737,  0.5616]])\n",
      "tensor([-0.0140,  0.0016,  0.0016,  0.0016,  0.0016,  0.0016,  0.0016,  0.0016,\n",
      "         0.0016,  0.0016,  0.0228, -0.0025, -0.0025, -0.0025, -0.0025, -0.0025,\n",
      "        -0.0025, -0.0025, -0.0025, -0.0025,  0.0171, -0.0019, -0.0019, -0.0019,\n",
      "        -0.0019, -0.0019, -0.0019, -0.0019, -0.0019, -0.0019, -0.0096,  0.0011,\n",
      "         0.0011,  0.0011,  0.0011,  0.0011,  0.0011,  0.0011,  0.0011,  0.0011,\n",
      "        -0.0207,  0.0023,  0.0023,  0.0023,  0.0023,  0.0023,  0.0023,  0.0023,\n",
      "         0.0023,  0.0023,  0.0023, -0.0003, -0.0003, -0.0003, -0.0003, -0.0003,\n",
      "        -0.0003, -0.0003, -0.0003, -0.0003, -0.0162,  0.0018,  0.0018,  0.0018,\n",
      "         0.0018,  0.0018,  0.0018,  0.0018,  0.0018,  0.0018, -0.0188,  0.0021,\n",
      "         0.0021,  0.0021,  0.0021,  0.0021,  0.0021,  0.0021,  0.0021,  0.0021,\n",
      "        -0.0124,  0.0014,  0.0014,  0.0014,  0.0014,  0.0014,  0.0014,  0.0014,\n",
      "         0.0014,  0.0014,  0.0221, -0.0025, -0.0025, -0.0025, -0.0025, -0.0025,\n",
      "        -0.0025, -0.0025, -0.0025, -0.0025, -0.0147,  0.0016,  0.0016,  0.0016,\n",
      "         0.0016,  0.0016,  0.0016,  0.0016,  0.0016,  0.0016,  0.0101, -0.0011,\n",
      "        -0.0011, -0.0011, -0.0011, -0.0011, -0.0011, -0.0011, -0.0011, -0.0011,\n",
      "        -0.0085,  0.0009,  0.0009,  0.0009,  0.0009,  0.0009,  0.0009,  0.0009,\n",
      "         0.0009,  0.0009, -0.0208,  0.0023,  0.0023,  0.0023,  0.0023,  0.0023,\n",
      "         0.0023,  0.0023,  0.0023,  0.0023, -0.0213,  0.0024,  0.0024,  0.0024,\n",
      "         0.0024,  0.0024,  0.0024,  0.0024,  0.0024,  0.0024,  0.0135, -0.0015,\n",
      "        -0.0015, -0.0015, -0.0015, -0.0015, -0.0015, -0.0015, -0.0015, -0.0015,\n",
      "        -0.0163,  0.0018,  0.0018,  0.0018,  0.0018,  0.0018,  0.0018,  0.0018,\n",
      "         0.0018,  0.0018,  0.0213, -0.0024, -0.0024, -0.0024, -0.0024, -0.0024,\n",
      "        -0.0024, -0.0024, -0.0024, -0.0024,  0.0253, -0.0028, -0.0028, -0.0028,\n",
      "        -0.0028, -0.0028, -0.0028, -0.0028, -0.0028, -0.0028, -0.0236,  0.0026,\n",
      "         0.0026,  0.0026,  0.0026,  0.0026,  0.0026,  0.0026,  0.0026,  0.0026],\n",
      "       grad_fn=<SelectBackward>)\n"
     ]
    },
    {
     "ename": "NameError",
     "evalue": "name 'entropy' is not defined",
     "output_type": "error",
     "traceback": [
      "\u001b[0;31m---------------------------------------------------------------------------\u001b[0m",
      "\u001b[0;31mNameError\u001b[0m                                 Traceback (most recent call last)",
      "\u001b[0;32m<ipython-input-192-671d1d93a612>\u001b[0m in \u001b[0;36m<module>\u001b[0;34m\u001b[0m\n\u001b[0;32m----> 1\u001b[0;31m \u001b[0mprint\u001b[0m\u001b[0;34m(\u001b[0m\u001b[0mactive_bnn\u001b[0m\u001b[0;34m.\u001b[0m\u001b[0mpredictive_distribution_entropy\u001b[0m\u001b[0;34m(\u001b[0m\u001b[0mtrain_dict\u001b[0m\u001b[0;34m[\u001b[0m\u001b[0;36m0\u001b[0m\u001b[0;34m]\u001b[0m\u001b[0;34m[\u001b[0m\u001b[0;36m0\u001b[0m\u001b[0;34m]\u001b[0m\u001b[0;34m)\u001b[0m\u001b[0;34m)\u001b[0m\u001b[0;34m\u001b[0m\u001b[0;34m\u001b[0m\u001b[0m\n\u001b[0m\u001b[1;32m      2\u001b[0m \u001b[0;31m# print(active_bnn.predictive_distribution_entropy(train_dict[0][1]))\u001b[0m\u001b[0;34m\u001b[0m\u001b[0;34m\u001b[0m\u001b[0;34m\u001b[0m\u001b[0m\n\u001b[1;32m      3\u001b[0m \u001b[0;31m# print(active_bnn.predictive_distribution_entropy(train_dict[0][2]))\u001b[0m\u001b[0;34m\u001b[0m\u001b[0;34m\u001b[0m\u001b[0;34m\u001b[0m\u001b[0m\n\u001b[1;32m      4\u001b[0m \u001b[0;31m# print(active_bnn.predictive_distribution_entropy(train_dict[1][0]))\u001b[0m\u001b[0;34m\u001b[0m\u001b[0;34m\u001b[0m\u001b[0;34m\u001b[0m\u001b[0m\n\u001b[1;32m      5\u001b[0m \u001b[0;31m# print(active_bnn.predictive_distribution_entropy(train_dict[2][0]))\u001b[0m\u001b[0;34m\u001b[0m\u001b[0;34m\u001b[0m\u001b[0;34m\u001b[0m\u001b[0m\n",
      "\u001b[0;32m<ipython-input-188-f168c068714c>\u001b[0m in \u001b[0;36mpredictive_distribution_entropy\u001b[0;34m(self, x)\u001b[0m\n\u001b[1;32m     58\u001b[0m \u001b[0;31m#         print(entropy)\u001b[0m\u001b[0;34m\u001b[0m\u001b[0;34m\u001b[0m\u001b[0;34m\u001b[0m\u001b[0m\n\u001b[1;32m     59\u001b[0m \u001b[0;34m\u001b[0m\u001b[0m\n\u001b[0;32m---> 60\u001b[0;31m         \u001b[0;32mreturn\u001b[0m \u001b[0mentropy\u001b[0m\u001b[0;34m\u001b[0m\u001b[0;34m\u001b[0m\u001b[0m\n\u001b[0m\u001b[1;32m     61\u001b[0m \u001b[0;34m\u001b[0m\u001b[0m\n\u001b[1;32m     62\u001b[0m     \u001b[0;32mdef\u001b[0m \u001b[0mpredict\u001b[0m\u001b[0;34m(\u001b[0m\u001b[0mself\u001b[0m\u001b[0;34m,\u001b[0m\u001b[0mx\u001b[0m\u001b[0;34m)\u001b[0m\u001b[0;34m:\u001b[0m\u001b[0;34m\u001b[0m\u001b[0;34m\u001b[0m\u001b[0m\n",
      "\u001b[0;31mNameError\u001b[0m: name 'entropy' is not defined"
     ]
    }
   ],
   "source": [
    "print(active_bnn.predictive_distribution_entropy(train_dict[0][0]))\n",
    "# print(active_bnn.predictive_distribution_entropy(train_dict[0][1]))\n",
    "# print(active_bnn.predictive_distribution_entropy(train_dict[0][2]))\n",
    "# print(active_bnn.predictive_distribution_entropy(train_dict[1][0]))\n",
    "# print(active_bnn.predictive_distribution_entropy(train_dict[2][0]))\n",
    "# print(active_bnn.predictive_distribution_entropy(train_dict[3][0]))\n",
    "# print(active_bnn.predictive_distribution_entropy(train_dict[4][0]))"
   ]
  },
  {
   "cell_type": "code",
   "execution_count": null,
   "metadata": {},
   "outputs": [],
   "source": [
    "# final_weight_samples=posterior.sample([100]).view(100,20,10).permute(0, 2, 1)\n",
    "# print(final_weight_samples.size())\n",
    "# feature_of_data=active_bnn.feature_forward(test_1)[0]\n",
    "# print(feature_of_data.size())\n",
    "# output_logit=final_weight_samples@feature_of_data\n",
    "# print(output_logit.size())\n",
    "# # output_probs=torch.exp(output_logit)\n",
    "# output_dis=torch.distributions.categorical.Categorical(logits=output_logit)\n",
    "# sample=output_dis.sample([10]).reshape([-1,1])\n",
    "# print(sample.size())\n",
    "# entropy=-torch.mean(torch.log(torch.mean(torch.exp(output_dis.log_prob(sample)),dim=-1)))\n",
    "# print(entropy)"
   ]
  },
  {
   "cell_type": "code",
   "execution_count": null,
   "metadata": {},
   "outputs": [],
   "source": [
    "mixture_of_categorical=active_bnn.predictive_distribution(test_1,posterior)"
   ]
  }
 ],
 "metadata": {
  "kernelspec": {
   "display_name": "rl",
   "language": "python",
   "name": "myenv"
  },
  "language_info": {
   "codemirror_mode": {
    "name": "ipython",
    "version": 3
   },
   "file_extension": ".py",
   "mimetype": "text/x-python",
   "name": "python",
   "nbconvert_exporter": "python",
   "pygments_lexer": "ipython3",
   "version": "3.7.3"
  }
 },
 "nbformat": 4,
 "nbformat_minor": 2
}

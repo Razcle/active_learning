{
 "cells": [
  {
   "cell_type": "code",
   "execution_count": 2,
   "metadata": {},
   "outputs": [],
   "source": [
    "import torch"
   ]
  },
  {
   "cell_type": "code",
   "execution_count": 7,
   "metadata": {},
   "outputs": [],
   "source": [
    "def KL_diag_gaussian(mu_1,diag_1,mu_2,diag_2):\n",
    "    ratio=diag_1/diag_2\n",
    "    return torch.sum(0.5*(mu_1-mu_2)**2/diag_2)+0.5*torch.sum(ratio)-0.5*torch.sum(torch.log(ratio))-mu_1.size(0)/2\n",
    "\n"
   ]
  },
  {
   "cell_type": "code",
   "execution_count": 8,
   "metadata": {},
   "outputs": [
    {
     "name": "stdout",
     "output_type": "stream",
     "text": [
      "tensor(5.3069)\n"
     ]
    }
   ],
   "source": [
    "mu_1=torch.tensor([0.0,0.0])\n",
    "diag_1=torch.tensor([1.0,1.0])\n",
    "mu_2=torch.tensor([1.0,2.0])\n",
    "diag_2=torch.tensor([0.5,0.5])\n",
    "\n",
    "print(KL_diag_gaussian(mu_1,diag_1,mu_2,diag_2))"
   ]
  },
  {
   "cell_type": "code",
   "execution_count": 42,
   "metadata": {},
   "outputs": [],
   "source": [
    "def low_rank_cov_inverse(L,sigma):\n",
    "    # L is D*R\n",
    "    dim=L.size(0)\n",
    "    rank=L.size(1)\n",
    "    var=sigma**2\n",
    "    inverse_var=1.0/var\n",
    "    inner_inverse=torch.inverse(torch.diag(torch.ones([rank]))+inverse_var*(L.t())@L)\n",
    "    return inverse_var*torch.diag(torch.ones([dim]))-inverse_var**2*L@inner_inverse@L.t()\n",
    "\n",
    "def low_rank_gaussian_logdet(L,sigma):\n",
    "    dim=L.size(0)\n",
    "    rank=L.size(1)\n",
    "    var=sigma**2\n",
    "    inverse_var=1.0/var\n",
    "    return torch.logdet(torch.diag(torch.ones([rank]))+inverse_var*(L.t())@L)+dim*tf.log(var)\n",
    "    \n",
    "    \n",
    "\n",
    "def low_rank_gaussian_sample(mu,L,sigma,amount):\n",
    "    # L is D*R\n",
    "    dim=L.size(0)\n",
    "    rank=L.size(1)\n",
    "    eps_z=torch.randn([amount,rank])\n",
    "    eps=torch.randn([amount,dim])\n",
    "    \n",
    "    return eps_z@L.t()+eps*sigma+mu\n",
    "    \n",
    "\n",
    "def KL_low_rank_gaussian_with_diag_gaussian(mu_1,L_1,sigma_1,mu_2,sigma_2):\n",
    "    dim_1=L_1.size(0)\n",
    "    rank_1=L_1.size(1)\n",
    "    var_1=sigma_1**2\n",
    "    inverse_var_1=1.0/var_1\n",
    "    logdet_1=torch.logdet(torch.diag(torch.ones([rank_1]))+inverse_var_1*(L_1.t())@L_1)+dim*tf.log(var_1)\n",
    "    cov_1=L_1@L1.t()+torch.diag(torch.ones([dim_1]))*var_1\n",
    "    mu_diff=(mu_1-mu_2).view(-1,1)\n",
    "    var_2=sigma_2**2\n",
    "    return -0.5*(logdet_1-dim_1*torch.log(var_2)+dim_1-(1/var_2)*torch.trace(cov_1)-(1/var_2)*mu_diff.t()@mu_diff)\n",
    "    \n",
    "\n",
    "\n",
    "def KL_low_rank_gaussian_with_low_rank_gaussian(mu_1,L_1,sigma_1,mu_2,L_2,sigma_2):\n",
    "    dim_1=L_1.size(0)\n",
    "    rank_1=L_1.size(1)\n",
    "    var_1=sigma_1**2\n",
    "    inverse_var_1=1.0/var_1\n",
    "    logdet_1=torch.logdet(torch.diag(torch.ones([rank_1]))+inverse_var_1*(L_1.t())@L_1)+dim*tf.log(var_1)\n",
    "    cov_1=L_1@L1.t()+torch.diag(torch.ones([dim_1]))*var_1\n",
    "    \n",
    "    \n",
    "    dim_2=L_2.size(0)\n",
    "    rank_2=L_2.size(1)\n",
    "    var_2=sigma_2**2\n",
    "    inverse_var_2=1.0/var_2\n",
    "    logdet_2=torch.logdet(torch.diag(torch.ones([rank_2]))+inverse_var_2*(L_2.t())@L_2)+dim*tf.log(var_2)\n",
    "    \n",
    "    inner_inverse_2=torch.inverse(torch.diag(torch.ones([rank_2]))+inverse_var_2*(L_2.t())@L_2)\n",
    "    cov_inverse_2=inverse_var_2*torch.diag(torch.ones([dim_2]))-inverse_var_2**2*L_2@inner_inverse_2@L_2.t()\n",
    "    \n",
    "    mu_diff=(mu_1-mu_2).view(-1,1)\n",
    "    return -0.5*(logdet_1-logdet_2+dim_1-torch.trace(cov_1@cov_inverse_2)-mu_diff.t()@ cov_inverse_2@mu_diff)\n",
    "    \n",
    "\n",
    "def general_kl_divergence(mu_1,cov_1,mu_2,cov_2):\n",
    "    mu_diff=(mu_1-mu_2).view(-1,1)\n",
    "    cov_2_inverse=torch.inverse(cov_2)\n",
    "    return -0.5*(torch.logdet(cov_1)-torch.logdet(cov_2)+mu_1.size(0)-torch.trace(cov_1@cov_2_inverse)-mu_diff.t()@cov_2_inverse@mu_diff)\n",
    "   "
   ]
  },
  {
   "cell_type": "code",
   "execution_count": 40,
   "metadata": {},
   "outputs": [
    {
     "name": "stdout",
     "output_type": "stream",
     "text": [
      "tensor([-0.1237,  0.6232,  0.0327,  0.6308])\n",
      "tensor([[-2.6122, -0.4481, -2.6616,  0.8618],\n",
      "        [ 0.6189, -0.4137, -0.6577, -0.6489]])\n",
      "tensor([[ 8.2066,  0.9144,  6.5455, -2.6528],\n",
      "        [ 0.9144,  1.3719,  1.4646, -0.1177],\n",
      "        [ 6.5455,  1.4646,  8.5166, -1.8670],\n",
      "        [-2.6528, -0.1177, -1.8670,  2.1638]])\n",
      "tensor([ 0.3486, -0.5131, -1.1465, -0.0950])\n",
      "tensor([[ 1.7013, -1.0444, -0.4873,  0.0145],\n",
      "        [-1.0444,  3.1796,  0.4106,  0.3039],\n",
      "        [-0.4873,  0.4106,  1.4975, -0.1743],\n",
      "        [ 0.0145,  0.3039, -0.1743,  1.1700]])\n"
     ]
    }
   ],
   "source": [
    "L_1=torch.randn(4,2)\n",
    "sigma_1=1.0\n",
    "mu_1=torch.randn(4)\n",
    "print(mu_1)\n",
    "print(L_1.t())\n",
    "cov_1=L_1@(L_1.t())+torch.diag(torch.ones(4))*sigma_1**2\n",
    "print(cov_1)\n",
    "L_2=torch.randn(4,2)\n",
    "sigma_2=1.0\n",
    "mu_2=torch.randn(4)\n",
    "print(mu_2)\n",
    "cov_2=L_2@L_2.t()+torch.diag(torch.ones(4))*sigma_2**2\n",
    "print(cov_2)"
   ]
  },
  {
   "cell_type": "code",
   "execution_count": 48,
   "metadata": {},
   "outputs": [
    {
     "name": "stdout",
     "output_type": "stream",
     "text": [
      "tensor([[6.9339]])\n"
     ]
    }
   ],
   "source": [
    "print(general_kl_divergence(mu_1,cov_1,mu_2,cov_2))"
   ]
  },
  {
   "cell_type": "code",
   "execution_count": null,
   "metadata": {},
   "outputs": [],
   "source": [
    "print(KL_low_rank_gaussian_with_low_rank_gaussian())"
   ]
  }
 ],
 "metadata": {
  "kernelspec": {
   "display_name": "rl",
   "language": "python",
   "name": "myenv"
  },
  "language_info": {
   "codemirror_mode": {
    "name": "ipython",
    "version": 3
   },
   "file_extension": ".py",
   "mimetype": "text/x-python",
   "name": "python",
   "nbconvert_exporter": "python",
   "pygments_lexer": "ipython3",
   "version": "3.7.3"
  }
 },
 "nbformat": 4,
 "nbformat_minor": 2
}

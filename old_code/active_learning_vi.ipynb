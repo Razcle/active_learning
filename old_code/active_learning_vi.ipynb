{
 "cells": [
  {
   "cell_type": "code",
   "execution_count": 1,
   "metadata": {},
   "outputs": [
    {
     "data": {
      "text/plain": [
       "<torch._C.Generator at 0x10c87bd10>"
      ]
     },
     "execution_count": 1,
     "metadata": {},
     "output_type": "execute_result"
    }
   ],
   "source": [
    "import torch\n",
    "import torchvision\n",
    "import torch.nn as nn\n",
    "import torch.nn.functional as F\n",
    "import torch.optim as optim\n",
    "import matplotlib.pyplot as plt\n",
    "import numpy as np\n",
    "from hessian import *\n",
    "import operator\n"
   ]
  },
  {
   "cell_type": "code",
   "execution_count": 2,
   "metadata": {},
   "outputs": [],
   "source": [
    "train_data=torchvision.datasets.MNIST('./', train=True, download=True,transform=torchvision.transforms.ToTensor())\n",
    "test_data=torchvision.datasets.MNIST('./', train=False, download=True,transform=torchvision.transforms.ToTensor())\n",
    "# train_loader = torch.utils.data.DataLoader(train_data, batch_size=100, shuffle=True)\n",
    "test_loader = torch.utils.data.DataLoader(test_data, batch_size=100, shuffle=True)"
   ]
  },
  {
   "cell_type": "code",
   "execution_count": 3,
   "metadata": {},
   "outputs": [],
   "source": [
    "train_dict={}\n",
    "for (data, target) in train_data:\n",
    "    if  target not in train_dict:\n",
    "        train_dict[ target]=[]\n",
    "        train_dict[ target].append(data)\n",
    "    else:\n",
    "        train_dict[ target].append(data)"
   ]
  },
  {
   "cell_type": "code",
   "execution_count": 22,
   "metadata": {},
   "outputs": [
    {
     "name": "stdout",
     "output_type": "stream",
     "text": [
      "[0, 0, 0, 0, 0, 0, 0, 0, 0, 0, 1, 1, 1, 1, 1, 1, 1, 1, 1, 1]\n"
     ]
    }
   ],
   "source": [
    "initial_train_data=[]\n",
    "initial_train_label=[]\n",
    "for i in range(2):\n",
    "    for j in range(0,10):\n",
    "        initial_train_data.append(train_dict[i][j])\n",
    "        initial_train_label.append(i)\n",
    "    \n",
    "print(initial_train_label)"
   ]
  },
  {
   "cell_type": "code",
   "execution_count": 23,
   "metadata": {},
   "outputs": [
    {
     "name": "stdout",
     "output_type": "stream",
     "text": [
      "torch.Size([20, 1, 28, 28])\n",
      "torch.Size([20])\n"
     ]
    }
   ],
   "source": [
    "initial_train_data_tensor=torch.stack(initial_train_data)\n",
    "initial_train_label_tensor=torch.tensor(initial_train_label)\n",
    "train_x=torch.stack([data for (data, target) in train_data])\n",
    "train_label=torch.tensor([target for (data, target) in train_data])\n",
    "print(initial_train_data_tensor.size())\n",
    "print(initial_train_label_tensor.size())"
   ]
  },
  {
   "cell_type": "code",
   "execution_count": 125,
   "metadata": {},
   "outputs": [],
   "source": [
    "class Net(nn.Module):\n",
    "    def __init__(self):\n",
    "        super(Net, self).__init__()\n",
    "        self.conv1 = nn.Conv2d(1, 10, kernel_size=5)\n",
    "        self.conv2 = nn.Conv2d(10, 20, kernel_size=5)\n",
    "        self.fc1 = nn.Linear(320, 50)\n",
    "        self.fc2 = nn.Linear(50, 20)\n",
    "        self.q_mu=torch.nn.Parameter(nn.init.zeros_(torch.empty(200)))\n",
    "        self.q_diag=torch.nn.Parameter(nn.init.ones_(torch.empty(200))*0.1)\n",
    "        self.optimizer = optim.Adam(self.parameters(), lr=0.001)\n",
    "\n",
    "    def forward(self, x, final_weight):\n",
    "        x=x.view(-1,1,28,28)\n",
    "        x = F.relu(F.max_pool2d(self.conv1(x), 2))\n",
    "        x = F.relu(F.max_pool2d(self.conv2(x), 2))\n",
    "        x = x.view(-1, 320)\n",
    "        x = F.relu(self.fc1(x))\n",
    "        x =self.fc2(x)\n",
    "#         final_weight_sample=self.q_dis.rsample().view(20,10)\n",
    "        x= torch.matmul(x,final_weight)\n",
    "        return F.log_softmax(x,dim=-1)\n",
    "    \n",
    "    \n",
    "    def feature_forward(self, x ):\n",
    "        x=x.view(-1,1,28,28)\n",
    "        x = F.relu(F.max_pool2d(self.conv1(x), 2))\n",
    "        x = F.relu(F.max_pool2d(self.conv2(x), 2))\n",
    "        x = x.view(-1, 320)\n",
    "        x = F.relu(self.fc1(x))\n",
    "        x =  self.fc2(x)\n",
    "        return x\n",
    "    \n",
    "    def predict(self,x):\n",
    "        with torch.no_grad():\n",
    "            eps=torch.tensor(np.random.normal([200]),dtype=torch.float)\n",
    "            final_weight_sample= (self.q_mu+eps*torch.sqrt(self.q_diag)).view(20,10)\n",
    "            output = torch.exp(self.forward(x,final_weight_sample))\n",
    "            pred = output.data.max(dim=1, keepdim=True)[1]\n",
    "            return pred\n",
    "        \n",
    "    def test_prediction(self, x):\n",
    "        with torch.no_grad():\n",
    "            final_weight_mean=self.q_mu.view(20,10)\n",
    "            output = torch.exp(self.forward(x,final_weight_mean))\n",
    "            pred = output.data.max(dim=1, keepdim=True)[1]\n",
    "            return pred\n",
    "        \n",
    "        \n",
    "    def predictive_distribution_entropy(self,x):\n",
    "        \n",
    "#         final_weight_samples=self.posterior.sample([100]).view(100,20,10).permute(0, 2, 1)\n",
    "        eps=torch.tensor(np.random.normal(size=[100,200]),dtype=torch.float)\n",
    "#         print(eps.size())\n",
    "        final_weight_samples=(torch.sqrt(self.q_diag).repeat(100).view(100,200)*eps+self.q_mu).view(100,20,10).permute(0, 2, 1)\n",
    "#         final_weight_sample=_batch_mv(torch.sqrt(self.q_diag).view(1,-1),eps)#+self.q_mu\n",
    "#         print(final_weight_samples.size())\n",
    "\n",
    "#         final_weight_samples=self.posterior.mean.repeat([100,1]).view(100,20,10).permute(0, 2, 1)\n",
    "#         print(final_weight_samples.size())\n",
    "        feature_of_data=self.feature_forward(x)[0]\n",
    "#         print(feature_of_data.size())\n",
    "        output_logit=final_weight_samples@feature_of_data\n",
    "#         print(output_logit.size())\n",
    "        # output_probs=torch.exp(output_logit)\n",
    "#         print(output_logit)\n",
    "        output_dis=torch.distributions.categorical.Categorical(logits=output_logit)\n",
    "        \n",
    "        sample=output_dis.sample([100]).reshape([-1,1])\n",
    "#         print(sample)\n",
    "        entropy=-torch.mean(torch.log(torch.mean(torch.exp(output_dis.log_prob(sample)),dim=-1)))\n",
    "#         print(entropy)\n",
    "        \n",
    "        return entropy\n",
    "    \n",
    "    def pre_train(self,x,label):\n",
    "        train_losses = []\n",
    "        entropy_list = []\n",
    "        for it in range(0,10000):\n",
    "            self.optimizer.zero_grad()\n",
    "#             conditional_loss=0\n",
    "#             for i in range(0,10):\n",
    "            eps=torch.tensor(np.random.normal(size=[200]),dtype=torch.float)\n",
    "            final_weight_sample= (self.q_mu+eps*torch.sqrt(self.q_diag)).view(20,10)\n",
    "            output = self.forward(x,final_weight_sample)\n",
    "\n",
    "            conditional_loss= F.nll_loss(output,label,reduction='sum')\n",
    "#             conditional_loss=conditional_loss/10\n",
    "            entropy=torch.sum(torch.log(self.q_diag))\n",
    "            neg_kl=entropy-0.5 * torch.sum((self.q_diag + self.q_mu**2))\n",
    "            neg_elbo=-neg_kl+conditional_loss\n",
    "            neg_elbo.backward()\n",
    "            self.optimizer.step()\n",
    "            train_losses.append(neg_elbo.item())\n",
    "            entropy_list.append(entropy.item())\n",
    "        print('labels')\n",
    "        print(label)\n",
    "        print(output.data.max(dim=1, keepdim=True)[1])\n",
    "#         print(self.q_mu)\n",
    "        plt.plot(train_losses)\n",
    "        plt.show()\n",
    "        plt.plot(entropy_list)\n",
    "        plt.show()\n",
    "        \n",
    "        \n",
    "    def test(self):\n",
    "        correct=0\n",
    "        for data, target in test_loader:\n",
    "            pred = self.predict(data)\n",
    "            correct += pred.eq(target.data.view_as(pred)).sum()\n",
    "            correct_ratio= float(correct)/len(test_loader.dataset)\n",
    "        return correct_ratio\n",
    "    "
   ]
  },
  {
   "cell_type": "code",
   "execution_count": 126,
   "metadata": {},
   "outputs": [
    {
     "name": "stdout",
     "output_type": "stream",
     "text": [
      "labels\n",
      "tensor([0, 0, 0, 0, 0, 0, 0, 0, 0, 0, 1, 1, 1, 1, 1, 1, 1, 1, 1, 1])\n",
      "tensor([[0],\n",
      "        [0],\n",
      "        [0],\n",
      "        [0],\n",
      "        [0],\n",
      "        [0],\n",
      "        [0],\n",
      "        [0],\n",
      "        [0],\n",
      "        [0],\n",
      "        [1],\n",
      "        [1],\n",
      "        [1],\n",
      "        [1],\n",
      "        [1],\n",
      "        [1],\n",
      "        [1],\n",
      "        [1],\n",
      "        [1],\n",
      "        [1]])\n"
     ]
    },
    {
     "data": {
      "image/png": "[encoded data removed]",
      "text/plain": [
       "<Figure size 432x288 with 1 Axes>"
      ]
     },
     "metadata": {
      "needs_background": "light"
     },
     "output_type": "display_data"
    },
    {
     "data": {
      "image/png": "[encoded data removed]",
      "text/plain": [
       "<Figure size 432x288 with 1 Axes>"
      ]
     },
     "metadata": {
      "needs_background": "light"
     },
     "output_type": "display_data"
    }
   ],
   "source": [
    "active_bnn = Net()\n",
    "active_bnn.pre_train(initial_train_data_tensor,initial_train_label_tensor)"
   ]
  },
  {
   "cell_type": "code",
   "execution_count": 132,
   "metadata": {},
   "outputs": [
    {
     "name": "stdout",
     "output_type": "stream",
     "text": [
      "tensor([[0],\n",
      "        [0],\n",
      "        [0],\n",
      "        [0],\n",
      "        [0],\n",
      "        [0],\n",
      "        [0],\n",
      "        [0],\n",
      "        [0],\n",
      "        [0],\n",
      "        [1],\n",
      "        [1],\n",
      "        [1],\n",
      "        [1],\n",
      "        [1],\n",
      "        [1],\n",
      "        [1],\n",
      "        [1],\n",
      "        [1],\n",
      "        [1]])\n",
      "tensor(1.0977, grad_fn=<NegBackward>)\n",
      "tensor(0.9222, grad_fn=<NegBackward>)\n",
      "tensor(0.7538, grad_fn=<NegBackward>)\n",
      "tensor(0.5118, grad_fn=<NegBackward>)\n",
      "tensor(0.6449, grad_fn=<NegBackward>)\n"
     ]
    }
   ],
   "source": [
    "print(active_bnn.test_prediction(initial_train_data_tensor))\n",
    "# print(active_bnn.predict(initial_train_data_tensor))\n",
    "\n",
    "print(active_bnn.predictive_distribution_entropy(train_dict[6][20]))\n",
    "print(active_bnn.predictive_distribution_entropy(train_dict[8][20]))\n",
    "print(active_bnn.predictive_distribution_entropy(train_dict[1][20]))\n",
    "print(active_bnn.predictive_distribution_entropy(train_dict[1][1]))\n",
    "print(active_bnn.predictive_distribution_entropy(train_dict[0][1]))"
   ]
  }
 ],
 "metadata": {
  "kernelspec": {
   "display_name": "Python 3",
   "language": "python",
   "name": "python3"
  },
  "language_info": {
   "codemirror_mode": {
    "name": "ipython",
    "version": 3
   },
   "file_extension": ".py",
   "mimetype": "text/x-python",
   "name": "python",
   "nbconvert_exporter": "python",
   "pygments_lexer": "ipython3",
   "version": "3.6.9"
  }
 },
 "nbformat": 4,
 "nbformat_minor": 4
}

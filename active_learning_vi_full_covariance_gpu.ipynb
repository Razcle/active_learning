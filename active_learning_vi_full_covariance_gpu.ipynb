{
 "cells": [
  {
   "cell_type": "code",
   "execution_count": 35,
   "metadata": {},
   "outputs": [],
   "source": [
    "import torch\n",
    "import torchvision\n",
    "import torch.nn as nn\n",
    "import torch.nn.functional as F\n",
    "import torch.optim as optim\n",
    "import matplotlib.pyplot as plt\n",
    "import numpy as np\n",
    "from tools import *\n",
    "import operator\n",
    "import itertools\n",
    "np.random.seed(0)\n",
    "torch.manual_seed(0)\n",
    "opt= {}\n",
    "if torch.cuda.is_available():\n",
    "    torch.backends.cudnn.deterministic = True\n",
    "    torch.backends.cudnn.benchmark = False\n",
    "    opt['device']= torch.device('cuda:0')\n",
    "    opt['if_cuda']=True\n",
    "else:\n",
    "    opt['device']= torch.device('cpu')\n",
    "    opt['if_cuda']=False"
   ]
  },
  {
   "cell_type": "code",
   "execution_count": 36,
   "metadata": {},
   "outputs": [
    {
     "name": "stdout",
     "output_type": "stream",
     "text": [
      "0.6931471805599453\n",
      "0.6931471805599453\n"
     ]
    }
   ],
   "source": [
    "mu=0.0\n",
    "std=1.0\n",
    "\n",
    "def sigmoid(x):\n",
    "    return 1/(1 + np.exp(-x)) \n",
    "\n",
    "def entropy(p):\n",
    "    return -p*np.log(p)-(1-p)*np.log(1-p)\n",
    "    \n",
    "# def cdf(x,mu,std):\n",
    "    #0.5*(1+erf((x-mu)/(np.sqrt(2)*std)))\n",
    "\n",
    "def app(mu,std):\n",
    "    return sigmoid(np.sqrt(1+(np.pi*(std**2)/8))*mu)\n",
    "\n",
    "def all(mu,std):\n",
    "    return entropy(app(mu,std))\n",
    "\n",
    "print(all(0.0,1.0))\n",
    "print(all(0.0,2.0))"
   ]
  },
  {
   "cell_type": "code",
   "execution_count": 37,
   "metadata": {},
   "outputs": [],
   "source": [
    "def yo_kronecker(t1, t2):\n",
    "    \"\"\"\n",
    "    Computes the Kronecker product between two tensors.\n",
    "    See https://en.wikipedia.org/wiki/Kronecker_product\n",
    "    \"\"\"\n",
    "    t1_height, t1_width = t1.size()\n",
    "    t2_height, t2_width = t2.size()\n",
    "    out_height = t1_height * t2_height\n",
    "    out_width = t1_width * t2_width\n",
    "\n",
    "    tiled_t2 = t2.repeat(t1_height, t1_width)\n",
    "    expanded_t1 = (\n",
    "        t1.unsqueeze(2)\n",
    "          .unsqueeze(3)\n",
    "          .repeat(1, t2_height, t2_width, 1)\n",
    "          .view(out_height, out_width)\n",
    "    )\n",
    "\n",
    "    return expanded_t1 * tiled_t2\n",
    "# a=torch.diag(torch.ones(2))\n",
    "# b=torch.tensor([1.0,2.0]).view(1,2)\n",
    "# print(kronecker(a,b))"
   ]
  },
  {
   "cell_type": "code",
   "execution_count": 38,
   "metadata": {},
   "outputs": [],
   "source": [
    "train_data=torchvision.datasets.MNIST('./', train=True, download=True,transform=torchvision.transforms.ToTensor())\n",
    "test_data=torchvision.datasets.MNIST('./', train=False, download=True,transform=torchvision.transforms.ToTensor())\n",
    "# train_loader = torch.utils.data.DataLoader(train_data, batch_size=100, shuffle=True)\n",
    "test_loader = torch.utils.data.DataLoader(test_data, batch_size=100, shuffle=True)"
   ]
  },
  {
   "cell_type": "code",
   "execution_count": 39,
   "metadata": {},
   "outputs": [],
   "source": [
    "train_dict={}\n",
    "for (data, target) in train_data:\n",
    "    if  target.item() not in train_dict:\n",
    "        train_dict[target.item()]=[]\n",
    "        train_dict[target.item()].append(data)\n",
    "    else:\n",
    "        train_dict[target.item()].append(data)"
   ]
  },
  {
   "cell_type": "code",
   "execution_count": 40,
   "metadata": {},
   "outputs": [
    {
     "name": "stdout",
     "output_type": "stream",
     "text": [
      "[0, 0, 0, 0, 0, 0, 0, 0, 0, 0, 1, 1, 1, 1, 1, 1, 1, 1, 1, 1, 2, 2, 2, 2, 2, 2, 2, 2, 2, 2, 3, 3, 3, 3, 3, 3, 3, 3, 3, 3, 4, 4, 4, 4, 4, 4, 4, 4, 4, 4]\n"
     ]
    }
   ],
   "source": [
    "initial_train_data=[]\n",
    "initial_train_label=[]\n",
    "for i in range(5):\n",
    "    for j in range(0,10):\n",
    "        initial_train_data.append(train_dict[i][j])\n",
    "        initial_train_label.append(i)\n",
    "    \n",
    "print(initial_train_label)"
   ]
  },
  {
   "cell_type": "code",
   "execution_count": 41,
   "metadata": {},
   "outputs": [
    {
     "name": "stdout",
     "output_type": "stream",
     "text": [
      "torch.Size([50, 1, 28, 28])\n",
      "torch.Size([50])\n"
     ]
    }
   ],
   "source": [
    "initial_train_data_tensor=torch.stack(initial_train_data)\n",
    "initial_train_label_tensor=torch.tensor(initial_train_label)\n",
    "train_x=torch.stack([data for (data, target) in train_data])\n",
    "train_label=torch.tensor([target for (data, target) in train_data])\n",
    "print(initial_train_data_tensor.size())\n",
    "print(initial_train_label_tensor.size())"
   ]
  },
  {
   "cell_type": "code",
   "execution_count": 53,
   "metadata": {},
   "outputs": [],
   "source": [
    "class Net(nn.Module):\n",
    "    def __init__(self,feature_dim,q_rank):\n",
    "        super(Net, self).__init__()\n",
    "        self.feature_dim=feature_dim\n",
    "        self.last_weight_dim=feature_dim*10\n",
    "        self.device=opt['device']\n",
    "        self.if_cuda=opt['if_cuda']\n",
    "        self.conv1 = nn.Conv2d(1, 10, kernel_size=5)\n",
    "        self.conv2 = nn.Conv2d(10, 20, kernel_size=5)\n",
    "        self.fc1 = nn.Linear(320, 100)\n",
    "        self.fc2 = nn.Linear(100, feature_dim)\n",
    "\n",
    "        self.q_rank=q_rank\n",
    "        self.prior_mu=torch.tensor(np.zeros(self.last_weight_dim), dtype=torch.float, requires_grad=False)\n",
    "        self.prior_sigma=torch.tensor(1.0, requires_grad=False)\n",
    "        \n",
    "        self.q_mu=(torch.randn(self.last_weight_dim)*0.1).requires_grad_()\n",
    "        self.q_sigma=torch.tensor(1.0, requires_grad=True)\n",
    "        self.q_L=(torch.randn(self.last_weight_dim,q_rank)*0.1).requires_grad_()\n",
    "        \n",
    "        \n",
    "        params = list(self.parameters()) + [self.q_mu,self.q_L,self.q_sigma]\n",
    "        self.optimizer = optim.Adam(params, lr=0.001)\n",
    "        self.feature_optimizer = optim.Adam(self.parameters(), lr=0.001)\n",
    "        self.final_optimizer = optim.Adam([ self.q_mu,self.q_L,self.q_sigma], lr=0.001)\n",
    "        self.online_optimizer = optim.Adam([ self.q_mu,self.q_L,self.q_sigma], lr=0.001)\n",
    "\n",
    "    def forward(self, x, final_weight):\n",
    "        x=x.view(-1,1,28,28)\n",
    "        x = F.relu(F.max_pool2d(self.conv1(x), 2))\n",
    "        x = F.relu(F.max_pool2d(self.conv2(x), 2))\n",
    "        x = x.view(-1, 320)\n",
    "        x = F.relu(self.fc1(x))\n",
    "        x =torch.tanh(self.fc2(x))\n",
    "        x= torch.matmul(x,final_weight)\n",
    "        return F.log_softmax(x,dim=-1)\n",
    "    \n",
    "    \n",
    "    def feature_forward(self, x ):\n",
    "        x=x.view(-1,1,28,28)\n",
    "        x = F.relu(F.max_pool2d(self.conv1(x), 2))\n",
    "        x = F.relu(F.max_pool2d(self.conv2(x), 2))\n",
    "        x = x.view(-1, 320)\n",
    "        x = F.relu(self.fc1(x))\n",
    "        x = torch.tanh( self.fc2(x))\n",
    "        return x\n",
    "    \n",
    "    def predict(self,x):\n",
    "        with torch.no_grad():\n",
    "            eps=torch.tensor(np.random.normal([self.last_weight_dim]),dtype=torch.float)\n",
    "            final_weight_sample= (self.q_mu+eps*torch.sqrt(self.q_diag)).view(self.feature_dim,10)\n",
    "            output = torch.exp(self.forward(x,final_weight_sample))\n",
    "            pred = output.data.max(dim=1, keepdim=True)[1]\n",
    "            return pred\n",
    "        \n",
    "    def test_prediction(self, x):\n",
    "        with torch.no_grad():\n",
    "            final_weight_mean=self.q_mu.view(self.feature_dim,10)\n",
    "            output = torch.exp(self.forward(x,final_weight_mean))\n",
    "            pred = output.data.max(dim=1, keepdim=True)[1]\n",
    "            return pred\n",
    "        \n",
    "        \n",
    "    def predictive_distribution_entropy_batch(self,x, sample_num=100):\n",
    "        with torch.no_grad():\n",
    "            final_weight_samples=low_rank_gaussian_sample(self.q_mu.to(self.device),self.q_L.to(self.device),self.q_sigma.to(self.device),sample_num,cuda=self.if_cuda).view(sample_num,self.feature_dim,10).permute(0, 2, 1)\n",
    "            feature_of_data=self.feature_forward(x)### 70*20\n",
    "            output_logit=F.log_softmax((final_weight_samples@feature_of_data.t()).permute(2,0,1),dim=-1) ###70*100*10\n",
    "            final_weight_samples=low_rank_gaussian_sample(self.q_mu.to(self.device),self.q_L.to(self.device),self.q_sigma.to(self.device),sample_num,cuda=self.if_cuda).view(sample_num,self.feature_dim,10).permute(0, 2, 1)\n",
    "            output_probs=F.softmax(output_logit,dim=-1) ###70*100*10\n",
    "            output_dis_for_sample=sample_from_batch_categorical_multiple(output_logit,sample_num=30,cuda=self.if_cuda).view(x.size(0),-1) ### 70*100*30\n",
    "            output_dis_for_sample_one_hot=one_hot_embedding(output_dis_for_sample, 10, cuda=self.if_cuda) ### 70*3000*10\n",
    "            output_probs=output_probs@output_dis_for_sample_one_hot.permute(0,2,1) ### 70*100*3000\n",
    "            entropy_list=-torch.mean(torch.log(torch.mean(output_probs,dim=1)),dim=-1)\n",
    "            return entropy_list\n",
    "    \n",
    "    \n",
    "    def likelihood_eva(self,x,label, sample_num=100, if_online=False):\n",
    "        with torch.no_grad():\n",
    "            eps=torch.randn([sample_num,self.last_weight_dim])\n",
    "            final_weight_samples=low_rank_gaussian_sample(self.q_mu.to(self.device),self.q_L.to(self.device),self.q_sigma.to(self.device),sample_num).view(sample_num,self.feature_dim,10).permute(0, 2, 1)\n",
    "            feature_of_data=self.feature_forward(x)\n",
    "            output=torch.mean(F.log_softmax((final_weight_samples@feature_of_data.t()).permute(0, 2, 1),dim=-1),0)\n",
    "            predicted=output.data.max(dim=1, keepdim=True)[1].view(-1)\n",
    "            accuracy=(predicted == label).sum().item()/label.size(0)\n",
    "            nll_loss= F.nll_loss(output,label)\n",
    "            if if_online:\n",
    "                curr_prior_mu = self.q_mu.clone().detach()\n",
    "                curr_prior_L = self.q_L.clone().detach()\n",
    "                curr_prior_sigma = self.q_sigma.clone().detach()\n",
    "                kl=KL_low_rank_gaussian_with_low_rank_gaussian(self.q_mu.to(self.device),self.q_L.to(self.device),self.q_sigma.to(self.device),curr_prior_mu,curr_prior_L,curr_prior_sigma)\n",
    "            else:\n",
    "                kl=KL_low_rank_gaussian_with_diag_gaussian(self.q_mu.to(self.device),self.q_L.to(self.device),self.q_sigma.to(self.device),self.prior_mu.to(self.device),self.prior_sigma.to(self.device))\n",
    "            neg_elbo=kl+nll_loss\n",
    "        \n",
    "        return -neg_elbo,accuracy\n",
    "    \n",
    "    def preactivation_entropy(self,x):\n",
    "        with torch.no_grad():\n",
    "            feature_of_data=self.feature_forward(x)\n",
    "            diag=torch.diag(torch.ones(10)).to(self.device)\n",
    "            left=yo_kronecker(diag,feature_of_data.view(1,self.feature_dim))\n",
    "            cov=self.q_L.to(self.device)@self.q_L.to(self.device).t()+torch.diag(torch.ones(self.last_weight_dim).to(self.device))*self.q_sigma.to(self.device)\n",
    "            transformed_cov=left@cov@(left.t())\n",
    "            mean=feature_of_data@self.q_mu.view(self.feature_dim,10).view(-1)\n",
    "            \n",
    "            print(mean.size())\n",
    "            m=torch.cholesky(transformed_cov)\n",
    "            randn=torch.randn([100,10]).cuda()\n",
    "            \n",
    "            logit_samples=(mean+randn@m)\n",
    "            print(logits_samples.size())\n",
    "            output_dis_for_sample=torch.distributions.categorical.Categorical(logits=logit_samples)\n",
    "            sample=output_dis_for_sample.sample([sample_num]).reshape([-1,1])\n",
    "            entropy=-torch.mean(torch.log(torch.mean(torch.exp(output_dis.log_prob(sample)),dim=-1)))\n",
    "            \n",
    "            return torch.logdet(transformed_cov)\n",
    "        \n",
    "        \n",
    "        \n",
    "        \n",
    "        \n",
    "        \n",
    "    \n",
    "    def preactivation_entropy_batch(self,x):\n",
    "        with torch.no_grad():\n",
    "            feature_of_data=self.feature_forward(x)### 1*20\n",
    "            diag=torch.diag(torch.ones(10)).to(self.device)\n",
    "            left=kroneck(diag,feature_of_data.view(-1,1,self.feature_dim))\n",
    "            cov=self.q_L.to(self.device)@self.q_L.to(self.device).t()+torch.diag(torch.ones(self.last_weight_dim).to(self.device))*self.q_sigma.to(self.device)\n",
    "            transformed_cov=torch.bmm(left@cov,left.transpose(1,2))\n",
    "#             print(transformed_cov.size())\n",
    "            return torch.tensor([torch.logdet(yo) for yo in transformed_cov])\n",
    "    \n",
    "    def predictive_distribution_entropy_2(self,x, sample_num=100):\n",
    "        with torch.no_grad():\n",
    "            final_weight_samples=low_rank_gaussian_sample(self.q_mu.to(self.device),self.q_L.to(self.device),self.q_sigma.to(self.device),sample_num).view(sample_num,self.feature_dim,10).permute(0, 2, 1)\n",
    "            feature_of_data=self.feature_forward(x)[0]\n",
    "            output_logit=final_weight_samples@feature_of_data\n",
    "            output_dis=torch.distributions.categorical.Categorical(logits=output_logit)\n",
    "\n",
    "            final_weight_samples=low_rank_gaussian_sample(self.q_mu.to(self.device),self.q_L.to(self.device),self.q_sigma.to(self.device),sample_num).view(sample_num,self.feature_dim,10).permute(0, 2, 1)\n",
    "            feature_of_data=self.feature_forward(x)[0]\n",
    "            output_logit=final_weight_samples@feature_of_data\n",
    "            output_dis_for_sample=torch.distributions.categorical.Categorical(logits=output_logit)\n",
    "            \n",
    "            sample=output_dis_for_sample.sample([sample_num]).reshape([-1,1])\n",
    "            entropy=-torch.mean(torch.log(torch.mean(torch.exp(output_dis.log_prob(sample)),dim=-1)))\n",
    "        return entropy\n",
    "    \n",
    "    \n",
    "#       def lower_bound_entropy(self,x):\n",
    "#         eps=torch.tensor(np.random.normal(size=[100,200]),dtype=torch.float)\n",
    "#         final_weight_samples=(torch.sqrt(self.q_diag).repeat(100).view(100,200)*eps+self.q_mu).view(100,20,10).permute(0, 2, 1)\n",
    "#         feature_of_data=self.feature_forward(x)[0]\n",
    "#         output_logit=final_weight_samples@feature_of_data\n",
    "#         output_dis=torch.distributions.categorical.Categorical(logits=output_logit)\n",
    "#         sample=output_dis.sample([100]).reshape([-1,1])\n",
    "        \n",
    "#         eps=torch.tensor(np.random.normal(size=[100,200]),dtype=torch.float)\n",
    "#         final_weight_samples=(torch.sqrt(self.q_diag).repeat(100).view(100,200)*eps+self.q_mu).view(100,20,10).permute(0, 2, 1)\n",
    "        \n",
    "        \n",
    "        \n",
    "        \n",
    "        \n",
    "#         entropy=-torch.mean(torch.log(torch.mean(torch.exp(output_dis.log_prob(sample)),dim=-1)))\n",
    "#         return entropy\n",
    "    \n",
    "    \n",
    "    def online_train(self,x,label,sample_num=1,iteration=500):\n",
    "        train_losses = []\n",
    "        total_size=x.size(0)\n",
    "        curr_prior_mu = self.q_mu.clone().detach()\n",
    "        curr_prior_L = self.q_L.clone().detach()\n",
    "        curr_prior_sigma = self.q_sigma.clone().detach()\n",
    "        correct_flag=0\n",
    "        \n",
    "#         ### reinitialize\n",
    "#         self.q_mu=(torch.randn(self.last_weight_dim)*0.1).requires_grad_()\n",
    "#         self.q_sigma=torch.tensor(1.0, requires_grad=True)\n",
    "#         self.q_L=(torch.randn(self.last_weight_dim,self.q_rank)*0.1).requires_grad_()\n",
    "        \n",
    "        \n",
    "        with torch.no_grad():\n",
    "            feature_of_data_o=self.feature_forward(x)\n",
    "        feature_of_data=feature_of_data_o.clone().detach()\n",
    "#         while correct_flag<5:\n",
    "\n",
    "        for i in range(0,iteration):\n",
    "            self.final_optimizer.zero_grad()\n",
    "            final_weight_samples=low_rank_gaussian_sample(self.q_mu.to(self.device),self.q_L.to(self.device),self.q_sigma.to(self.device),sample_num,cuda=self.if_cuda).view(sample_num,self.feature_dim,10).permute(0, 2, 1)\n",
    "            output =torch.mean(F.log_softmax((final_weight_samples@feature_of_data.t()).permute(0,2,1),dim=-1).view(-1,sample_num,10),1)\n",
    "            \n",
    "            \n",
    "            nll_loss= F.nll_loss(output,label)*float(x.size(0))\n",
    "            kl=KL_low_rank_gaussian_with_low_rank_gaussian_cuda(self.q_mu.to(self.device),self.q_L.to(self.device),self.q_sigma.to(self.device),curr_prior_mu.to(self.device),curr_prior_L.to(self.device),curr_prior_sigma.to(self.device))\n",
    "            neg_elbo=kl+nll_loss\n",
    "            neg_elbo.backward()\n",
    "            self.final_optimizer.step()\n",
    "            train_losses.append(neg_elbo.item())\n",
    "            \n",
    "            pred = output.data.max(dim=1, keepdim=True)[1]\n",
    "            print(pred)\n",
    "            if i%100==0:\n",
    "                \n",
    "                plt.plot(train_losses)\n",
    "                plt.show()\n",
    "\n",
    "        \n",
    "        \n",
    "        \n",
    "    \n",
    "    def train(self,x,label):\n",
    "        train_losses = []\n",
    "        if x.size(0)<100:\n",
    "            batch_size=x.size(0)\n",
    "            iteration=1\n",
    "        else:\n",
    "            batch_size=100\n",
    "            iteration=int(x.size(0)/batch_size)\n",
    "        for epoch in range(0,1000):\n",
    "            for it in range(0,iteration):\n",
    "                index=np.random.choice(x.size(0),batch_size)\n",
    "                self.optimizer.zero_grad()\n",
    "                final_weight_sample= low_rank_gaussian_one_sample(self.q_mu.to(self.device),self.q_L.to(self.device),self.q_sigma.to(self.device),cuda=self.if_cuda).view(self.feature_dim,10)\n",
    "                output = self.forward(x[index],final_weight_sample)\n",
    "#                 print(output.type())\n",
    "#                 print(label[0].type())\n",
    "                nll_loss= F.nll_loss(output,label[index])*float(x.size(0))\n",
    "                kl=KL_low_rank_gaussian_with_diag_gaussian(self.q_mu.to(self.device),self.q_L.to(self.device),self.q_sigma.to(self.device),self.prior_mu.to(self.device),self.prior_sigma.to(self.device),cuda=self.if_cuda)\n",
    "                neg_elbo=kl+nll_loss\n",
    "                neg_elbo.backward()\n",
    "                self.optimizer.step()\n",
    "                train_losses.append(neg_elbo.item())\n",
    "        plt.plot(train_losses)\n",
    "        plt.show()\n",
    "        return train_losses\n",
    "        \n",
    "    def test(self):\n",
    "        correct=0\n",
    "        for data, target in test_loader:\n",
    "            pred = self.predict(data)\n",
    "            correct += pred.eq(target.data.view_as(pred)).sum()\n",
    "            correct_ratio= float(correct)/len(test_loader.dataset)\n",
    "        return correct_ratio\n",
    "    "
   ]
  },
  {
   "cell_type": "code",
   "execution_count": 54,
   "metadata": {},
   "outputs": [
    {
     "data": {
      "image/png": "[encoded data removed]",
      "text/plain": [
       "<Figure size 432x288 with 1 Axes>"
      ]
     },
     "metadata": {
      "needs_background": "light"
     },
     "output_type": "display_data"
    }
   ],
   "source": [
    "active_bnn_1 = Net(feature_dim=50,q_rank=10).to(opt['device'])\n",
    "nelbo_1=active_bnn_1.train(initial_train_data_tensor.to(opt['device']),initial_train_label_tensor.to(opt['device']))"
   ]
  },
  {
   "cell_type": "code",
   "execution_count": 51,
   "metadata": {},
   "outputs": [
    {
     "name": "stdout",
     "output_type": "stream",
     "text": [
      "tensor([[-26.1191]], device='cuda:0')\n",
      "1.0\n"
     ]
    }
   ],
   "source": [
    "likelihood_of_initial_dataset,accuracy=active_bnn_1.likelihood_eva(initial_train_data_tensor.to(opt['device']),initial_train_label_tensor.to(opt['device']))\n",
    "print(likelihood_of_initial_dataset)\n",
    "print(accuracy)"
   ]
  },
  {
   "cell_type": "code",
   "execution_count": 55,
   "metadata": {},
   "outputs": [
    {
     "name": "stdout",
     "output_type": "stream",
     "text": [
      "nn tensor([ 1.2374], device='cuda:0')\n",
      "nn tensor([ 1.4055], device='cuda:0')\n",
      "nn tensor([ 1.4343], device='cuda:0')\n",
      "nn tensor([ 1.4741], device='cuda:0')\n",
      "ni tensor([ 0.4802], device='cuda:0')\n",
      "ni tensor([ 0.5638], device='cuda:0')\n",
      "ni tensor([ 1.0584], device='cuda:0')\n",
      "ni tensor([ 0.3238], device='cuda:0')\n",
      "i tensor([ 0.4447], device='cuda:0')\n",
      "i tensor([ 0.4947], device='cuda:0')\n",
      "i tensor([ 0.4059], device='cuda:0')\n",
      "i tensor([ 0.3219], device='cuda:0')\n"
     ]
    }
   ],
   "source": [
    "print('nn',active_bnn_1.predictive_distribution_entropy_batch(train_dict[6][1].to(opt['device'])))\n",
    "print('nn',active_bnn_1.predictive_distribution_entropy_batch(train_dict[7][1].to(opt['device'])))\n",
    "print('nn',active_bnn_1.predictive_distribution_entropy_batch(train_dict[8][1].to(opt['device'])))\n",
    "print('nn',active_bnn_1.predictive_distribution_entropy_batch(train_dict[9][1].to(opt['device'])))\n",
    "print('ni',active_bnn_1.predictive_distribution_entropy_batch(train_dict[1][20].to(opt['device'])))\n",
    "print('ni',active_bnn_1.predictive_distribution_entropy_batch(train_dict[2][20].to(opt['device'])))\n",
    "print('ni',active_bnn_1.predictive_distribution_entropy_batch(train_dict[3][20].to(opt['device'])))\n",
    "print('ni',active_bnn_1.predictive_distribution_entropy_batch(train_dict[4][20].to(opt['device'])))\n",
    "print('i',active_bnn_1.predictive_distribution_entropy_batch(train_dict[1][1].to(opt['device'])))\n",
    "print('i',active_bnn_1.predictive_distribution_entropy_batch(train_dict[2][1].to(opt['device'])))\n",
    "print('i',active_bnn_1.predictive_distribution_entropy_batch(train_dict[3][1].to(opt['device'])))\n",
    "print('i',active_bnn_1.predictive_distribution_entropy_batch(train_dict[4][1].to(opt['device'])))"
   ]
  },
  {
   "cell_type": "code",
   "execution_count": 56,
   "metadata": {},
   "outputs": [
    {
     "ename": "TypeError",
     "evalue": "can only concatenate list (not \"torch.Size\") to list",
     "output_type": "error",
     "traceback": [
      "\u001b[0;31m---------------------------------------------------------------------------\u001b[0m",
      "\u001b[0;31mTypeError\u001b[0m                                 Traceback (most recent call last)",
      "\u001b[0;32m<ipython-input-56-aad40b8b5617>\u001b[0m in \u001b[0;36m<module>\u001b[0;34m\u001b[0m\n\u001b[0;32m----> 1\u001b[0;31m \u001b[0mprint\u001b[0m\u001b[0;34m(\u001b[0m\u001b[0;34m'nn'\u001b[0m\u001b[0;34m,\u001b[0m\u001b[0mactive_bnn_1\u001b[0m\u001b[0;34m.\u001b[0m\u001b[0mpredictive_distribution_entropy_2\u001b[0m\u001b[0;34m(\u001b[0m\u001b[0mtrain_dict\u001b[0m\u001b[0;34m[\u001b[0m\u001b[0;36m6\u001b[0m\u001b[0;34m]\u001b[0m\u001b[0;34m[\u001b[0m\u001b[0;36m1\u001b[0m\u001b[0;34m]\u001b[0m\u001b[0;34m.\u001b[0m\u001b[0mto\u001b[0m\u001b[0;34m(\u001b[0m\u001b[0mopt\u001b[0m\u001b[0;34m[\u001b[0m\u001b[0;34m'device'\u001b[0m\u001b[0;34m]\u001b[0m\u001b[0;34m)\u001b[0m\u001b[0;34m)\u001b[0m\u001b[0;34m)\u001b[0m\u001b[0;34m\u001b[0m\u001b[0;34m\u001b[0m\u001b[0m\n\u001b[0m\u001b[1;32m      2\u001b[0m \u001b[0mprint\u001b[0m\u001b[0;34m(\u001b[0m\u001b[0;34m'nn'\u001b[0m\u001b[0;34m,\u001b[0m\u001b[0mactive_bnn_1\u001b[0m\u001b[0;34m.\u001b[0m\u001b[0mpredictive_distribution_entropy_2\u001b[0m\u001b[0;34m(\u001b[0m\u001b[0mtrain_dict\u001b[0m\u001b[0;34m[\u001b[0m\u001b[0;36m7\u001b[0m\u001b[0;34m]\u001b[0m\u001b[0;34m[\u001b[0m\u001b[0;36m1\u001b[0m\u001b[0;34m]\u001b[0m\u001b[0;34m.\u001b[0m\u001b[0mto\u001b[0m\u001b[0;34m(\u001b[0m\u001b[0mopt\u001b[0m\u001b[0;34m[\u001b[0m\u001b[0;34m'device'\u001b[0m\u001b[0;34m]\u001b[0m\u001b[0;34m)\u001b[0m\u001b[0;34m)\u001b[0m\u001b[0;34m)\u001b[0m\u001b[0;34m\u001b[0m\u001b[0;34m\u001b[0m\u001b[0m\n\u001b[1;32m      3\u001b[0m \u001b[0mprint\u001b[0m\u001b[0;34m(\u001b[0m\u001b[0;34m'nn'\u001b[0m\u001b[0;34m,\u001b[0m\u001b[0mactive_bnn_1\u001b[0m\u001b[0;34m.\u001b[0m\u001b[0mpredictive_distribution_entropy_2\u001b[0m\u001b[0;34m(\u001b[0m\u001b[0mtrain_dict\u001b[0m\u001b[0;34m[\u001b[0m\u001b[0;36m8\u001b[0m\u001b[0;34m]\u001b[0m\u001b[0;34m[\u001b[0m\u001b[0;36m1\u001b[0m\u001b[0;34m]\u001b[0m\u001b[0;34m.\u001b[0m\u001b[0mto\u001b[0m\u001b[0;34m(\u001b[0m\u001b[0mopt\u001b[0m\u001b[0;34m[\u001b[0m\u001b[0;34m'device'\u001b[0m\u001b[0;34m]\u001b[0m\u001b[0;34m)\u001b[0m\u001b[0;34m)\u001b[0m\u001b[0;34m)\u001b[0m\u001b[0;34m\u001b[0m\u001b[0;34m\u001b[0m\u001b[0m\n\u001b[1;32m      4\u001b[0m \u001b[0mprint\u001b[0m\u001b[0;34m(\u001b[0m\u001b[0;34m'nn'\u001b[0m\u001b[0;34m,\u001b[0m\u001b[0mactive_bnn_1\u001b[0m\u001b[0;34m.\u001b[0m\u001b[0mpredictive_distribution_entropy_2\u001b[0m\u001b[0;34m(\u001b[0m\u001b[0mtrain_dict\u001b[0m\u001b[0;34m[\u001b[0m\u001b[0;36m9\u001b[0m\u001b[0;34m]\u001b[0m\u001b[0;34m[\u001b[0m\u001b[0;36m1\u001b[0m\u001b[0;34m]\u001b[0m\u001b[0;34m.\u001b[0m\u001b[0mto\u001b[0m\u001b[0;34m(\u001b[0m\u001b[0mopt\u001b[0m\u001b[0;34m[\u001b[0m\u001b[0;34m'device'\u001b[0m\u001b[0;34m]\u001b[0m\u001b[0;34m)\u001b[0m\u001b[0;34m)\u001b[0m\u001b[0;34m)\u001b[0m\u001b[0;34m\u001b[0m\u001b[0;34m\u001b[0m\u001b[0m\n\u001b[1;32m      5\u001b[0m \u001b[0mprint\u001b[0m\u001b[0;34m(\u001b[0m\u001b[0;34m'ni'\u001b[0m\u001b[0;34m,\u001b[0m\u001b[0mactive_bnn_1\u001b[0m\u001b[0;34m.\u001b[0m\u001b[0mpredictive_distribution_entropy_2\u001b[0m\u001b[0;34m(\u001b[0m\u001b[0mtrain_dict\u001b[0m\u001b[0;34m[\u001b[0m\u001b[0;36m1\u001b[0m\u001b[0;34m]\u001b[0m\u001b[0;34m[\u001b[0m\u001b[0;36m20\u001b[0m\u001b[0;34m]\u001b[0m\u001b[0;34m.\u001b[0m\u001b[0mto\u001b[0m\u001b[0;34m(\u001b[0m\u001b[0mopt\u001b[0m\u001b[0;34m[\u001b[0m\u001b[0;34m'device'\u001b[0m\u001b[0;34m]\u001b[0m\u001b[0;34m)\u001b[0m\u001b[0;34m)\u001b[0m\u001b[0;34m)\u001b[0m\u001b[0;34m\u001b[0m\u001b[0;34m\u001b[0m\u001b[0m\n",
      "\u001b[0;32m<ipython-input-53-3d3ad1a472af>\u001b[0m in \u001b[0;36mpredictive_distribution_entropy_2\u001b[0;34m(self, x, sample_num)\u001b[0m\n\u001b[1;32m    145\u001b[0m             \u001b[0moutput_dis_for_sample\u001b[0m\u001b[0;34m=\u001b[0m\u001b[0mtorch\u001b[0m\u001b[0;34m.\u001b[0m\u001b[0mdistributions\u001b[0m\u001b[0;34m.\u001b[0m\u001b[0mcategorical\u001b[0m\u001b[0;34m.\u001b[0m\u001b[0mCategorical\u001b[0m\u001b[0;34m(\u001b[0m\u001b[0mlogits\u001b[0m\u001b[0;34m=\u001b[0m\u001b[0moutput_logit\u001b[0m\u001b[0;34m)\u001b[0m\u001b[0;34m\u001b[0m\u001b[0;34m\u001b[0m\u001b[0m\n\u001b[1;32m    146\u001b[0m \u001b[0;34m\u001b[0m\u001b[0m\n\u001b[0;32m--> 147\u001b[0;31m             \u001b[0msample\u001b[0m\u001b[0;34m=\u001b[0m\u001b[0moutput_dis_for_sample\u001b[0m\u001b[0;34m.\u001b[0m\u001b[0msample\u001b[0m\u001b[0;34m(\u001b[0m\u001b[0;34m[\u001b[0m\u001b[0msample_num\u001b[0m\u001b[0;34m]\u001b[0m\u001b[0;34m)\u001b[0m\u001b[0;34m.\u001b[0m\u001b[0mreshape\u001b[0m\u001b[0;34m(\u001b[0m\u001b[0;34m[\u001b[0m\u001b[0;34m-\u001b[0m\u001b[0;36m1\u001b[0m\u001b[0;34m,\u001b[0m\u001b[0;36m1\u001b[0m\u001b[0;34m]\u001b[0m\u001b[0;34m)\u001b[0m\u001b[0;34m\u001b[0m\u001b[0;34m\u001b[0m\u001b[0m\n\u001b[0m\u001b[1;32m    148\u001b[0m             \u001b[0mentropy\u001b[0m\u001b[0;34m=\u001b[0m\u001b[0;34m-\u001b[0m\u001b[0mtorch\u001b[0m\u001b[0;34m.\u001b[0m\u001b[0mmean\u001b[0m\u001b[0;34m(\u001b[0m\u001b[0mtorch\u001b[0m\u001b[0;34m.\u001b[0m\u001b[0mlog\u001b[0m\u001b[0;34m(\u001b[0m\u001b[0mtorch\u001b[0m\u001b[0;34m.\u001b[0m\u001b[0mmean\u001b[0m\u001b[0;34m(\u001b[0m\u001b[0mtorch\u001b[0m\u001b[0;34m.\u001b[0m\u001b[0mexp\u001b[0m\u001b[0;34m(\u001b[0m\u001b[0moutput_dis\u001b[0m\u001b[0;34m.\u001b[0m\u001b[0mlog_prob\u001b[0m\u001b[0;34m(\u001b[0m\u001b[0msample\u001b[0m\u001b[0;34m)\u001b[0m\u001b[0;34m)\u001b[0m\u001b[0;34m,\u001b[0m\u001b[0mdim\u001b[0m\u001b[0;34m=\u001b[0m\u001b[0;34m-\u001b[0m\u001b[0;36m1\u001b[0m\u001b[0;34m)\u001b[0m\u001b[0;34m)\u001b[0m\u001b[0;34m)\u001b[0m\u001b[0;34m\u001b[0m\u001b[0;34m\u001b[0m\u001b[0m\n\u001b[1;32m    149\u001b[0m         \u001b[0;32mreturn\u001b[0m \u001b[0mentropy\u001b[0m\u001b[0;34m\u001b[0m\u001b[0;34m\u001b[0m\u001b[0m\n",
      "\u001b[0;32m/usr/local/miniconda3/envs/mingtian/lib/python3.6/site-packages/torch/distributions/categorical.py\u001b[0m in \u001b[0;36msample\u001b[0;34m(self, sample_shape)\u001b[0m\n\u001b[1;32m     80\u001b[0m \u001b[0;34m\u001b[0m\u001b[0m\n\u001b[1;32m     81\u001b[0m     \u001b[0;32mdef\u001b[0m \u001b[0msample\u001b[0m\u001b[0;34m(\u001b[0m\u001b[0mself\u001b[0m\u001b[0;34m,\u001b[0m \u001b[0msample_shape\u001b[0m\u001b[0;34m=\u001b[0m\u001b[0mtorch\u001b[0m\u001b[0;34m.\u001b[0m\u001b[0mSize\u001b[0m\u001b[0;34m(\u001b[0m\u001b[0;34m)\u001b[0m\u001b[0;34m)\u001b[0m\u001b[0;34m:\u001b[0m\u001b[0;34m\u001b[0m\u001b[0;34m\u001b[0m\u001b[0m\n\u001b[0;32m---> 82\u001b[0;31m         \u001b[0msample_shape\u001b[0m \u001b[0;34m=\u001b[0m \u001b[0mself\u001b[0m\u001b[0;34m.\u001b[0m\u001b[0m_extended_shape\u001b[0m\u001b[0;34m(\u001b[0m\u001b[0msample_shape\u001b[0m\u001b[0;34m)\u001b[0m\u001b[0;34m\u001b[0m\u001b[0;34m\u001b[0m\u001b[0m\n\u001b[0m\u001b[1;32m     83\u001b[0m         \u001b[0mparam_shape\u001b[0m \u001b[0;34m=\u001b[0m \u001b[0msample_shape\u001b[0m \u001b[0;34m+\u001b[0m \u001b[0mtorch\u001b[0m\u001b[0;34m.\u001b[0m\u001b[0mSize\u001b[0m\u001b[0;34m(\u001b[0m\u001b[0;34m(\u001b[0m\u001b[0mself\u001b[0m\u001b[0;34m.\u001b[0m\u001b[0m_num_events\u001b[0m\u001b[0;34m,\u001b[0m\u001b[0;34m)\u001b[0m\u001b[0;34m)\u001b[0m\u001b[0;34m\u001b[0m\u001b[0;34m\u001b[0m\u001b[0m\n\u001b[1;32m     84\u001b[0m         \u001b[0mprobs\u001b[0m \u001b[0;34m=\u001b[0m \u001b[0mself\u001b[0m\u001b[0;34m.\u001b[0m\u001b[0mprobs\u001b[0m\u001b[0;34m.\u001b[0m\u001b[0mexpand\u001b[0m\u001b[0;34m(\u001b[0m\u001b[0mparam_shape\u001b[0m\u001b[0;34m)\u001b[0m\u001b[0;34m\u001b[0m\u001b[0;34m\u001b[0m\u001b[0m\n",
      "\u001b[0;32m/usr/local/miniconda3/envs/mingtian/lib/python3.6/site-packages/torch/distributions/distribution.py\u001b[0m in \u001b[0;36m_extended_shape\u001b[0;34m(self, sample_shape)\u001b[0m\n\u001b[1;32m    187\u001b[0m             \u001b[0msample_shape\u001b[0m \u001b[0;34m(\u001b[0m\u001b[0mtorch\u001b[0m\u001b[0;34m.\u001b[0m\u001b[0mSize\u001b[0m\u001b[0;34m)\u001b[0m\u001b[0;34m:\u001b[0m \u001b[0mthe\u001b[0m \u001b[0msize\u001b[0m \u001b[0mof\u001b[0m \u001b[0mthe\u001b[0m \u001b[0msample\u001b[0m \u001b[0mto\u001b[0m \u001b[0mbe\u001b[0m \u001b[0mdrawn\u001b[0m\u001b[0;34m.\u001b[0m\u001b[0;34m\u001b[0m\u001b[0;34m\u001b[0m\u001b[0m\n\u001b[1;32m    188\u001b[0m         \"\"\"\n\u001b[0;32m--> 189\u001b[0;31m         \u001b[0;32mreturn\u001b[0m \u001b[0mtorch\u001b[0m\u001b[0;34m.\u001b[0m\u001b[0mSize\u001b[0m\u001b[0;34m(\u001b[0m\u001b[0msample_shape\u001b[0m \u001b[0;34m+\u001b[0m \u001b[0mself\u001b[0m\u001b[0;34m.\u001b[0m\u001b[0m_batch_shape\u001b[0m \u001b[0;34m+\u001b[0m \u001b[0mself\u001b[0m\u001b[0;34m.\u001b[0m\u001b[0m_event_shape\u001b[0m\u001b[0;34m)\u001b[0m\u001b[0;34m\u001b[0m\u001b[0;34m\u001b[0m\u001b[0m\n\u001b[0m\u001b[1;32m    190\u001b[0m \u001b[0;34m\u001b[0m\u001b[0m\n\u001b[1;32m    191\u001b[0m     \u001b[0;32mdef\u001b[0m \u001b[0m_validate_sample\u001b[0m\u001b[0;34m(\u001b[0m\u001b[0mself\u001b[0m\u001b[0;34m,\u001b[0m \u001b[0mvalue\u001b[0m\u001b[0;34m)\u001b[0m\u001b[0;34m:\u001b[0m\u001b[0;34m\u001b[0m\u001b[0;34m\u001b[0m\u001b[0m\n",
      "\u001b[0;31mTypeError\u001b[0m: can only concatenate list (not \"torch.Size\") to list"
     ]
    }
   ],
   "source": [
    "\n",
    "\n",
    "print('nn',active_bnn_1.predictive_distribution_entropy_2(train_dict[6][1].to(opt['device'])))\n",
    "print('nn',active_bnn_1.predictive_distribution_entropy_2(train_dict[7][1].to(opt['device'])))\n",
    "print('nn',active_bnn_1.predictive_distribution_entropy_2(train_dict[8][1].to(opt['device'])))\n",
    "print('nn',active_bnn_1.predictive_distribution_entropy_2(train_dict[9][1].to(opt['device'])))\n",
    "print('ni',active_bnn_1.predictive_distribution_entropy_2(train_dict[1][20].to(opt['device'])))\n",
    "print('ni',active_bnn_1.predictive_distribution_entropy_2(train_dict[2][20].to(opt['device'])))\n",
    "print('ni',active_bnn_1.predictive_distribution_entropy_2(train_dict[3][20].to(opt['device'])))\n",
    "print('ni',active_bnn_1.predictive_distribution_entropy_2(train_dict[4][20].to(opt['device'])))\n",
    "print('i',active_bnn_1.predictive_distribution_entropy_2(train_dict[1][1].to(opt['device'])))\n",
    "print('i',active_bnn_1.predictive_distribution_entropy_2(train_dict[2][1].to(opt['device'])))\n",
    "print('i',active_bnn_1.predictive_distribution_entropy_2(train_dict[3][1].to(opt['device'])))\n",
    "print('i',active_bnn_1.predictive_distribution_entropy_2(train_dict[4][1].to(opt['device'])))"
   ]
  },
  {
   "cell_type": "code",
   "execution_count": 58,
   "metadata": {},
   "outputs": [
    {
     "ename": "RuntimeError",
     "evalue": "Expected object of type torch.cuda.FloatTensor but found type torch.FloatTensor for argument #2 'vec'",
     "output_type": "error",
     "traceback": [
      "\u001b[0;31m---------------------------------------------------------------------------\u001b[0m",
      "\u001b[0;31mRuntimeError\u001b[0m                              Traceback (most recent call last)",
      "\u001b[0;32m<ipython-input-58-bcf7093dbebc>\u001b[0m in \u001b[0;36m<module>\u001b[0;34m\u001b[0m\n\u001b[0;32m----> 1\u001b[0;31m \u001b[0mprint\u001b[0m\u001b[0;34m(\u001b[0m\u001b[0;34m'nn'\u001b[0m\u001b[0;34m,\u001b[0m\u001b[0mactive_bnn_1\u001b[0m\u001b[0;34m.\u001b[0m\u001b[0mpreactivation_entropy\u001b[0m\u001b[0;34m(\u001b[0m\u001b[0mtrain_dict\u001b[0m\u001b[0;34m[\u001b[0m\u001b[0;36m6\u001b[0m\u001b[0;34m]\u001b[0m\u001b[0;34m[\u001b[0m\u001b[0;36m1\u001b[0m\u001b[0;34m]\u001b[0m\u001b[0;34m.\u001b[0m\u001b[0mto\u001b[0m\u001b[0;34m(\u001b[0m\u001b[0mopt\u001b[0m\u001b[0;34m[\u001b[0m\u001b[0;34m'device'\u001b[0m\u001b[0;34m]\u001b[0m\u001b[0;34m)\u001b[0m\u001b[0;34m)\u001b[0m\u001b[0;34m)\u001b[0m\u001b[0;34m\u001b[0m\u001b[0;34m\u001b[0m\u001b[0m\n\u001b[0m\u001b[1;32m      2\u001b[0m \u001b[0mprint\u001b[0m\u001b[0;34m(\u001b[0m\u001b[0;34m'nn'\u001b[0m\u001b[0;34m,\u001b[0m\u001b[0mactive_bnn_1\u001b[0m\u001b[0;34m.\u001b[0m\u001b[0mpreactivation_entropy\u001b[0m\u001b[0;34m(\u001b[0m\u001b[0mtrain_dict\u001b[0m\u001b[0;34m[\u001b[0m\u001b[0;36m7\u001b[0m\u001b[0;34m]\u001b[0m\u001b[0;34m[\u001b[0m\u001b[0;36m1\u001b[0m\u001b[0;34m]\u001b[0m\u001b[0;34m.\u001b[0m\u001b[0mto\u001b[0m\u001b[0;34m(\u001b[0m\u001b[0mopt\u001b[0m\u001b[0;34m[\u001b[0m\u001b[0;34m'device'\u001b[0m\u001b[0;34m]\u001b[0m\u001b[0;34m)\u001b[0m\u001b[0;34m)\u001b[0m\u001b[0;34m)\u001b[0m\u001b[0;34m\u001b[0m\u001b[0;34m\u001b[0m\u001b[0m\n\u001b[1;32m      3\u001b[0m \u001b[0mprint\u001b[0m\u001b[0;34m(\u001b[0m\u001b[0;34m'nn'\u001b[0m\u001b[0;34m,\u001b[0m\u001b[0mactive_bnn_1\u001b[0m\u001b[0;34m.\u001b[0m\u001b[0mpreactivation_entropy\u001b[0m\u001b[0;34m(\u001b[0m\u001b[0mtrain_dict\u001b[0m\u001b[0;34m[\u001b[0m\u001b[0;36m8\u001b[0m\u001b[0;34m]\u001b[0m\u001b[0;34m[\u001b[0m\u001b[0;36m1\u001b[0m\u001b[0;34m]\u001b[0m\u001b[0;34m.\u001b[0m\u001b[0mto\u001b[0m\u001b[0;34m(\u001b[0m\u001b[0mopt\u001b[0m\u001b[0;34m[\u001b[0m\u001b[0;34m'device'\u001b[0m\u001b[0;34m]\u001b[0m\u001b[0;34m)\u001b[0m\u001b[0;34m)\u001b[0m\u001b[0;34m)\u001b[0m\u001b[0;34m\u001b[0m\u001b[0;34m\u001b[0m\u001b[0m\n\u001b[1;32m      4\u001b[0m \u001b[0mprint\u001b[0m\u001b[0;34m(\u001b[0m\u001b[0;34m'nn'\u001b[0m\u001b[0;34m,\u001b[0m\u001b[0mactive_bnn_1\u001b[0m\u001b[0;34m.\u001b[0m\u001b[0mpreactivation_entropy\u001b[0m\u001b[0;34m(\u001b[0m\u001b[0mtrain_dict\u001b[0m\u001b[0;34m[\u001b[0m\u001b[0;36m9\u001b[0m\u001b[0;34m]\u001b[0m\u001b[0;34m[\u001b[0m\u001b[0;36m1\u001b[0m\u001b[0;34m]\u001b[0m\u001b[0;34m.\u001b[0m\u001b[0mto\u001b[0m\u001b[0;34m(\u001b[0m\u001b[0mopt\u001b[0m\u001b[0;34m[\u001b[0m\u001b[0;34m'device'\u001b[0m\u001b[0;34m]\u001b[0m\u001b[0;34m)\u001b[0m\u001b[0;34m)\u001b[0m\u001b[0;34m)\u001b[0m\u001b[0;34m\u001b[0m\u001b[0;34m\u001b[0m\u001b[0m\n\u001b[1;32m      5\u001b[0m \u001b[0mprint\u001b[0m\u001b[0;34m(\u001b[0m\u001b[0;34m'ni'\u001b[0m\u001b[0;34m,\u001b[0m\u001b[0mactive_bnn_1\u001b[0m\u001b[0;34m.\u001b[0m\u001b[0mpreactivation_entropy\u001b[0m\u001b[0;34m(\u001b[0m\u001b[0mtrain_dict\u001b[0m\u001b[0;34m[\u001b[0m\u001b[0;36m1\u001b[0m\u001b[0;34m]\u001b[0m\u001b[0;34m[\u001b[0m\u001b[0;36m20\u001b[0m\u001b[0;34m]\u001b[0m\u001b[0;34m.\u001b[0m\u001b[0mto\u001b[0m\u001b[0;34m(\u001b[0m\u001b[0mopt\u001b[0m\u001b[0;34m[\u001b[0m\u001b[0;34m'device'\u001b[0m\u001b[0;34m]\u001b[0m\u001b[0;34m)\u001b[0m\u001b[0;34m)\u001b[0m\u001b[0;34m)\u001b[0m\u001b[0;34m\u001b[0m\u001b[0;34m\u001b[0m\u001b[0m\n",
      "\u001b[0;32m<ipython-input-53-3d3ad1a472af>\u001b[0m in \u001b[0;36mpreactivation_entropy\u001b[0;34m(self, x)\u001b[0m\n\u001b[1;32m    103\u001b[0m             \u001b[0mcov\u001b[0m\u001b[0;34m=\u001b[0m\u001b[0mself\u001b[0m\u001b[0;34m.\u001b[0m\u001b[0mq_L\u001b[0m\u001b[0;34m.\u001b[0m\u001b[0mto\u001b[0m\u001b[0;34m(\u001b[0m\u001b[0mself\u001b[0m\u001b[0;34m.\u001b[0m\u001b[0mdevice\u001b[0m\u001b[0;34m)\u001b[0m\u001b[0;34m@\u001b[0m\u001b[0mself\u001b[0m\u001b[0;34m.\u001b[0m\u001b[0mq_L\u001b[0m\u001b[0;34m.\u001b[0m\u001b[0mto\u001b[0m\u001b[0;34m(\u001b[0m\u001b[0mself\u001b[0m\u001b[0;34m.\u001b[0m\u001b[0mdevice\u001b[0m\u001b[0;34m)\u001b[0m\u001b[0;34m.\u001b[0m\u001b[0mt\u001b[0m\u001b[0;34m(\u001b[0m\u001b[0;34m)\u001b[0m\u001b[0;34m+\u001b[0m\u001b[0mtorch\u001b[0m\u001b[0;34m.\u001b[0m\u001b[0mdiag\u001b[0m\u001b[0;34m(\u001b[0m\u001b[0mtorch\u001b[0m\u001b[0;34m.\u001b[0m\u001b[0mones\u001b[0m\u001b[0;34m(\u001b[0m\u001b[0mself\u001b[0m\u001b[0;34m.\u001b[0m\u001b[0mlast_weight_dim\u001b[0m\u001b[0;34m)\u001b[0m\u001b[0;34m.\u001b[0m\u001b[0mto\u001b[0m\u001b[0;34m(\u001b[0m\u001b[0mself\u001b[0m\u001b[0;34m.\u001b[0m\u001b[0mdevice\u001b[0m\u001b[0;34m)\u001b[0m\u001b[0;34m)\u001b[0m\u001b[0;34m*\u001b[0m\u001b[0mself\u001b[0m\u001b[0;34m.\u001b[0m\u001b[0mq_sigma\u001b[0m\u001b[0;34m.\u001b[0m\u001b[0mto\u001b[0m\u001b[0;34m(\u001b[0m\u001b[0mself\u001b[0m\u001b[0;34m.\u001b[0m\u001b[0mdevice\u001b[0m\u001b[0;34m)\u001b[0m\u001b[0;34m\u001b[0m\u001b[0;34m\u001b[0m\u001b[0m\n\u001b[1;32m    104\u001b[0m             \u001b[0mtransformed_cov\u001b[0m\u001b[0;34m=\u001b[0m\u001b[0mleft\u001b[0m\u001b[0;34m@\u001b[0m\u001b[0mcov\u001b[0m\u001b[0;34m@\u001b[0m\u001b[0;34m(\u001b[0m\u001b[0mleft\u001b[0m\u001b[0;34m.\u001b[0m\u001b[0mt\u001b[0m\u001b[0;34m(\u001b[0m\u001b[0;34m)\u001b[0m\u001b[0;34m)\u001b[0m\u001b[0;34m\u001b[0m\u001b[0;34m\u001b[0m\u001b[0m\n\u001b[0;32m--> 105\u001b[0;31m             \u001b[0mmean\u001b[0m\u001b[0;34m=\u001b[0m\u001b[0mfeature_of_data\u001b[0m\u001b[0;34m@\u001b[0m\u001b[0mself\u001b[0m\u001b[0;34m.\u001b[0m\u001b[0mq_mu\u001b[0m\u001b[0;34m.\u001b[0m\u001b[0mview\u001b[0m\u001b[0;34m(\u001b[0m\u001b[0mself\u001b[0m\u001b[0;34m.\u001b[0m\u001b[0mfeature_dim\u001b[0m\u001b[0;34m,\u001b[0m\u001b[0;36m10\u001b[0m\u001b[0;34m)\u001b[0m\u001b[0;34m.\u001b[0m\u001b[0mview\u001b[0m\u001b[0;34m(\u001b[0m\u001b[0;34m-\u001b[0m\u001b[0;36m1\u001b[0m\u001b[0;34m)\u001b[0m\u001b[0;34m\u001b[0m\u001b[0;34m\u001b[0m\u001b[0m\n\u001b[0m\u001b[1;32m    106\u001b[0m \u001b[0;34m\u001b[0m\u001b[0m\n\u001b[1;32m    107\u001b[0m             \u001b[0mprint\u001b[0m\u001b[0;34m(\u001b[0m\u001b[0mmean\u001b[0m\u001b[0;34m.\u001b[0m\u001b[0msize\u001b[0m\u001b[0;34m(\u001b[0m\u001b[0;34m)\u001b[0m\u001b[0;34m)\u001b[0m\u001b[0;34m\u001b[0m\u001b[0;34m\u001b[0m\u001b[0m\n",
      "\u001b[0;31mRuntimeError\u001b[0m: Expected object of type torch.cuda.FloatTensor but found type torch.FloatTensor for argument #2 'vec'"
     ]
    }
   ],
   "source": [
    "print('nn',active_bnn_1.preactivation_entropy(train_dict[6][1].to(opt['device'])))\n",
    "print('nn',active_bnn_1.preactivation_entropy(train_dict[7][1].to(opt['device'])))\n",
    "print('nn',active_bnn_1.preactivation_entropy(train_dict[8][1].to(opt['device'])))\n",
    "print('nn',active_bnn_1.preactivation_entropy(train_dict[9][1].to(opt['device'])))\n",
    "print('ni',active_bnn_1.preactivation_entropy(train_dict[1][20].to(opt['device'])))\n",
    "print('ni',active_bnn_1.preactivation_entropy(train_dict[2][20].to(opt['device'])))\n",
    "print('ni',active_bnn_1.preactivation_entropy(train_dict[3][20].to(opt['device'])))\n",
    "print('ni',active_bnn_1.preactivation_entropy(train_dict[4][20].to(opt['device'])))\n",
    "print('i',active_bnn_1.preactivation_entropy(train_dict[1][1].to(opt['device'])))\n",
    "print('i',active_bnn_1.preactivation_entropy(train_dict[2][1].to(opt['device'])))\n",
    "print('i',active_bnn_1.preactivation_entropy(train_dict[3][1].to(opt['device'])))\n",
    "print('i',active_bnn_1.preactivation_entropy(train_dict[4][1].to(opt['device'])))"
   ]
  },
  {
   "cell_type": "code",
   "execution_count": 59,
   "metadata": {},
   "outputs": [
    {
     "name": "stdout",
     "output_type": "stream",
     "text": [
      "nn tensor([ 6.3728])\n",
      "nn tensor([ 9.7771])\n",
      "nn tensor([ 9.8061])\n",
      "nn tensor([ 15.2902])\n",
      "ni tensor([ 26.8910])\n",
      "ni tensor([ 24.0951])\n",
      "ni tensor([ 18.9253])\n",
      "ni tensor([ 28.4998])\n",
      "i tensor([ 25.6625])\n",
      "i tensor([ 23.3338])\n",
      "i tensor([ 23.5587])\n",
      "i tensor([ 25.7810])\n"
     ]
    }
   ],
   "source": [
    "print('nn',active_bnn_1.preactivation_entropy_batch(train_dict[6][1].to(opt['device'])))\n",
    "print('nn',active_bnn_1.preactivation_entropy_batch(train_dict[7][1].to(opt['device'])))\n",
    "print('nn',active_bnn_1.preactivation_entropy_batch(train_dict[8][1].to(opt['device'])))\n",
    "print('nn',active_bnn_1.preactivation_entropy_batch(train_dict[9][1].to(opt['device'])))\n",
    "print('ni',active_bnn_1.preactivation_entropy_batch(train_dict[1][20].to(opt['device'])))\n",
    "print('ni',active_bnn_1.preactivation_entropy_batch(train_dict[2][20].to(opt['device'])))\n",
    "print('ni',active_bnn_1.preactivation_entropy_batch(train_dict[3][20].to(opt['device'])))\n",
    "print('ni',active_bnn_1.preactivation_entropy_batch(train_dict[4][20].to(opt['device'])))\n",
    "print('i',active_bnn_1.preactivation_entropy_batch(train_dict[1][1].to(opt['device'])))\n",
    "print('i',active_bnn_1.preactivation_entropy_batch(train_dict[2][1].to(opt['device'])))\n",
    "print('i',active_bnn_1.preactivation_entropy_batch(train_dict[3][1].to(opt['device'])))\n",
    "print('i',active_bnn_1.preactivation_entropy_batch(train_dict[4][1].to(opt['device'])))"
   ]
  },
  {
   "cell_type": "code",
   "execution_count": null,
   "metadata": {},
   "outputs": [],
   "source": [
    "plt.imshow(train_dict[6][1].reshape(28,28))"
   ]
  },
  {
   "cell_type": "code",
   "execution_count": null,
   "metadata": {},
   "outputs": [],
   "source": [
    "# active_bnn_1 = Net(feature_dim=200,q_rank=10).to(opt['device'])\n",
    "for i in range(0,1):\n",
    "    x_new=train_dict[6][1].view(-1,1,28,28).to(opt['device'])\n",
    "    label_new=torch.tensor([6]).to(opt['device'])\n",
    "    active_bnn_1.online_train(x_new,label_new,sample_num=10,iteration=1000)\n",
    "#     active_bnn_1.online_train(initial_train_data_tensor.to(opt['device']),initial_train_label_tensor.to(opt['device']),sample_num=10,iteration=1000)\n",
    "    print('entropy',active_bnn_1.predictive_distribution_entropy_batch(train_dict[6][1].to(opt['device'])))\n",
    "    likelihood_of_initial_dataset,accuracy=active_bnn_1.likelihood_eva(initial_train_data_tensor.to(opt['device']),initial_train_label_tensor.to(opt['device']))\n",
    "    print('lieklihood',likelihood_of_initial_dataset)\n",
    "    print('accuracy',accuracy)"
   ]
  },
  {
   "cell_type": "code",
   "execution_count": null,
   "metadata": {},
   "outputs": [],
   "source": [
    "print('nn',active_bnn_1.predictive_distribution_entropy_batch(train_dict[6][1].to(opt['device'])))\n",
    "print('nn',active_bnn_1.predictive_distribution_entropy_batch(train_dict[7][1].to(opt['device'])))\n",
    "print('nn',active_bnn_1.predictive_distribution_entropy_batch(train_dict[8][1].to(opt['device'])))\n",
    "print('nn',active_bnn_1.predictive_distribution_entropy_batch(train_dict[9][1].to(opt['device'])))\n",
    "print('ni',active_bnn_1.predictive_distribution_entropy_batch(train_dict[1][20].to(opt['device'])))\n",
    "print('ni',active_bnn_1.predictive_distribution_entropy_batch(train_dict[2][20].to(opt['device'])))\n",
    "print('ni',active_bnn_1.predictive_distribution_entropy_batch(train_dict[3][20].to(opt['device'])))\n",
    "print('ni',active_bnn_1.predictive_distribution_entropy_batch(train_dict[4][20].to(opt['device'])))\n",
    "print('i',active_bnn_1.predictive_distribution_entropy_batch(train_dict[1][1].to(opt['device'])))\n",
    "print('i',active_bnn_1.predictive_distribution_entropy_batch(train_dict[2][1].to(opt['device'])))\n",
    "print('i',active_bnn_1.predictive_distribution_entropy_batch(train_dict[3][1].to(opt['device'])))\n",
    "print('i',active_bnn_1.predictive_distribution_entropy_batch(train_dict[4][1].to(opt['device'])))"
   ]
  },
  {
   "cell_type": "code",
   "execution_count": null,
   "metadata": {},
   "outputs": [],
   "source": [
    "# active_bnn_1 = Net(feature_dim=200,q_rank=100)\n",
    "for i in range(0,1):\n",
    "    x_new=train_dict[6][1].view(-1,1,28,28).to(opt['device'])\n",
    "    label_new=torch.tensor([1]).to(opt['device'])\n",
    "    active_bnn_1.online_train(x_new,label_new,sample_num=30,iteration=500)\n",
    "    print('entropy',active_bnn_1.predictive_distribution_entropy_batch(train_dict[7][1].to(opt['device'])))\n",
    "    likelihood_of_initial_dataset,accuracy=active_bnn_1.likelihood_eva(initial_train_data_tensor.to(opt['device']),initial_train_label_tensor.to(opt['device']))\n",
    "    print('lieklihood',likelihood_of_initial_dataset)\n",
    "    print('accuracy',accuracy)"
   ]
  },
  {
   "cell_type": "code",
   "execution_count": null,
   "metadata": {},
   "outputs": [],
   "source": [
    "print('nn',active_bnn_1.predictive_distribution_entropy_batch(train_dict[6][1].to(opt['device'])))\n",
    "print('nn',active_bnn_1.predictive_distribution_entropy_batch(train_dict[7][1].to(opt['device'])))\n",
    "print('nn',active_bnn_1.predictive_distribution_entropy_batch(train_dict[8][1].to(opt['device'])))\n",
    "print('nn',active_bnn_1.predictive_distribution_entropy_batch(train_dict[9][1].to(opt['device'])))\n",
    "print('ni',active_bnn_1.predictive_distribution_entropy_batch(train_dict[1][20].to(opt['device'])))\n",
    "print('ni',active_bnn_1.predictive_distribution_entropy_batch(train_dict[2][20].to(opt['device'])))\n",
    "print('ni',active_bnn_1.predictive_distribution_entropy_batch(train_dict[3][20].to(opt['device'])))\n",
    "print('ni',active_bnn_1.predictive_distribution_entropy_batch(train_dict[4][20].to(opt['device'])))\n",
    "print('i',active_bnn_1.predictive_distribution_entropy_batch(train_dict[1][1].to(opt['device'])))\n",
    "print('i',active_bnn_1.predictive_distribution_entropy_batch(train_dict[2][1].to(opt['device'])))\n",
    "print('i',active_bnn_1.predictive_distribution_entropy_batch(train_dict[3][1].to(opt['device'])))\n",
    "print('i',active_bnn_1.predictive_distribution_entropy_batch(train_dict[4][1].to(opt['device'])))"
   ]
  },
  {
   "cell_type": "code",
   "execution_count": null,
   "metadata": {},
   "outputs": [],
   "source": [
    "for i in range(0,10):\n",
    "    x_new=train_dict[8][21].view(-1,1,28,28)\n",
    "    label_new=torch.tensor([8])\n",
    "    active_bnn_1.online_train(x_new,label_new)\n",
    "    print('entropy',active_bnn_1.predictive_distribution_entropy_2(train_dict[8][20]))\n",
    "    likelihood_of_initial_dataset,accuracy=active_bnn_1.likelihood_eva(initial_train_data_tensor,initial_train_label_tensor)\n",
    "    print('lieklihood',likelihood_of_initial_dataset)\n",
    "    print('accuracy',accuracy)"
   ]
  },
  {
   "cell_type": "code",
   "execution_count": null,
   "metadata": {},
   "outputs": [],
   "source": [
    "print(active_bnn_1.predictive_distribution_entropy_2(train_dict[6][20]))\n",
    "print(active_bnn_1.predictive_distribution_entropy_2(train_dict[8][20]))\n",
    "print(active_bnn_1.predictive_distribution_entropy_2(train_dict[8][21]))\n",
    "print(active_bnn_1.predictive_distribution_entropy_2(train_dict[1][20]))\n",
    "print(active_bnn_1.predictive_distribution_entropy_2(train_dict[1][1]))\n",
    "print(active_bnn_1.predictive_distribution_entropy_2(train_dict[0][1]))\n",
    "print(active_bnn_1.predictive_distribution_entropy_2(train_dict[4][1]))\n",
    "print(active_bnn_1.predictive_distribution_entropy_2(train_dict[4][16]))\n",
    "print(active_bnn_1.predictive_distribution_entropy_2(train_dict[4][15]))"
   ]
  },
  {
   "cell_type": "code",
   "execution_count": null,
   "metadata": {},
   "outputs": [],
   "source": [
    "x_new=train_dict[4][16].view(-1,1,28,28)\n",
    "label_new=torch.tensor([4])\n",
    "active_bnn_1.online_train(x_new,label_new)"
   ]
  },
  {
   "cell_type": "code",
   "execution_count": null,
   "metadata": {},
   "outputs": [],
   "source": [
    "print(active_bnn_1.predictive_distribution_entropy_2(train_dict[6][20]))\n",
    "print(active_bnn_1.predictive_distribution_entropy_2(train_dict[8][20]))\n",
    "print(active_bnn_1.predictive_distribution_entropy_2(train_dict[8][21]))\n",
    "print(active_bnn_1.predictive_distribution_entropy_2(train_dict[1][20]))\n",
    "print(active_bnn_1.predictive_distribution_entropy_2(train_dict[1][1]))\n",
    "print(active_bnn_1.predictive_distribution_entropy_2(train_dict[0][1]))\n",
    "print(active_bnn_1.predictive_distribution_entropy_2(train_dict[4][1]))\n",
    "print(active_bnn_1.predictive_distribution_entropy_2(train_dict[4][16]))\n",
    "print(active_bnn_1.predictive_distribution_entropy_2(train_dict[4][15]))"
   ]
  },
  {
   "cell_type": "code",
   "execution_count": null,
   "metadata": {},
   "outputs": [],
   "source": [
    "active_bnn_1 = Net(feature_dim=50,q_rank=100)\n",
    "nelbo_1=active_bnn_1.pre_train(initial_train_data_tensor,initial_train_label_tensor)"
   ]
  },
  {
   "cell_type": "code",
   "execution_count": null,
   "metadata": {},
   "outputs": [],
   "source": [
    "x_new=train_dict[4][16].view(-1,1,28,28)\n",
    "label_new=torch.tensor([4])\n",
    "\n",
    "active_bnn_1.online_train(x_new,label_new)"
   ]
  },
  {
   "cell_type": "code",
   "execution_count": null,
   "metadata": {},
   "outputs": [],
   "source": [
    "print(active_bnn_1.predictive_distribution_entropy_2(train_dict[6][20]))\n",
    "print(active_bnn_1.predictive_distribution_entropy_2(train_dict[8][20]))\n",
    "print(active_bnn_1.predictive_distribution_entropy_2(train_dict[8][21]))\n",
    "print(active_bnn_1.predictive_distribution_entropy_2(train_dict[1][20]))\n",
    "print(active_bnn_1.predictive_distribution_entropy_2(train_dict[1][1]))\n",
    "print(active_bnn_1.predictive_distribution_entropy_2(train_dict[0][1]))\n",
    "print(active_bnn_1.predictive_distribution_entropy_2(train_dict[4][1]))\n",
    "print(active_bnn_1.predictive_distribution_entropy_2(train_dict[4][16]))\n",
    "print(active_bnn_1.predictive_distribution_entropy_2(train_dict[4][15]))"
   ]
  },
  {
   "cell_type": "code",
   "execution_count": null,
   "metadata": {},
   "outputs": [],
   "source": [
    "x_new=train_dict[8][20].view(-1,1,28,28)\n",
    "label_new=torch.tensor([8])\n",
    "\n",
    "active_bnn_1.online_train(x_new,label_new)"
   ]
  },
  {
   "cell_type": "code",
   "execution_count": null,
   "metadata": {},
   "outputs": [],
   "source": [
    "print(active_bnn_1.predictive_distribution_entropy_2(train_dict[6][20]))\n",
    "print(active_bnn_1.predictive_distribution_entropy_2(train_dict[8][20]))\n",
    "print(active_bnn_1.predictive_distribution_entropy_2(train_dict[8][21]))\n",
    "print(active_bnn_1.predictive_distribution_entropy_2(train_dict[1][20]))\n",
    "print(active_bnn_1.predictive_distribution_entropy_2(train_dict[1][1]))\n",
    "print(active_bnn_1.predictive_distribution_entropy_2(train_dict[0][1]))\n",
    "print(active_bnn_1.predictive_distribution_entropy_2(train_dict[4][1]))\n",
    "print(active_bnn_1.predictive_distribution_entropy_2(train_dict[4][16]))\n",
    "print(active_bnn_1.predictive_distribution_entropy_2(train_dict[4][15]))"
   ]
  },
  {
   "cell_type": "code",
   "execution_count": null,
   "metadata": {},
   "outputs": [],
   "source": [
    "x_new=train_dict[1][20].view(-1,1,28,28)\n",
    "label_new=torch.tensor([1])\n",
    "\n",
    "active_bnn_1.online_train(x_new,label_new)"
   ]
  },
  {
   "cell_type": "code",
   "execution_count": null,
   "metadata": {},
   "outputs": [],
   "source": [
    "print(active_bnn_1.predictive_distribution_entropy_2(train_dict[6][20]))\n",
    "print(active_bnn_1.predictive_distribution_entropy_2(train_dict[8][20]))\n",
    "print(active_bnn_1.predictive_distribution_entropy_2(train_dict[8][21]))\n",
    "print(active_bnn_1.predictive_distribution_entropy_2(train_dict[1][20]))\n",
    "print(active_bnn_1.predictive_distribution_entropy_2(train_dict[1][1]))\n",
    "print(active_bnn_1.predictive_distribution_entropy_2(train_dict[0][1]))\n",
    "print(active_bnn_1.predictive_distribution_entropy_2(train_dict[4][1]))\n",
    "print(active_bnn_1.predictive_distribution_entropy_2(train_dict[4][16]))\n",
    "print(active_bnn_1.predictive_distribution_entropy_2(train_dict[4][15]))"
   ]
  },
  {
   "cell_type": "code",
   "execution_count": null,
   "metadata": {},
   "outputs": [],
   "source": [
    "x_new=train_dict[8][20].view(-1,1,28,28)\n",
    "label_new=torch.tensor([8])\n",
    "\n",
    "active_bnn_1.online_train(x_new,label_new)"
   ]
  },
  {
   "cell_type": "code",
   "execution_count": null,
   "metadata": {},
   "outputs": [],
   "source": [
    "x_new=train_dict[4][16].view(-1,1,28,28)\n",
    "label_new=torch.tensor([4])\n",
    "\n",
    "active_bnn_1.online_train(x_new,label_new)"
   ]
  },
  {
   "cell_type": "code",
   "execution_count": null,
   "metadata": {},
   "outputs": [],
   "source": [
    "print(active_bnn_1.predictive_distribution_entropy_2(train_dict[6][20]))\n",
    "print(active_bnn_1.predictive_distribution_entropy_2(train_dict[8][20]))\n",
    "print(active_bnn_1.predictive_distribution_entropy_2(train_dict[8][21]))\n",
    "print(active_bnn_1.predictive_distribution_entropy_2(train_dict[8][22]))\n",
    "print(active_bnn_1.predictive_distribution_entropy_2(train_dict[8][23]))\n",
    "print(active_bnn_1.predictive_distribution_entropy_2(train_dict[1][20]))\n",
    "print(active_bnn_1.predictive_distribution_entropy_2(train_dict[1][1]))\n",
    "print(active_bnn_1.predictive_distribution_entropy_2(train_dict[0][1]))\n",
    "print(active_bnn_1.predictive_distribution_entropy_2(train_dict[4][1]))\n",
    "print(active_bnn_1.predictive_distribution_entropy_2(train_dict[4][16]))\n",
    "print(active_bnn_1.predictive_distribution_entropy_2(train_dict[4][15]))"
   ]
  },
  {
   "cell_type": "code",
   "execution_count": null,
   "metadata": {},
   "outputs": [],
   "source": [
    "x_new=train_dict[8][20].view(-1,1,28,28)\n",
    "label_new=torch.tensor([8])\n",
    "\n",
    "active_bnn_1.online_train(x_new,label_new)"
   ]
  },
  {
   "cell_type": "code",
   "execution_count": null,
   "metadata": {},
   "outputs": [],
   "source": [
    "print(active_bnn_1.predictive_distribution_entropy_2(train_dict[6][20]))\n",
    "print(active_bnn_1.predictive_distribution_entropy_2(train_dict[8][20]))\n",
    "print(active_bnn_1.predictive_distribution_entropy_2(train_dict[8][21]))\n",
    "print(active_bnn_1.predictive_distribution_entropy_2(train_dict[8][22]))\n",
    "print(active_bnn_1.predictive_distribution_entropy_2(train_dict[8][23]))\n",
    "print(active_bnn_1.predictive_distribution_entropy_2(train_dict[1][20]))\n",
    "print(active_bnn_1.predictive_distribution_entropy_2(train_dict[1][1]))\n",
    "print(active_bnn_1.predictive_distribution_entropy_2(train_dict[0][1]))\n",
    "print(active_bnn_1.predictive_distribution_entropy_2(train_dict[4][1]))\n",
    "print(active_bnn_1.predictive_distribution_entropy_2(train_dict[4][16]))\n",
    "print(active_bnn_1.predictive_distribution_entropy_2(train_dict[4][15]))"
   ]
  },
  {
   "cell_type": "code",
   "execution_count": null,
   "metadata": {},
   "outputs": [],
   "source": [
    "x_new=train_dict[8][20].view(-1,1,28,28)\n",
    "label_new=torch.tensor([8])\n",
    "\n",
    "active_bnn_2.online_train(x_new,label_new)"
   ]
  },
  {
   "cell_type": "code",
   "execution_count": null,
   "metadata": {},
   "outputs": [],
   "source": [
    "print(active_bnn_1.predictive_distribution_entropy_2(train_dict[6][20]))\n",
    "print(active_bnn_1.predictive_distribution_entropy_2(train_dict[8][20]))\n",
    "print(active_bnn_1.predictive_distribution_entropy_2(train_dict[8][21]))\n",
    "print(active_bnn_1.predictive_distribution_entropy_2(train_dict[8][22]))\n",
    "print(active_bnn_1.predictive_distribution_entropy_2(train_dict[8][23]))\n",
    "print(active_bnn_1.predictive_distribution_entropy_2(train_dict[1][20]))\n",
    "print(active_bnn_1.predictive_distribution_entropy_2(train_dict[1][1]))\n",
    "print(active_bnn_1.predictive_distribution_entropy_2(train_dict[0][1]))\n",
    "print(active_bnn_1.predictive_distribution_entropy_2(train_dict[4][1]))\n",
    "print(active_bnn_1.predictive_distribution_entropy_2(train_dict[4][16]))\n",
    "print(active_bnn_1.predictive_distribution_entropy_2(train_dict[4][15]))"
   ]
  },
  {
   "cell_type": "code",
   "execution_count": null,
   "metadata": {},
   "outputs": [],
   "source": [
    "x_new=train_dict[8][22].view(-1,1,28,28)\n",
    "label_new=torch.tensor([8])\n",
    "\n",
    "active_bnn_2.online_train(x_new,label_new)"
   ]
  },
  {
   "cell_type": "code",
   "execution_count": null,
   "metadata": {},
   "outputs": [],
   "source": [
    "print(active_bnn_1.predictive_distribution_entropy_2(train_dict[6][20]))\n",
    "print(active_bnn_1.predictive_distribution_entropy_2(train_dict[8][20]))\n",
    "print(active_bnn_1.predictive_distribution_entropy_2(train_dict[8][21]))\n",
    "print(active_bnn_1.predictive_distribution_entropy_2(train_dict[8][22]))\n",
    "print(active_bnn_1.predictive_distribution_entropy_2(train_dict[8][23]))\n",
    "print(active_bnn_1.predictive_distribution_entropy_2(train_dict[1][20]))\n",
    "print(active_bnn_1.predictive_distribution_entropy_2(train_dict[1][1]))\n",
    "print(active_bnn_1.predictive_distribution_entropy_2(train_dict[0][1]))\n",
    "print(active_bnn_1.predictive_distribution_entropy_2(train_dict[4][1]))\n",
    "print(active_bnn_1.predictive_distribution_entropy_2(train_dict[4][16]))\n",
    "print(active_bnn_1.predictive_distribution_entropy_2(train_dict[4][15]))"
   ]
  },
  {
   "cell_type": "code",
   "execution_count": null,
   "metadata": {},
   "outputs": [],
   "source": [
    "active_bnn_2 = Net(q_rank=2)\n",
    "nelbo_2=active_bnn_2.pre_train(initial_train_data_tensor,initial_train_label_tensor)"
   ]
  },
  {
   "cell_type": "code",
   "execution_count": null,
   "metadata": {},
   "outputs": [],
   "source": [
    "print(active_bnn_2.predictive_distribution_entropy_2(train_dict[6][20]))\n",
    "print(active_bnn_2.predictive_distribution_entropy_2(train_dict[8][20]))\n",
    "print(active_bnn_2.predictive_distribution_entropy_2(train_dict[8][21]))\n",
    "print(active_bnn_2.predictive_distribution_entropy_2(train_dict[8][22]))\n",
    "print(active_bnn_2.predictive_distribution_entropy_2(train_dict[8][23]))\n",
    "print(active_bnn_2.predictive_distribution_entropy_2(train_dict[1][20]))\n",
    "print(active_bnn_2.predictive_distribution_entropy_2(train_dict[1][1]))\n",
    "print(active_bnn_2.predictive_distribution_entropy_2(train_dict[0][1]))\n",
    "print(active_bnn_2.predictive_distribution_entropy_2(train_dict[4][1]))\n",
    "print(active_bnn_2.predictive_distribution_entropy_2(train_dict[4][16]))\n",
    "print(active_bnn_2.predictive_distribution_entropy_2(train_dict[4][15]))"
   ]
  },
  {
   "cell_type": "code",
   "execution_count": null,
   "metadata": {},
   "outputs": [],
   "source": [
    "active_bnn_3 = Net(q_rank=3)\n",
    "nelbo_3=active_bnn_3.pre_train(initial_train_data_tensor,initial_train_label_tensor)"
   ]
  },
  {
   "cell_type": "code",
   "execution_count": null,
   "metadata": {},
   "outputs": [],
   "source": [
    "active_bnn_10 = Net(q_rank=10)\n",
    "nelbo_10=active_bnn_10.pre_train(initial_train_data_tensor,initial_train_label_tensor)"
   ]
  },
  {
   "cell_type": "code",
   "execution_count": null,
   "metadata": {},
   "outputs": [],
   "source": [
    "print(active_bnn_10.predictive_distribution_entropy_2(train_dict[6][20]))\n",
    "print(active_bnn_10.predictive_distribution_entropy_2(train_dict[8][20]))\n",
    "print(active_bnn_10.predictive_distribution_entropy_2(train_dict[8][21]))\n",
    "print(active_bnn_10.predictive_distribution_entropy_2(train_dict[8][22]))\n",
    "print(active_bnn_10.predictive_distribution_entropy_2(train_dict[8][23]))\n",
    "print(active_bnn_10.predictive_distribution_entropy_2(train_dict[1][20]))\n",
    "print(active_bnn_10.predictive_distribution_entropy_2(train_dict[1][1]))\n",
    "print(active_bnn_10.predictive_distribution_entropy_2(train_dict[0][1]))\n",
    "print(active_bnn_10.predictive_distribution_entropy_2(train_dict[4][1]))\n",
    "print(active_bnn_10.predictive_distribution_entropy_2(train_dict[4][16]))\n",
    "print(active_bnn_10.predictive_distribution_entropy_2(train_dict[4][15]))"
   ]
  },
  {
   "cell_type": "code",
   "execution_count": null,
   "metadata": {},
   "outputs": [],
   "source": [
    "x_new=train_dict[8][20].view(-1,1,28,28)\n",
    "label_new=torch.tensor([8])\n",
    "\n",
    "active_bnn_10.online_train(x_new,label_new)"
   ]
  },
  {
   "cell_type": "code",
   "execution_count": null,
   "metadata": {},
   "outputs": [],
   "source": [
    "print(active_bnn_10.predictive_distribution_entropy_2(train_dict[6][20]))\n",
    "print(active_bnn_10.predictive_distribution_entropy_2(train_dict[8][20]))\n",
    "print(active_bnn_10.predictive_distribution_entropy_2(train_dict[8][21]))\n",
    "print(active_bnn_10.predictive_distribution_entropy_2(train_dict[8][22]))\n",
    "print(active_bnn_10.predictive_distribution_entropy_2(train_dict[8][23]))\n",
    "print(active_bnn_10.predictive_distribution_entropy_2(train_dict[1][20]))\n",
    "print(active_bnn_10.predictive_distribution_entropy_2(train_dict[1][1]))\n",
    "print(active_bnn_10.predictive_distribution_entropy_2(train_dict[0][1]))\n",
    "print(active_bnn_10.predictive_distribution_entropy_2(train_dict[4][1]))\n",
    "print(active_bnn_10.predictive_distribution_entropy_2(train_dict[4][16]))\n",
    "print(active_bnn_10.predictive_distribution_entropy_2(train_dict[4][15]))"
   ]
  },
  {
   "cell_type": "code",
   "execution_count": null,
   "metadata": {},
   "outputs": [],
   "source": [
    "x_new=train_dict[8][21].view(-1,1,28,28)\n",
    "label_new=torch.tensor([8])\n",
    "\n",
    "active_bnn_10.online_train(x_new,label_new)"
   ]
  },
  {
   "cell_type": "code",
   "execution_count": null,
   "metadata": {},
   "outputs": [],
   "source": [
    "print(active_bnn_10.predictive_distribution_entropy_2(train_dict[6][20]))\n",
    "print(active_bnn_10.predictive_distribution_entropy_2(train_dict[8][20]))\n",
    "print(active_bnn_10.predictive_distribution_entropy_2(train_dict[8][21]))\n",
    "print(active_bnn_10.predictive_distribution_entropy_2(train_dict[8][22]))\n",
    "print(active_bnn_10.predictive_distribution_entropy_2(train_dict[8][23]))\n",
    "print(active_bnn_10.predictive_distribution_entropy_2(train_dict[1][20]))\n",
    "print(active_bnn_10.predictive_distribution_entropy_2(train_dict[1][1]))\n",
    "print(active_bnn_10.predictive_distribution_entropy_2(train_dict[0][1]))\n",
    "print(active_bnn_10.predictive_distribution_entropy_2(train_dict[4][1]))\n",
    "print(active_bnn_10.predictive_distribution_entropy_2(train_dict[4][16]))\n",
    "print(active_bnn_10.predictive_distribution_entropy_2(train_dict[4][15]))"
   ]
  },
  {
   "cell_type": "code",
   "execution_count": null,
   "metadata": {},
   "outputs": [],
   "source": [
    "active_bnn_50 = Net(q_rank=50)\n",
    "nelbo_50=active_bnn_50.pre_train(initial_train_data_tensor,initial_train_label_tensor)"
   ]
  },
  {
   "cell_type": "code",
   "execution_count": null,
   "metadata": {},
   "outputs": [],
   "source": [
    "plt.plot(nelbo_50,label='50')\n",
    "plt.plot(nelbo_10,label='10')\n",
    "plt.plot(nelbo_3,label='3')\n",
    "plt.plot(nelbo_2,label='2')\n",
    "plt.plot(nelbo_1,label='1')\n",
    "\n",
    "plt.legend()\n",
    "plt.show()"
   ]
  },
  {
   "cell_type": "code",
   "execution_count": null,
   "metadata": {},
   "outputs": [],
   "source": [
    "print(active_bnn_1.predictive_distribution_entropy_2(train_dict[6][20]))\n",
    "print(active_bnn_1.predictive_distribution_entropy_2(train_dict[8][20]))\n",
    "print(active_bnn_1.predictive_distribution_entropy_2(train_dict[8][21]))\n",
    "print(active_bnn_1.predictive_distribution_entropy_2(train_dict[1][20]))\n",
    "print(active_bnn_1.predictive_distribution_entropy_2(train_dict[1][1]))\n",
    "print(active_bnn_1.predictive_distribution_entropy_2(train_dict[0][1]))\n",
    "print(active_bnn_1.predictive_distribution_entropy_2(train_dict[4][1]))\n",
    "print(active_bnn_1.predictive_distribution_entropy_2(train_dict[4][16]))\n",
    "print(active_bnn_1.predictive_distribution_entropy_2(train_dict[4][15]))"
   ]
  },
  {
   "cell_type": "code",
   "execution_count": null,
   "metadata": {},
   "outputs": [],
   "source": [
    "cccccccccccccccccccc"
   ]
  },
  {
   "cell_type": "code",
   "execution_count": null,
   "metadata": {},
   "outputs": [],
   "source": [
    "print(active_bnn_1.predictive_distribution_entropy_2(train_dict[6][20]))\n",
    "print(active_bnn_1.predictive_distribution_entropy_2(train_dict[8][20]))\n",
    "print(active_bnn_1.predictive_distribution_entropy_2(train_dict[8][21]))\n",
    "print(active_bnn_1.predictive_distribution_entropy_2(train_dict[1][20]))\n",
    "print(active_bnn_1.predictive_distribution_entropy_2(train_dict[1][1]))\n",
    "print(active_bnn_1.predictive_distribution_entropy_2(train_dict[0][1]))\n",
    "print(active_bnn_1.predictive_distribution_entropy_2(train_dict[4][1]))\n",
    "print(active_bnn_1.predictive_distribution_entropy_2(train_dict[4][16]))\n",
    "print(active_bnn_1.predictive_distribution_entropy_2(train_dict[4][15]))"
   ]
  },
  {
   "cell_type": "code",
   "execution_count": null,
   "metadata": {},
   "outputs": [],
   "source": [
    "x_new=train_dict[8][20].view(-1,1,28,28)\n",
    "label_new=torch.tensor([8])\n",
    "\n",
    "active_bnn_1.online_train(x_new,label_new)"
   ]
  },
  {
   "cell_type": "code",
   "execution_count": null,
   "metadata": {},
   "outputs": [],
   "source": [
    "print(active_bnn_1.predictive_distribution_entropy_2(train_dict[6][20]))\n",
    "print(active_bnn_1.predictive_distribution_entropy_2(train_dict[8][20]))\n",
    "print(active_bnn_1.predictive_distribution_entropy_2(train_dict[8][21]))\n",
    "print(active_bnn_1.predictive_distribution_entropy_2(train_dict[1][20]))\n",
    "print(active_bnn_1.predictive_distribution_entropy_2(train_dict[1][1]))\n",
    "print(active_bnn_1.predictive_distribution_entropy_2(train_dict[0][1]))\n",
    "print(active_bnn_1.predictive_distribution_entropy_2(train_dict[4][1]))\n",
    "print(active_bnn_1.predictive_distribution_entropy_2(train_dict[4][16]))\n",
    "print(active_bnn_1.predictive_distribution_entropy_2(train_dict[4][15]))"
   ]
  },
  {
   "cell_type": "code",
   "execution_count": null,
   "metadata": {},
   "outputs": [],
   "source": [
    "x_new=train_dict[8][20].view(-1,1,28,28)\n",
    "label_new=torch.tensor([8])\n",
    "\n",
    "active_bnn_1.online_train(x_new,label_new)"
   ]
  },
  {
   "cell_type": "code",
   "execution_count": null,
   "metadata": {},
   "outputs": [],
   "source": [
    "print(active_bnn_1.predictive_distribution_entropy_2(train_dict[6][20]))\n",
    "print(active_bnn_1.predictive_distribution_entropy_2(train_dict[8][20]))\n",
    "print(active_bnn_1.predictive_distribution_entropy_2(train_dict[8][21]))\n",
    "print(active_bnn_1.predictive_distribution_entropy_2(train_dict[1][20]))\n",
    "print(active_bnn_1.predictive_distribution_entropy_2(train_dict[1][1]))\n",
    "print(active_bnn_1.predictive_distribution_entropy_2(train_dict[0][1]))\n",
    "print(active_bnn_1.predictive_distribution_entropy_2(train_dict[4][1]))\n",
    "print(active_bnn_1.predictive_distribution_entropy_2(train_dict[4][16]))\n",
    "print(active_bnn_1.predictive_distribution_entropy_2(train_dict[4][15]))"
   ]
  },
  {
   "cell_type": "code",
   "execution_count": null,
   "metadata": {},
   "outputs": [],
   "source": [
    "x_new=train_dict[8][21].view(-1,1,28,28)\n",
    "label_new=torch.tensor([8])\n",
    "\n",
    "active_bnn_1.online_train(x_new,label_new)"
   ]
  },
  {
   "cell_type": "code",
   "execution_count": null,
   "metadata": {},
   "outputs": [],
   "source": [
    "print(active_bnn_1.predictive_distribution_entropy_2(train_dict[6][20]))\n",
    "print(active_bnn_1.predictive_distribution_entropy_2(train_dict[8][20]))\n",
    "print(active_bnn_1.predictive_distribution_entropy_2(train_dict[8][21]))\n",
    "print(active_bnn_1.predictive_distribution_entropy_2(train_dict[1][20]))\n",
    "print(active_bnn_1.predictive_distribution_entropy_2(train_dict[1][1]))\n",
    "print(active_bnn_1.predictive_distribution_entropy_2(train_dict[0][1]))\n",
    "print(active_bnn_1.predictive_distribution_entropy_2(train_dict[4][1]))\n",
    "print(active_bnn_1.predictive_distribution_entropy_2(train_dict[4][16]))\n",
    "print(active_bnn_1.predictive_distribution_entropy_2(train_dict[4][15]))"
   ]
  },
  {
   "cell_type": "code",
   "execution_count": null,
   "metadata": {},
   "outputs": [],
   "source": [
    "for i in range(0,30):\n",
    "    print(i)\n",
    "    print(active_bnn.predictive_distribution_entropy(train_dict[1][i]))\n",
    "    print(active_bnn.predictive_distribution_entropy(train_dict[8][i]))"
   ]
  },
  {
   "cell_type": "code",
   "execution_count": null,
   "metadata": {},
   "outputs": [],
   "source": [
    "for i in range(0,30):\n",
    "    x_new=train_dict[8][i].view(-1,1,28,28)\n",
    "    label_new=torch.tensor([8])\n",
    "\n",
    "    active_bnn.online_train(x_new,label_new)"
   ]
  },
  {
   "cell_type": "code",
   "execution_count": null,
   "metadata": {},
   "outputs": [],
   "source": [
    "for i in range(0,30):\n",
    "    print(i)\n",
    "    print(active_bnn.predictive_distribution_entropy(train_dict[1][i]))\n",
    "    print(active_bnn.predictive_distribution_entropy(train_dict[8][i]))"
   ]
  }
 ],
 "metadata": {
  "kernelspec": {
   "display_name": "Python 3",
   "language": "python",
   "name": "python3"
  },
  "language_info": {
   "codemirror_mode": {
    "name": "ipython",
    "version": 3
   },
   "file_extension": ".py",
   "mimetype": "text/x-python",
   "name": "python",
   "nbconvert_exporter": "python",
   "pygments_lexer": "ipython3",
   "version": "3.6.9"
  }
 },
 "nbformat": 4,
 "nbformat_minor": 4
}

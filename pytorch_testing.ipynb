{
 "cells": [
  {
   "cell_type": "code",
   "execution_count": 6,
   "metadata": {},
   "outputs": [],
   "source": [
    "import torch\n",
    "\n"
   ]
  },
  {
   "cell_type": "code",
   "execution_count": 7,
   "metadata": {},
   "outputs": [],
   "source": [
    "def KL_diag_gaussian(mu_1,diag_1,mu_2,diag_2):\n",
    "    ratio=diag_1/diag_2\n",
    "    return torch.sum(0.5*(mu_1-mu_2)**2/diag_2)+0.5*torch.sum(ratio)-0.5*torch.sum(torch.log(ratio))-mu_1.size(0)/2\n",
    "\n"
   ]
  },
  {
   "cell_type": "code",
   "execution_count": 8,
   "metadata": {},
   "outputs": [
    {
     "name": "stdout",
     "output_type": "stream",
     "text": [
      "tensor(5.3069)\n"
     ]
    }
   ],
   "source": [
    "mu_1=torch.tensor([0.0,0.0])\n",
    "diag_1=torch.tensor([1.0,1.0])\n",
    "mu_2=torch.tensor([1.0,2.0])\n",
    "diag_2=torch.tensor([0.5,0.5])\n",
    "\n",
    "print(KL_diag_gaussian(mu_1,diag_1,mu_2,diag_2))"
   ]
  },
  {
   "cell_type": "code",
   "execution_count": 23,
   "metadata": {},
   "outputs": [],
   "source": [
    "def low_rank_cov_inverse(L,sigma):\n",
    "    # L is D*R\n",
    "    dim=L.size(0)\n",
    "    rank=L.size(1)\n",
    "    var=sigma**2\n",
    "    inverse_var=1.0/var\n",
    "    inner_inverse=torch.inverse(torch.diag(torch.ones([rank]))+inverse_var*(L.t())@L)\n",
    "    return inverse_var*torch.diag(torch.ones([dim]))-inverse_var**2*L@inner_inverse@L.t()\n",
    "\n",
    "def low_rank_gaussian_logdet(L,sigma):\n",
    "    dim=L.size(0)\n",
    "    rank=L.size(1)\n",
    "    var=sigma**2\n",
    "    inverse_var=1.0/var\n",
    "    return torch.logdet(torch.diag(torch.ones([rank]))+inverse_var*(L.t())@L)+dim*tf.log(var)\n",
    "    \n",
    "    \n",
    "\n",
    "def low_rank_gaussian_sample(mu,L,sigma,amount):\n",
    "    # L is D*R\n",
    "    dim=L.size(0)\n",
    "    rank=L.size(1)\n",
    "    eps_z=torch.randn([amount,rank])\n",
    "    eps=torch.randn([amount,dim])\n",
    "    \n",
    "    return eps_z@L.t()+eps*sigma+mu\n",
    "    \n",
    "\n",
    "def KL_low_rank_gaussian_with_diag_gaussian(mu_1,L_1,sigma_1,mu_2,sigma_2):\n",
    "    dim_1=L_1.size(0)\n",
    "    rank_1=L_1.size(1)\n",
    "    var_1=sigma_1**2\n",
    "    inverse_var_1=1.0/var_1\n",
    "    logdet_1=torch.logdet(torch.diag(torch.ones([rank_1]))+inverse_var_1*(L_1.t())@L_1)+dim_1*torch.log(var_1)\n",
    "    cov_1=L_1@L_1.t()+torch.diag(torch.ones([dim_1]))*var_1\n",
    "    mu_diff=(mu_1-mu_2).view(-1,1)\n",
    "    var_2=sigma_2**2\n",
    "    return -0.5*(logdet_1-dim_1*torch.log(var_2)+dim_1-(1/var_2)*torch.trace(cov_1)-(1/var_2)*mu_diff.t()@mu_diff)\n",
    "    \n",
    "\n",
    "\n",
    "def KL_low_rank_gaussian_with_low_rank_gaussian(mu_1,L_1,sigma_1,mu_2,L_2,sigma_2):\n",
    "    dim_1=L_1.size(0)\n",
    "    rank_1=L_1.size(1)\n",
    "    var_1=sigma_1**2\n",
    "    inverse_var_1=1.0/var_1\n",
    "    logdet_1=torch.logdet(torch.diag(torch.ones([rank_1]))+inverse_var_1*(L_1.t())@L_1)+dim_1*torch.log(var_1)\n",
    "    cov_1=L_1@L_1.t()+torch.diag(torch.ones([dim_1]))*var_1\n",
    "    \n",
    "    \n",
    "    dim_2=L_2.size(0)\n",
    "    rank_2=L_2.size(1)\n",
    "    var_2=sigma_2**2\n",
    "    inverse_var_2=1.0/var_2\n",
    "    logdet_2=torch.logdet(torch.diag(torch.ones([rank_2]))+inverse_var_2*(L_2.t())@L_2)+dim_1*torch.log(var_2)\n",
    "    \n",
    "    inner_inverse_2=torch.inverse(torch.diag(torch.ones([rank_2]))+inverse_var_2*(L_2.t())@L_2)\n",
    "    cov_inverse_2=inverse_var_2*torch.diag(torch.ones([dim_2]))-inverse_var_2**2*L_2@inner_inverse_2@L_2.t()\n",
    "    \n",
    "    mu_diff=(mu_1-mu_2).view(-1,1)\n",
    "    return -0.5*(logdet_1-logdet_2+dim_1-torch.trace(cov_1@cov_inverse_2)-mu_diff.t()@ cov_inverse_2@mu_diff)\n",
    "    \n",
    "\n",
    "def general_kl_divergence(mu_1,cov_1,mu_2,cov_2):\n",
    "    mu_diff=(mu_1-mu_2).view(-1,1)\n",
    "    cov_2_inverse=torch.inverse(cov_2)\n",
    "    return -0.5*(torch.logdet(cov_1)-torch.logdet(cov_2)+mu_1.size(0)-torch.trace(cov_1@cov_2_inverse)-mu_diff.t()@cov_2_inverse@mu_diff)\n",
    "   "
   ]
  },
  {
   "cell_type": "code",
   "execution_count": 11,
   "metadata": {},
   "outputs": [
    {
     "name": "stdout",
     "output_type": "stream",
     "text": [
      "tensor([-1.3405, -0.6657,  1.0196, -1.7288])\n",
      "tensor([[-1.0631, -0.2356,  0.2253,  0.3571],\n",
      "        [ 1.1482, -0.2559, -0.8499, -0.7693]])\n",
      "tensor([[ 3.4485, -0.0433, -1.2154, -1.2629],\n",
      "        [-0.0433,  1.1210,  0.1644,  0.1127],\n",
      "        [-1.2154,  0.1644,  1.7732,  0.7343],\n",
      "        [-1.2629,  0.1127,  0.7343,  1.7193]])\n",
      "tensor([-0.2707, -1.3722,  0.9919,  0.4002])\n",
      "tensor([[ 1.8812, -1.0184,  0.6714, -0.4969],\n",
      "        [-1.0184,  2.1841, -0.8154,  0.6533],\n",
      "        [ 0.6714, -0.8154,  1.7325, -0.8212],\n",
      "        [-0.4969,  0.6533, -0.8212,  2.1670]])\n"
     ]
    }
   ],
   "source": [
    "L_1=torch.randn(4,2)\n",
    "sigma_1=torch.tensor(1.0)\n",
    "mu_1=torch.randn(4)\n",
    "print(mu_1)\n",
    "print(L_1.t())\n",
    "cov_1=L_1@(L_1.t())+torch.diag(torch.ones(4))*sigma_1**2\n",
    "print(cov_1)\n",
    "L_2=torch.randn(4,2)\n",
    "sigma_2=torch.tensor(1.0)\n",
    "mu_2=torch.randn(4)\n",
    "print(mu_2)\n",
    "cov_2=L_2@L_2.t()+torch.diag(torch.ones(4))*sigma_2**2\n",
    "print(cov_2)"
   ]
  },
  {
   "cell_type": "code",
   "execution_count": 12,
   "metadata": {},
   "outputs": [
    {
     "name": "stdout",
     "output_type": "stream",
     "text": [
      "tensor([[3.1407]])\n"
     ]
    }
   ],
   "source": [
    "print(general_kl_divergence(mu_1,cov_1,mu_2,cov_2))"
   ]
  },
  {
   "cell_type": "code",
   "execution_count": 19,
   "metadata": {},
   "outputs": [
    {
     "name": "stdout",
     "output_type": "stream",
     "text": [
      "tensor([[3.1407]])\n"
     ]
    }
   ],
   "source": [
    "print(KL_low_rank_gaussian_with_low_rank_gaussian(mu_1,L_1,sigma_1,mu_2,L_2,sigma_2))"
   ]
  },
  {
   "cell_type": "code",
   "execution_count": 20,
   "metadata": {},
   "outputs": [
    {
     "name": "stdout",
     "output_type": "stream",
     "text": [
      "tensor([ 0.1827,  0.2901, -1.3069, -0.9069])\n",
      "tensor([[-1.1832, -0.2267, -0.4892, -0.0278],\n",
      "        [ 0.3812, -0.8335, -1.0120, -1.4139]])\n",
      "tensor([[ 2.5452, -0.0495,  0.1931, -0.5060],\n",
      "        [-0.0495,  1.7461,  0.9544,  1.1848],\n",
      "        [ 0.1931,  0.9544,  2.2636,  1.4446],\n",
      "        [-0.5060,  1.1848,  1.4446,  3.0000]])\n",
      "tensor([ 1.3834, -0.2485,  0.6343, -1.0809])\n",
      "tensor([[1., 0., 0., 0.],\n",
      "        [0., 1., 0., 0.],\n",
      "        [0., 0., 1., 0.],\n",
      "        [0., 0., 0., 1.]])\n"
     ]
    }
   ],
   "source": [
    "L_1=torch.randn(4,2)\n",
    "sigma_1=torch.tensor(1.0)\n",
    "mu_1=torch.randn(4)\n",
    "print(mu_1)\n",
    "print(L_1.t())\n",
    "cov_1=L_1@(L_1.t())+torch.diag(torch.ones(4))*sigma_1**2\n",
    "print(cov_1)\n",
    "sigma_2=torch.tensor(1.0)\n",
    "mu_2=torch.randn(4)\n",
    "print(mu_2)\n",
    "cov_2=torch.diag(torch.ones(4))*sigma_2**2\n",
    "print(cov_2)"
   ]
  },
  {
   "cell_type": "code",
   "execution_count": 26,
   "metadata": {},
   "outputs": [
    {
     "name": "stdout",
     "output_type": "stream",
     "text": [
      "torch.Size([2, 4])\n"
     ]
    }
   ],
   "source": [
    "print(low_rank_gaussian_sample(mu_1,L_1,sigma_1,2).size())"
   ]
  },
  {
   "cell_type": "code",
   "execution_count": 21,
   "metadata": {},
   "outputs": [
    {
     "name": "stdout",
     "output_type": "stream",
     "text": [
      "tensor([[4.2596]])\n"
     ]
    }
   ],
   "source": [
    "print(general_kl_divergence(mu_1,cov_1,mu_2,cov_2))"
   ]
  },
  {
   "cell_type": "code",
   "execution_count": 24,
   "metadata": {},
   "outputs": [
    {
     "name": "stdout",
     "output_type": "stream",
     "text": [
      "tensor([[4.2596]])\n"
     ]
    }
   ],
   "source": [
    "print(KL_low_rank_gaussian_with_diag_gaussian(mu_1,L_1,sigma_1,mu_2,sigma_2))"
   ]
  }
 ],
 "metadata": {
  "kernelspec": {
   "display_name": "rl",
   "language": "python",
   "name": "myenv"
  },
  "language_info": {
   "codemirror_mode": {
    "name": "ipython",
    "version": 3
   },
   "file_extension": ".py",
   "mimetype": "text/x-python",
   "name": "python",
   "nbconvert_exporter": "python",
   "pygments_lexer": "ipython3",
   "version": "3.7.3"
  }
 },
 "nbformat": 4,
 "nbformat_minor": 2
}

{
 "cells": [
  {
   "cell_type": "code",
   "execution_count": 2,
   "metadata": {},
   "outputs": [],
   "source": [
    "import torch\n",
    "import torchvision\n",
    "import torch.nn as nn\n",
    "import torch.nn.functional as F\n",
    "import torch.optim as optim\n",
    "import matplotlib.pyplot as plt\n",
    "import numpy as np\n",
    "from tools import *\n",
    "import operator\n",
    "import itertools\n"
   ]
  },
  {
   "cell_type": "code",
   "execution_count": 2,
   "metadata": {},
   "outputs": [],
   "source": [
    "train_data=torchvision.datasets.MNIST('./', train=True, download=True,transform=torchvision.transforms.ToTensor())\n",
    "test_data=torchvision.datasets.MNIST('./', train=False, download=True,transform=torchvision.transforms.ToTensor())\n",
    "# train_loader = torch.utils.data.DataLoader(train_data, batch_size=100, shuffle=True)\n",
    "test_loader = torch.utils.data.DataLoader(test_data, batch_size=100, shuffle=True)"
   ]
  },
  {
   "cell_type": "code",
   "execution_count": 3,
   "metadata": {},
   "outputs": [],
   "source": [
    "train_dict={}\n",
    "for (data, target) in train_data:\n",
    "    if  target not in train_dict:\n",
    "        train_dict[ target]=[]\n",
    "        train_dict[ target].append(data)\n",
    "    else:\n",
    "        train_dict[ target].append(data)"
   ]
  },
  {
   "cell_type": "code",
   "execution_count": 3,
   "metadata": {},
   "outputs": [
    {
     "ename": "NameError",
     "evalue": "name 'train_dict' is not defined",
     "output_type": "error",
     "traceback": [
      "\u001b[0;31m---------------------------------------------------------------------------\u001b[0m",
      "\u001b[0;31mNameError\u001b[0m                                 Traceback (most recent call last)",
      "\u001b[0;32m<ipython-input-3-fb9b363137f7>\u001b[0m in \u001b[0;36m<module>\u001b[0;34m\u001b[0m\n\u001b[1;32m      3\u001b[0m \u001b[0;32mfor\u001b[0m \u001b[0mi\u001b[0m \u001b[0;32min\u001b[0m \u001b[0mrange\u001b[0m\u001b[0;34m(\u001b[0m\u001b[0;36m7\u001b[0m\u001b[0;34m)\u001b[0m\u001b[0;34m:\u001b[0m\u001b[0;34m\u001b[0m\u001b[0;34m\u001b[0m\u001b[0m\n\u001b[1;32m      4\u001b[0m     \u001b[0;32mfor\u001b[0m \u001b[0mj\u001b[0m \u001b[0;32min\u001b[0m \u001b[0mrange\u001b[0m\u001b[0;34m(\u001b[0m\u001b[0;36m0\u001b[0m\u001b[0;34m,\u001b[0m\u001b[0;36m10\u001b[0m\u001b[0;34m)\u001b[0m\u001b[0;34m:\u001b[0m\u001b[0;34m\u001b[0m\u001b[0;34m\u001b[0m\u001b[0m\n\u001b[0;32m----> 5\u001b[0;31m         \u001b[0minitial_train_data\u001b[0m\u001b[0;34m.\u001b[0m\u001b[0mappend\u001b[0m\u001b[0;34m(\u001b[0m\u001b[0mtrain_dict\u001b[0m\u001b[0;34m[\u001b[0m\u001b[0mi\u001b[0m\u001b[0;34m]\u001b[0m\u001b[0;34m[\u001b[0m\u001b[0mj\u001b[0m\u001b[0;34m]\u001b[0m\u001b[0;34m)\u001b[0m\u001b[0;34m\u001b[0m\u001b[0;34m\u001b[0m\u001b[0m\n\u001b[0m\u001b[1;32m      6\u001b[0m         \u001b[0minitial_train_label\u001b[0m\u001b[0;34m.\u001b[0m\u001b[0mappend\u001b[0m\u001b[0;34m(\u001b[0m\u001b[0mi\u001b[0m\u001b[0;34m)\u001b[0m\u001b[0;34m\u001b[0m\u001b[0;34m\u001b[0m\u001b[0m\n\u001b[1;32m      7\u001b[0m \u001b[0;34m\u001b[0m\u001b[0m\n",
      "\u001b[0;31mNameError\u001b[0m: name 'train_dict' is not defined"
     ]
    }
   ],
   "source": [
    "initial_train_data=[]\n",
    "initial_train_label=[]\n",
    "for i in range(7):\n",
    "    for j in range(0,10):\n",
    "        initial_train_data.append(train_dict[i][j])\n",
    "        initial_train_label.append(i)\n",
    "    \n",
    "print(initial_train_label)"
   ]
  },
  {
   "cell_type": "code",
   "execution_count": 5,
   "metadata": {},
   "outputs": [
    {
     "name": "stdout",
     "output_type": "stream",
     "text": [
      "torch.Size([70, 1, 28, 28])\n",
      "torch.Size([70])\n"
     ]
    }
   ],
   "source": [
    "initial_train_data_tensor=torch.stack(initial_train_data)\n",
    "initial_train_label_tensor=torch.tensor(initial_train_label)\n",
    "train_x=torch.stack([data for (data, target) in train_data])\n",
    "train_label=torch.tensor([target for (data, target) in train_data])\n",
    "print(initial_train_data_tensor.size())\n",
    "print(initial_train_label_tensor.size())"
   ]
  },
  {
   "cell_type": "code",
   "execution_count": 1,
   "metadata": {},
   "outputs": [
    {
     "ename": "NameError",
     "evalue": "name 'nn' is not defined",
     "output_type": "error",
     "traceback": [
      "\u001b[0;31m---------------------------------------------------------------------------\u001b[0m",
      "\u001b[0;31mNameError\u001b[0m                                 Traceback (most recent call last)",
      "\u001b[0;32m<ipython-input-1-dc7460c46cbe>\u001b[0m in \u001b[0;36m<module>\u001b[0;34m\u001b[0m\n\u001b[0;32m----> 1\u001b[0;31m \u001b[0;32mclass\u001b[0m \u001b[0mNet\u001b[0m\u001b[0;34m(\u001b[0m\u001b[0mnn\u001b[0m\u001b[0;34m.\u001b[0m\u001b[0mModule\u001b[0m\u001b[0;34m)\u001b[0m\u001b[0;34m:\u001b[0m\u001b[0;34m\u001b[0m\u001b[0;34m\u001b[0m\u001b[0m\n\u001b[0m\u001b[1;32m      2\u001b[0m     \u001b[0;32mdef\u001b[0m \u001b[0m__init__\u001b[0m\u001b[0;34m(\u001b[0m\u001b[0mself\u001b[0m\u001b[0;34m)\u001b[0m\u001b[0;34m:\u001b[0m\u001b[0;34m\u001b[0m\u001b[0;34m\u001b[0m\u001b[0m\n\u001b[1;32m      3\u001b[0m         \u001b[0msuper\u001b[0m\u001b[0;34m(\u001b[0m\u001b[0mNet\u001b[0m\u001b[0;34m,\u001b[0m \u001b[0mself\u001b[0m\u001b[0;34m)\u001b[0m\u001b[0;34m.\u001b[0m\u001b[0m__init__\u001b[0m\u001b[0;34m(\u001b[0m\u001b[0;34m)\u001b[0m\u001b[0;34m\u001b[0m\u001b[0;34m\u001b[0m\u001b[0m\n\u001b[1;32m      4\u001b[0m         \u001b[0mself\u001b[0m\u001b[0;34m.\u001b[0m\u001b[0mconv1\u001b[0m \u001b[0;34m=\u001b[0m \u001b[0mnn\u001b[0m\u001b[0;34m.\u001b[0m\u001b[0mConv2d\u001b[0m\u001b[0;34m(\u001b[0m\u001b[0;36m1\u001b[0m\u001b[0;34m,\u001b[0m \u001b[0;36m10\u001b[0m\u001b[0;34m,\u001b[0m \u001b[0mkernel_size\u001b[0m\u001b[0;34m=\u001b[0m\u001b[0;36m5\u001b[0m\u001b[0;34m)\u001b[0m\u001b[0;34m\u001b[0m\u001b[0;34m\u001b[0m\u001b[0m\n\u001b[1;32m      5\u001b[0m         \u001b[0mself\u001b[0m\u001b[0;34m.\u001b[0m\u001b[0mconv2\u001b[0m \u001b[0;34m=\u001b[0m \u001b[0mnn\u001b[0m\u001b[0;34m.\u001b[0m\u001b[0mConv2d\u001b[0m\u001b[0;34m(\u001b[0m\u001b[0;36m10\u001b[0m\u001b[0;34m,\u001b[0m \u001b[0;36m20\u001b[0m\u001b[0;34m,\u001b[0m \u001b[0mkernel_size\u001b[0m\u001b[0;34m=\u001b[0m\u001b[0;36m5\u001b[0m\u001b[0;34m)\u001b[0m\u001b[0;34m\u001b[0m\u001b[0;34m\u001b[0m\u001b[0m\n",
      "\u001b[0;31mNameError\u001b[0m: name 'nn' is not defined"
     ]
    }
   ],
   "source": [
    "class Net(nn.Module):\n",
    "    def __init__(self):\n",
    "        super(Net, self).__init__()\n",
    "        self.conv1 = nn.Conv2d(1, 10, kernel_size=5)\n",
    "        self.conv2 = nn.Conv2d(10, 20, kernel_size=5)\n",
    "        self.fc1 = nn.Linear(320, 50)\n",
    "        self.fc2 = nn.Linear(50, 20)\n",
    "        \n",
    "        \n",
    "        self.prior_mu=torch.tensor(np.zeros(200), dtype=torch.float, requires_grad=False)\n",
    "        self.prior_diag=torch.tensor(np.ones(200), dtype=torch.float, requires_grad=False)\n",
    "        \n",
    "        self.q_mu=(torch.randn(200)*0.1).requires_grad_()\n",
    "#        self.q_diag=torch.exp(torch.randn(200)).requires_grad_()\n",
    "        \n",
    "#         self.q_mu=torch.tensor(np.zeros(200), dtype=torch.float, requires_grad=True)\n",
    "        self.q_diag=torch.tensor(np.ones(200), dtype=torch.float, requires_grad=True)\n",
    "        params = list(self.parameters()) + [self.q_mu,self.q_diag]\n",
    "        self.optimizer = optim.Adam(params, lr=0.001)\n",
    "        self.feature_optimizer = optim.Adam(self.parameters(), lr=0.001)\n",
    "        self.final_optimizer = optim.Adam([ self.q_mu, self.q_diag ], lr=0.001)\n",
    "\n",
    "    def forward(self, x, final_weight):\n",
    "        x=x.view(-1,1,28,28)\n",
    "        x = F.relu(F.max_pool2d(self.conv1(x), 2))\n",
    "        x = F.relu(F.max_pool2d(self.conv2(x), 2))\n",
    "        x = x.view(-1, 320)\n",
    "        x = F.relu(self.fc1(x))\n",
    "        x =self.fc2(x)\n",
    "        x= torch.matmul(x,final_weight)\n",
    "        return F.log_softmax(x,dim=-1)\n",
    "    \n",
    "    \n",
    "    def feature_forward(self, x ):\n",
    "        x=x.view(-1,1,28,28)\n",
    "        x = F.relu(F.max_pool2d(self.conv1(x), 2))\n",
    "        x = F.relu(F.max_pool2d(self.conv2(x), 2))\n",
    "        x = x.view(-1, 320)\n",
    "        x = F.relu(self.fc1(x))\n",
    "        x =  self.fc2(x)\n",
    "        return x\n",
    "    \n",
    "    def predict(self,x):\n",
    "        with torch.no_grad():\n",
    "            eps=torch.tensor(np.random.normal([200]),dtype=torch.float)\n",
    "            final_weight_sample= (self.q_mu+eps*torch.sqrt(self.q_diag)).view(20,10)\n",
    "            output = torch.exp(self.forward(x,final_weight_sample))\n",
    "            pred = output.data.max(dim=1, keepdim=True)[1]\n",
    "            return pred\n",
    "        \n",
    "    def test_prediction(self, x):\n",
    "        with torch.no_grad():\n",
    "            final_weight_mean=self.q_mu.view(20,10)\n",
    "            output = torch.exp(self.forward(x,final_weight_mean))\n",
    "            pred = output.data.max(dim=1, keepdim=True)[1]\n",
    "            return pred\n",
    "        \n",
    "        \n",
    "    def predictive_distribution_entropy(self,x):\n",
    "        eps=torch.randn([100,200])\n",
    "        #eps=torch.tensor(np.random.normal(size=[100,200]),dtype=torch.float)\n",
    "        final_weight_samples=(torch.sqrt(self.q_diag).repeat(100).view(100,200)*eps+self.q_mu).view(100,20,10).permute(0, 2, 1)\n",
    "        feature_of_data=self.feature_forward(x)[0]\n",
    "        output_logit=final_weight_samples@feature_of_data\n",
    "        output_dis=torch.distributions.categorical.Categorical(logits=output_logit)\n",
    "        \n",
    "        \n",
    "        sample=output_dis.sample([100]).reshape([-1,1])\n",
    "        entropy=-torch.mean(torch.log(torch.mean(torch.exp(output_dis.log_prob(sample)),dim=-1)))\n",
    "        return entropy\n",
    "    \n",
    "    \n",
    "    def likelihood_eva(self,x,label, sample_num=100, if_online=False):\n",
    "        \n",
    "        eps=torch.randn([sample_num,200])\n",
    "        #eps=torch.tensor(np.random.normal(size=[sample_num,200]),dtype=torch.float)\n",
    "        final_weight_samples=(torch.sqrt(self.q_diag).repeat(sample_num).view(sample_num,200)*eps+self.q_mu).view(sample_num,20,10).permute(0, 2, 1)\n",
    "        \n",
    "#         eps=torch.tensor(np.random.normal(size=[200]),dtype=torch.float)\n",
    "#         final_weight_samples= (self.q_mu+eps*torch.sqrt(self.q_diag)).view(20,10)\n",
    "        feature_of_data=self.feature_forward(x)\n",
    "#         print(feature_of_data.size())\n",
    "        print(final_weight_samples.size())\n",
    "        output=torch.mean(F.log_softmax((final_weight_samples@feature_of_data.t()).permute(0, 2, 1),dim=-1),0)\n",
    "        \n",
    "        predicted=output.data.max(dim=1, keepdim=True)[1].view(-1)\n",
    "        accuracy=(predicted == label).sum().item()/label.size(0)\n",
    "        \n",
    "        print(output.size())\n",
    "        nll_loss= F.nll_loss(output,label,reduction='sum')\n",
    "        if if_online:\n",
    "            curr_prior_mu = self.q_mu.clone().detach()\n",
    "            curr_prior_diag= self.q_diag.clone().detach()\n",
    "            kl=KL_diag_gaussian(self.q_mu,self.q_diag,curr_prior_mu,curr_prior_diag)\n",
    "        else:\n",
    "            kl=KL_diag_gaussian(self.q_mu,self.q_diag,self.prior_mu,self.prior_diag)\n",
    "        neg_elbo=kl+nll_loss\n",
    "        \n",
    "        return -neg_elbo,accuracy\n",
    "    \n",
    "    \n",
    "    \n",
    "    def predictive_distribution_entropy_2(self,x, sample_num=100):\n",
    "        eps=torch.randn([sample_num,200])\n",
    "        #eps=torch.tensor(np.random.normal(size=[sample_num,200]),dtype=torch.float)\n",
    "        final_weight_samples=(torch.sqrt(self.q_diag).repeat(sample_num).view(sample_num,200)*eps+self.q_mu).view(sample_num,20,10).permute(0, 2, 1)\n",
    "        feature_of_data=self.feature_forward(x)[0]\n",
    "        \n",
    "        output_logit=final_weight_samples@feature_of_data\n",
    "        output_dis=torch.distributions.categorical.Categorical(logits=output_logit)\n",
    "        \n",
    "        eps=torch.randn([sample_num,200])\n",
    "        #eps=torch.tensor(np.random.normal(size=[sample_num,200]),dtype=torch.float)\n",
    "        final_weight_samples=(torch.sqrt(self.q_diag).repeat(sample_num).view(sample_num,200)*eps+self.q_mu).view(sample_num,20,10).permute(0, 2, 1)\n",
    "        feature_of_data=self.feature_forward(x)[0]\n",
    "        output_logit=final_weight_samples@feature_of_data\n",
    "        output_dis_for_sample=torch.distributions.categorical.Categorical(logits=output_logit)\n",
    "        \n",
    "        sample=output_dis_for_sample.sample([sample_num]).reshape([-1,1])\n",
    "        entropy=-torch.mean(torch.log(torch.mean(torch.exp(output_dis.log_prob(sample)),dim=-1)))\n",
    "        return entropy\n",
    "    \n",
    "    \n",
    "#       def lower_bound_entropy(self,x):\n",
    "#         eps=torch.tensor(np.random.normal(size=[100,200]),dtype=torch.float)\n",
    "#         final_weight_samples=(torch.sqrt(self.q_diag).repeat(100).view(100,200)*eps+self.q_mu).view(100,20,10).permute(0, 2, 1)\n",
    "#         feature_of_data=self.feature_forward(x)[0]\n",
    "#         output_logit=final_weight_samples@feature_of_data\n",
    "#         output_dis=torch.distributions.categorical.Categorical(logits=output_logit)\n",
    "#         sample=output_dis.sample([100]).reshape([-1,1])\n",
    "        \n",
    "#         eps=torch.tensor(np.random.normal(size=[100,200]),dtype=torch.float)\n",
    "#         final_weight_samples=(torch.sqrt(self.q_diag).repeat(100).view(100,200)*eps+self.q_mu).view(100,20,10).permute(0, 2, 1)\n",
    "        \n",
    "        \n",
    "        \n",
    "        \n",
    "        \n",
    "        entropy=-torch.mean(torch.log(torch.mean(torch.exp(output_dis.log_prob(sample)),dim=-1)))\n",
    "        return entropy\n",
    "    \n",
    "    \n",
    "    \n",
    "    def online_train(self,x,label,samlpe_num=100):\n",
    "        train_losses = []\n",
    "        total_size=x.size(0)\n",
    "        curr_prior_mu = self.q_mu.clone().detach()\n",
    "        curr_prior_diag= self.q_diag.clone().detach()\n",
    "        correct_flag=0\n",
    "\n",
    "        while correct_flag<5:\n",
    "            \n",
    "#             lr = 0.01 * (0.1 ** (it // 2000))\n",
    "#             for param_group in self.final_optimizer.param_groups:\n",
    "#                 param_group['lr'] = lr\n",
    "        \n",
    "            self.final_optimizer.zero_grad()\n",
    "            eps=torch.randn([samlpe_num,200])\n",
    "            #eps=torch.tensor(np.random.normal(size=[sample_num,200]),dtype=torch.float)\n",
    "            final_weight_samples=(torch.sqrt(self.q_diag).repeat(samlpe_num).view(samlpe_num,200)*eps+self.q_mu).view(samlpe_num,20,10).permute(0, 2, 1)\n",
    "\n",
    "    #         eps=torch.tensor(np.random.normal(size=[200]),dtype=torch.float)\n",
    "    #         final_weight_samples= (self.q_mu+eps*torch.sqrt(self.q_diag)).view(20,10)\n",
    "            feature_of_data=self.feature_forward(x)\n",
    "    #         print(feature_of_data.size())\n",
    "            output=torch.mean(F.log_softmax((final_weight_samples@feature_of_data.t()).permute(0, 2, 1),dim=-1),0)\n",
    "\n",
    "            nll_loss= F.nll_loss(output,label,reduction='sum')\n",
    "            kl=KL_diag_gaussian(self.q_mu,self.q_diag,curr_prior_mu,curr_prior_diag)\n",
    "            neg_elbo=kl+nll_loss\n",
    "            neg_elbo.backward()\n",
    "            self.final_optimizer.step()\n",
    "            train_losses.append(neg_elbo.item())\n",
    "            \n",
    "            \n",
    "            if output.data.max(dim=1, keepdim=True)[1].item()==label.item():\n",
    "                correct_flag+=1\n",
    "            else:\n",
    "                correct_flag=0\n",
    "        print(output.data.max(dim=1, keepdim=True)[1].item())\n",
    "        plt.plot(train_losses)\n",
    "        plt.show()\n",
    "        \n",
    "        \n",
    "    \n",
    "    def pre_train(self,x,label):\n",
    "        train_losses = []\n",
    "        batch_size=50\n",
    "        for epoch in range(0,1000):\n",
    "            for it in range(0,int(x.size(0)/batch_size)+1):\n",
    "                index=np.random.choice(x.size(0),batch_size)\n",
    "                self.optimizer.zero_grad()\n",
    "\n",
    "    #             conditional_loss=0\n",
    "    #             for i in range(0,10):\n",
    "                eps=torch.tensor(np.random.normal(size=[200]),dtype=torch.float)\n",
    "                final_weight_sample= (self.q_mu+eps*torch.sqrt(self.q_diag)).view(20,10)\n",
    "                output = self.forward(x[index],final_weight_sample)\n",
    "                nll_loss= F.nll_loss(output,label[index],reduction='sum')*(float(x.size(0))/float(batch_size))\n",
    "                kl=KL_diag_gaussian(self.q_mu,self.q_diag,self.prior_mu,self.prior_diag)\n",
    "                neg_elbo=kl+nll_loss\n",
    "                neg_elbo.backward()\n",
    "                self.optimizer.step()\n",
    "                train_losses.append(neg_elbo.item())\n",
    "        plt.plot(train_losses)\n",
    "        plt.show()\n",
    "        \n",
    "        \n",
    "    def test(self):\n",
    "        correct=0\n",
    "        for data, target in test_loader:\n",
    "            pred = self.predict(data)\n",
    "            correct += pred.eq(target.data.view_as(pred)).sum()\n",
    "            correct_ratio= float(correct)/len(test_loader.dataset)\n",
    "        return correct_ratio\n",
    "    "
   ]
  },
  {
   "cell_type": "code",
   "execution_count": 84,
   "metadata": {},
   "outputs": [
    {
     "data": {
      "image/png": "[encoded data removed]",
      "text/plain": [
       "<Figure size 432x288 with 1 Axes>"
      ]
     },
     "metadata": {
      "needs_background": "light"
     },
     "output_type": "display_data"
    }
   ],
   "source": [
    "active_bnn = Net()\n",
    "active_bnn.pre_train(initial_train_data_tensor,initial_train_label_tensor)"
   ]
  },
  {
   "cell_type": "code",
   "execution_count": 85,
   "metadata": {},
   "outputs": [
    {
     "name": "stdout",
     "output_type": "stream",
     "text": [
      "torch.Size([100, 10, 20])\n",
      "torch.Size([70, 10])\n",
      "tensor(-11.0317, grad_fn=<NegBackward>)\n",
      "1.0\n"
     ]
    }
   ],
   "source": [
    "# active_bnn = Net()\n",
    "likelihood_of_initial_dataset,accuracy=active_bnn.likelihood_eva(initial_train_data_tensor,initial_train_label_tensor)\n",
    "print(likelihood_of_initial_dataset)\n",
    "print(accuracy)"
   ]
  },
  {
   "cell_type": "code",
   "execution_count": 93,
   "metadata": {},
   "outputs": [
    {
     "name": "stdout",
     "output_type": "stream",
     "text": [
      "8\n"
     ]
    },
    {
     "data": {
      "image/png": "[encoded data removed]",
      "text/plain": [
       "<Figure size 432x288 with 1 Axes>"
      ]
     },
     "metadata": {
      "needs_background": "light"
     },
     "output_type": "display_data"
    }
   ],
   "source": [
    "x_new=train_dict[8][20].view(-1,1,28,28)\n",
    "label_new=torch.tensor([8])\n",
    "\n",
    "active_bnn.online_train(x_new,label_new,samlpe_num=1)"
   ]
  },
  {
   "cell_type": "code",
   "execution_count": 103,
   "metadata": {},
   "outputs": [
    {
     "name": "stdout",
     "output_type": "stream",
     "text": [
      "8\n"
     ]
    },
    {
     "data": {
      "image/png": "[encoded data removed]",
      "text/plain": [
       "<Figure size 432x288 with 1 Axes>"
      ]
     },
     "metadata": {
      "needs_background": "light"
     },
     "output_type": "display_data"
    }
   ],
   "source": [
    "x_new=train_dict[8][21].view(-1,1,28,28)\n",
    "label_new=torch.tensor([8])\n",
    "\n",
    "active_bnn.online_train(x_new,label_new,samlpe_num=1)"
   ]
  },
  {
   "cell_type": "code",
   "execution_count": 104,
   "metadata": {},
   "outputs": [
    {
     "name": "stdout",
     "output_type": "stream",
     "text": [
      "tensor(0.3696, grad_fn=<NegBackward>)\n",
      "tensor(1.2187, grad_fn=<NegBackward>)\n",
      "tensor(0.9190, grad_fn=<NegBackward>)\n",
      "tensor(0.9224, grad_fn=<NegBackward>)\n",
      "tensor(1.0801, grad_fn=<NegBackward>)\n",
      "tensor(0.3228, grad_fn=<NegBackward>)\n",
      "tensor(0.3386, grad_fn=<NegBackward>)\n",
      "tensor(1.7187, grad_fn=<NegBackward>)\n",
      "tensor(0.3736, grad_fn=<NegBackward>)\n",
      "yo\n",
      "tensor(0.2779, grad_fn=<NegBackward>)\n",
      "tensor(1.1347, grad_fn=<NegBackward>)\n",
      "tensor(0.9718, grad_fn=<NegBackward>)\n",
      "tensor(1.1868, grad_fn=<NegBackward>)\n",
      "tensor(1.0787, grad_fn=<NegBackward>)\n",
      "tensor(0.3747, grad_fn=<NegBackward>)\n",
      "tensor(0.3007, grad_fn=<NegBackward>)\n",
      "tensor(1.7846, grad_fn=<NegBackward>)\n",
      "tensor(0.4392, grad_fn=<NegBackward>)\n"
     ]
    }
   ],
   "source": [
    "# print(active_bnn.test_prediction(initial_train_data_tensor))\n",
    "# # print(active_bnn.predict(initial_train_data_tensor))\n",
    "print(active_bnn.predictive_distribution_entropy(train_dict[6][20]))\n",
    "print(active_bnn.predictive_distribution_entropy(train_dict[8][20]))\n",
    "print(active_bnn.predictive_distribution_entropy(train_dict[8][21]))\n",
    "print(active_bnn.predictive_distribution_entropy(train_dict[1][20]))\n",
    "print(active_bnn.predictive_distribution_entropy(train_dict[1][1]))\n",
    "print(active_bnn.predictive_distribution_entropy(train_dict[0][1]))\n",
    "print(active_bnn.predictive_distribution_entropy(train_dict[4][1]))\n",
    "print(active_bnn.predictive_distribution_entropy(train_dict[4][16]))\n",
    "print(active_bnn.predictive_distribution_entropy(train_dict[4][15]))\n",
    "print('yo')\n",
    "print(active_bnn.predictive_distribution_entropy_2(train_dict[6][20]))\n",
    "print(active_bnn.predictive_distribution_entropy_2(train_dict[8][20]))\n",
    "print(active_bnn.predictive_distribution_entropy_2(train_dict[8][21]))\n",
    "print(active_bnn.predictive_distribution_entropy_2(train_dict[1][20]))\n",
    "print(active_bnn.predictive_distribution_entropy_2(train_dict[1][1]))\n",
    "print(active_bnn.predictive_distribution_entropy_2(train_dict[0][1]))\n",
    "print(active_bnn.predictive_distribution_entropy_2(train_dict[4][1]))\n",
    "print(active_bnn.predictive_distribution_entropy_2(train_dict[4][16]))\n",
    "print(active_bnn.predictive_distribution_entropy_2(train_dict[4][15]))"
   ]
  },
  {
   "cell_type": "code",
   "execution_count": 73,
   "metadata": {},
   "outputs": [
    {
     "data": {
      "text/plain": [
       "tensor([[8]])"
      ]
     },
     "execution_count": 73,
     "metadata": {},
     "output_type": "execute_result"
    }
   ],
   "source": [
    "active_bnn.test_prediction(x_new)"
   ]
  },
  {
   "cell_type": "code",
   "execution_count": 17,
   "metadata": {},
   "outputs": [
    {
     "name": "stdout",
     "output_type": "stream",
     "text": [
      "torch.Size([100, 10, 20])\n",
      "torch.Size([70, 10])\n",
      "tensor(-21.4444, grad_fn=<NegBackward>)\n",
      "1.0\n"
     ]
    }
   ],
   "source": [
    "# active_bnn = Net()\n",
    "likelihood_of_initial_dataset,accuracy=active_bnn.likelihood_eva(initial_train_data_tensor,initial_train_label_tensor)\n",
    "print(likelihood_of_initial_dataset)\n",
    "print(accuracy)"
   ]
  },
  {
   "cell_type": "code",
   "execution_count": null,
   "metadata": {},
   "outputs": [],
   "source": [
    "x_new=train_dict[8][20].view(-1,1,28,28)\n",
    "label_new=torch.tensor([8])\n",
    "\n",
    "# active_bnn.online_train(x_new,label_new)\n",
    "\n",
    "likelihood_of_initial_dataset,accuracy=active_bnn.likelihood_eva(initial_train_data_tensor,initial_train_label_tensor,sample_num=100, if_online=True)\n",
    "print(likelihood_of_initial_dataset)\n",
    "print(accuracy)"
   ]
  },
  {
   "cell_type": "code",
   "execution_count": null,
   "metadata": {},
   "outputs": [],
   "source": [
    "x_new=train_dict[4][16].view(-1,1,28,28)\n",
    "label_new=torch.tensor([4])\n",
    "\n",
    "active_bnn.online_train(x_new,label_new)\n",
    "\n",
    "likelihood_of_initial_dataset,accuracy=active_bnn.likelihood_eva(initial_train_data_tensor,initial_train_label_tensor,sample_num=100, if_online=True)\n",
    "print(likelihood_of_initial_dataset)\n",
    "print(accuracy)"
   ]
  },
  {
   "cell_type": "code",
   "execution_count": null,
   "metadata": {},
   "outputs": [],
   "source": [
    "# print(active_bnn.test_prediction(initial_train_data_tensor))\n",
    "# # print(active_bnn.predict(initial_train_data_tensor))\n",
    "print(active_bnn.predictive_distribution_entropy(train_dict[6][20]))\n",
    "print(active_bnn.predictive_distribution_entropy(train_dict[8][20]))\n",
    "print(active_bnn.predictive_distribution_entropy(train_dict[8][21]))\n",
    "print(active_bnn.predictive_distribution_entropy(train_dict[1][20]))\n",
    "print(active_bnn.predictive_distribution_entropy(train_dict[1][1]))\n",
    "print(active_bnn.predictive_distribution_entropy(train_dict[0][1]))\n",
    "print(active_bnn.predictive_distribution_entropy(train_dict[4][1]))\n",
    "print(active_bnn.predictive_distribution_entropy(train_dict[4][16]))\n",
    "print(active_bnn.predictive_distribution_entropy(train_dict[4][15]))\n",
    "print('yo')\n",
    "print(active_bnn.predictive_distribution_entropy_2(train_dict[6][20]))\n",
    "print(active_bnn.predictive_distribution_entropy_2(train_dict[8][20]))\n",
    "print(active_bnn.predictive_distribution_entropy_2(train_dict[8][21]))\n",
    "print(active_bnn.predictive_distribution_entropy_2(train_dict[1][20]))\n",
    "print(active_bnn.predictive_distribution_entropy_2(train_dict[1][1]))\n",
    "print(active_bnn.predictive_distribution_entropy_2(train_dict[0][1]))\n",
    "print(active_bnn.predictive_distribution_entropy_2(train_dict[4][1]))\n",
    "print(active_bnn.predictive_distribution_entropy_2(train_dict[4][16]))\n",
    "print(active_bnn.predictive_distribution_entropy_2(train_dict[4][15]))"
   ]
  },
  {
   "cell_type": "code",
   "execution_count": null,
   "metadata": {},
   "outputs": [],
   "source": [
    "likelihood_of_initial_dataset=active_bnn.likelihood_eva(initial_train_data_tensor,initial_train_label_tensor,sample_num=100, if_online=True)\n",
    "print(likelihood_of_initial_dataset)"
   ]
  },
  {
   "cell_type": "code",
   "execution_count": null,
   "metadata": {},
   "outputs": [],
   "source": [
    "x_new=train_dict[8][20].view(-1,1,28,28)\n",
    "label_new=torch.tensor([8])\n",
    "\n",
    "active_bnn.online_train(x_new,label_new)\n",
    "\n"
   ]
  },
  {
   "cell_type": "code",
   "execution_count": null,
   "metadata": {},
   "outputs": [],
   "source": [
    "likelihood_of_initial_dataset=active_bnn.likelihood_eva(initial_train_data_tensor,initial_train_label_tensor,sample_num=100, if_online=True)\n",
    "print(likelihood_of_initial_dataset)"
   ]
  },
  {
   "cell_type": "code",
   "execution_count": null,
   "metadata": {},
   "outputs": [],
   "source": [
    "print(active_bnn.predictive_distribution_entropy_2(train_dict[6][20]))\n",
    "print(active_bnn.predictive_distribution_entropy_2(train_dict[8][20]))\n",
    "print(active_bnn.predictive_distribution_entropy_2(train_dict[8][21]))\n",
    "print(active_bnn.predictive_distribution_entropy_2(train_dict[1][20]))\n",
    "print(active_bnn.predictive_distribution_entropy_2(train_dict[1][1]))\n",
    "print(active_bnn.predictive_distribution_entropy_2(train_dict[0][1]))\n",
    "print(active_bnn.predictive_distribution_entropy_2(train_dict[4][1]))\n",
    "print(active_bnn.predictive_distribution_entropy_2(train_dict[4][16]))\n",
    "print(active_bnn.predictive_distribution_entropy_2(train_dict[4][15]))"
   ]
  },
  {
   "cell_type": "code",
   "execution_count": null,
   "metadata": {},
   "outputs": [],
   "source": [
    "x_new=train_dict[8][21].view(-1,1,28,28)\n",
    "label_new=torch.tensor([8])\n",
    "\n",
    "active_bnn.online_train(x_new,label_new)"
   ]
  },
  {
   "cell_type": "code",
   "execution_count": null,
   "metadata": {},
   "outputs": [],
   "source": [
    "print(active_bnn.predictive_distribution_entropy_2(train_dict[6][20]))\n",
    "print(active_bnn.predictive_distribution_entropy_2(train_dict[8][20]))\n",
    "print(active_bnn.predictive_distribution_entropy_2(train_dict[8][21]))\n",
    "print(active_bnn.predictive_distribution_entropy_2(train_dict[1][20]))\n",
    "print(active_bnn.predictive_distribution_entropy_2(train_dict[1][1]))\n",
    "print(active_bnn.predictive_distribution_entropy_2(train_dict[0][1]))\n",
    "print(active_bnn.predictive_distribution_entropy_2(train_dict[4][1]))\n",
    "print(active_bnn.predictive_distribution_entropy_2(train_dict[4][16]))\n",
    "print(active_bnn.predictive_distribution_entropy_2(train_dict[4][15]))"
   ]
  },
  {
   "cell_type": "code",
   "execution_count": null,
   "metadata": {},
   "outputs": [],
   "source": [
    "x_new=train_dict[4][16].view(-1,1,28,28)\n",
    "label_new=torch.tensor([4])\n",
    "\n",
    "active_bnn.online_train(x_new,label_new)"
   ]
  },
  {
   "cell_type": "code",
   "execution_count": null,
   "metadata": {},
   "outputs": [],
   "source": [
    "print(active_bnn.predictive_distribution_entropy_2(train_dict[6][20]))\n",
    "print(active_bnn.predictive_distribution_entropy_2(train_dict[8][20]))\n",
    "print(active_bnn.predictive_distribution_entropy_2(train_dict[8][21]))\n",
    "print(active_bnn.predictive_distribution_entropy_2(train_dict[1][20]))\n",
    "print(active_bnn.predictive_distribution_entropy_2(train_dict[1][1]))\n",
    "print(active_bnn.predictive_distribution_entropy_2(train_dict[0][1]))\n",
    "print(active_bnn.predictive_distribution_entropy_2(train_dict[4][1]))\n",
    "print(active_bnn.predictive_distribution_entropy_2(train_dict[4][16]))\n",
    "print(active_bnn.predictive_distribution_entropy_2(train_dict[4][15]))"
   ]
  },
  {
   "cell_type": "code",
   "execution_count": null,
   "metadata": {},
   "outputs": [],
   "source": [
    "x_new=train_dict[8][20].view(-1,1,28,28)\n",
    "label_new=torch.tensor([8])\n",
    "\n",
    "active_bnn.online_train(x_new,label_new)"
   ]
  },
  {
   "cell_type": "code",
   "execution_count": null,
   "metadata": {},
   "outputs": [],
   "source": [
    "print(active_bnn.predictive_distribution_entropy(train_dict[6][20]))\n",
    "print(active_bnn.predictive_distribution_entropy(train_dict[8][20]))\n",
    "print(active_bnn.predictive_distribution_entropy(train_dict[8][21]))\n",
    "print(active_bnn.predictive_distribution_entropy(train_dict[1][20]))\n",
    "print(active_bnn.predictive_distribution_entropy(train_dict[1][1]))\n",
    "print(active_bnn.predictive_distribution_entropy(train_dict[0][1]))\n",
    "print(active_bnn.predictive_distribution_entropy(train_dict[4][1]))\n",
    "print(active_bnn.predictive_distribution_entropy(train_dict[4][16]))\n",
    "print(active_bnn.predictive_distribution_entropy(train_dict[4][15]))"
   ]
  },
  {
   "cell_type": "code",
   "execution_count": null,
   "metadata": {},
   "outputs": [],
   "source": [
    "for i in range(0,30):\n",
    "    print(i)\n",
    "    print(active_bnn.predictive_distribution_entropy(train_dict[1][i]))\n",
    "    print(active_bnn.predictive_distribution_entropy(train_dict[8][i]))"
   ]
  },
  {
   "cell_type": "code",
   "execution_count": null,
   "metadata": {},
   "outputs": [],
   "source": [
    "for i in range(0,30):\n",
    "    x_new=train_dict[8][i].view(-1,1,28,28)\n",
    "    label_new=torch.tensor([8])\n",
    "\n",
    "    active_bnn.online_train(x_new,label_new)"
   ]
  },
  {
   "cell_type": "code",
   "execution_count": null,
   "metadata": {},
   "outputs": [],
   "source": [
    "for i in range(0,30):\n",
    "    print(i)\n",
    "    print(active_bnn.predictive_distribution_entropy(train_dict[1][i]))\n",
    "    print(active_bnn.predictive_distribution_entropy(train_dict[8][i]))"
   ]
  }
 ],
 "metadata": {
  "kernelspec": {
   "display_name": "Python 3",
   "language": "python",
   "name": "python3"
  },
  "language_info": {
   "codemirror_mode": {
    "name": "ipython",
    "version": 3
   },
   "file_extension": ".py",
   "mimetype": "text/x-python",
   "name": "python",
   "nbconvert_exporter": "python",
   "pygments_lexer": "ipython3",
   "version": "3.7.3"
  }
 },
 "nbformat": 4,
 "nbformat_minor": 2
}

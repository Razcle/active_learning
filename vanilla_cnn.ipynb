{
 "cells": [
  {
   "cell_type": "code",
   "execution_count": 1,
   "metadata": {},
   "outputs": [],
   "source": [
    "import torch\n",
    "import torchvision"
   ]
  },
  {
   "cell_type": "code",
   "execution_count": 3,
   "metadata": {},
   "outputs": [
    {
     "data": {
      "text/plain": [
       "<torch._C.Generator at 0x1065a9d30>"
      ]
     },
     "execution_count": 3,
     "metadata": {},
     "output_type": "execute_result"
    }
   ],
   "source": [
    "n_epochs = 3\n",
    "batch_size_train = 64\n",
    "batch_size_test = 1000\n",
    "learning_rate = 0.01\n",
    "momentum = 0.5\n",
    "log_interval = 10\n",
    "\n",
    "random_seed = 1\n",
    "torch.backends.cudnn.enabled = False\n",
    "torch.manual_seed(random_seed)"
   ]
  },
  {
   "cell_type": "code",
   "execution_count": 5,
   "metadata": {},
   "outputs": [
    {
     "name": "stdout",
     "output_type": "stream",
     "text": [
      "Downloading http://yann.lecun.com/exdb/mnist/train-images-idx3-ubyte.gz to ./MNIST/raw/train-images-idx3-ubyte.gz\n"
     ]
    },
    {
     "name": "stderr",
     "output_type": "stream",
     "text": [
      "100.1%"
     ]
    },
    {
     "name": "stdout",
     "output_type": "stream",
     "text": [
      "Extracting ./MNIST/raw/train-images-idx3-ubyte.gz\n"
     ]
    },
    {
     "name": "stderr",
     "output_type": "stream",
     "text": [
      "28.4%"
     ]
    },
    {
     "name": "stdout",
     "output_type": "stream",
     "text": [
      "Downloading http://yann.lecun.com/exdb/mnist/train-labels-idx1-ubyte.gz to ./MNIST/raw/train-labels-idx1-ubyte.gz\n"
     ]
    },
    {
     "name": "stderr",
     "output_type": "stream",
     "text": [
      "0.5%"
     ]
    },
    {
     "name": "stdout",
     "output_type": "stream",
     "text": [
      "Extracting ./MNIST/raw/train-labels-idx1-ubyte.gz\n",
      "Downloading http://yann.lecun.com/exdb/mnist/t10k-images-idx3-ubyte.gz to ./MNIST/raw/t10k-images-idx3-ubyte.gz\n"
     ]
    },
    {
     "name": "stderr",
     "output_type": "stream",
     "text": [
      "100.4%"
     ]
    },
    {
     "name": "stdout",
     "output_type": "stream",
     "text": [
      "Extracting ./MNIST/raw/t10k-images-idx3-ubyte.gz\n",
      "Downloading http://yann.lecun.com/exdb/mnist/t10k-labels-idx1-ubyte.gz to ./MNIST/raw/t10k-labels-idx1-ubyte.gz\n"
     ]
    },
    {
     "name": "stderr",
     "output_type": "stream",
     "text": [
      "180.4%"
     ]
    },
    {
     "name": "stdout",
     "output_type": "stream",
     "text": [
      "Extracting ./MNIST/raw/t10k-labels-idx1-ubyte.gz\n",
      "Processing...\n",
      "Done!\n"
     ]
    }
   ],
   "source": [
    "train_loader = torch.utils.data.DataLoader(\n",
    "  torchvision.datasets.MNIST('./', train=True, download=True,\n",
    "                             transform=torchvision.transforms.Compose([\n",
    "                               torchvision.transforms.ToTensor(),\n",
    "                               torchvision.transforms.Normalize(\n",
    "                                 (0.1307,), (0.3081,))\n",
    "                             ])),\n",
    "  batch_size=batch_size_train, shuffle=True)\n",
    "\n",
    "test_loader = torch.utils.data.DataLoader(\n",
    "  torchvision.datasets.MNIST('./', train=False, download=True,\n",
    "                             transform=torchvision.transforms.Compose([\n",
    "                               torchvision.transforms.ToTensor(),\n",
    "                               torchvision.transforms.Normalize(\n",
    "                                 (0.1307,), (0.3081,))\n",
    "                             ])),\n",
    "  batch_size=batch_size_test, shuffle=True)"
   ]
  },
  {
   "cell_type": "code",
   "execution_count": 6,
   "metadata": {},
   "outputs": [],
   "source": [
    "examples = enumerate(test_loader)\n",
    "batch_idx, (example_data, example_targets) = next(examples)"
   ]
  },
  {
   "cell_type": "code",
   "execution_count": 7,
   "metadata": {},
   "outputs": [
    {
     "data": {
      "text/plain": [
       "torch.Size([1000, 1, 28, 28])"
      ]
     },
     "execution_count": 7,
     "metadata": {},
     "output_type": "execute_result"
    }
   ],
   "source": [
    "example_data.shape"
   ]
  },
  {
   "cell_type": "code",
   "execution_count": 9,
   "metadata": {},
   "outputs": [
    {
     "data": {
      "image/png": "[encoded data removed]",
      "text/plain": [
       "<Figure size 432x288 with 6 Axes>"
      ]
     },
     "execution_count": 9,
     "metadata": {},
     "output_type": "execute_result"
    },
    {
     "data": {
      "image/png": "[encoded data removed]",
      "text/plain": [
       "<Figure size 432x288 with 6 Axes>"
      ]
     },
     "metadata": {},
     "output_type": "display_data"
    }
   ],
   "source": [
    "import matplotlib.pyplot as plt\n",
    "\n",
    "fig = plt.figure()\n",
    "for i in range(6):\n",
    "  plt.subplot(2,3,i+1)\n",
    "  plt.tight_layout()\n",
    "  plt.imshow(example_data[i][0], cmap='gray', interpolation='none')\n",
    "  plt.title(\"Ground Truth: {}\".format(example_targets[i]))\n",
    "  plt.xticks([])\n",
    "  plt.yticks([])\n",
    "fig"
   ]
  },
  {
   "cell_type": "code",
   "execution_count": 10,
   "metadata": {},
   "outputs": [],
   "source": [
    "import torch.nn as nn\n",
    "import torch.nn.functional as F\n",
    "import torch.optim as optim"
   ]
  },
  {
   "cell_type": "code",
   "execution_count": 18,
   "metadata": {},
   "outputs": [],
   "source": [
    "class Net(nn.Module):\n",
    "    def __init__(self):\n",
    "        super(Net, self).__init__()\n",
    "        self.conv1 = nn.Conv2d(1, 10, kernel_size=5)\n",
    "        self.conv2 = nn.Conv2d(10, 20, kernel_size=5)\n",
    "#         self.conv2_drop = nn.Dropout2d()\n",
    "        self.fc1 = nn.Linear(320, 50)\n",
    "        self.fc2 = nn.Linear(50, 10)\n",
    "\n",
    "    def forward(self, x):\n",
    "        x = F.relu(F.max_pool2d(self.conv1(x), 2))\n",
    "        x = F.relu(F.max_pool2d(self.conv2(x), 2))\n",
    "        x = x.view(-1, 320)\n",
    "        x = F.relu(self.fc1(x))\n",
    "#         x = F.dropout(x, training=self.training)\n",
    "        x = self.fc2(x)\n",
    "        return F.log_softmax(x)\n",
    "    \n",
    "    \n",
    "network = Net()\n",
    "optimizer = optim.SGD(network.parameters(), lr=learning_rate,\n",
    "                      momentum=momentum)"
   ]
  },
  {
   "cell_type": "code",
   "execution_count": 19,
   "metadata": {},
   "outputs": [],
   "source": [
    "train_losses = []\n",
    "train_counter = []\n",
    "test_losses = []\n",
    "test_counter = [i*len(train_loader.dataset) for i in range(n_epochs + 1)]"
   ]
  },
  {
   "cell_type": "code",
   "execution_count": 20,
   "metadata": {},
   "outputs": [],
   "source": [
    "def train(epoch):\n",
    "  network.train()\n",
    "  for batch_idx, (data, target) in enumerate(train_loader):\n",
    "    optimizer.zero_grad()\n",
    "    output = network(data)\n",
    "    loss = F.nll_loss(output, target)\n",
    "    loss.backward()\n",
    "    optimizer.step()\n",
    "    if batch_idx % log_interval == 0:\n",
    "      print('Train Epoch: {} [{}/{} ({:.0f}%)]\\tLoss: {:.6f}'.format(\n",
    "        epoch, batch_idx * len(data), len(train_loader.dataset),\n",
    "        100. * batch_idx / len(train_loader), loss.item()))\n",
    "      train_losses.append(loss.item())\n",
    "      train_counter.append(\n",
    "        (batch_idx*64) + ((epoch-1)*len(train_loader.dataset)))\n",
    "#       torch.save(network.state_dict(), '/results/model.pth')\n",
    "#       torch.save(optimizer.state_dict(), '/results/optimizer.pth')"
   ]
  },
  {
   "cell_type": "code",
   "execution_count": 21,
   "metadata": {},
   "outputs": [],
   "source": [
    "def test():\n",
    "  network.eval()\n",
    "  test_loss = 0\n",
    "  correct = 0\n",
    "  with torch.no_grad():\n",
    "    for data, target in test_loader:\n",
    "      output = network(data)\n",
    "      test_loss += F.nll_loss(output, target, size_average=False).item()\n",
    "      pred = output.data.max(1, keepdim=True)[1]\n",
    "      correct += pred.eq(target.data.view_as(pred)).sum()\n",
    "  test_loss /= len(test_loader.dataset)\n",
    "  test_losses.append(test_loss)\n",
    "  print('\\nTest set: Avg. loss: {:.4f}, Accuracy: {}/{} ({:.0f}%)\\n'.format(\n",
    "    test_loss, correct, len(test_loader.dataset),\n",
    "    100. * correct / len(test_loader.dataset)))"
   ]
  },
  {
   "cell_type": "code",
   "execution_count": 22,
   "metadata": {},
   "outputs": [
    {
     "name": "stderr",
     "output_type": "stream",
     "text": [
      "/anaconda3/envs/rl/lib/python3.7/site-packages/ipykernel_launcher.py:17: UserWarning: Implicit dimension choice for log_softmax has been deprecated. Change the call to include dim=X as an argument.\n",
      "/anaconda3/envs/rl/lib/python3.7/site-packages/torch/nn/_reduction.py:49: UserWarning: size_average and reduce args will be deprecated, please use reduction='sum' instead.\n",
      "  warnings.warn(warning.format(ret))\n"
     ]
    },
    {
     "name": "stdout",
     "output_type": "stream",
     "text": [
      "\n",
      "Test set: Avg. loss: 2.3080, Accuracy: 1158/10000 (11%)\n",
      "\n",
      "Train Epoch: 1 [0/60000 (0%)]\tLoss: 2.327417\n",
      "Train Epoch: 1 [640/60000 (1%)]\tLoss: 2.281192\n",
      "Train Epoch: 1 [1280/60000 (2%)]\tLoss: 2.233628\n",
      "Train Epoch: 1 [1920/60000 (3%)]\tLoss: 2.211578\n",
      "Train Epoch: 1 [2560/60000 (4%)]\tLoss: 2.126926\n",
      "Train Epoch: 1 [3200/60000 (5%)]\tLoss: 2.064281\n",
      "Train Epoch: 1 [3840/60000 (6%)]\tLoss: 1.837786\n",
      "Train Epoch: 1 [4480/60000 (7%)]\tLoss: 1.689895\n",
      "Train Epoch: 1 [5120/60000 (9%)]\tLoss: 1.360809\n",
      "Train Epoch: 1 [5760/60000 (10%)]\tLoss: 1.006904\n",
      "Train Epoch: 1 [6400/60000 (11%)]\tLoss: 0.692894\n",
      "Train Epoch: 1 [7040/60000 (12%)]\tLoss: 0.619352\n",
      "Train Epoch: 1 [7680/60000 (13%)]\tLoss: 0.741522\n",
      "Train Epoch: 1 [8320/60000 (14%)]\tLoss: 0.616266\n",
      "Train Epoch: 1 [8960/60000 (15%)]\tLoss: 0.571856\n",
      "Train Epoch: 1 [9600/60000 (16%)]\tLoss: 0.367075\n",
      "Train Epoch: 1 [10240/60000 (17%)]\tLoss: 0.588445\n",
      "Train Epoch: 1 [10880/60000 (18%)]\tLoss: 0.396084\n",
      "Train Epoch: 1 [11520/60000 (19%)]\tLoss: 0.422756\n",
      "Train Epoch: 1 [12160/60000 (20%)]\tLoss: 0.209031\n",
      "Train Epoch: 1 [12800/60000 (21%)]\tLoss: 0.486699\n",
      "Train Epoch: 1 [13440/60000 (22%)]\tLoss: 0.282139\n",
      "Train Epoch: 1 [14080/60000 (23%)]\tLoss: 0.371591\n",
      "Train Epoch: 1 [14720/60000 (25%)]\tLoss: 0.508904\n",
      "Train Epoch: 1 [15360/60000 (26%)]\tLoss: 0.273136\n",
      "Train Epoch: 1 [16000/60000 (27%)]\tLoss: 0.260119\n",
      "Train Epoch: 1 [16640/60000 (28%)]\tLoss: 0.316359\n",
      "Train Epoch: 1 [17280/60000 (29%)]\tLoss: 0.366274\n",
      "Train Epoch: 1 [17920/60000 (30%)]\tLoss: 0.326054\n",
      "Train Epoch: 1 [18560/60000 (31%)]\tLoss: 0.312459\n",
      "Train Epoch: 1 [19200/60000 (32%)]\tLoss: 0.421284\n",
      "Train Epoch: 1 [19840/60000 (33%)]\tLoss: 0.282539\n",
      "Train Epoch: 1 [20480/60000 (34%)]\tLoss: 0.480900\n",
      "Train Epoch: 1 [21120/60000 (35%)]\tLoss: 0.240982\n",
      "Train Epoch: 1 [21760/60000 (36%)]\tLoss: 0.177723\n",
      "Train Epoch: 1 [22400/60000 (37%)]\tLoss: 0.139246\n",
      "Train Epoch: 1 [23040/60000 (38%)]\tLoss: 0.139230\n",
      "Train Epoch: 1 [23680/60000 (39%)]\tLoss: 0.212220\n",
      "Train Epoch: 1 [24320/60000 (41%)]\tLoss: 0.107449\n",
      "Train Epoch: 1 [24960/60000 (42%)]\tLoss: 0.161257\n",
      "Train Epoch: 1 [25600/60000 (43%)]\tLoss: 0.289500\n",
      "Train Epoch: 1 [26240/60000 (44%)]\tLoss: 0.276896\n",
      "Train Epoch: 1 [26880/60000 (45%)]\tLoss: 0.226603\n",
      "Train Epoch: 1 [27520/60000 (46%)]\tLoss: 0.206825\n",
      "Train Epoch: 1 [28160/60000 (47%)]\tLoss: 0.286798\n",
      "Train Epoch: 1 [28800/60000 (48%)]\tLoss: 0.255973\n",
      "Train Epoch: 1 [29440/60000 (49%)]\tLoss: 0.093251\n",
      "Train Epoch: 1 [30080/60000 (50%)]\tLoss: 0.253834\n",
      "Train Epoch: 1 [30720/60000 (51%)]\tLoss: 0.140602\n",
      "Train Epoch: 1 [31360/60000 (52%)]\tLoss: 0.259113\n",
      "Train Epoch: 1 [32000/60000 (53%)]\tLoss: 0.293392\n",
      "Train Epoch: 1 [32640/60000 (54%)]\tLoss: 0.045364\n",
      "Train Epoch: 1 [33280/60000 (55%)]\tLoss: 0.240610\n",
      "Train Epoch: 1 [33920/60000 (57%)]\tLoss: 0.120918\n",
      "Train Epoch: 1 [34560/60000 (58%)]\tLoss: 0.184932\n",
      "Train Epoch: 1 [35200/60000 (59%)]\tLoss: 0.136153\n",
      "Train Epoch: 1 [35840/60000 (60%)]\tLoss: 0.146410\n",
      "Train Epoch: 1 [36480/60000 (61%)]\tLoss: 0.205027\n",
      "Train Epoch: 1 [37120/60000 (62%)]\tLoss: 0.176795\n",
      "Train Epoch: 1 [37760/60000 (63%)]\tLoss: 0.105981\n",
      "Train Epoch: 1 [38400/60000 (64%)]\tLoss: 0.232250\n",
      "Train Epoch: 1 [39040/60000 (65%)]\tLoss: 0.252171\n",
      "Train Epoch: 1 [39680/60000 (66%)]\tLoss: 0.138871\n",
      "Train Epoch: 1 [40320/60000 (67%)]\tLoss: 0.132063\n",
      "Train Epoch: 1 [40960/60000 (68%)]\tLoss: 0.210288\n",
      "Train Epoch: 1 [41600/60000 (69%)]\tLoss: 0.134520\n",
      "Train Epoch: 1 [42240/60000 (70%)]\tLoss: 0.135999\n",
      "Train Epoch: 1 [42880/60000 (71%)]\tLoss: 0.111079\n",
      "Train Epoch: 1 [43520/60000 (72%)]\tLoss: 0.099799\n",
      "Train Epoch: 1 [44160/60000 (74%)]\tLoss: 0.125188\n",
      "Train Epoch: 1 [44800/60000 (75%)]\tLoss: 0.271927\n",
      "Train Epoch: 1 [45440/60000 (76%)]\tLoss: 0.136908\n",
      "Train Epoch: 1 [46080/60000 (77%)]\tLoss: 0.101079\n",
      "Train Epoch: 1 [46720/60000 (78%)]\tLoss: 0.154243\n",
      "Train Epoch: 1 [47360/60000 (79%)]\tLoss: 0.137720\n",
      "Train Epoch: 1 [48000/60000 (80%)]\tLoss: 0.120439\n",
      "Train Epoch: 1 [48640/60000 (81%)]\tLoss: 0.127687\n",
      "Train Epoch: 1 [49280/60000 (82%)]\tLoss: 0.214102\n",
      "Train Epoch: 1 [49920/60000 (83%)]\tLoss: 0.210290\n",
      "Train Epoch: 1 [50560/60000 (84%)]\tLoss: 0.148960\n",
      "Train Epoch: 1 [51200/60000 (85%)]\tLoss: 0.087956\n",
      "Train Epoch: 1 [51840/60000 (86%)]\tLoss: 0.125421\n",
      "Train Epoch: 1 [52480/60000 (87%)]\tLoss: 0.065394\n",
      "Train Epoch: 1 [53120/60000 (88%)]\tLoss: 0.158402\n",
      "Train Epoch: 1 [53760/60000 (90%)]\tLoss: 0.194229\n",
      "Train Epoch: 1 [54400/60000 (91%)]\tLoss: 0.064587\n",
      "Train Epoch: 1 [55040/60000 (92%)]\tLoss: 0.138735\n",
      "Train Epoch: 1 [55680/60000 (93%)]\tLoss: 0.081158\n",
      "Train Epoch: 1 [56320/60000 (94%)]\tLoss: 0.076329\n",
      "Train Epoch: 1 [56960/60000 (95%)]\tLoss: 0.076251\n",
      "Train Epoch: 1 [57600/60000 (96%)]\tLoss: 0.183228\n",
      "Train Epoch: 1 [58240/60000 (97%)]\tLoss: 0.075825\n",
      "Train Epoch: 1 [58880/60000 (98%)]\tLoss: 0.236646\n",
      "Train Epoch: 1 [59520/60000 (99%)]\tLoss: 0.121317\n",
      "\n",
      "Test set: Avg. loss: 0.1114, Accuracy: 9671/10000 (96%)\n",
      "\n",
      "Train Epoch: 2 [0/60000 (0%)]\tLoss: 0.083141\n",
      "Train Epoch: 2 [640/60000 (1%)]\tLoss: 0.113525\n",
      "Train Epoch: 2 [1280/60000 (2%)]\tLoss: 0.211821\n",
      "Train Epoch: 2 [1920/60000 (3%)]\tLoss: 0.103142\n",
      "Train Epoch: 2 [2560/60000 (4%)]\tLoss: 0.130216\n",
      "Train Epoch: 2 [3200/60000 (5%)]\tLoss: 0.150300\n",
      "Train Epoch: 2 [3840/60000 (6%)]\tLoss: 0.047811\n",
      "Train Epoch: 2 [4480/60000 (7%)]\tLoss: 0.118800\n",
      "Train Epoch: 2 [5120/60000 (9%)]\tLoss: 0.150950\n",
      "Train Epoch: 2 [5760/60000 (10%)]\tLoss: 0.170634\n",
      "Train Epoch: 2 [6400/60000 (11%)]\tLoss: 0.177369\n",
      "Train Epoch: 2 [7040/60000 (12%)]\tLoss: 0.168912\n",
      "Train Epoch: 2 [7680/60000 (13%)]\tLoss: 0.108213\n",
      "Train Epoch: 2 [8320/60000 (14%)]\tLoss: 0.080233\n",
      "Train Epoch: 2 [8960/60000 (15%)]\tLoss: 0.074002\n",
      "Train Epoch: 2 [9600/60000 (16%)]\tLoss: 0.065869\n",
      "Train Epoch: 2 [10240/60000 (17%)]\tLoss: 0.055803\n",
      "Train Epoch: 2 [10880/60000 (18%)]\tLoss: 0.039400\n",
      "Train Epoch: 2 [11520/60000 (19%)]\tLoss: 0.087802\n",
      "Train Epoch: 2 [12160/60000 (20%)]\tLoss: 0.025417\n",
      "Train Epoch: 2 [12800/60000 (21%)]\tLoss: 0.073492\n",
      "Train Epoch: 2 [13440/60000 (22%)]\tLoss: 0.095955\n",
      "Train Epoch: 2 [14080/60000 (23%)]\tLoss: 0.088247\n",
      "Train Epoch: 2 [14720/60000 (25%)]\tLoss: 0.134385\n",
      "Train Epoch: 2 [15360/60000 (26%)]\tLoss: 0.153789\n",
      "Train Epoch: 2 [16000/60000 (27%)]\tLoss: 0.106958\n",
      "Train Epoch: 2 [16640/60000 (28%)]\tLoss: 0.125711\n",
      "Train Epoch: 2 [17280/60000 (29%)]\tLoss: 0.105719\n",
      "Train Epoch: 2 [17920/60000 (30%)]\tLoss: 0.070638\n",
      "Train Epoch: 2 [18560/60000 (31%)]\tLoss: 0.203169\n",
      "Train Epoch: 2 [19200/60000 (32%)]\tLoss: 0.094261\n",
      "Train Epoch: 2 [19840/60000 (33%)]\tLoss: 0.257812\n",
      "Train Epoch: 2 [20480/60000 (34%)]\tLoss: 0.066283\n",
      "Train Epoch: 2 [21120/60000 (35%)]\tLoss: 0.087343\n",
      "Train Epoch: 2 [21760/60000 (36%)]\tLoss: 0.074971\n",
      "Train Epoch: 2 [22400/60000 (37%)]\tLoss: 0.176859\n",
      "Train Epoch: 2 [23040/60000 (38%)]\tLoss: 0.265794\n",
      "Train Epoch: 2 [23680/60000 (39%)]\tLoss: 0.025224\n",
      "Train Epoch: 2 [24320/60000 (41%)]\tLoss: 0.122662\n",
      "Train Epoch: 2 [24960/60000 (42%)]\tLoss: 0.137340\n",
      "Train Epoch: 2 [25600/60000 (43%)]\tLoss: 0.119169\n",
      "Train Epoch: 2 [26240/60000 (44%)]\tLoss: 0.039380\n",
      "Train Epoch: 2 [26880/60000 (45%)]\tLoss: 0.035786\n",
      "Train Epoch: 2 [27520/60000 (46%)]\tLoss: 0.067862\n",
      "Train Epoch: 2 [28160/60000 (47%)]\tLoss: 0.029174\n",
      "Train Epoch: 2 [28800/60000 (48%)]\tLoss: 0.120054\n",
      "Train Epoch: 2 [29440/60000 (49%)]\tLoss: 0.031064\n",
      "Train Epoch: 2 [30080/60000 (50%)]\tLoss: 0.211662\n",
      "Train Epoch: 2 [30720/60000 (51%)]\tLoss: 0.158752\n",
      "Train Epoch: 2 [31360/60000 (52%)]\tLoss: 0.081917\n",
      "Train Epoch: 2 [32000/60000 (53%)]\tLoss: 0.193749\n",
      "Train Epoch: 2 [32640/60000 (54%)]\tLoss: 0.074029\n",
      "Train Epoch: 2 [33280/60000 (55%)]\tLoss: 0.048862\n",
      "Train Epoch: 2 [33920/60000 (57%)]\tLoss: 0.074248\n",
      "Train Epoch: 2 [34560/60000 (58%)]\tLoss: 0.189067\n",
      "Train Epoch: 2 [35200/60000 (59%)]\tLoss: 0.091735\n",
      "Train Epoch: 2 [35840/60000 (60%)]\tLoss: 0.040548\n",
      "Train Epoch: 2 [36480/60000 (61%)]\tLoss: 0.036944\n",
      "Train Epoch: 2 [37120/60000 (62%)]\tLoss: 0.153293\n",
      "Train Epoch: 2 [37760/60000 (63%)]\tLoss: 0.127908\n",
      "Train Epoch: 2 [38400/60000 (64%)]\tLoss: 0.032179\n",
      "Train Epoch: 2 [39040/60000 (65%)]\tLoss: 0.054076\n",
      "Train Epoch: 2 [39680/60000 (66%)]\tLoss: 0.126554\n",
      "Train Epoch: 2 [40320/60000 (67%)]\tLoss: 0.020930\n",
      "Train Epoch: 2 [40960/60000 (68%)]\tLoss: 0.056934\n",
      "Train Epoch: 2 [41600/60000 (69%)]\tLoss: 0.048415\n",
      "Train Epoch: 2 [42240/60000 (70%)]\tLoss: 0.167098\n",
      "Train Epoch: 2 [42880/60000 (71%)]\tLoss: 0.079178\n",
      "Train Epoch: 2 [43520/60000 (72%)]\tLoss: 0.059873\n",
      "Train Epoch: 2 [44160/60000 (74%)]\tLoss: 0.008366\n",
      "Train Epoch: 2 [44800/60000 (75%)]\tLoss: 0.085296\n",
      "Train Epoch: 2 [45440/60000 (76%)]\tLoss: 0.041622\n",
      "Train Epoch: 2 [46080/60000 (77%)]\tLoss: 0.068992\n",
      "Train Epoch: 2 [46720/60000 (78%)]\tLoss: 0.082114\n",
      "Train Epoch: 2 [47360/60000 (79%)]\tLoss: 0.164399\n",
      "Train Epoch: 2 [48000/60000 (80%)]\tLoss: 0.057788\n",
      "Train Epoch: 2 [48640/60000 (81%)]\tLoss: 0.045876\n",
      "Train Epoch: 2 [49280/60000 (82%)]\tLoss: 0.071030\n",
      "Train Epoch: 2 [49920/60000 (83%)]\tLoss: 0.063248\n",
      "Train Epoch: 2 [50560/60000 (84%)]\tLoss: 0.065334\n",
      "Train Epoch: 2 [51200/60000 (85%)]\tLoss: 0.064541\n",
      "Train Epoch: 2 [51840/60000 (86%)]\tLoss: 0.116742\n",
      "Train Epoch: 2 [52480/60000 (87%)]\tLoss: 0.096161\n",
      "Train Epoch: 2 [53120/60000 (88%)]\tLoss: 0.130757\n",
      "Train Epoch: 2 [53760/60000 (90%)]\tLoss: 0.039924\n",
      "Train Epoch: 2 [54400/60000 (91%)]\tLoss: 0.033436\n",
      "Train Epoch: 2 [55040/60000 (92%)]\tLoss: 0.033692\n",
      "Train Epoch: 2 [55680/60000 (93%)]\tLoss: 0.039777\n",
      "Train Epoch: 2 [56320/60000 (94%)]\tLoss: 0.334224\n",
      "Train Epoch: 2 [56960/60000 (95%)]\tLoss: 0.068090\n",
      "Train Epoch: 2 [57600/60000 (96%)]\tLoss: 0.062777\n",
      "Train Epoch: 2 [58240/60000 (97%)]\tLoss: 0.015193\n",
      "Train Epoch: 2 [58880/60000 (98%)]\tLoss: 0.082244\n",
      "Train Epoch: 2 [59520/60000 (99%)]\tLoss: 0.029131\n",
      "\n",
      "Test set: Avg. loss: 0.0732, Accuracy: 9763/10000 (97%)\n",
      "\n",
      "Train Epoch: 3 [0/60000 (0%)]\tLoss: 0.067891\n",
      "Train Epoch: 3 [640/60000 (1%)]\tLoss: 0.123885\n",
      "Train Epoch: 3 [1280/60000 (2%)]\tLoss: 0.143626\n",
      "Train Epoch: 3 [1920/60000 (3%)]\tLoss: 0.034363\n",
      "Train Epoch: 3 [2560/60000 (4%)]\tLoss: 0.067396\n",
      "Train Epoch: 3 [3200/60000 (5%)]\tLoss: 0.065322\n",
      "Train Epoch: 3 [3840/60000 (6%)]\tLoss: 0.010794\n",
      "Train Epoch: 3 [4480/60000 (7%)]\tLoss: 0.165433\n",
      "Train Epoch: 3 [5120/60000 (9%)]\tLoss: 0.096328\n",
      "Train Epoch: 3 [5760/60000 (10%)]\tLoss: 0.040959\n",
      "Train Epoch: 3 [6400/60000 (11%)]\tLoss: 0.188246\n",
      "Train Epoch: 3 [7040/60000 (12%)]\tLoss: 0.022715\n",
      "Train Epoch: 3 [7680/60000 (13%)]\tLoss: 0.063106\n",
      "Train Epoch: 3 [8320/60000 (14%)]\tLoss: 0.085653\n",
      "Train Epoch: 3 [8960/60000 (15%)]\tLoss: 0.144466\n",
      "Train Epoch: 3 [9600/60000 (16%)]\tLoss: 0.040791\n",
      "Train Epoch: 3 [10240/60000 (17%)]\tLoss: 0.095529\n",
      "Train Epoch: 3 [10880/60000 (18%)]\tLoss: 0.077221\n",
      "Train Epoch: 3 [11520/60000 (19%)]\tLoss: 0.052043\n",
      "Train Epoch: 3 [12160/60000 (20%)]\tLoss: 0.153302\n",
      "Train Epoch: 3 [12800/60000 (21%)]\tLoss: 0.119628\n",
      "Train Epoch: 3 [13440/60000 (22%)]\tLoss: 0.021650\n",
      "Train Epoch: 3 [14080/60000 (23%)]\tLoss: 0.072586\n",
      "Train Epoch: 3 [14720/60000 (25%)]\tLoss: 0.031658\n",
      "Train Epoch: 3 [15360/60000 (26%)]\tLoss: 0.013663\n",
      "Train Epoch: 3 [16000/60000 (27%)]\tLoss: 0.150497\n",
      "Train Epoch: 3 [16640/60000 (28%)]\tLoss: 0.136151\n",
      "Train Epoch: 3 [17280/60000 (29%)]\tLoss: 0.032418\n",
      "Train Epoch: 3 [17920/60000 (30%)]\tLoss: 0.020822\n",
      "Train Epoch: 3 [18560/60000 (31%)]\tLoss: 0.076451\n",
      "Train Epoch: 3 [19200/60000 (32%)]\tLoss: 0.038108\n",
      "Train Epoch: 3 [19840/60000 (33%)]\tLoss: 0.141812\n",
      "Train Epoch: 3 [20480/60000 (34%)]\tLoss: 0.191628\n",
      "Train Epoch: 3 [21120/60000 (35%)]\tLoss: 0.026662\n",
      "Train Epoch: 3 [21760/60000 (36%)]\tLoss: 0.141493\n",
      "Train Epoch: 3 [22400/60000 (37%)]\tLoss: 0.136675\n",
      "Train Epoch: 3 [23040/60000 (38%)]\tLoss: 0.019855\n",
      "Train Epoch: 3 [23680/60000 (39%)]\tLoss: 0.018360\n",
      "Train Epoch: 3 [24320/60000 (41%)]\tLoss: 0.022316\n",
      "Train Epoch: 3 [24960/60000 (42%)]\tLoss: 0.018406\n",
      "Train Epoch: 3 [25600/60000 (43%)]\tLoss: 0.095230\n",
      "Train Epoch: 3 [26240/60000 (44%)]\tLoss: 0.068542\n",
      "Train Epoch: 3 [26880/60000 (45%)]\tLoss: 0.080994\n",
      "Train Epoch: 3 [27520/60000 (46%)]\tLoss: 0.041984\n",
      "Train Epoch: 3 [28160/60000 (47%)]\tLoss: 0.110741\n",
      "Train Epoch: 3 [28800/60000 (48%)]\tLoss: 0.050364\n",
      "Train Epoch: 3 [29440/60000 (49%)]\tLoss: 0.027855\n",
      "Train Epoch: 3 [30080/60000 (50%)]\tLoss: 0.044434\n",
      "Train Epoch: 3 [30720/60000 (51%)]\tLoss: 0.034308\n",
      "Train Epoch: 3 [31360/60000 (52%)]\tLoss: 0.088657\n",
      "Train Epoch: 3 [32000/60000 (53%)]\tLoss: 0.077134\n",
      "Train Epoch: 3 [32640/60000 (54%)]\tLoss: 0.192496\n",
      "Train Epoch: 3 [33280/60000 (55%)]\tLoss: 0.047819\n",
      "Train Epoch: 3 [33920/60000 (57%)]\tLoss: 0.105936\n",
      "Train Epoch: 3 [34560/60000 (58%)]\tLoss: 0.092352\n",
      "Train Epoch: 3 [35200/60000 (59%)]\tLoss: 0.058494\n",
      "Train Epoch: 3 [35840/60000 (60%)]\tLoss: 0.118833\n",
      "Train Epoch: 3 [36480/60000 (61%)]\tLoss: 0.077500\n",
      "Train Epoch: 3 [37120/60000 (62%)]\tLoss: 0.054519\n",
      "Train Epoch: 3 [37760/60000 (63%)]\tLoss: 0.017590\n",
      "Train Epoch: 3 [38400/60000 (64%)]\tLoss: 0.029200\n",
      "Train Epoch: 3 [39040/60000 (65%)]\tLoss: 0.040511\n",
      "Train Epoch: 3 [39680/60000 (66%)]\tLoss: 0.024931\n",
      "Train Epoch: 3 [40320/60000 (67%)]\tLoss: 0.097297\n",
      "Train Epoch: 3 [40960/60000 (68%)]\tLoss: 0.160088\n",
      "Train Epoch: 3 [41600/60000 (69%)]\tLoss: 0.066468\n",
      "Train Epoch: 3 [42240/60000 (70%)]\tLoss: 0.076870\n",
      "Train Epoch: 3 [42880/60000 (71%)]\tLoss: 0.080899\n",
      "Train Epoch: 3 [43520/60000 (72%)]\tLoss: 0.035014\n",
      "Train Epoch: 3 [44160/60000 (74%)]\tLoss: 0.077870\n",
      "Train Epoch: 3 [44800/60000 (75%)]\tLoss: 0.056019\n",
      "Train Epoch: 3 [45440/60000 (76%)]\tLoss: 0.087917\n",
      "Train Epoch: 3 [46080/60000 (77%)]\tLoss: 0.014405\n",
      "Train Epoch: 3 [46720/60000 (78%)]\tLoss: 0.190953\n",
      "Train Epoch: 3 [47360/60000 (79%)]\tLoss: 0.131425\n",
      "Train Epoch: 3 [48000/60000 (80%)]\tLoss: 0.117656\n",
      "Train Epoch: 3 [48640/60000 (81%)]\tLoss: 0.032541\n",
      "Train Epoch: 3 [49280/60000 (82%)]\tLoss: 0.021752\n",
      "Train Epoch: 3 [49920/60000 (83%)]\tLoss: 0.055662\n",
      "Train Epoch: 3 [50560/60000 (84%)]\tLoss: 0.095746\n",
      "Train Epoch: 3 [51200/60000 (85%)]\tLoss: 0.063043\n",
      "Train Epoch: 3 [51840/60000 (86%)]\tLoss: 0.044201\n",
      "Train Epoch: 3 [52480/60000 (87%)]\tLoss: 0.036791\n",
      "Train Epoch: 3 [53120/60000 (88%)]\tLoss: 0.039347\n",
      "Train Epoch: 3 [53760/60000 (90%)]\tLoss: 0.135380\n",
      "Train Epoch: 3 [54400/60000 (91%)]\tLoss: 0.058127\n",
      "Train Epoch: 3 [55040/60000 (92%)]\tLoss: 0.095308\n",
      "Train Epoch: 3 [55680/60000 (93%)]\tLoss: 0.025413\n",
      "Train Epoch: 3 [56320/60000 (94%)]\tLoss: 0.070268\n",
      "Train Epoch: 3 [56960/60000 (95%)]\tLoss: 0.032550\n",
      "Train Epoch: 3 [57600/60000 (96%)]\tLoss: 0.029404\n",
      "Train Epoch: 3 [58240/60000 (97%)]\tLoss: 0.127101\n",
      "Train Epoch: 3 [58880/60000 (98%)]\tLoss: 0.061996\n",
      "Train Epoch: 3 [59520/60000 (99%)]\tLoss: 0.041444\n",
      "\n",
      "Test set: Avg. loss: 0.0569, Accuracy: 9820/10000 (98%)\n",
      "\n"
     ]
    }
   ],
   "source": [
    "test()\n",
    "for epoch in range(1, n_epochs + 1):\n",
    "  train(epoch)\n",
    "  test()"
   ]
  }
 ],
 "metadata": {
  "kernelspec": {
   "display_name": "rl",
   "language": "python",
   "name": "myenv"
  },
  "language_info": {
   "codemirror_mode": {
    "name": "ipython",
    "version": 3
   },
   "file_extension": ".py",
   "mimetype": "text/x-python",
   "name": "python",
   "nbconvert_exporter": "python",
   "pygments_lexer": "ipython3",
   "version": "3.7.3"
  }
 },
 "nbformat": 4,
 "nbformat_minor": 2
}

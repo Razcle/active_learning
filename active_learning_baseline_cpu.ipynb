{
 "cells": [
  {
   "cell_type": "code",
   "execution_count": 1,
   "metadata": {},
   "outputs": [],
   "source": [
    "# import torch\n",
    "import torchvision\n",
    "import torch.nn as nn\n",
    "import torch.nn.functional as F\n",
    "import torch.optim as optim\n",
    "import matplotlib.pyplot as plt\n",
    "import numpy as np\n",
    "from tools import *\n",
    "import operator\n",
    "import itertools"
   ]
  },
  {
   "cell_type": "code",
   "execution_count": 48,
   "metadata": {},
   "outputs": [],
   "source": [
    "def one_hot_embedding(labels, num_classes):\n",
    "    \"\"\"Embedding labels to one-hot form.\n",
    "\n",
    "    Args:\n",
    "      labels: (LongTensor) class labels, sized [N,].\n",
    "      num_classes: (int) number of classes.\n",
    "\n",
    "    Returns:\n",
    "      (tensor) encoded labels, sized [N, #classes].\n",
    "    \"\"\"\n",
    "    y = torch.eye(num_classes) \n",
    "    return y[labels] "
   ]
  },
  {
   "cell_type": "code",
   "execution_count": 112,
   "metadata": {},
   "outputs": [
    {
     "name": "stdout",
     "output_type": "stream",
     "text": [
      "yo torch.Size([2, 5, 4])\n",
      "torch.Size([2, 15])\n",
      "one_hot_size torch.Size([2, 15, 4])\n",
      "prob torch.Size([2, 5, 15])\n",
      "tensor([[0.9000, 0.9000, 0.1000, 0.9000, 0.9000, 0.9000, 0.9000, 0.1000, 0.9000,\n",
      "         0.9000, 0.9000, 0.9000, 0.9000, 0.9000, 0.9000],\n",
      "        [0.0000, 0.0000, 0.0000, 0.0000, 0.0000, 0.1000, 0.0000, 0.0000, 0.0000,\n",
      "         0.0000, 0.0000, 0.0000, 0.0000, 0.0000, 0.0000]])\n",
      "g torch.Size([2, 5, 300])\n",
      "tensor(0.9000)\n",
      "tensor(0.9000)\n",
      "tensor(0.1000)\n",
      "tensor(0.9000)\n",
      "tensor(0.9000)\n",
      "tensor(0.9000)\n",
      "tensor(0.9000)\n",
      "tensor(0.1000)\n",
      "tensor(0.9000)\n",
      "tensor(0.9000)\n",
      "tensor(0.9000)\n",
      "tensor(0.9000)\n",
      "tensor(0.9000)\n",
      "tensor(0.9000)\n",
      "tensor(0.9000)\n",
      "ha\n",
      "tensor(1.1921e-07)\n",
      "tensor(1.1921e-07)\n",
      "tensor(1.1921e-07)\n",
      "tensor(1.1921e-07)\n",
      "tensor(1.1921e-07)\n",
      "tensor(0.1000)\n",
      "tensor(1.1921e-07)\n",
      "tensor(1.1921e-07)\n",
      "tensor(1.1921e-07)\n",
      "tensor(1.1921e-07)\n",
      "tensor(1.1921e-07)\n",
      "tensor(1.1921e-07)\n",
      "tensor(1.1921e-07)\n",
      "tensor(1.1921e-07)\n",
      "tensor(1.1921e-07)\n"
     ]
    }
   ],
   "source": [
    "from torch.distributions.categorical import Categorical\n",
    "a=torch.tensor([ 0.9, 0.1, 0.0, 0.0 ])\n",
    "b=torch.tensor([ 0.0, 0.1, 0.9, 0.0 ])\n",
    "c=a.repeat(5).view(5,4)\n",
    "d=b.repeat(5).view(5,4)\n",
    "yo=torch.stack((c,d))\n",
    "print('yo',yo.size())\n",
    "m = Categorical(probs=a)\n",
    "hey=Categorical(probs=yo)\n",
    "sample=m.sample([2,5,3]).view(2,15)\n",
    "print(sample.size())\n",
    "one_hot_samples=one_hot_embedding(sample,4)\n",
    "print('one_hot_size',one_hot_samples.size())\n",
    "prob=yo@one_hot_samples.permute(0,2,1)\n",
    "print('prob',prob.size())\n",
    "print(torch.mean(prob,dim=1))\n",
    "\n",
    "g=sample_from_batch_categorical_multiple_cpu(yo,sample_num=300)\n",
    "print('g',g.size())\n",
    "\n",
    "first_cat=Categorical(probs=c)\n",
    "second_cat=Categorical(probs=d)\n",
    "for i in sample[0]:\n",
    "    a=torch.mean(torch.exp(first_cat.log_prob(i)))\n",
    "    print(a)\n",
    "print('ha')\n",
    "for i in sample[1]:\n",
    "    a=torch.mean(torch.exp(second_cat.log_prob(i)))\n",
    "    print(a)"
   ]
  },
  {
   "cell_type": "code",
   "execution_count": 32,
   "metadata": {},
   "outputs": [],
   "source": [
    "train_data=torchvision.datasets.MNIST('./', train=True, download=True,transform=torchvision.transforms.ToTensor())\n",
    "test_data=torchvision.datasets.MNIST('./', train=False, download=True,transform=torchvision.transforms.ToTensor())\n",
    "# train_loader = torch.utils.data.DataLoader(train_data, batch_size=100, shuffle=True)\n",
    "# test_loader = torch.utils.data.DataLoader(test_data, batch_size=100, shuffle=True)"
   ]
  },
  {
   "cell_type": "code",
   "execution_count": 33,
   "metadata": {},
   "outputs": [
    {
     "name": "stdout",
     "output_type": "stream",
     "text": [
      "torch.Size([60000, 1, 28, 28])\n",
      "torch.Size([60000])\n",
      "torch.Size([10000, 1, 28, 28])\n",
      "torch.Size([10000])\n"
     ]
    }
   ],
   "source": [
    "train_data_list=[]\n",
    "train_label_list=[]\n",
    "for x,y in train_data:\n",
    "    train_data_list.append(x)\n",
    "    train_label_list.append(y)\n",
    "    \n",
    "test_data_list=[]\n",
    "test_label_list=[]\n",
    "for x,y in test_data:\n",
    "    test_data_list.append(x)\n",
    "    test_label_list.append(y)\n",
    "    \n",
    "train_data_tensor=torch.stack(train_data_list)\n",
    "train_label_tensor=torch.tensor(train_label_list)\n",
    "test_data_tensor=torch.stack(test_data_list)\n",
    "test_label_tensor=torch.tensor(test_label_list)\n",
    "\n",
    "print(train_data_tensor.size())\n",
    "print(train_label_tensor.size())\n",
    "print(test_data_tensor.size())\n",
    "print(test_label_tensor.size())"
   ]
  },
  {
   "cell_type": "code",
   "execution_count": 34,
   "metadata": {},
   "outputs": [
    {
     "name": "stdout",
     "output_type": "stream",
     "text": [
      "torch.Size([2, 1, 28, 28])\n"
     ]
    }
   ],
   "source": [
    "print(train_data_tensor[0:2].size())"
   ]
  },
  {
   "cell_type": "code",
   "execution_count": 121,
   "metadata": {},
   "outputs": [],
   "source": [
    "class Net(nn.Module):\n",
    "    def __init__(self,feature_dim):\n",
    "        super(Net, self).__init__()\n",
    "        self.feature_dim=feature_dim        \n",
    "        self.conv1 = nn.Conv2d(1, 10, kernel_size=5)\n",
    "        self.conv2 = nn.Conv2d(10, 20, kernel_size=5)\n",
    "        self.fc1 = nn.Linear(320, 100)\n",
    "        self.fc2 = nn.Linear(100, feature_dim)\n",
    "        self.fc3 = nn.Linear(feature_dim,10)\n",
    "        \n",
    "        self.optimizer = optim.Adam(self.parameters(), lr=0.001)\n",
    "\n",
    "    def forward(self, x):\n",
    "        x=x.view(-1,1,28,28)\n",
    "        x = F.relu(F.max_pool2d(self.conv1(x), 2))\n",
    "        x = F.relu(F.max_pool2d(self.conv2(x), 2))\n",
    "        x = x.view(-1, 320)\n",
    "        x = F.relu(self.fc1(x))\n",
    "        x =torch.tanh(self.fc2(x))\n",
    "        x= self.fc3(x)\n",
    "        return F.log_softmax(x,dim=-1)\n",
    "        \n",
    "    def predictive_distribution_entropy(self,x):\n",
    "        with torch.no_grad():\n",
    "            batch_logit=self.forward(x)\n",
    "            batch_probs=torch.exp(batch_logit)\n",
    "            batch_entropy=-torch.sum(batch_logit*batch_probs,dim=-1)\n",
    "#             print(batch_entropy.size())\n",
    "        return batch_entropy\n",
    "\n",
    "        \n",
    "    \n",
    "    def train(self,x,label):\n",
    "        train_losses = []\n",
    "        batch_size=100\n",
    "        for epoch in range(0,1000):\n",
    "            if epoch%100==0:\n",
    "                print('learning_epoch:',epoch)\n",
    "            for it in range(0,int(x.size(0)/batch_size)):\n",
    "                index=np.random.choice(x.size(0),batch_size)\n",
    "                self.optimizer.zero_grad()\n",
    "                output = self.forward(x[index])\n",
    "                nll_loss= F.nll_loss(output,label[index],reduction='sum')\n",
    "                nll_loss.backward()\n",
    "                self.optimizer.step()\n",
    "                train_losses.append(nll_loss.item())\n",
    "        plt.title('training_accuracy')\n",
    "        plt.plot(train_losses)\n",
    "        plt.show()\n",
    "        return train_losses\n",
    "    \n",
    "    def test(self,x,label):\n",
    "        correct=0\n",
    "        pred = (self.forward(x).data.max(dim=1, keepdim=True)[1]).view(-1)\n",
    "#         print(pred)\n",
    "#         print(label)\n",
    "#         print(torch.nonzero(pred-label))\n",
    "        accuracy=(pred == label).sum().item()/label.size(0)\n",
    "        return accuracy\n",
    "    \n",
    "        \n",
    "#     def test(self):\n",
    "#         correct=0\n",
    "#         for data, target in test_loader:\n",
    "#             pred = self.predict(data)\n",
    "#             correct += pred.eq(target.data.view_as(pred)).sum()\n",
    "#             correct_ratio= float(correct)/len(test_loader.dataset)\n",
    "#         return correct_ratio\n",
    "    "
   ]
  },
  {
   "cell_type": "code",
   "execution_count": null,
   "metadata": {},
   "outputs": [
    {
     "name": "stdout",
     "output_type": "stream",
     "text": [
      "big_epoch: 0 start training...\n",
      "train_data_size 100\n",
      "learning_epoch: 0\n",
      "learning_epoch: 100\n",
      "learning_epoch: 200\n",
      "learning_epoch: 300\n",
      "learning_epoch: 400\n",
      "learning_epoch: 500\n",
      "learning_epoch: 600\n",
      "learning_epoch: 700\n",
      "learning_epoch: 800\n",
      "learning_epoch: 900\n"
     ]
    },
    {
     "data": {
      "image/png": "[encoded data removed]",
      "text/plain": [
       "<Figure size 432x288 with 1 Axes>"
      ]
     },
     "metadata": {
      "needs_background": "light"
     },
     "output_type": "display_data"
    },
    {
     "name": "stdout",
     "output_type": "stream",
     "text": [
      "epoch: 0 test_accuracy 0.7576\n"
     ]
    },
    {
     "data": {
      "image/png": "[encoded data removed]",
      "text/plain": [
       "<Figure size 432x288 with 1 Axes>"
      ]
     },
     "metadata": {
      "needs_background": "light"
     },
     "output_type": "display_data"
    },
    {
     "name": "stdout",
     "output_type": "stream",
     "text": [
      "epoch: 0 start active learning...\n",
      "60 active_iterations\n",
      "120 active_iterations\n",
      "180 active_iterations\n",
      "240 active_iterations\n",
      "300 active_iterations\n",
      "360 active_iterations\n",
      "420 active_iterations\n",
      "480 active_iterations\n",
      "540 active_iterations\n",
      "big_epoch: 1 start training...\n",
      "train_data_size 699\n",
      "learning_epoch: 0\n",
      "learning_epoch: 100\n",
      "learning_epoch: 200\n",
      "learning_epoch: 300\n",
      "learning_epoch: 400\n",
      "learning_epoch: 500\n",
      "learning_epoch: 600\n",
      "learning_epoch: 700\n",
      "learning_epoch: 800\n",
      "learning_epoch: 900\n"
     ]
    },
    {
     "data": {
      "image/png": "[encoded data removed]",
      "text/plain": [
       "<Figure size 432x288 with 1 Axes>"
      ]
     },
     "metadata": {
      "needs_background": "light"
     },
     "output_type": "display_data"
    },
    {
     "name": "stdout",
     "output_type": "stream",
     "text": [
      "epoch: 1 test_accuracy 0.938\n"
     ]
    },
    {
     "data": {
      "image/png": "[encoded data removed]",
      "text/plain": [
       "<Figure size 432x288 with 1 Axes>"
      ]
     },
     "metadata": {
      "needs_background": "light"
     },
     "output_type": "display_data"
    },
    {
     "name": "stdout",
     "output_type": "stream",
     "text": [
      "epoch: 1 start active learning...\n",
      "60 active_iterations\n",
      "120 active_iterations\n",
      "180 active_iterations\n",
      "240 active_iterations\n",
      "300 active_iterations\n",
      "360 active_iterations\n",
      "420 active_iterations\n",
      "480 active_iterations\n",
      "540 active_iterations\n",
      "big_epoch: 2 start training...\n",
      "train_data_size 1298\n",
      "learning_epoch: 0\n",
      "learning_epoch: 100\n",
      "learning_epoch: 200\n",
      "learning_epoch: 300\n",
      "learning_epoch: 400\n",
      "learning_epoch: 500\n",
      "learning_epoch: 600\n",
      "learning_epoch: 700\n",
      "learning_epoch: 800\n",
      "learning_epoch: 900\n"
     ]
    },
    {
     "data": {
      "image/png": "[encoded data removed]",
      "text/plain": [
       "<Figure size 432x288 with 1 Axes>"
      ]
     },
     "metadata": {
      "needs_background": "light"
     },
     "output_type": "display_data"
    },
    {
     "name": "stdout",
     "output_type": "stream",
     "text": [
      "epoch: 2 test_accuracy 0.9723\n"
     ]
    },
    {
     "data": {
      "image/png": "[encoded data removed]",
      "text/plain": [
       "<Figure size 432x288 with 1 Axes>"
      ]
     },
     "metadata": {
      "needs_background": "light"
     },
     "output_type": "display_data"
    },
    {
     "name": "stdout",
     "output_type": "stream",
     "text": [
      "epoch: 2 start active learning...\n",
      "60 active_iterations\n",
      "120 active_iterations\n",
      "180 active_iterations\n",
      "240 active_iterations\n",
      "300 active_iterations\n",
      "360 active_iterations\n",
      "420 active_iterations\n",
      "480 active_iterations\n",
      "540 active_iterations\n",
      "big_epoch: 3 start training...\n",
      "train_data_size 1897\n",
      "learning_epoch: 0\n",
      "learning_epoch: 100\n"
     ]
    }
   ],
   "source": [
    "nn_tanh = Net(feature_dim=20)\n",
    "init_train_data=train_data_tensor[0:100]\n",
    "init_train_label=train_label_tensor[0:100]\n",
    "accuracy_list=[]\n",
    "for epoch in range(0,100):\n",
    "    print('big_epoch:', epoch, 'start training...')\n",
    "    print('train_data_size',init_train_label.size(0))\n",
    "    nn_tanh.train(init_train_data,init_train_label)\n",
    "    \n",
    "    accuracy=nn_tanh.test(test_data_tensor,test_label_tensor)\n",
    "    accuracy_list.append(accuracy)\n",
    "    print('epoch:', epoch, 'test_accuracy', accuracy)\n",
    "    plt.title('test_accuracy')\n",
    "    plt.plot(accuracy_list)\n",
    "    plt.show()\n",
    "    accuracy_list.append(accuracy)\n",
    "    ### active part\n",
    "    print('epoch:', epoch, 'start active learning...')\n",
    "    for i in range(1,600):\n",
    "        if i %60 ==0:\n",
    "            print(i,'active_iterations')\n",
    "        active_batch_data=train_data_tensor[i*100:(i+1)*100]\n",
    "        entropy_list=nn_tanh.predictive_distribution_entropy(active_batch_data)\n",
    "        _, index = entropy_list.max(0)\n",
    "        init_train_data=torch.cat((init_train_data,active_batch_data[index].view(1,1,28,28)),0)\n",
    "        init_train_label=torch.cat((init_train_label,train_label_tensor[index+i*100].view(-1)),0)"
   ]
  }
 ],
 "metadata": {
  "kernelspec": {
   "display_name": "rl",
   "language": "python",
   "name": "myenv"
  },
  "language_info": {
   "codemirror_mode": {
    "name": "ipython",
    "version": 3
   },
   "file_extension": ".py",
   "mimetype": "text/x-python",
   "name": "python",
   "nbconvert_exporter": "python",
   "pygments_lexer": "ipython3",
   "version": "3.7.3"
  }
 },
 "nbformat": 4,
 "nbformat_minor": 2
}

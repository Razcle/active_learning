{
 "cells": [
  {
   "cell_type": "code",
   "execution_count": 1,
   "metadata": {},
   "outputs": [],
   "source": [
    "import torch\n",
    "import torchvision\n",
    "import torch.nn as nn\n",
    "import torch.nn.functional as F\n",
    "import torch.optim as optim\n",
    "import matplotlib.pyplot as plt\n",
    "import numpy as np\n",
    "from tools import *\n",
    "import operator\n",
    "import itertools\n",
    "from torch.distributions.multivariate_normal import MultivariateNormal\n",
    "from torch.distributions import Normal, Bernoulli\n",
    "np.random.seed(0)\n",
    "torch.manual_seed(0)\n",
    "opt= {}\n",
    "if torch.cuda.is_available():\n",
    "    torch.backends.cudnn.deterministic = True\n",
    "    torch.backends.cudnn.benchmark = False\n",
    "    opt['device']= torch.device('cuda:0')\n",
    "    opt['if_cuda']=True\n",
    "else:\n",
    "    opt['device']= torch.device('cpu')\n",
    "    opt['if_cuda']=False"
   ]
  },
  {
   "cell_type": "code",
   "execution_count": 3,
   "metadata": {},
   "outputs": [
    {
     "name": "stdout",
     "output_type": "stream",
     "text": [
      "tensor([ 0.,  0.,  0.,  0.,  0.,  0.,  0.,  0.,  0.,  0.,  0.,  0.,\n",
      "         0.,  0.,  0.,  0.,  0.,  0.,  0.,  0.,  1.,  1.,  1.,  1.,\n",
      "         1.,  1.,  1.,  1.,  1.,  1.,  1.,  1.,  1.,  1.,  1.,  1.,\n",
      "         1.,  1.,  1.,  1.])\n",
      "tensor([[-1.0583, -0.9550],\n",
      "        [-0.9767, -1.0768],\n",
      "        [-0.9256, -0.9052],\n",
      "        [-0.9411, -1.0090],\n",
      "        [-1.0535, -0.9473],\n",
      "        [-1.0202, -0.9389],\n",
      "        [-0.9896, -0.9512],\n",
      "        [-0.9822, -0.9647],\n",
      "        [-0.9995, -0.9107],\n",
      "        [-0.9937, -0.9799],\n",
      "        [-0.9058, -1.0674],\n",
      "        [-1.0635, -0.9515],\n",
      "        [-1.0587, -0.9028],\n",
      "        [-1.0207, -1.0374],\n",
      "        [-0.9039, -0.9260],\n",
      "        [-0.9066, -0.9547],\n",
      "        [-1.0431, -0.9045],\n",
      "        [-1.0134, -0.9599],\n",
      "        [-0.9526, -1.0078],\n",
      "        [-0.9693, -0.9539],\n",
      "        [ 1.0188,  0.9450],\n",
      "        [ 1.0149,  1.0663],\n",
      "        [ 0.9653,  0.9925],\n",
      "        [ 0.9782,  1.0925],\n",
      "        [ 1.0336,  1.0204],\n",
      "        [ 0.9615,  1.0270],\n",
      "        [ 0.9663,  1.0016],\n",
      "        [ 0.9682,  1.0338],\n",
      "        [ 1.0288,  0.9896],\n",
      "        [ 1.0198,  0.9453],\n",
      "        [ 0.9254,  1.0220],\n",
      "        [ 1.0083,  1.0318],\n",
      "        [ 1.1192,  1.0472],\n",
      "        [ 0.9544,  1.0559],\n",
      "        [ 0.9342,  0.9769],\n",
      "        [ 0.9966,  1.0857],\n",
      "        [ 0.9628,  0.9587],\n",
      "        [ 0.9951,  0.9668],\n",
      "        [ 1.0563,  0.9460],\n",
      "        [ 0.9426,  0.9781]])\n"
     ]
    },
    {
     "data": {
      "image/png": "[encoded data removed]",
      "text/plain": [
       "<Figure size 432x288 with 1 Axes>"
      ]
     },
     "metadata": {
      "needs_background": "light"
     },
     "output_type": "display_data"
    }
   ],
   "source": [
    "data_1=np.random.normal([-1,-1],0.05,size=[20,2])\n",
    "data_2=np.random.normal([1,1],0.05,size=[20,2])\n",
    "label=[0]*20\n",
    "label.extend([1]*20)\n",
    "label1=[0]*20\n",
    "label1_tensor=torch.tensor(np.asarray(label1),dtype=torch.float32).view(20,1)\n",
    "label_tensor=torch.tensor(np.asarray(label),dtype=torch.float32)\n",
    "print(label_tensor)\n",
    "data=np.concatenate((data_1,data_2),axis=0)\n",
    "data_tensor=torch.tensor(data, dtype=torch.float)\n",
    "data1_tensor=data_tensor[0:20]\n",
    "data2_tensor=data_tensor[20:]\n",
    "label2=[1]*20\n",
    "label2_tensor=torch.tensor(np.asarray(label2),dtype=torch.float32).view(20,1)\n",
    "print(data_tensor)\n",
    "data_numpy=data_tensor.numpy()\n",
    "plt.scatter(data_numpy[:,0], data_numpy[:,1], marker=\"x\")\n",
    "plt.xlim([-2.0,2.0])\n",
    "plt.ylim([-1.5,1.5])\n",
    "plt.show()"
   ]
  },
  {
   "cell_type": "code",
   "execution_count": 4,
   "metadata": {},
   "outputs": [
    {
     "name": "stdout",
     "output_type": "stream",
     "text": [
      "tensor([[ 0.9380, -0.0236],\n",
      "        [-0.0236,  0.6901]])\n",
      "tensor([[ 0.5142,  0.4729],\n",
      "        [ 0.4651,  0.5101],\n",
      "        [ 0.5209,  0.4820]])\n",
      "tensor([ 0.4899,  0.4851])\n",
      "tensor([[ 0.2519,  0.2294],\n",
      "        [ 0.2279,  0.2474],\n",
      "        [ 0.2552,  0.2338]])\n"
     ]
    }
   ],
   "source": [
    "# print(torch.randn(1))\n",
    "\n",
    "torch.tensor([[1., -1.], [1., 1.]], requires_grad=True)\n",
    "\n",
    "u=(torch.randn(1)*0.1)\n",
    "v=(torch.randn(1)*0.1)\n",
    "c=(torch.randn(1)*0.1)\n",
    "q=torch.exp(c)*torch.tensor([[torch.sqrt(1+u**2+v**2)+u, v], [v, torch.sqrt(1+u**2+v**2)-u]], requires_grad=True)\n",
    "print(q)\n",
    "a=torch.sigmoid((torch.randn(3,2)*0.1)).requires_grad_()\n",
    "b=torch.sigmoid((torch.randn(2)*0.1)).requires_grad_()\n",
    "print(a)\n",
    "print(b)\n",
    "print(a*b)"
   ]
  },
  {
   "cell_type": "code",
   "execution_count": 138,
   "metadata": {},
   "outputs": [],
   "source": [
    "class Net(nn.Module):\n",
    "    def __init__(self,learning_rate=1e-3):\n",
    "        super(Net, self).__init__()\n",
    "        self.device=opt['device']\n",
    "        self.if_cuda=opt['if_cuda']\n",
    "\n",
    "        self.c=(torch.randn(1)*0.1).requires_grad_()\n",
    "        self.u=(torch.randn(1)*0.1).requires_grad_()\n",
    "        self.v=(torch.randn(1)*0.1).requires_grad_()\n",
    "#         self.std_diag=torch.sigmoid((torch.randn(2)*0.1)).requires_grad_()\n",
    "#         self.q_cov=torch.exp(self.c)*torch.tensor([[torch.sqrt(1+self.u**2+self.v**2)+self.u, self.v], [self.v, torch.sqrt(1+self.u**2+self.v**2)-self.u]], requires_grad=True)\n",
    "        self.q_mu=(torch.randn(2)).requires_grad_().to(self.device)\n",
    "        self.q_dis=MultivariateNormal(self.q_mu, covariance_matrix=self.q_cov)\n",
    "        self.prior_mu=torch.tensor(np.zeros(2), dtype=torch.float, requires_grad=False)\n",
    "        self.prior_cov=torch.tensor([[1.0, 0.0], [0.0, 1.0]], requires_grad=False)\n",
    "#         self.prior_diag_cov=torch.tensor([1.0, 1.0], requires_grad=False)\n",
    "        \n",
    "        \n",
    "        params = [self.c,self.u,self.v,self.q_mu]\n",
    "#         params = [self.std_diag,self.q_mu]\n",
    "        self.optimizer = optim.RMSprop(params, lr=learning_rate)\n",
    "\n",
    "    \n",
    "    def sample_from_posterior(self,sample_size):\n",
    "        with torch.no_grad():\n",
    "            eps=torch.randn(sample_size,2)\n",
    "            samples=self.q_mu+eps*self.std_diag\n",
    "            return samples\n",
    "    \n",
    "    \n",
    "    \n",
    "    \n",
    "    def predict(self,x,sample_size):\n",
    "        with torch.no_grad():\n",
    "#             eps=torch.randn(sample_size,2).to(self.device)\n",
    "#             weight_samples= (self.q_mu.to(self.device)+eps*self.std_diag.to(self.device)).view(sample_size,2,1).permute(0, 2, 1)\n",
    "# #             weight_samples=self.q_mu.view(1,2,1).permute(0, 2, 1).to(self.device)\n",
    "            \n",
    "            q_cov=torch.exp(self.c)*torch.tensor([[torch.sqrt(1+self.u**2+self.v**2)+self.u, self.v], [self.v, torch.sqrt(1+self.u**2+self.v**2)-self.u]], requires_grad=True)\n",
    "            self.q_dis=MultivariateNormal(self.q_mu, q_cov)\n",
    "            weight_samples=self.q_dis.rsample(torch.Size([sample.size])).view(sample_size,2,1).permute(0, 2, 1).to(self.device)\n",
    "            prediction=torch.mean(torch.sigmoid((weight_samples@x.t()).permute(2, 0, 1)),1)\n",
    "            return prediction\n",
    "#             return torch.sigmoid(x@self.q_mu.to(self.device))\n",
    "        \n",
    "    \n",
    "    def train(self,x,label,sample_size):\n",
    "        train_losses = []\n",
    "        for epoch in range(0,2000):\n",
    "            self.optimizer.zero_grad()\n",
    "            \n",
    "            \n",
    "#             eps=torch.randn(sample_size,2).to(self.device)\n",
    "#             weight_samples= (self.q_mu.to(self.device)+eps*self.std_diag.to(self.device)).view(sample_size,2,1).permute(0, 2, 1)\n",
    "            \n",
    "            q_cov=torch.exp(self.c)*torch.tensor([[torch.sqrt(1+self.u**2+self.v**2)+self.u, self.v], [self.v, torch.sqrt(1+self.u**2+self.v**2)-self.u]], requires_grad=True)\n",
    "            self.q_dis=MultivariateNormal(self.q_mu, q_cov)\n",
    "            weight_samples=self.q_dis.rsample(torch.Size([sample.size])).view(sample_size,2,1).permute(0, 2, 1).to(self.device)\n",
    "            output = torch.mean(torch.mean(torch.sigmoid((weight_samples@x.t()).permute(2, 0, 1)),1),1)\n",
    "            nll_loss= torch.sum(-Bernoulli(probs=output).log_prob(label))\n",
    "            kl=KL_diag_gaussian(self.q_mu.to(self.device),(self.std_diag**2).to(self.device),self.prior_mu.to(self.device),self.prior_diag_cov.to(self.device))\n",
    "            neg_elbo=nll_loss+kl\n",
    "            neg_elbo.backward()\n",
    "            self.optimizer.step()\n",
    "            train_losses.append(neg_elbo.item())\n",
    "        plt.plot(train_losses)\n",
    "        plt.show()\n",
    "        return train_losses\n",
    "        \n",
    "    def test(self):\n",
    "        correct=0\n",
    "        for data, target in test_loader:\n",
    "            pred = self.predict(data)\n",
    "            correct += pred.eq(target.data.view_as(pred)).sum()\n",
    "            correct_ratio= float(correct)/len(test_loader.dataset)\n",
    "        return correct_ratio\n",
    "    "
   ]
  },
  {
   "cell_type": "code",
   "execution_count": 139,
   "metadata": {},
   "outputs": [
    {
     "ename": "AttributeError",
     "evalue": "'Net' object has no attribute 'q_cov'",
     "output_type": "error",
     "traceback": [
      "\u001b[0;31m---------------------------------------------------------------------------\u001b[0m",
      "\u001b[0;31mAttributeError\u001b[0m                            Traceback (most recent call last)",
      "\u001b[0;32m<ipython-input-139-724f70b54866>\u001b[0m in \u001b[0;36m<module>\u001b[0;34m\u001b[0m\n\u001b[0;32m----> 1\u001b[0;31m \u001b[0mactive_bnn\u001b[0m \u001b[0;34m=\u001b[0m \u001b[0mNet\u001b[0m\u001b[0;34m(\u001b[0m\u001b[0;36m1e-2\u001b[0m\u001b[0;34m)\u001b[0m\u001b[0;34m.\u001b[0m\u001b[0mto\u001b[0m\u001b[0;34m(\u001b[0m\u001b[0mopt\u001b[0m\u001b[0;34m[\u001b[0m\u001b[0;34m'device'\u001b[0m\u001b[0;34m]\u001b[0m\u001b[0;34m)\u001b[0m\u001b[0;34m\u001b[0m\u001b[0;34m\u001b[0m\u001b[0m\n\u001b[0m\u001b[1;32m      2\u001b[0m \u001b[0mprint\u001b[0m\u001b[0;34m(\u001b[0m\u001b[0mdata1_tensor\u001b[0m\u001b[0;34m.\u001b[0m\u001b[0msize\u001b[0m\u001b[0;34m(\u001b[0m\u001b[0;34m)\u001b[0m\u001b[0;34m)\u001b[0m\u001b[0;34m\u001b[0m\u001b[0;34m\u001b[0m\u001b[0m\n\u001b[1;32m      3\u001b[0m \u001b[0mprint\u001b[0m\u001b[0;34m(\u001b[0m\u001b[0mlabel1_tensor\u001b[0m\u001b[0;34m.\u001b[0m\u001b[0msize\u001b[0m\u001b[0;34m(\u001b[0m\u001b[0;34m)\u001b[0m\u001b[0;34m)\u001b[0m\u001b[0;34m\u001b[0m\u001b[0;34m\u001b[0m\u001b[0m\n\u001b[1;32m      4\u001b[0m \u001b[0mnelbo_1\u001b[0m\u001b[0;34m=\u001b[0m\u001b[0mactive_bnn\u001b[0m\u001b[0;34m.\u001b[0m\u001b[0mtrain\u001b[0m\u001b[0;34m(\u001b[0m\u001b[0mdata1_tensor\u001b[0m\u001b[0;34m.\u001b[0m\u001b[0mto\u001b[0m\u001b[0;34m(\u001b[0m\u001b[0mopt\u001b[0m\u001b[0;34m[\u001b[0m\u001b[0;34m'device'\u001b[0m\u001b[0;34m]\u001b[0m\u001b[0;34m)\u001b[0m\u001b[0;34m,\u001b[0m\u001b[0mlabel1_tensor\u001b[0m\u001b[0;34m.\u001b[0m\u001b[0mto\u001b[0m\u001b[0;34m(\u001b[0m\u001b[0mopt\u001b[0m\u001b[0;34m[\u001b[0m\u001b[0;34m'device'\u001b[0m\u001b[0;34m]\u001b[0m\u001b[0;34m)\u001b[0m\u001b[0;34m,\u001b[0m\u001b[0;36m10\u001b[0m\u001b[0;34m)\u001b[0m\u001b[0;34m\u001b[0m\u001b[0;34m\u001b[0m\u001b[0m\n",
      "\u001b[0;32m<ipython-input-138-288c60027845>\u001b[0m in \u001b[0;36m__init__\u001b[0;34m(self, learning_rate)\u001b[0m\n\u001b[1;32m     11\u001b[0m \u001b[0;31m#         self.q_cov=torch.exp(self.c)*torch.tensor([[torch.sqrt(1+self.u**2+self.v**2)+self.u, self.v], [self.v, torch.sqrt(1+self.u**2+self.v**2)-self.u]], requires_grad=True)\u001b[0m\u001b[0;34m\u001b[0m\u001b[0;34m\u001b[0m\u001b[0;34m\u001b[0m\u001b[0m\n\u001b[1;32m     12\u001b[0m         \u001b[0mself\u001b[0m\u001b[0;34m.\u001b[0m\u001b[0mq_mu\u001b[0m\u001b[0;34m=\u001b[0m\u001b[0;34m(\u001b[0m\u001b[0mtorch\u001b[0m\u001b[0;34m.\u001b[0m\u001b[0mrandn\u001b[0m\u001b[0;34m(\u001b[0m\u001b[0;36m2\u001b[0m\u001b[0;34m)\u001b[0m\u001b[0;34m)\u001b[0m\u001b[0;34m.\u001b[0m\u001b[0mrequires_grad_\u001b[0m\u001b[0;34m(\u001b[0m\u001b[0;34m)\u001b[0m\u001b[0;34m.\u001b[0m\u001b[0mto\u001b[0m\u001b[0;34m(\u001b[0m\u001b[0mself\u001b[0m\u001b[0;34m.\u001b[0m\u001b[0mdevice\u001b[0m\u001b[0;34m)\u001b[0m\u001b[0;34m\u001b[0m\u001b[0;34m\u001b[0m\u001b[0m\n\u001b[0;32m---> 13\u001b[0;31m         \u001b[0mself\u001b[0m\u001b[0;34m.\u001b[0m\u001b[0mq_dis\u001b[0m\u001b[0;34m=\u001b[0m\u001b[0mMultivariateNormal\u001b[0m\u001b[0;34m(\u001b[0m\u001b[0mself\u001b[0m\u001b[0;34m.\u001b[0m\u001b[0mq_mu\u001b[0m\u001b[0;34m,\u001b[0m \u001b[0mcovariance_matrix\u001b[0m\u001b[0;34m=\u001b[0m\u001b[0mself\u001b[0m\u001b[0;34m.\u001b[0m\u001b[0mq_cov\u001b[0m\u001b[0;34m)\u001b[0m\u001b[0;34m\u001b[0m\u001b[0;34m\u001b[0m\u001b[0m\n\u001b[0m\u001b[1;32m     14\u001b[0m         \u001b[0mself\u001b[0m\u001b[0;34m.\u001b[0m\u001b[0mprior_mu\u001b[0m\u001b[0;34m=\u001b[0m\u001b[0mtorch\u001b[0m\u001b[0;34m.\u001b[0m\u001b[0mtensor\u001b[0m\u001b[0;34m(\u001b[0m\u001b[0mnp\u001b[0m\u001b[0;34m.\u001b[0m\u001b[0mzeros\u001b[0m\u001b[0;34m(\u001b[0m\u001b[0;36m2\u001b[0m\u001b[0;34m)\u001b[0m\u001b[0;34m,\u001b[0m \u001b[0mdtype\u001b[0m\u001b[0;34m=\u001b[0m\u001b[0mtorch\u001b[0m\u001b[0;34m.\u001b[0m\u001b[0mfloat\u001b[0m\u001b[0;34m,\u001b[0m \u001b[0mrequires_grad\u001b[0m\u001b[0;34m=\u001b[0m\u001b[0;32mFalse\u001b[0m\u001b[0;34m)\u001b[0m\u001b[0;34m\u001b[0m\u001b[0;34m\u001b[0m\u001b[0m\n\u001b[1;32m     15\u001b[0m         \u001b[0mself\u001b[0m\u001b[0;34m.\u001b[0m\u001b[0mprior_cov\u001b[0m\u001b[0;34m=\u001b[0m\u001b[0mtorch\u001b[0m\u001b[0;34m.\u001b[0m\u001b[0mtensor\u001b[0m\u001b[0;34m(\u001b[0m\u001b[0;34m[\u001b[0m\u001b[0;34m[\u001b[0m\u001b[0;36m1.0\u001b[0m\u001b[0;34m,\u001b[0m \u001b[0;36m0.0\u001b[0m\u001b[0;34m]\u001b[0m\u001b[0;34m,\u001b[0m \u001b[0;34m[\u001b[0m\u001b[0;36m0.0\u001b[0m\u001b[0;34m,\u001b[0m \u001b[0;36m1.0\u001b[0m\u001b[0;34m]\u001b[0m\u001b[0;34m]\u001b[0m\u001b[0;34m,\u001b[0m \u001b[0mrequires_grad\u001b[0m\u001b[0;34m=\u001b[0m\u001b[0;32mFalse\u001b[0m\u001b[0;34m)\u001b[0m\u001b[0;34m\u001b[0m\u001b[0;34m\u001b[0m\u001b[0m\n",
      "\u001b[0;32m/usr/local/miniconda3/envs/mingtian/lib/python3.6/site-packages/torch/nn/modules/module.py\u001b[0m in \u001b[0;36m__getattr__\u001b[0;34m(self, name)\u001b[0m\n\u001b[1;32m    530\u001b[0m                 \u001b[0;32mreturn\u001b[0m \u001b[0mmodules\u001b[0m\u001b[0;34m[\u001b[0m\u001b[0mname\u001b[0m\u001b[0;34m]\u001b[0m\u001b[0;34m\u001b[0m\u001b[0;34m\u001b[0m\u001b[0m\n\u001b[1;32m    531\u001b[0m         raise AttributeError(\"'{}' object has no attribute '{}'\".format(\n\u001b[0;32m--> 532\u001b[0;31m             type(self).__name__, name))\n\u001b[0m\u001b[1;32m    533\u001b[0m \u001b[0;34m\u001b[0m\u001b[0m\n\u001b[1;32m    534\u001b[0m     \u001b[0;32mdef\u001b[0m \u001b[0m__setattr__\u001b[0m\u001b[0;34m(\u001b[0m\u001b[0mself\u001b[0m\u001b[0;34m,\u001b[0m \u001b[0mname\u001b[0m\u001b[0;34m,\u001b[0m \u001b[0mvalue\u001b[0m\u001b[0;34m)\u001b[0m\u001b[0;34m:\u001b[0m\u001b[0;34m\u001b[0m\u001b[0;34m\u001b[0m\u001b[0m\n",
      "\u001b[0;31mAttributeError\u001b[0m: 'Net' object has no attribute 'q_cov'"
     ]
    }
   ],
   "source": [
    "active_bnn = Net(1e-2).to(opt['device'])\n",
    "print(data1_tensor.size())\n",
    "print(label1_tensor.size())\n",
    "nelbo_1=active_bnn.train(data1_tensor.to(opt['device']),label1_tensor.to(opt['device']),10)"
   ]
  },
  {
   "cell_type": "code",
   "execution_count": 126,
   "metadata": {},
   "outputs": [
    {
     "name": "stdout",
     "output_type": "stream",
     "text": [
      "tensor([ 2.7295,  2.6672])\n",
      "[[0.00619891]\n",
      " [0.00566798]\n",
      " [0.00950789]\n",
      " [0.00720554]\n",
      " [0.00638042]\n",
      " [0.00703532]\n",
      " [0.00734662]\n",
      " [0.00724531]\n",
      " [0.00788579]\n",
      " [0.00680798]\n",
      " [0.00684732]\n",
      " [0.00617194]\n",
      " [0.00699147]\n",
      " [0.00559593]\n",
      " [0.0095375 ]\n",
      " [0.0088636 ]\n",
      " [0.00722302]\n",
      " [0.00680782]\n",
      " [0.00703141]\n",
      " [0.00765766]]\n"
     ]
    }
   ],
   "source": [
    "prediction=active_bnn.predict(data1_tensor.to(opt['device']),100)\n",
    "print(active_bnn.q_mu)\n",
    "print(prediction.cpu().numpy())"
   ]
  },
  {
   "cell_type": "code",
   "execution_count": 127,
   "metadata": {},
   "outputs": [
    {
     "name": "stdout",
     "output_type": "stream",
     "text": [
      "(1000, 2)\n"
     ]
    },
    {
     "data": {
      "image/png": "[encoded data removed]",
      "text/plain": [
       "<Figure size 432x288 with 1 Axes>"
      ]
     },
     "metadata": {
      "needs_background": "light"
     },
     "output_type": "display_data"
    }
   ],
   "source": [
    "yo=active_bnn.sample_from_posterior(1000).detach().numpy()\n",
    "print(np.shape(yo))\n",
    "plt.scatter(yo[:, 0], yo[:, 1])\n",
    "plt.show()"
   ]
  },
  {
   "cell_type": "code",
   "execution_count": 128,
   "metadata": {},
   "outputs": [
    {
     "data": {
      "image/png": "[encoded data removed]",
      "text/plain": [
       "<Figure size 432x288 with 1 Axes>"
      ]
     },
     "metadata": {
      "needs_background": "light"
     },
     "output_type": "display_data"
    }
   ],
   "source": [
    "active_bnn_true = Net(learning_rate=1e-3).to(opt['device'])\n",
    "nelbo_1=active_bnn_true.train(data_tensor.to(opt['device']),label_tensor.to(opt['device']),10)\n",
    "# nelbo_1=active_bnn_true.train(data2_tensor.to(opt['device']),label2_tensor.to(opt['device']),1)"
   ]
  },
  {
   "cell_type": "code",
   "execution_count": 129,
   "metadata": {},
   "outputs": [
    {
     "name": "stdout",
     "output_type": "stream",
     "text": [
      "tensor([ 1.6716,  1.7770])\n"
     ]
    }
   ],
   "source": [
    "print(active_bnn_true.q_mu)"
   ]
  },
  {
   "cell_type": "code",
   "execution_count": 130,
   "metadata": {},
   "outputs": [
    {
     "name": "stdout",
     "output_type": "stream",
     "text": [
      "tensor([[ 0.0463],\n",
      "        [ 0.0437],\n",
      "        [ 0.0579],\n",
      "        [ 0.0497],\n",
      "        [ 0.0470],\n",
      "        [ 0.0495],\n",
      "        [ 0.0505],\n",
      "        [ 0.0501],\n",
      "        [ 0.0526],\n",
      "        [ 0.0484],\n",
      "        [ 0.0482],\n",
      "        [ 0.0462],\n",
      "        [ 0.0495],\n",
      "        [ 0.0436],\n",
      "        [ 0.0579],\n",
      "        [ 0.0556],\n",
      "        [ 0.0503],\n",
      "        [ 0.0485],\n",
      "        [ 0.0491],\n",
      "        [ 0.0516],\n",
      "        [ 0.9509],\n",
      "        [ 0.9577],\n",
      "        [ 0.9507],\n",
      "        [ 0.9572],\n",
      "        [ 0.9562],\n",
      "        [ 0.9526],\n",
      "        [ 0.9513],\n",
      "        [ 0.9534],\n",
      "        [ 0.9541],\n",
      "        [ 0.9509],\n",
      "        [ 0.9501],\n",
      "        [ 0.9555],\n",
      "        [ 0.9617],\n",
      "        [ 0.9539],\n",
      "        [ 0.9478],\n",
      "        [ 0.9578],\n",
      "        [ 0.9484],\n",
      "        [ 0.9508],\n",
      "        [ 0.9531],\n",
      "        [ 0.9484]], device='cuda:0')\n"
     ]
    }
   ],
   "source": [
    "prediction=active_bnn_true.predict(data_tensor.to(opt['device']),100)\n",
    "print(prediction)"
   ]
  },
  {
   "cell_type": "code",
   "execution_count": 131,
   "metadata": {},
   "outputs": [
    {
     "data": {
      "image/png": "[encoded data removed]",
      "text/plain": [
       "<Figure size 432x288 with 1 Axes>"
      ]
     },
     "metadata": {
      "needs_background": "light"
     },
     "output_type": "display_data"
    }
   ],
   "source": [
    "yo_true=active_bnn_true.sample_from_posterior(1000).detach().numpy()\n",
    "\n",
    "plt.scatter(yo[:, 0], yo[:, 1],c='red')\n",
    "plt.scatter(yo_true[:, 0], yo_true[:, 1],c='green')\n",
    "plt.show()"
   ]
  },
  {
   "cell_type": "code",
   "execution_count": null,
   "metadata": {},
   "outputs": [],
   "source": [
    "for i in range(0,10):\n",
    "    x_new=train_dict[8][21].view(-1,1,28,28)\n",
    "    label_new=torch.tensor([8])\n",
    "    active_bnn_1.online_train(x_new,label_new)\n",
    "    print('entropy',active_bnn_1.predictive_distribution_entropy_2(train_dict[8][20]))\n",
    "    likelihood_of_initial_dataset,accuracy=active_bnn_1.likelihood_eva(initial_train_data_tensor,initial_train_label_tensor)\n",
    "    print('lieklihood',likelihood_of_initial_dataset)\n",
    "    print('accuracy',accuracy)"
   ]
  },
  {
   "cell_type": "code",
   "execution_count": null,
   "metadata": {},
   "outputs": [],
   "source": [
    "x_new=train_dict[4][16].view(-1,1,28,28)\n",
    "label_new=torch.tensor([4])\n",
    "active_bnn_1.online_train(x_new,label_new)"
   ]
  },
  {
   "cell_type": "code",
   "execution_count": null,
   "metadata": {},
   "outputs": [],
   "source": [
    "print(active_bnn_1.predictive_distribution_entropy_2(train_dict[6][20]))\n",
    "print(active_bnn_1.predictive_distribution_entropy_2(train_dict[8][20]))\n",
    "print(active_bnn_1.predictive_distribution_entropy_2(train_dict[8][21]))\n",
    "print(active_bnn_1.predictive_distribution_entropy_2(train_dict[1][20]))\n",
    "print(active_bnn_1.predictive_distribution_entropy_2(train_dict[1][1]))\n",
    "print(active_bnn_1.predictive_distribution_entropy_2(train_dict[0][1]))\n",
    "print(active_bnn_1.predictive_distribution_entropy_2(train_dict[4][1]))\n",
    "print(active_bnn_1.predictive_distribution_entropy_2(train_dict[4][16]))\n",
    "print(active_bnn_1.predictive_distribution_entropy_2(train_dict[4][15]))"
   ]
  },
  {
   "cell_type": "code",
   "execution_count": null,
   "metadata": {},
   "outputs": [],
   "source": [
    "active_bnn_1 = Net(feature_dim=50,q_rank=100)\n",
    "nelbo_1=active_bnn_1.pre_train(initial_train_data_tensor,initial_train_label_tensor)"
   ]
  },
  {
   "cell_type": "code",
   "execution_count": null,
   "metadata": {},
   "outputs": [],
   "source": [
    "x_new=train_dict[4][16].view(-1,1,28,28)\n",
    "label_new=torch.tensor([4])\n",
    "\n",
    "active_bnn_1.online_train(x_new,label_new)"
   ]
  },
  {
   "cell_type": "code",
   "execution_count": null,
   "metadata": {},
   "outputs": [],
   "source": [
    "print(active_bnn_1.predictive_distribution_entropy_2(train_dict[6][20]))\n",
    "print(active_bnn_1.predictive_distribution_entropy_2(train_dict[8][20]))\n",
    "print(active_bnn_1.predictive_distribution_entropy_2(train_dict[8][21]))\n",
    "print(active_bnn_1.predictive_distribution_entropy_2(train_dict[1][20]))\n",
    "print(active_bnn_1.predictive_distribution_entropy_2(train_dict[1][1]))\n",
    "print(active_bnn_1.predictive_distribution_entropy_2(train_dict[0][1]))\n",
    "print(active_bnn_1.predictive_distribution_entropy_2(train_dict[4][1]))\n",
    "print(active_bnn_1.predictive_distribution_entropy_2(train_dict[4][16]))\n",
    "print(active_bnn_1.predictive_distribution_entropy_2(train_dict[4][15]))"
   ]
  },
  {
   "cell_type": "code",
   "execution_count": null,
   "metadata": {},
   "outputs": [],
   "source": [
    "x_new=train_dict[8][20].view(-1,1,28,28)\n",
    "label_new=torch.tensor([8])\n",
    "\n",
    "active_bnn_1.online_train(x_new,label_new)"
   ]
  },
  {
   "cell_type": "code",
   "execution_count": null,
   "metadata": {},
   "outputs": [],
   "source": [
    "print(active_bnn_1.predictive_distribution_entropy_2(train_dict[6][20]))\n",
    "print(active_bnn_1.predictive_distribution_entropy_2(train_dict[8][20]))\n",
    "print(active_bnn_1.predictive_distribution_entropy_2(train_dict[8][21]))\n",
    "print(active_bnn_1.predictive_distribution_entropy_2(train_dict[1][20]))\n",
    "print(active_bnn_1.predictive_distribution_entropy_2(train_dict[1][1]))\n",
    "print(active_bnn_1.predictive_distribution_entropy_2(train_dict[0][1]))\n",
    "print(active_bnn_1.predictive_distribution_entropy_2(train_dict[4][1]))\n",
    "print(active_bnn_1.predictive_distribution_entropy_2(train_dict[4][16]))\n",
    "print(active_bnn_1.predictive_distribution_entropy_2(train_dict[4][15]))"
   ]
  },
  {
   "cell_type": "code",
   "execution_count": null,
   "metadata": {},
   "outputs": [],
   "source": [
    "x_new=train_dict[1][20].view(-1,1,28,28)\n",
    "label_new=torch.tensor([1])\n",
    "\n",
    "active_bnn_1.online_train(x_new,label_new)"
   ]
  },
  {
   "cell_type": "code",
   "execution_count": null,
   "metadata": {},
   "outputs": [],
   "source": [
    "print(active_bnn_1.predictive_distribution_entropy_2(train_dict[6][20]))\n",
    "print(active_bnn_1.predictive_distribution_entropy_2(train_dict[8][20]))\n",
    "print(active_bnn_1.predictive_distribution_entropy_2(train_dict[8][21]))\n",
    "print(active_bnn_1.predictive_distribution_entropy_2(train_dict[1][20]))\n",
    "print(active_bnn_1.predictive_distribution_entropy_2(train_dict[1][1]))\n",
    "print(active_bnn_1.predictive_distribution_entropy_2(train_dict[0][1]))\n",
    "print(active_bnn_1.predictive_distribution_entropy_2(train_dict[4][1]))\n",
    "print(active_bnn_1.predictive_distribution_entropy_2(train_dict[4][16]))\n",
    "print(active_bnn_1.predictive_distribution_entropy_2(train_dict[4][15]))"
   ]
  },
  {
   "cell_type": "code",
   "execution_count": null,
   "metadata": {},
   "outputs": [],
   "source": [
    "x_new=train_dict[8][20].view(-1,1,28,28)\n",
    "label_new=torch.tensor([8])\n",
    "\n",
    "active_bnn_1.online_train(x_new,label_new)"
   ]
  },
  {
   "cell_type": "code",
   "execution_count": null,
   "metadata": {},
   "outputs": [],
   "source": [
    "x_new=train_dict[4][16].view(-1,1,28,28)\n",
    "label_new=torch.tensor([4])\n",
    "\n",
    "active_bnn_1.online_train(x_new,label_new)"
   ]
  },
  {
   "cell_type": "code",
   "execution_count": null,
   "metadata": {},
   "outputs": [],
   "source": [
    "print(active_bnn_1.predictive_distribution_entropy_2(train_dict[6][20]))\n",
    "print(active_bnn_1.predictive_distribution_entropy_2(train_dict[8][20]))\n",
    "print(active_bnn_1.predictive_distribution_entropy_2(train_dict[8][21]))\n",
    "print(active_bnn_1.predictive_distribution_entropy_2(train_dict[8][22]))\n",
    "print(active_bnn_1.predictive_distribution_entropy_2(train_dict[8][23]))\n",
    "print(active_bnn_1.predictive_distribution_entropy_2(train_dict[1][20]))\n",
    "print(active_bnn_1.predictive_distribution_entropy_2(train_dict[1][1]))\n",
    "print(active_bnn_1.predictive_distribution_entropy_2(train_dict[0][1]))\n",
    "print(active_bnn_1.predictive_distribution_entropy_2(train_dict[4][1]))\n",
    "print(active_bnn_1.predictive_distribution_entropy_2(train_dict[4][16]))\n",
    "print(active_bnn_1.predictive_distribution_entropy_2(train_dict[4][15]))"
   ]
  },
  {
   "cell_type": "code",
   "execution_count": null,
   "metadata": {},
   "outputs": [],
   "source": [
    "x_new=train_dict[8][20].view(-1,1,28,28)\n",
    "label_new=torch.tensor([8])\n",
    "\n",
    "active_bnn_1.online_train(x_new,label_new)"
   ]
  },
  {
   "cell_type": "code",
   "execution_count": null,
   "metadata": {},
   "outputs": [],
   "source": [
    "print(active_bnn_1.predictive_distribution_entropy_2(train_dict[6][20]))\n",
    "print(active_bnn_1.predictive_distribution_entropy_2(train_dict[8][20]))\n",
    "print(active_bnn_1.predictive_distribution_entropy_2(train_dict[8][21]))\n",
    "print(active_bnn_1.predictive_distribution_entropy_2(train_dict[8][22]))\n",
    "print(active_bnn_1.predictive_distribution_entropy_2(train_dict[8][23]))\n",
    "print(active_bnn_1.predictive_distribution_entropy_2(train_dict[1][20]))\n",
    "print(active_bnn_1.predictive_distribution_entropy_2(train_dict[1][1]))\n",
    "print(active_bnn_1.predictive_distribution_entropy_2(train_dict[0][1]))\n",
    "print(active_bnn_1.predictive_distribution_entropy_2(train_dict[4][1]))\n",
    "print(active_bnn_1.predictive_distribution_entropy_2(train_dict[4][16]))\n",
    "print(active_bnn_1.predictive_distribution_entropy_2(train_dict[4][15]))"
   ]
  },
  {
   "cell_type": "code",
   "execution_count": null,
   "metadata": {},
   "outputs": [],
   "source": [
    "x_new=train_dict[8][20].view(-1,1,28,28)\n",
    "label_new=torch.tensor([8])\n",
    "\n",
    "active_bnn_2.online_train(x_new,label_new)"
   ]
  },
  {
   "cell_type": "code",
   "execution_count": null,
   "metadata": {},
   "outputs": [],
   "source": [
    "print(active_bnn_1.predictive_distribution_entropy_2(train_dict[6][20]))\n",
    "print(active_bnn_1.predictive_distribution_entropy_2(train_dict[8][20]))\n",
    "print(active_bnn_1.predictive_distribution_entropy_2(train_dict[8][21]))\n",
    "print(active_bnn_1.predictive_distribution_entropy_2(train_dict[8][22]))\n",
    "print(active_bnn_1.predictive_distribution_entropy_2(train_dict[8][23]))\n",
    "print(active_bnn_1.predictive_distribution_entropy_2(train_dict[1][20]))\n",
    "print(active_bnn_1.predictive_distribution_entropy_2(train_dict[1][1]))\n",
    "print(active_bnn_1.predictive_distribution_entropy_2(train_dict[0][1]))\n",
    "print(active_bnn_1.predictive_distribution_entropy_2(train_dict[4][1]))\n",
    "print(active_bnn_1.predictive_distribution_entropy_2(train_dict[4][16]))\n",
    "print(active_bnn_1.predictive_distribution_entropy_2(train_dict[4][15]))"
   ]
  },
  {
   "cell_type": "code",
   "execution_count": null,
   "metadata": {},
   "outputs": [],
   "source": [
    "x_new=train_dict[8][22].view(-1,1,28,28)\n",
    "label_new=torch.tensor([8])\n",
    "\n",
    "active_bnn_2.online_train(x_new,label_new)"
   ]
  },
  {
   "cell_type": "code",
   "execution_count": null,
   "metadata": {},
   "outputs": [],
   "source": [
    "print(active_bnn_1.predictive_distribution_entropy_2(train_dict[6][20]))\n",
    "print(active_bnn_1.predictive_distribution_entropy_2(train_dict[8][20]))\n",
    "print(active_bnn_1.predictive_distribution_entropy_2(train_dict[8][21]))\n",
    "print(active_bnn_1.predictive_distribution_entropy_2(train_dict[8][22]))\n",
    "print(active_bnn_1.predictive_distribution_entropy_2(train_dict[8][23]))\n",
    "print(active_bnn_1.predictive_distribution_entropy_2(train_dict[1][20]))\n",
    "print(active_bnn_1.predictive_distribution_entropy_2(train_dict[1][1]))\n",
    "print(active_bnn_1.predictive_distribution_entropy_2(train_dict[0][1]))\n",
    "print(active_bnn_1.predictive_distribution_entropy_2(train_dict[4][1]))\n",
    "print(active_bnn_1.predictive_distribution_entropy_2(train_dict[4][16]))\n",
    "print(active_bnn_1.predictive_distribution_entropy_2(train_dict[4][15]))"
   ]
  },
  {
   "cell_type": "code",
   "execution_count": null,
   "metadata": {},
   "outputs": [],
   "source": [
    "active_bnn_2 = Net(q_rank=2)\n",
    "nelbo_2=active_bnn_2.pre_train(initial_train_data_tensor,initial_train_label_tensor)"
   ]
  },
  {
   "cell_type": "code",
   "execution_count": null,
   "metadata": {},
   "outputs": [],
   "source": [
    "print(active_bnn_2.predictive_distribution_entropy_2(train_dict[6][20]))\n",
    "print(active_bnn_2.predictive_distribution_entropy_2(train_dict[8][20]))\n",
    "print(active_bnn_2.predictive_distribution_entropy_2(train_dict[8][21]))\n",
    "print(active_bnn_2.predictive_distribution_entropy_2(train_dict[8][22]))\n",
    "print(active_bnn_2.predictive_distribution_entropy_2(train_dict[8][23]))\n",
    "print(active_bnn_2.predictive_distribution_entropy_2(train_dict[1][20]))\n",
    "print(active_bnn_2.predictive_distribution_entropy_2(train_dict[1][1]))\n",
    "print(active_bnn_2.predictive_distribution_entropy_2(train_dict[0][1]))\n",
    "print(active_bnn_2.predictive_distribution_entropy_2(train_dict[4][1]))\n",
    "print(active_bnn_2.predictive_distribution_entropy_2(train_dict[4][16]))\n",
    "print(active_bnn_2.predictive_distribution_entropy_2(train_dict[4][15]))"
   ]
  },
  {
   "cell_type": "code",
   "execution_count": null,
   "metadata": {},
   "outputs": [],
   "source": [
    "active_bnn_3 = Net(q_rank=3)\n",
    "nelbo_3=active_bnn_3.pre_train(initial_train_data_tensor,initial_train_label_tensor)"
   ]
  },
  {
   "cell_type": "code",
   "execution_count": null,
   "metadata": {},
   "outputs": [],
   "source": [
    "active_bnn_10 = Net(q_rank=10)\n",
    "nelbo_10=active_bnn_10.pre_train(initial_train_data_tensor,initial_train_label_tensor)"
   ]
  },
  {
   "cell_type": "code",
   "execution_count": null,
   "metadata": {},
   "outputs": [],
   "source": [
    "print(active_bnn_10.predictive_distribution_entropy_2(train_dict[6][20]))\n",
    "print(active_bnn_10.predictive_distribution_entropy_2(train_dict[8][20]))\n",
    "print(active_bnn_10.predictive_distribution_entropy_2(train_dict[8][21]))\n",
    "print(active_bnn_10.predictive_distribution_entropy_2(train_dict[8][22]))\n",
    "print(active_bnn_10.predictive_distribution_entropy_2(train_dict[8][23]))\n",
    "print(active_bnn_10.predictive_distribution_entropy_2(train_dict[1][20]))\n",
    "print(active_bnn_10.predictive_distribution_entropy_2(train_dict[1][1]))\n",
    "print(active_bnn_10.predictive_distribution_entropy_2(train_dict[0][1]))\n",
    "print(active_bnn_10.predictive_distribution_entropy_2(train_dict[4][1]))\n",
    "print(active_bnn_10.predictive_distribution_entropy_2(train_dict[4][16]))\n",
    "print(active_bnn_10.predictive_distribution_entropy_2(train_dict[4][15]))"
   ]
  },
  {
   "cell_type": "code",
   "execution_count": null,
   "metadata": {},
   "outputs": [],
   "source": [
    "x_new=train_dict[8][20].view(-1,1,28,28)\n",
    "label_new=torch.tensor([8])\n",
    "\n",
    "active_bnn_10.online_train(x_new,label_new)"
   ]
  },
  {
   "cell_type": "code",
   "execution_count": null,
   "metadata": {},
   "outputs": [],
   "source": [
    "print(active_bnn_10.predictive_distribution_entropy_2(train_dict[6][20]))\n",
    "print(active_bnn_10.predictive_distribution_entropy_2(train_dict[8][20]))\n",
    "print(active_bnn_10.predictive_distribution_entropy_2(train_dict[8][21]))\n",
    "print(active_bnn_10.predictive_distribution_entropy_2(train_dict[8][22]))\n",
    "print(active_bnn_10.predictive_distribution_entropy_2(train_dict[8][23]))\n",
    "print(active_bnn_10.predictive_distribution_entropy_2(train_dict[1][20]))\n",
    "print(active_bnn_10.predictive_distribution_entropy_2(train_dict[1][1]))\n",
    "print(active_bnn_10.predictive_distribution_entropy_2(train_dict[0][1]))\n",
    "print(active_bnn_10.predictive_distribution_entropy_2(train_dict[4][1]))\n",
    "print(active_bnn_10.predictive_distribution_entropy_2(train_dict[4][16]))\n",
    "print(active_bnn_10.predictive_distribution_entropy_2(train_dict[4][15]))"
   ]
  },
  {
   "cell_type": "code",
   "execution_count": null,
   "metadata": {},
   "outputs": [],
   "source": [
    "x_new=train_dict[8][21].view(-1,1,28,28)\n",
    "label_new=torch.tensor([8])\n",
    "\n",
    "active_bnn_10.online_train(x_new,label_new)"
   ]
  },
  {
   "cell_type": "code",
   "execution_count": null,
   "metadata": {},
   "outputs": [],
   "source": [
    "print(active_bnn_10.predictive_distribution_entropy_2(train_dict[6][20]))\n",
    "print(active_bnn_10.predictive_distribution_entropy_2(train_dict[8][20]))\n",
    "print(active_bnn_10.predictive_distribution_entropy_2(train_dict[8][21]))\n",
    "print(active_bnn_10.predictive_distribution_entropy_2(train_dict[8][22]))\n",
    "print(active_bnn_10.predictive_distribution_entropy_2(train_dict[8][23]))\n",
    "print(active_bnn_10.predictive_distribution_entropy_2(train_dict[1][20]))\n",
    "print(active_bnn_10.predictive_distribution_entropy_2(train_dict[1][1]))\n",
    "print(active_bnn_10.predictive_distribution_entropy_2(train_dict[0][1]))\n",
    "print(active_bnn_10.predictive_distribution_entropy_2(train_dict[4][1]))\n",
    "print(active_bnn_10.predictive_distribution_entropy_2(train_dict[4][16]))\n",
    "print(active_bnn_10.predictive_distribution_entropy_2(train_dict[4][15]))"
   ]
  },
  {
   "cell_type": "code",
   "execution_count": null,
   "metadata": {},
   "outputs": [],
   "source": [
    "active_bnn_50 = Net(q_rank=50)\n",
    "nelbo_50=active_bnn_50.pre_train(initial_train_data_tensor,initial_train_label_tensor)"
   ]
  },
  {
   "cell_type": "code",
   "execution_count": null,
   "metadata": {},
   "outputs": [],
   "source": [
    "plt.plot(nelbo_50,label='50')\n",
    "plt.plot(nelbo_10,label='10')\n",
    "plt.plot(nelbo_3,label='3')\n",
    "plt.plot(nelbo_2,label='2')\n",
    "plt.plot(nelbo_1,label='1')\n",
    "\n",
    "plt.legend()\n",
    "plt.show()"
   ]
  },
  {
   "cell_type": "code",
   "execution_count": null,
   "metadata": {},
   "outputs": [],
   "source": [
    "print(active_bnn_1.predictive_distribution_entropy_2(train_dict[6][20]))\n",
    "print(active_bnn_1.predictive_distribution_entropy_2(train_dict[8][20]))\n",
    "print(active_bnn_1.predictive_distribution_entropy_2(train_dict[8][21]))\n",
    "print(active_bnn_1.predictive_distribution_entropy_2(train_dict[1][20]))\n",
    "print(active_bnn_1.predictive_distribution_entropy_2(train_dict[1][1]))\n",
    "print(active_bnn_1.predictive_distribution_entropy_2(train_dict[0][1]))\n",
    "print(active_bnn_1.predictive_distribution_entropy_2(train_dict[4][1]))\n",
    "print(active_bnn_1.predictive_distribution_entropy_2(train_dict[4][16]))\n",
    "print(active_bnn_1.predictive_distribution_entropy_2(train_dict[4][15]))"
   ]
  },
  {
   "cell_type": "code",
   "execution_count": null,
   "metadata": {},
   "outputs": [],
   "source": [
    "cccccccccccccccccccc"
   ]
  },
  {
   "cell_type": "code",
   "execution_count": null,
   "metadata": {},
   "outputs": [],
   "source": [
    "print(active_bnn_1.predictive_distribution_entropy_2(train_dict[6][20]))\n",
    "print(active_bnn_1.predictive_distribution_entropy_2(train_dict[8][20]))\n",
    "print(active_bnn_1.predictive_distribution_entropy_2(train_dict[8][21]))\n",
    "print(active_bnn_1.predictive_distribution_entropy_2(train_dict[1][20]))\n",
    "print(active_bnn_1.predictive_distribution_entropy_2(train_dict[1][1]))\n",
    "print(active_bnn_1.predictive_distribution_entropy_2(train_dict[0][1]))\n",
    "print(active_bnn_1.predictive_distribution_entropy_2(train_dict[4][1]))\n",
    "print(active_bnn_1.predictive_distribution_entropy_2(train_dict[4][16]))\n",
    "print(active_bnn_1.predictive_distribution_entropy_2(train_dict[4][15]))"
   ]
  },
  {
   "cell_type": "code",
   "execution_count": null,
   "metadata": {},
   "outputs": [],
   "source": [
    "x_new=train_dict[8][20].view(-1,1,28,28)\n",
    "label_new=torch.tensor([8])\n",
    "\n",
    "active_bnn_1.online_train(x_new,label_new)"
   ]
  },
  {
   "cell_type": "code",
   "execution_count": null,
   "metadata": {},
   "outputs": [],
   "source": [
    "print(active_bnn_1.predictive_distribution_entropy_2(train_dict[6][20]))\n",
    "print(active_bnn_1.predictive_distribution_entropy_2(train_dict[8][20]))\n",
    "print(active_bnn_1.predictive_distribution_entropy_2(train_dict[8][21]))\n",
    "print(active_bnn_1.predictive_distribution_entropy_2(train_dict[1][20]))\n",
    "print(active_bnn_1.predictive_distribution_entropy_2(train_dict[1][1]))\n",
    "print(active_bnn_1.predictive_distribution_entropy_2(train_dict[0][1]))\n",
    "print(active_bnn_1.predictive_distribution_entropy_2(train_dict[4][1]))\n",
    "print(active_bnn_1.predictive_distribution_entropy_2(train_dict[4][16]))\n",
    "print(active_bnn_1.predictive_distribution_entropy_2(train_dict[4][15]))"
   ]
  },
  {
   "cell_type": "code",
   "execution_count": null,
   "metadata": {},
   "outputs": [],
   "source": [
    "x_new=train_dict[8][20].view(-1,1,28,28)\n",
    "label_new=torch.tensor([8])\n",
    "\n",
    "active_bnn_1.online_train(x_new,label_new)"
   ]
  },
  {
   "cell_type": "code",
   "execution_count": null,
   "metadata": {},
   "outputs": [],
   "source": [
    "print(active_bnn_1.predictive_distribution_entropy_2(train_dict[6][20]))\n",
    "print(active_bnn_1.predictive_distribution_entropy_2(train_dict[8][20]))\n",
    "print(active_bnn_1.predictive_distribution_entropy_2(train_dict[8][21]))\n",
    "print(active_bnn_1.predictive_distribution_entropy_2(train_dict[1][20]))\n",
    "print(active_bnn_1.predictive_distribution_entropy_2(train_dict[1][1]))\n",
    "print(active_bnn_1.predictive_distribution_entropy_2(train_dict[0][1]))\n",
    "print(active_bnn_1.predictive_distribution_entropy_2(train_dict[4][1]))\n",
    "print(active_bnn_1.predictive_distribution_entropy_2(train_dict[4][16]))\n",
    "print(active_bnn_1.predictive_distribution_entropy_2(train_dict[4][15]))"
   ]
  },
  {
   "cell_type": "code",
   "execution_count": null,
   "metadata": {},
   "outputs": [],
   "source": [
    "x_new=train_dict[8][21].view(-1,1,28,28)\n",
    "label_new=torch.tensor([8])\n",
    "\n",
    "active_bnn_1.online_train(x_new,label_new)"
   ]
  },
  {
   "cell_type": "code",
   "execution_count": null,
   "metadata": {},
   "outputs": [],
   "source": [
    "print(active_bnn_1.predictive_distribution_entropy_2(train_dict[6][20]))\n",
    "print(active_bnn_1.predictive_distribution_entropy_2(train_dict[8][20]))\n",
    "print(active_bnn_1.predictive_distribution_entropy_2(train_dict[8][21]))\n",
    "print(active_bnn_1.predictive_distribution_entropy_2(train_dict[1][20]))\n",
    "print(active_bnn_1.predictive_distribution_entropy_2(train_dict[1][1]))\n",
    "print(active_bnn_1.predictive_distribution_entropy_2(train_dict[0][1]))\n",
    "print(active_bnn_1.predictive_distribution_entropy_2(train_dict[4][1]))\n",
    "print(active_bnn_1.predictive_distribution_entropy_2(train_dict[4][16]))\n",
    "print(active_bnn_1.predictive_distribution_entropy_2(train_dict[4][15]))"
   ]
  },
  {
   "cell_type": "code",
   "execution_count": null,
   "metadata": {},
   "outputs": [],
   "source": [
    "for i in range(0,30):\n",
    "    print(i)\n",
    "    print(active_bnn.predictive_distribution_entropy(train_dict[1][i]))\n",
    "    print(active_bnn.predictive_distribution_entropy(train_dict[8][i]))"
   ]
  },
  {
   "cell_type": "code",
   "execution_count": null,
   "metadata": {},
   "outputs": [],
   "source": [
    "for i in range(0,30):\n",
    "    x_new=train_dict[8][i].view(-1,1,28,28)\n",
    "    label_new=torch.tensor([8])\n",
    "\n",
    "    active_bnn.online_train(x_new,label_new)"
   ]
  },
  {
   "cell_type": "code",
   "execution_count": null,
   "metadata": {},
   "outputs": [],
   "source": [
    "for i in range(0,30):\n",
    "    print(i)\n",
    "    print(active_bnn.predictive_distribution_entropy(train_dict[1][i]))\n",
    "    print(active_bnn.predictive_distribution_entropy(train_dict[8][i]))"
   ]
  }
 ],
 "metadata": {
  "kernelspec": {
   "display_name": "Python 3",
   "language": "python",
   "name": "python3"
  },
  "language_info": {
   "codemirror_mode": {
    "name": "ipython",
    "version": 3
   },
   "file_extension": ".py",
   "mimetype": "text/x-python",
   "name": "python",
   "nbconvert_exporter": "python",
   "pygments_lexer": "ipython3",
   "version": "3.6.9"
  }
 },
 "nbformat": 4,
 "nbformat_minor": 4
}

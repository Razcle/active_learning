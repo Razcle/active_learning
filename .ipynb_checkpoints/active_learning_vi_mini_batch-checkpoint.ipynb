{
 "cells": [
  {
   "cell_type": "code",
   "execution_count": 138,
   "metadata": {},
   "outputs": [],
   "source": [
    "import torch\n",
    "import torchvision\n",
    "import torch.nn as nn\n",
    "import torch.nn.functional as F\n",
    "import torch.optim as optim\n",
    "import matplotlib.pyplot as plt\n",
    "import numpy as np\n",
    "from hessian import *\n",
    "import operator\n",
    "import itertools\n"
   ]
  },
  {
   "cell_type": "code",
   "execution_count": 139,
   "metadata": {},
   "outputs": [],
   "source": [
    "train_data=torchvision.datasets.MNIST('./', train=True, download=True,transform=torchvision.transforms.ToTensor())\n",
    "test_data=torchvision.datasets.MNIST('./', train=False, download=True,transform=torchvision.transforms.ToTensor())\n",
    "# train_loader = torch.utils.data.DataLoader(train_data, batch_size=100, shuffle=True)\n",
    "test_loader = torch.utils.data.DataLoader(test_data, batch_size=100, shuffle=True)"
   ]
  },
  {
   "cell_type": "code",
   "execution_count": 140,
   "metadata": {},
   "outputs": [],
   "source": [
    "train_dict={}\n",
    "for (data, target) in train_data:\n",
    "    if  target not in train_dict:\n",
    "        train_dict[ target]=[]\n",
    "        train_dict[ target].append(data)\n",
    "    else:\n",
    "        train_dict[ target].append(data)"
   ]
  },
  {
   "cell_type": "code",
   "execution_count": 220,
   "metadata": {},
   "outputs": [
    {
     "name": "stdout",
     "output_type": "stream",
     "text": [
      "[0, 0, 0, 0, 0, 0, 0, 0, 0, 0, 1, 1, 1, 1, 1, 1, 1, 1, 1, 1, 2, 2, 2, 2, 2, 2, 2, 2, 2, 2, 3, 3, 3, 3, 3, 3, 3, 3, 3, 3, 4, 4, 4, 4, 4, 4, 4, 4, 4, 4, 5, 5, 5, 5, 5, 5, 5, 5, 5, 5, 6, 6, 6, 6, 6, 6, 6, 6, 6, 6]\n"
     ]
    }
   ],
   "source": [
    "initial_train_data=[]\n",
    "initial_train_label=[]\n",
    "for i in range(7):\n",
    "    for j in range(0,10):\n",
    "        initial_train_data.append(train_dict[i][j])\n",
    "        initial_train_label.append(i)\n",
    "    \n",
    "print(initial_train_label)"
   ]
  },
  {
   "cell_type": "code",
   "execution_count": 221,
   "metadata": {},
   "outputs": [
    {
     "name": "stdout",
     "output_type": "stream",
     "text": [
      "torch.Size([70, 1, 28, 28])\n",
      "torch.Size([70])\n"
     ]
    }
   ],
   "source": [
    "initial_train_data_tensor=torch.stack(initial_train_data)\n",
    "initial_train_label_tensor=torch.tensor(initial_train_label)\n",
    "train_x=torch.stack([data for (data, target) in train_data])\n",
    "train_label=torch.tensor([target for (data, target) in train_data])\n",
    "print(initial_train_data_tensor.size())\n",
    "print(initial_train_label_tensor.size())"
   ]
  },
  {
   "cell_type": "code",
   "execution_count": 245,
   "metadata": {},
   "outputs": [],
   "source": [
    "class Net(nn.Module):\n",
    "    def __init__(self):\n",
    "        super(Net, self).__init__()\n",
    "        self.conv1 = nn.Conv2d(1, 10, kernel_size=5)\n",
    "        self.conv2 = nn.Conv2d(10, 20, kernel_size=5)\n",
    "        self.fc1 = nn.Linear(320, 50)\n",
    "        self.fc2 = nn.Linear(50, 20)\n",
    "        \n",
    "        \n",
    "        \n",
    "        self.q_mu=torch.tensor(np.zeros(200), dtype=torch.float, requires_grad=True)\n",
    "        self.q_diag=torch.tensor(np.ones(200)*0.1, dtype=torch.float, requires_grad=True)\n",
    "        params = list(self.parameters()) + [self.q_mu,self.q_diag]\n",
    "        \n",
    "        self.optimizer = optim.Adam(params, lr=0.001)\n",
    "#         self.optimizer.param_groups.append( {'params':self.q_mu,'params': self.q_diag})\n",
    "#         self.optimizer.param_groups.append( {})\n",
    "\n",
    "        \n",
    "        self.feature_optimizer = optim.Adam(self.parameters(), lr=0.001)\n",
    "        self.final_optimizer = optim.Adam([ self.q_mu, self.q_diag ], lr=0.001)\n",
    "\n",
    "    def forward(self, x, final_weight):\n",
    "        x=x.view(-1,1,28,28)\n",
    "        x = F.relu(F.max_pool2d(self.conv1(x), 2))\n",
    "        x = F.relu(F.max_pool2d(self.conv2(x), 2))\n",
    "        x = x.view(-1, 320)\n",
    "        x = F.relu(self.fc1(x))\n",
    "        x =self.fc2(x)\n",
    "#         final_weight_sample=self.q_dis.rsample().view(20,10)\n",
    "        x= torch.matmul(x,final_weight)\n",
    "        return F.log_softmax(x,dim=-1)\n",
    "    \n",
    "    \n",
    "    def feature_forward(self, x ):\n",
    "        x=x.view(-1,1,28,28)\n",
    "        x = F.relu(F.max_pool2d(self.conv1(x), 2))\n",
    "        x = F.relu(F.max_pool2d(self.conv2(x), 2))\n",
    "        x = x.view(-1, 320)\n",
    "        x = F.relu(self.fc1(x))\n",
    "        x =  self.fc2(x)\n",
    "        return x\n",
    "    \n",
    "    def predict(self,x):\n",
    "        with torch.no_grad():\n",
    "            eps=torch.tensor(np.random.normal([200]),dtype=torch.float)\n",
    "            final_weight_sample= (self.q_mu+eps*torch.sqrt(self.q_diag)).view(20,10)\n",
    "            output = torch.exp(self.forward(x,final_weight_sample))\n",
    "            pred = output.data.max(dim=1, keepdim=True)[1]\n",
    "            return pred\n",
    "        \n",
    "    def test_prediction(self, x):\n",
    "        with torch.no_grad():\n",
    "            final_weight_mean=self.q_mu.view(20,10)\n",
    "            output = torch.exp(self.forward(x,final_weight_mean))\n",
    "            pred = output.data.max(dim=1, keepdim=True)[1]\n",
    "            return pred\n",
    "        \n",
    "        \n",
    "    def predictive_distribution_entropy(self,x):\n",
    "        eps=torch.tensor(np.random.normal(size=[100,200]),dtype=torch.float)\n",
    "        final_weight_samples=(torch.sqrt(self.q_diag).repeat(100).view(100,200)*eps+self.q_mu).view(100,20,10).permute(0, 2, 1)\n",
    "        feature_of_data=self.feature_forward(x)[0]\n",
    "        output_logit=final_weight_samples@feature_of_data\n",
    "        output_dis=torch.distributions.categorical.Categorical(logits=output_logit)\n",
    "        sample=output_dis.sample([100]).reshape([-1,1])\n",
    "        entropy=-torch.mean(torch.log(torch.mean(torch.exp(output_dis.log_prob(sample)),dim=-1)))\n",
    "        return entropy\n",
    "    \n",
    "    \n",
    "    def online_train(self,x,label):\n",
    "        train_losses = []\n",
    "        entropy_list = []\n",
    "        total_size=x.size(0)\n",
    "        batch_size=50\n",
    "        for it in range(0,100):\n",
    "            for yo in range(0,int(total_size/batch_size)+1):\n",
    "                self.final_optimizer.zero_grad()\n",
    "                index=np.random.choice(x.size(0),batch_size)\n",
    "                eps=torch.tensor(np.random.normal(size=[200]),dtype=torch.float)\n",
    "                final_weight_sample= (self.q_mu+eps*torch.sqrt(self.q_diag)).view(20,10)\n",
    "                output = self.forward(x[index],final_weight_sample)\n",
    "\n",
    "                conditional_loss= F.nll_loss(output,label[index],reduction='sum')*(float(x.size(0))/float(batch_size))\n",
    "                entropy=torch.sum(torch.log(self.q_diag))\n",
    "                neg_kl=entropy-0.5 * torch.sum((self.q_diag + self.q_mu**2))\n",
    "                neg_elbo=-neg_kl+conditional_loss\n",
    "                neg_elbo.backward()\n",
    "                self.final_optimizer.step()\n",
    "                train_losses.append(neg_elbo.item())\n",
    "                entropy_list.append(entropy.item())\n",
    "        pred = output.data.max(dim=1, keepdim=True)[1]\n",
    "        plt.plot(train_losses)\n",
    "        plt.show()\n",
    "        plt.plot(entropy_list)\n",
    "        plt.show()\n",
    "        \n",
    "        \n",
    "    \n",
    "    def pre_train(self,x,label):\n",
    "        train_losses = []\n",
    "        entropy_list = []\n",
    "        batch_size=50\n",
    "        for it in range(0,5000):\n",
    "            for yo in range(0,int(x.size(0)/batch_size)+1):\n",
    "                index=np.random.choice(x.size(0),batch_size)\n",
    "                self.optimizer.zero_grad()\n",
    "\n",
    "    #             conditional_loss=0\n",
    "    #             for i in range(0,10):\n",
    "                eps=torch.tensor(np.random.normal(size=[200]),dtype=torch.float)\n",
    "                final_weight_sample= (self.q_mu+eps*torch.sqrt(self.q_diag)).view(20,10)\n",
    "                output = self.forward(x[index],final_weight_sample)\n",
    "\n",
    "                conditional_loss= F.nll_loss(output,label[index],reduction='sum')*(float(x.size(0))/float(batch_size))\n",
    "    #             conditional_loss=conditional_loss/10\n",
    "                entropy=torch.sum(torch.log(self.q_diag))\n",
    "                neg_kl=entropy-0.5 * torch.sum((self.q_diag + self.q_mu**2))\n",
    "                neg_elbo=-neg_kl+conditional_loss\n",
    "                neg_elbo.backward()\n",
    "                self.optimizer.step()\n",
    "                train_losses.append(neg_elbo.item())\n",
    "                entropy_list.append(entropy.item())\n",
    "        print('labels')\n",
    "        print(label[index])\n",
    "        print(output.data.max(dim=1, keepdim=True)[1])\n",
    "#         print(self.q_mu)\n",
    "        plt.plot(train_losses)\n",
    "        plt.show()\n",
    "        plt.plot(entropy_list)\n",
    "        plt.show()\n",
    "        \n",
    "        \n",
    "    def test(self):\n",
    "        correct=0\n",
    "        for data, target in test_loader:\n",
    "            pred = self.predict(data)\n",
    "            correct += pred.eq(target.data.view_as(pred)).sum()\n",
    "            correct_ratio= float(correct)/len(test_loader.dataset)\n",
    "        return correct_ratio\n",
    "    "
   ]
  },
  {
   "cell_type": "code",
   "execution_count": 228,
   "metadata": {},
   "outputs": [
    {
     "name": "stdout",
     "output_type": "stream",
     "text": [
      "labels\n",
      "tensor([1, 3, 5, 3, 0, 4, 4, 6, 6, 3, 3, 2, 5, 5, 2, 5, 2, 1, 0, 2, 5, 0, 5, 1,\n",
      "        5, 1, 6, 0, 0, 5, 0, 3, 5, 1, 5, 4, 0, 0, 0, 6, 3, 5, 6, 3, 4, 3, 3, 6,\n",
      "        3, 1])\n",
      "tensor([[1],\n",
      "        [3],\n",
      "        [5],\n",
      "        [3],\n",
      "        [0],\n",
      "        [4],\n",
      "        [4],\n",
      "        [6],\n",
      "        [6],\n",
      "        [3],\n",
      "        [3],\n",
      "        [2],\n",
      "        [5],\n",
      "        [5],\n",
      "        [2],\n",
      "        [5],\n",
      "        [2],\n",
      "        [1],\n",
      "        [0],\n",
      "        [2],\n",
      "        [5],\n",
      "        [0],\n",
      "        [5],\n",
      "        [1],\n",
      "        [5],\n",
      "        [1],\n",
      "        [6],\n",
      "        [0],\n",
      "        [0],\n",
      "        [5],\n",
      "        [0],\n",
      "        [3],\n",
      "        [5],\n",
      "        [1],\n",
      "        [5],\n",
      "        [4],\n",
      "        [0],\n",
      "        [0],\n",
      "        [0],\n",
      "        [6],\n",
      "        [3],\n",
      "        [5],\n",
      "        [6],\n",
      "        [3],\n",
      "        [4],\n",
      "        [3],\n",
      "        [3],\n",
      "        [6],\n",
      "        [3],\n",
      "        [1]])\n"
     ]
    },
    {
     "data": {
      "image/png": "[encoded data removed]",
      "text/plain": [
       "<Figure size 432x288 with 1 Axes>"
      ]
     },
     "metadata": {
      "needs_background": "light"
     },
     "output_type": "display_data"
    },
    {
     "data": {
      "image/png": "[encoded data removed]",
      "text/plain": [
       "<Figure size 432x288 with 1 Axes>"
      ]
     },
     "metadata": {
      "needs_background": "light"
     },
     "output_type": "display_data"
    }
   ],
   "source": [
    "active_bnn = Net()\n",
    "active_bnn.pre_train(initial_train_data_tensor,initial_train_label_tensor)"
   ]
  },
  {
   "cell_type": "code",
   "execution_count": 229,
   "metadata": {},
   "outputs": [
    {
     "name": "stdout",
     "output_type": "stream",
     "text": [
      "tensor(0.5692, grad_fn=<NegBackward>)\n",
      "tensor(2.1188, grad_fn=<NegBackward>)\n",
      "tensor(1.2739, grad_fn=<NegBackward>)\n",
      "tensor(0.4626, grad_fn=<NegBackward>)\n",
      "tensor(0.3598, grad_fn=<NegBackward>)\n",
      "tensor(0.6534, grad_fn=<NegBackward>)\n",
      "tensor(0.6110, grad_fn=<NegBackward>)\n",
      "tensor(1.5719, grad_fn=<NegBackward>)\n",
      "tensor(0.6902, grad_fn=<NegBackward>)\n"
     ]
    }
   ],
   "source": [
    "# print(active_bnn.test_prediction(initial_train_data_tensor))\n",
    "# # print(active_bnn.predict(initial_train_data_tensor))\n",
    "print(active_bnn.predictive_distribution_entropy(train_dict[6][20]))\n",
    "print(active_bnn.predictive_distribution_entropy(train_dict[8][20]))\n",
    "print(active_bnn.predictive_distribution_entropy(train_dict[8][21]))\n",
    "print(active_bnn.predictive_distribution_entropy(train_dict[1][20]))\n",
    "print(active_bnn.predictive_distribution_entropy(train_dict[1][1]))\n",
    "print(active_bnn.predictive_distribution_entropy(train_dict[0][1]))\n",
    "print(active_bnn.predictive_distribution_entropy(train_dict[4][1]))\n",
    "print(active_bnn.predictive_distribution_entropy(train_dict[4][16]))\n",
    "print(active_bnn.predictive_distribution_entropy(train_dict[4][15]))"
   ]
  },
  {
   "cell_type": "code",
   "execution_count": 230,
   "metadata": {},
   "outputs": [
    {
     "name": "stdout",
     "output_type": "stream",
     "text": [
      "[0, 0, 0, 0, 0, 0, 0, 0, 0, 0, 1, 1, 1, 1, 1, 1, 1, 1, 1, 1, 2, 2, 2, 2, 2, 2, 2, 2, 2, 2, 3, 3, 3, 3, 3, 3, 3, 3, 3, 3, 4, 4, 4, 4, 4, 4, 4, 4, 4, 4, 5, 5, 5, 5, 5, 5, 5, 5, 5, 5, 6, 6, 6, 6, 6, 6, 6, 6, 6, 6]\n",
      "[0, 0, 0, 0, 0, 0, 0, 0, 0, 0, 1, 1, 1, 1, 1, 1, 1, 1, 1, 1, 2, 2, 2, 2, 2, 2, 2, 2, 2, 2, 3, 3, 3, 3, 3, 3, 3, 3, 3, 3, 4, 4, 4, 4, 4, 4, 4, 4, 4, 4, 5, 5, 5, 5, 5, 5, 5, 5, 5, 5, 6, 6, 6, 6, 6, 6, 6, 6, 6, 6]\n"
     ]
    }
   ],
   "source": [
    "tmp_data=initial_train_data.copy()\n",
    "tmp_label=initial_train_label.copy()\n",
    "print(tmp_label)\n",
    "print(initial_train_label)"
   ]
  },
  {
   "cell_type": "code",
   "execution_count": 231,
   "metadata": {},
   "outputs": [
    {
     "name": "stdout",
     "output_type": "stream",
     "text": [
      "[0, 0, 0, 0, 0, 0, 0, 0, 0, 0, 1, 1, 1, 1, 1, 1, 1, 1, 1, 1, 2, 2, 2, 2, 2, 2, 2, 2, 2, 2, 3, 3, 3, 3, 3, 3, 3, 3, 3, 3, 4, 4, 4, 4, 4, 4, 4, 4, 4, 4, 5, 5, 5, 5, 5, 5, 5, 5, 5, 5, 6, 6, 6, 6, 6, 6, 6, 6, 6, 6, 8, 8]\n",
      "torch.Size([72, 1, 28, 28])\n",
      "torch.Size([72])\n"
     ]
    }
   ],
   "source": [
    "tmp_data.append(train_dict[8][20])\n",
    "tmp_data.append(train_dict[8][21])\n",
    "tmp_label.append(8)\n",
    "tmp_label.append(8)\n",
    "print(tmp_label)\n",
    "\n",
    "tmp_data_tensor=torch.stack(tmp_data)\n",
    "tmp_label_tensor=torch.tensor(tmp_label)\n",
    "\n",
    "\n",
    "print(tmp_data_tensor.size())\n",
    "print(tmp_label_tensor.size())"
   ]
  },
  {
   "cell_type": "code",
   "execution_count": 238,
   "metadata": {},
   "outputs": [
    {
     "data": {
      "image/png": "[encoded data removed]",
      "text/plain": [
       "<Figure size 432x288 with 1 Axes>"
      ]
     },
     "metadata": {
      "needs_background": "light"
     },
     "output_type": "display_data"
    },
    {
     "data": {
      "image/png": "[encoded data removed]",
      "text/plain": [
       "<Figure size 432x288 with 1 Axes>"
      ]
     },
     "metadata": {
      "needs_background": "light"
     },
     "output_type": "display_data"
    }
   ],
   "source": [
    "active_bnn.online_train(tmp_data_tensor,tmp_label_tensor)"
   ]
  },
  {
   "cell_type": "code",
   "execution_count": 239,
   "metadata": {},
   "outputs": [
    {
     "name": "stdout",
     "output_type": "stream",
     "text": [
      "tensor(0.4352, grad_fn=<NegBackward>)\n",
      "tensor(2.1153, grad_fn=<NegBackward>)\n",
      "tensor(1.3688, grad_fn=<NegBackward>)\n",
      "tensor(0.4191, grad_fn=<NegBackward>)\n",
      "tensor(0.5685, grad_fn=<NegBackward>)\n",
      "tensor(0.6193, grad_fn=<NegBackward>)\n",
      "tensor(0.5070, grad_fn=<NegBackward>)\n",
      "tensor(1.4770, grad_fn=<NegBackward>)\n",
      "tensor(0.7874, grad_fn=<NegBackward>)\n"
     ]
    }
   ],
   "source": [
    "print(active_bnn.predictive_distribution_entropy(train_dict[6][20]))\n",
    "print(active_bnn.predictive_distribution_entropy(train_dict[8][20]))\n",
    "print(active_bnn.predictive_distribution_entropy(train_dict[8][21]))\n",
    "print(active_bnn.predictive_distribution_entropy(train_dict[1][20]))\n",
    "print(active_bnn.predictive_distribution_entropy(train_dict[1][1]))\n",
    "print(active_bnn.predictive_distribution_entropy(train_dict[0][1]))\n",
    "print(active_bnn.predictive_distribution_entropy(train_dict[4][1]))\n",
    "print(active_bnn.predictive_distribution_entropy(train_dict[4][16]))\n",
    "print(active_bnn.predictive_distribution_entropy(train_dict[4][15]))"
   ]
  },
  {
   "cell_type": "code",
   "execution_count": 246,
   "metadata": {},
   "outputs": [
    {
     "name": "stdout",
     "output_type": "stream",
     "text": [
      "labels\n",
      "tensor([2, 4, 1, 1, 0, 0, 2, 2, 1, 6, 6, 6, 6, 0, 4, 1, 4, 3, 4, 6, 1, 1, 2, 2,\n",
      "        4, 4, 3, 3, 2, 0, 5, 1, 0, 5, 6, 1, 6, 1, 6, 2, 4, 2, 3, 0, 1, 5, 6, 2,\n",
      "        5, 2])\n",
      "tensor([[2],\n",
      "        [3],\n",
      "        [1],\n",
      "        [1],\n",
      "        [0],\n",
      "        [0],\n",
      "        [2],\n",
      "        [2],\n",
      "        [1],\n",
      "        [6],\n",
      "        [6],\n",
      "        [6],\n",
      "        [6],\n",
      "        [0],\n",
      "        [3],\n",
      "        [1],\n",
      "        [3],\n",
      "        [3],\n",
      "        [3],\n",
      "        [6],\n",
      "        [1],\n",
      "        [1],\n",
      "        [2],\n",
      "        [2],\n",
      "        [3],\n",
      "        [3],\n",
      "        [3],\n",
      "        [3],\n",
      "        [2],\n",
      "        [0],\n",
      "        [5],\n",
      "        [1],\n",
      "        [0],\n",
      "        [5],\n",
      "        [6],\n",
      "        [1],\n",
      "        [6],\n",
      "        [1],\n",
      "        [6],\n",
      "        [2],\n",
      "        [3],\n",
      "        [2],\n",
      "        [3],\n",
      "        [0],\n",
      "        [1],\n",
      "        [5],\n",
      "        [6],\n",
      "        [2],\n",
      "        [5],\n",
      "        [2]])\n"
     ]
    },
    {
     "data": {
      "image/png": "[encoded data removed]",
      "text/plain": [
       "<Figure size 432x288 with 1 Axes>"
      ]
     },
     "metadata": {
      "needs_background": "light"
     },
     "output_type": "display_data"
    },
    {
     "data": {
      "image/png": "[encoded data removed]",
      "text/plain": [
       "<Figure size 432x288 with 1 Axes>"
      ]
     },
     "metadata": {
      "needs_background": "light"
     },
     "output_type": "display_data"
    }
   ],
   "source": [
    "active_bnn = Net()\n",
    "active_bnn.pre_train(tmp_data_tensor,tmp_label_tensor)"
   ]
  },
  {
   "cell_type": "code",
   "execution_count": 247,
   "metadata": {},
   "outputs": [
    {
     "name": "stdout",
     "output_type": "stream",
     "text": [
      "tensor(0.4627, grad_fn=<NegBackward>)\n",
      "tensor(2.1580, grad_fn=<NegBackward>)\n",
      "tensor(2.1751, grad_fn=<NegBackward>)\n",
      "tensor(0.8618, grad_fn=<NegBackward>)\n",
      "tensor(0.8847, grad_fn=<NegBackward>)\n",
      "tensor(0.7077, grad_fn=<NegBackward>)\n",
      "tensor(0.5936, grad_fn=<NegBackward>)\n",
      "tensor(0.7663, grad_fn=<NegBackward>)\n",
      "tensor(0.4954, grad_fn=<NegBackward>)\n"
     ]
    }
   ],
   "source": [
    "print(active_bnn.predictive_distribution_entropy(train_dict[6][20]))\n",
    "print(active_bnn.predictive_distribution_entropy(train_dict[8][20]))\n",
    "print(active_bnn.predictive_distribution_entropy(train_dict[8][21]))\n",
    "print(active_bnn.predictive_distribution_entropy(train_dict[1][20]))\n",
    "print(active_bnn.predictive_distribution_entropy(train_dict[1][1]))\n",
    "print(active_bnn.predictive_distribution_entropy(train_dict[0][1]))\n",
    "print(active_bnn.predictive_distribution_entropy(train_dict[4][1]))\n",
    "print(active_bnn.predictive_distribution_entropy(train_dict[4][16]))\n",
    "print(active_bnn.predictive_distribution_entropy(train_dict[4][15]))"
   ]
  },
  {
   "cell_type": "code",
   "execution_count": null,
   "metadata": {},
   "outputs": [],
   "source": [
    "active_bnn.online_training(torch.tensor(train_dict[8][20]).view(-1,1,28,28),torch.tensor([8]))"
   ]
  }
 ],
 "metadata": {
  "kernelspec": {
   "display_name": "rl",
   "language": "python",
   "name": "myenv"
  },
  "language_info": {
   "codemirror_mode": {
    "name": "ipython",
    "version": 3
   },
   "file_extension": ".py",
   "mimetype": "text/x-python",
   "name": "python",
   "nbconvert_exporter": "python",
   "pygments_lexer": "ipython3",
   "version": "3.7.3"
  }
 },
 "nbformat": 4,
 "nbformat_minor": 2
}

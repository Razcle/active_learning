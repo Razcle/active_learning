{
 "cells": [
  {
   "cell_type": "code",
   "execution_count": 1,
   "metadata": {},
   "outputs": [],
   "source": [
    "import torch\n",
    "import torchvision"
   ]
  },
  {
   "cell_type": "code",
   "execution_count": 2,
   "metadata": {},
   "outputs": [
    {
     "data": {
      "text/plain": [
       "<torch._C.Generator at 0x10c465d30>"
      ]
     },
     "execution_count": 2,
     "metadata": {},
     "output_type": "execute_result"
    }
   ],
   "source": [
    "n_epochs = 3\n",
    "batch_size_train = 64\n",
    "batch_size_test = 1000\n",
    "learning_rate = 0.01\n",
    "momentum = 0.5\n",
    "log_interval = 10\n",
    "\n",
    "random_seed = 1\n",
    "torch.backends.cudnn.enabled = False\n",
    "torch.manual_seed(random_seed)"
   ]
  },
  {
   "cell_type": "code",
   "execution_count": 3,
   "metadata": {},
   "outputs": [],
   "source": [
    "train_data=torchvision.datasets.MNIST('./', train=True, download=True,transform=torchvision.transforms.ToTensor())\n",
    "\n",
    "test_data=torchvision.datasets.MNIST('./', train=False, download=True,transform=torchvision.transforms.ToTensor())"
   ]
  },
  {
   "cell_type": "code",
   "execution_count": 4,
   "metadata": {},
   "outputs": [],
   "source": [
    "train_dict={}\n",
    "for (data, target) in train_data:\n",
    "    if  target not in train_dict:\n",
    "        train_dict[ target]=[]\n",
    "        train_dict[ target].append(data)\n",
    "    else:\n",
    "        train_dict[ target].append(data)"
   ]
  },
  {
   "cell_type": "code",
   "execution_count": 21,
   "metadata": {},
   "outputs": [
    {
     "name": "stdout",
     "output_type": "stream",
     "text": [
      "[0, 1, 2, 3, 4, 5, 6, 7, 8, 9]\n"
     ]
    }
   ],
   "source": [
    "initial_train_data=[]\n",
    "initial_train_label=[]\n",
    "for i in range(10):\n",
    "    initial_train_data.append(train_dict[i][0])\n",
    "    initial_train_label.append(i)\n",
    "    \n",
    "print(initial_train_label)\n"
   ]
  },
  {
   "cell_type": "code",
   "execution_count": 22,
   "metadata": {},
   "outputs": [
    {
     "name": "stdout",
     "output_type": "stream",
     "text": [
      "torch.Size([10, 1, 28, 28])\n",
      "torch.Size([10])\n"
     ]
    }
   ],
   "source": [
    "initial_train_data_tensor=torch.stack(initial_train_data)\n",
    "initial_train_label_tensor=torch.tensor(initial_train_label)\n",
    "print(initial_train_data_tensor.size())\n",
    "print(initial_train_label_tensor.size())"
   ]
  },
  {
   "cell_type": "code",
   "execution_count": 8,
   "metadata": {},
   "outputs": [],
   "source": [
    "import torch.nn as nn\n",
    "import torch.nn.functional as F\n",
    "import torch.optim as optim"
   ]
  },
  {
   "cell_type": "code",
   "execution_count": 95,
   "metadata": {},
   "outputs": [],
   "source": [
    "class Net(nn.Module):\n",
    "    def __init__(self):\n",
    "        super(Net, self).__init__()\n",
    "        self.conv1 = nn.Conv2d(1, 10, kernel_size=5)\n",
    "        self.conv2 = nn.Conv2d(10, 20, kernel_size=5)\n",
    "        self.fc1 = nn.Linear(320, 50)\n",
    "        self.fc2 = nn.Linear(50, 10)\n",
    "        self.final_weight=nn.init.xavier_uniform_(torch.empty(10, 10,requires_grad = True),0.1)\n",
    "\n",
    "    def forward(self, x):\n",
    "        x = F.relu(F.max_pool2d(self.conv1(x), 2))\n",
    "        x = F.relu(F.max_pool2d(self.conv2(x), 2))\n",
    "        x = x.view(-1, 320)\n",
    "        x = F.relu(self.fc1(x))\n",
    "        x = self.fc2(x)\n",
    "        x= torch.matmul(x,self.final_weight)\n",
    "        return F.log_softmax(x,dim=-1)\n",
    "    \n",
    "    \n",
    "network = Net()\n",
    "optimizer = optim.SGD(network.parameters(), lr=0.3,\n",
    "                      momentum=0.1)"
   ]
  },
  {
   "cell_type": "code",
   "execution_count": 96,
   "metadata": {},
   "outputs": [],
   "source": [
    "def train():\n",
    "    network.train()\n",
    "    train_losses = []\n",
    "    for it in range(0,1000):\n",
    "        optimizer.zero_grad()\n",
    "        output = network(initial_train_data_tensor)\n",
    "        loss = F.nll_loss(output,initial_train_label_tensor)+torch.norm(network.final_weight,2)\n",
    "        loss.backward()\n",
    "        optimizer.step()\n",
    "        train_losses.append(loss.item())\n",
    "    \n",
    "    plt.plot(train_losses)\n",
    "    plt.show()"
   ]
  },
  {
   "cell_type": "code",
   "execution_count": 97,
   "metadata": {},
   "outputs": [
    {
     "data": {
      "image/png": "[encoded data removed]",
      "text/plain": [
       "<Figure size 432x288 with 1 Axes>"
      ]
     },
     "metadata": {
      "needs_background": "light"
     },
     "output_type": "display_data"
    }
   ],
   "source": [
    "train()"
   ]
  },
  {
   "cell_type": "code",
   "execution_count": 98,
   "metadata": {},
   "outputs": [
    {
     "data": {
      "image/png": "[encoded data removed]",
      "text/plain": [
       "<Figure size 432x288 with 1 Axes>"
      ]
     },
     "metadata": {
      "needs_background": "light"
     },
     "output_type": "display_data"
    },
    {
     "data": {
      "image/png": "[encoded data removed]",
      "text/plain": [
       "<Figure size 432x288 with 1 Axes>"
      ]
     },
     "metadata": {
      "needs_background": "light"
     },
     "output_type": "display_data"
    }
   ],
   "source": [
    "old_data=train_dict[1][0]\n",
    "new_data=train_dict[1][1]\n",
    "plt.imshow(old_data[0])\n",
    "plt.show()\n",
    "plt.imshow(new_data[0])\n",
    "plt.show()"
   ]
  },
  {
   "cell_type": "code",
   "execution_count": 106,
   "metadata": {},
   "outputs": [
    {
     "name": "stdout",
     "output_type": "stream",
     "text": [
      "tensor(-0.6724, grad_fn=<AddBackward0>)\n",
      "tensor([ 37201.5156,  63839.4023,  67529.1875, 118784.1484,  75569.2812,\n",
      "        137333.8125,  98246.7969,  88543.2578, 152370.8750,  74377.0156])\n",
      "tensor([[1]])\n",
      "tensor(0.3152, grad_fn=<AddBackward0>)\n",
      "tensor([ 37279.9805,  64011.9180,  67651.6719, 119021.0859,  75685.0469,\n",
      "        137584.0938,  98484.6953,  88894.4297, 152663.7656,  74568.2266])\n",
      "tensor([[2]])\n"
     ]
    }
   ],
   "source": [
    "for i in train_dict[1][0:2]:\n",
    "    output = torch.exp(network(i.view(1,1,28,28)))\n",
    "    loss = F.nll_loss(output,torch.tensor([1]))+torch.norm(network.final_weight,2)\n",
    "    loss.backward()\n",
    "    print(loss)\n",
    "    w_grad=network.final_weight.grad\n",
    "    diag_appro=torch.diag(torch.matmul(w_grad,w_grad.t()))\n",
    "    print(diag_appro)\n",
    "    pred = output.data.max(1, keepdim=True)[1]\n",
    "    print(pred)"
   ]
  }
 ],
 "metadata": {
  "kernelspec": {
   "display_name": "rl",
   "language": "python",
   "name": "myenv"
  },
  "language_info": {
   "codemirror_mode": {
    "name": "ipython",
    "version": 3
   },
   "file_extension": ".py",
   "mimetype": "text/x-python",
   "name": "python",
   "nbconvert_exporter": "python",
   "pygments_lexer": "ipython3",
   "version": "3.7.3"
  }
 },
 "nbformat": 4,
 "nbformat_minor": 2
}

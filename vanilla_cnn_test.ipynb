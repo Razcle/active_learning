{
 "cells": [
  {
   "cell_type": "code",
   "execution_count": 1,
   "metadata": {},
   "outputs": [],
   "source": [
    "import torch\n",
    "import torchvision"
   ]
  },
  {
   "cell_type": "code",
   "execution_count": 2,
   "metadata": {},
   "outputs": [
    {
     "data": {
      "text/plain": [
       "<torch._C.Generator at 0x10523bd30>"
      ]
     },
     "execution_count": 2,
     "metadata": {},
     "output_type": "execute_result"
    }
   ],
   "source": [
    "n_epochs = 3\n",
    "batch_size_train = 64\n",
    "batch_size_test = 1000\n",
    "learning_rate = 0.01\n",
    "momentum = 0.5\n",
    "log_interval = 10\n",
    "\n",
    "random_seed = 1\n",
    "torch.backends.cudnn.enabled = False\n",
    "torch.manual_seed(random_seed)"
   ]
  },
  {
   "cell_type": "code",
   "execution_count": 3,
   "metadata": {},
   "outputs": [
    {
     "name": "stdout",
     "output_type": "stream",
     "text": [
      "Downloading http://yann.lecun.com/exdb/mnist/train-images-idx3-ubyte.gz to ./MNIST/raw/train-images-idx3-ubyte.gz\n"
     ]
    },
    {
     "name": "stderr",
     "output_type": "stream",
     "text": [
      "100.1%"
     ]
    },
    {
     "name": "stdout",
     "output_type": "stream",
     "text": [
      "Extracting ./MNIST/raw/train-images-idx3-ubyte.gz\n"
     ]
    },
    {
     "name": "stderr",
     "output_type": "stream",
     "text": [
      "28.4%"
     ]
    },
    {
     "name": "stdout",
     "output_type": "stream",
     "text": [
      "Downloading http://yann.lecun.com/exdb/mnist/train-labels-idx1-ubyte.gz to ./MNIST/raw/train-labels-idx1-ubyte.gz\n"
     ]
    },
    {
     "name": "stderr",
     "output_type": "stream",
     "text": [
      "0.5%"
     ]
    },
    {
     "name": "stdout",
     "output_type": "stream",
     "text": [
      "Extracting ./MNIST/raw/train-labels-idx1-ubyte.gz\n",
      "Downloading http://yann.lecun.com/exdb/mnist/t10k-images-idx3-ubyte.gz to ./MNIST/raw/t10k-images-idx3-ubyte.gz\n"
     ]
    },
    {
     "name": "stderr",
     "output_type": "stream",
     "text": [
      "100.4%"
     ]
    },
    {
     "name": "stdout",
     "output_type": "stream",
     "text": [
      "Extracting ./MNIST/raw/t10k-images-idx3-ubyte.gz\n",
      "Downloading http://yann.lecun.com/exdb/mnist/t10k-labels-idx1-ubyte.gz to ./MNIST/raw/t10k-labels-idx1-ubyte.gz\n"
     ]
    },
    {
     "name": "stderr",
     "output_type": "stream",
     "text": [
      "180.4%"
     ]
    },
    {
     "name": "stdout",
     "output_type": "stream",
     "text": [
      "Extracting ./MNIST/raw/t10k-labels-idx1-ubyte.gz\n",
      "Processing...\n",
      "Done!\n"
     ]
    }
   ],
   "source": [
    "train_data=torchvision.datasets.MNIST('./', train=True, download=True,transform=torchvision.transforms.ToTensor())\n",
    "\n",
    "test_data=torchvision.datasets.MNIST('./', train=False, download=True,transform=torchvision.transforms.ToTensor())"
   ]
  },
  {
   "cell_type": "code",
   "execution_count": 4,
   "metadata": {},
   "outputs": [],
   "source": [
    "train_dict={}\n",
    "for (data, target) in train_data:\n",
    "    if  target not in train_dict:\n",
    "        train_dict[ target]=[]\n",
    "        train_dict[ target].append(data)\n",
    "    else:\n",
    "        train_dict[ target].append(data)"
   ]
  },
  {
   "cell_type": "code",
   "execution_count": 5,
   "metadata": {},
   "outputs": [
    {
     "name": "stdout",
     "output_type": "stream",
     "text": [
      "[0, 1, 2, 3, 4, 5, 6, 7, 8, 9]\n"
     ]
    }
   ],
   "source": [
    "initial_train_data=[]\n",
    "initial_train_label=[]\n",
    "for i in range(10):\n",
    "    initial_train_data.append(train_dict[i][0])\n",
    "    initial_train_label.append(i)\n",
    "    \n",
    "print(initial_train_label)\n"
   ]
  },
  {
   "cell_type": "code",
   "execution_count": 6,
   "metadata": {},
   "outputs": [
    {
     "name": "stdout",
     "output_type": "stream",
     "text": [
      "torch.Size([10, 1, 28, 28])\n",
      "torch.Size([10])\n"
     ]
    }
   ],
   "source": [
    "initial_train_data_tensor=torch.stack(initial_train_data)\n",
    "initial_train_label_tensor=torch.tensor(initial_train_label)\n",
    "print(initial_train_data_tensor.size())\n",
    "print(initial_train_label_tensor.size())"
   ]
  },
  {
   "cell_type": "code",
   "execution_count": 7,
   "metadata": {},
   "outputs": [],
   "source": [
    "import torch.nn as nn\n",
    "import torch.nn.functional as F\n",
    "import torch.optim as optim"
   ]
  },
  {
   "cell_type": "code",
   "execution_count": 20,
   "metadata": {},
   "outputs": [],
   "source": [
    "class Net(nn.Module):\n",
    "    def __init__(self):\n",
    "        super(Net, self).__init__()\n",
    "        self.conv1 = nn.Conv2d(1, 10, kernel_size=5)\n",
    "        self.conv2 = nn.Conv2d(10, 20, kernel_size=5)\n",
    "        self.fc1 = nn.Linear(320, 50)\n",
    "        self.fc2 = nn.Linear(50, 10)\n",
    "        self.final_weight=nn.init.xavier_uniform_(torch.empty(10, 10,requires_grad = True),0.1)\n",
    "\n",
    "    def forward(self, x):\n",
    "        x=x.view(1,1,28,28)\n",
    "        x = F.relu(F.max_pool2d(self.conv1(x), 2))\n",
    "        x = F.relu(F.max_pool2d(self.conv2(x), 2))\n",
    "        x = x.view(-1, 320)\n",
    "        x = F.relu(self.fc1(x))\n",
    "        x = self.fc2(x)\n",
    "        x= torch.matmul(x,self.final_weight)\n",
    "        return F.log_softmax(x,dim=-1)\n",
    "    \n",
    "    def prediction(x):\n",
    "        output = torch.exp(self.forward(x))\n",
    "        pred = output.data.max(x, keepdim=True)[1]\n",
    "        return pred.item()\n",
    "    \n",
    "    def uncertainty(x,label):\n",
    "        output = torch.exp(self.forward(i))\n",
    "        loss = F.nll_loss(output,torch.tensor([label]))+torch.norm(network.final_weight,2)\n",
    "        jacobian_w=jacobian(output,self.final_weight)\n",
    "        hessian_w=hessian(loss,self.final_weight)\n",
    "        hessian_inverse=torch.inverse(hessian_w)\n",
    "        left=torch.matmul(jacobian_w,hessian_inverse)\n",
    "        (sign, logdet) = np.linalg.slogdet(pos_cov.detach().numpy()) \n",
    "        entropy=5+5*np.log(2*np.pi)+0.5*logdet\n",
    "        return entropy\n",
    "#         print('entropy',entropy)\n",
    "\n",
    "    \n",
    "    \n",
    "network = Net()\n",
    "#optimizer = optim.SGD(network.parameters(), lr=0.5,\n",
    "#                       momentum=0.1)\n",
    "optimizer = optim.Adam(network.parameters(), lr=0.001)"
   ]
  },
  {
   "cell_type": "code",
   "execution_count": 21,
   "metadata": {},
   "outputs": [],
   "source": [
    "import matplotlib.pyplot as plt\n",
    "def train():\n",
    "    network.train()\n",
    "    train_losses = []\n",
    "    for it in range(0,2000):\n",
    "        optimizer.zero_grad()\n",
    "        output = network(initial_train_data_tensor)\n",
    "        loss = F.nll_loss(output,initial_train_label_tensor)+torch.norm(network.final_weight,2)\n",
    "        loss.backward()\n",
    "        optimizer.step()\n",
    "        train_losses.append(loss.item())\n",
    "    \n",
    "    plt.plot(train_losses)\n",
    "    plt.show()"
   ]
  },
  {
   "cell_type": "code",
   "execution_count": 22,
   "metadata": {},
   "outputs": [
    {
     "data": {
      "image/png": "[encoded data removed]",
      "text/plain": [
       "<Figure size 432x288 with 1 Axes>"
      ]
     },
     "metadata": {
      "needs_background": "light"
     },
     "output_type": "display_data"
    }
   ],
   "source": [
    "train()"
   ]
  },
  {
   "cell_type": "code",
   "execution_count": 23,
   "metadata": {},
   "outputs": [
    {
     "data": {
      "image/png": "[encoded data removed]",
      "text/plain": [
       "<Figure size 432x288 with 1 Axes>"
      ]
     },
     "metadata": {
      "needs_background": "light"
     },
     "output_type": "display_data"
    },
    {
     "data": {
      "image/png": "[encoded data removed]",
      "text/plain": [
       "<Figure size 432x288 with 1 Axes>"
      ]
     },
     "metadata": {
      "needs_background": "light"
     },
     "output_type": "display_data"
    }
   ],
   "source": [
    "old_data=train_dict[1][0]\n",
    "new_data=train_dict[1][1]\n",
    "plt.imshow(old_data[0])\n",
    "plt.show()\n",
    "plt.imshow(new_data[0])\n",
    "plt.show()"
   ]
  },
  {
   "cell_type": "code",
   "execution_count": 80,
   "metadata": {},
   "outputs": [
    {
     "name": "stdout",
     "output_type": "stream",
     "text": [
      "prediction 1\n",
      "entropy -207.68089970213296\n",
      "prediction 3\n",
      "entropy -19.82964237791421\n",
      "prediction 8\n",
      "entropy -2.240569196761868\n",
      "prediction 8\n",
      "entropy -15.674824796737454\n",
      "prediction 1\n",
      "entropy -200.15576847654702\n",
      "prediction 2\n",
      "entropy -4.891255460799954\n",
      "prediction 8\n",
      "entropy -43.33288487058999\n",
      "prediction 1\n",
      "entropy -189.52880009275796\n",
      "prediction 1\n",
      "entropy -129.00411137205484\n",
      "prediction 5\n",
      "entropy -100.39156254392984\n"
     ]
    }
   ],
   "source": [
    "from hessian import *\n",
    "import numpy as np\n",
    "\n",
    "for i in train_dict[1][0:10]:\n",
    "    output = torch.exp(network(i.view(1,1,28,28)))\n",
    "    pred = output.data.max(1, keepdim=True)[1]\n",
    "    print('prediction',pred.item())\n",
    "    loss = F.nll_loss(output,torch.tensor([1]))+torch.norm(network.final_weight,2)\n",
    "    jacobian_w=jacobian(output,network.final_weight)\n",
    "    hessian_w=hessian(loss,network.final_weight)\n",
    "    hessian_inverse=torch.inverse(hessian_w)\n",
    "    left=torch.matmul(jacobian_w,hessian_inverse)\n",
    "    pos_cov=torch.matmul(left,jacobian_w.t())\n",
    "    #pos_gaussian=multivariate_normal(cov=pos_cov)\n",
    "    (sign, logdet) = np.linalg.slogdet(pos_cov.detach().numpy()) \n",
    "    entropy=5+5*np.log(2*np.pi)+0.5*logdet\n",
    "    print('entropy',entropy)"
   ]
  }
 ],
 "metadata": {
  "kernelspec": {
   "display_name": "rl",
   "language": "python",
   "name": "myenv"
  },
  "language_info": {
   "codemirror_mode": {
    "name": "ipython",
    "version": 3
   },
   "file_extension": ".py",
   "mimetype": "text/x-python",
   "name": "python",
   "nbconvert_exporter": "python",
   "pygments_lexer": "ipython3",
   "version": "3.7.3"
  }
 },
 "nbformat": 4,
 "nbformat_minor": 2
}

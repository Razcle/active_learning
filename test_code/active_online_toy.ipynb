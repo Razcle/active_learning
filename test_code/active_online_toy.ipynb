{
 "cells": [
  {
   "cell_type": "code",
   "execution_count": 1,
   "metadata": {},
   "outputs": [],
   "source": [
    "import torch\n",
    "import torchvision\n",
    "import torch.nn as nn\n",
    "import torch.nn.functional as F\n",
    "import torch.optim as optim\n",
    "import matplotlib.pyplot as plt\n",
    "import numpy as np\n",
    "from tools import *\n",
    "import operator\n",
    "import itertools\n",
    "from torch.distributions.multivariate_normal import MultivariateNormal\n",
    "from torch.distributions import Normal, Bernoulli\n",
    "np.random.seed(0)\n",
    "torch.manual_seed(0)\n",
    "opt= {}\n",
    "if torch.cuda.is_available():\n",
    "    torch.backends.cudnn.deterministic = True\n",
    "    torch.backends.cudnn.benchmark = False\n",
    "    opt['device']= torch.device('cuda:0')\n",
    "    opt['if_cuda']=True\n",
    "else:\n",
    "    opt['device']= torch.device('cpu')\n",
    "    opt['if_cuda']=False"
   ]
  },
  {
   "cell_type": "code",
   "execution_count": 243,
   "metadata": {},
   "outputs": [
    {
     "name": "stdout",
     "output_type": "stream",
     "text": [
      "tensor([ 0.,  0.,  0.,  0.,  0.,  0.,  0.,  0.,  0.,  0.,  0.,  0.,\n",
      "         0.,  0.,  0.,  0.,  0.,  0.,  0.,  0.,  1.,  1.,  1.,  1.,\n",
      "         1.,  1.,  1.,  1.,  1.,  1.,  1.,  1.,  1.,  1.,  1.,  1.,\n",
      "         1.,  1.,  1.,  1.])\n",
      "tensor([[-1.0360,  0.9594],\n",
      "        [-0.9863,  0.9555],\n",
      "        [-1.0579,  0.9844],\n",
      "        [-1.0079,  1.1128],\n",
      "        [-1.0352,  1.0472],\n",
      "        [-0.9626,  0.9406],\n",
      "        [-0.9613,  0.9408],\n",
      "        [-1.1330,  1.0303],\n",
      "        [-1.0878,  1.0225],\n",
      "        [-1.0342,  1.0830],\n",
      "        [-0.9466,  0.9773],\n",
      "        [-1.0344,  0.9393],\n",
      "        [-1.0220,  0.9860],\n",
      "        [-1.0182,  1.0078],\n",
      "        [-0.9711,  1.0175],\n",
      "        [-1.0382,  0.9281],\n",
      "        [-0.9318,  0.9655],\n",
      "        [-1.0326,  0.9739],\n",
      "        [-1.0922,  0.9761],\n",
      "        [-1.0240,  1.0310],\n",
      "        [ 1.0349,  1.0002],\n",
      "        [ 1.0466,  1.0170],\n",
      "        [ 0.9992,  1.0080],\n",
      "        [ 0.9905,  0.9803],\n",
      "        [ 0.9866,  0.9436],\n",
      "        [ 1.0140,  0.9503],\n",
      "        [ 1.0421,  0.9875],\n",
      "        [ 1.0025,  1.0247],\n",
      "        [ 1.0322,  0.9215],\n",
      "        [ 0.9897,  1.0440],\n",
      "        [ 0.9151,  1.0194],\n",
      "        [ 0.8872,  0.9489],\n",
      "        [ 1.0019,  0.9172],\n",
      "        [ 0.9507,  0.9264],\n",
      "        [ 1.0824,  1.0082],\n",
      "        [ 1.0284,  0.9889],\n",
      "        [ 0.9823,  0.9192],\n",
      "        [ 0.9854,  0.9619],\n",
      "        [ 1.0429,  1.0571],\n",
      "        [ 1.0733,  1.0426]])\n"
     ]
    },
    {
     "data": {
      "image/png": "[encoded data removed]",
      "text/plain": [
       "<Figure size 432x288 with 1 Axes>"
      ]
     },
     "metadata": {
      "needs_background": "light"
     },
     "output_type": "display_data"
    }
   ],
   "source": [
    "data_1=np.random.normal([-1,1],0.05,size=[20,2])\n",
    "data_2=np.random.normal([1,1],0.05,size=[20,2])\n",
    "label=[0]*20\n",
    "label.extend([1]*20)\n",
    "label1=[0]*20\n",
    "label1_tensor=torch.tensor(np.asarray(label1),dtype=torch.float32).view(20,1)\n",
    "label_tensor=torch.tensor(np.asarray(label),dtype=torch.float32)\n",
    "print(label_tensor)\n",
    "data=np.concatenate((data_1,data_2),axis=0)\n",
    "data_tensor=torch.tensor(data, dtype=torch.float)\n",
    "data1_tensor=data_tensor[0:20]\n",
    "data2_tensor=data_tensor[20:]\n",
    "label2=[1]*20\n",
    "label2_tensor=torch.tensor(np.asarray(label2),dtype=torch.float32).view(20,1)\n",
    "print(data_tensor)\n",
    "data_numpy=data_tensor.numpy()\n",
    "plt.scatter(data_numpy[:,0], data_numpy[:,1], marker=\"x\")\n",
    "plt.xlim([-2.0,2.0])\n",
    "plt.ylim([-1.5,1.5])\n",
    "plt.show()"
   ]
  },
  {
   "cell_type": "code",
   "execution_count": 244,
   "metadata": {},
   "outputs": [
    {
     "name": "stdout",
     "output_type": "stream",
     "text": [
      "tensor([[ 1.1089,  0.0022],\n",
      "        [ 0.0022,  1.0239]])\n",
      "tensor([[ 0.4868,  0.4967],\n",
      "        [ 0.4834,  0.5046],\n",
      "        [ 0.4825,  0.5097]])\n",
      "tensor([ 0.4973,  0.4819])\n",
      "tensor([[ 0.2421,  0.2394],\n",
      "        [ 0.2404,  0.2431],\n",
      "        [ 0.2399,  0.2456]])\n"
     ]
    }
   ],
   "source": [
    "# print(torch.randn(1))\n",
    "\n",
    "torch.tensor([[1., -1.], [1., 1.]], requires_grad=True)\n",
    "\n",
    "u=(torch.randn(1)*0.1)\n",
    "v=(torch.randn(1)*0.1)\n",
    "c=(torch.randn(1)*0.1)\n",
    "q=torch.exp(c)*torch.tensor([[torch.sqrt(1+u**2+v**2)+u, v], [v, torch.sqrt(1+u**2+v**2)-u]], requires_grad=True)\n",
    "print(q)\n",
    "a=torch.sigmoid((torch.randn(3,2)*0.1)).requires_grad_()\n",
    "b=torch.sigmoid((torch.randn(2)*0.1)).requires_grad_()\n",
    "print(a)\n",
    "print(b)\n",
    "print(a*b)"
   ]
  },
  {
   "cell_type": "code",
   "execution_count": 245,
   "metadata": {},
   "outputs": [],
   "source": [
    "class Net(nn.Module):\n",
    "    def __init__(self,learning_rate=1e-3):\n",
    "        super(Net, self).__init__()\n",
    "        self.device=opt['device']\n",
    "        self.if_cuda=opt['if_cuda']\n",
    "\n",
    "#         self.c=(torch.randn(1)*0.1).requires_grad_()\n",
    "#         self.u=(torch.randn(1)*0.1).requires_grad_()\n",
    "#         self.v=(torch.randn(1)*0.1).requires_grad_()\n",
    "        self.std_diag=torch.sigmoid((torch.randn(2)*0.1)).requires_grad_()\n",
    "#         self.q_cov=torch.exp(self.c)*torch.tensor([[torch.sqrt(1+self.u**2+self.v**2)+self.u, self.v], [self.v, torch.sqrt(1+self.u**2+self.v**2)-self.u]], requires_grad=True)\n",
    "        self.q_mu=(torch.randn(2)).requires_grad_()\n",
    "#         self.q_dis=MultivariateNormal(self.q_mu, covariance_matrix=self.q_cov)\n",
    "        self.prior_mu=torch.tensor(np.zeros(2), dtype=torch.float, requires_grad=False)\n",
    "#         self.prior_cov=torch.tensor([[1.0, 0.0], [0.0, 1.0]], requires_grad=False)\n",
    "        self.prior_diag_cov=torch.tensor([0.5, 0.5], requires_grad=False)\n",
    "        \n",
    "        \n",
    "#         params = [self.c,self.u,self.v,self.q_mu]\n",
    "        params = [self.std_diag,self.q_mu]\n",
    "        self.optimizer = optim.Adam(params, lr=learning_rate)\n",
    "\n",
    "    \n",
    "    def sample_from_posterior(self,sample_size):\n",
    "        with torch.no_grad():\n",
    "            eps=torch.randn(sample_size,2)\n",
    "            samples=self.q_mu+eps*self.std_diag\n",
    "            return samples\n",
    "    \n",
    "    \n",
    "    \n",
    "    \n",
    "    def predict(self,x,sample_size):\n",
    "        with torch.no_grad():\n",
    "            eps=torch.randn(sample_size,2).to(self.device)\n",
    "            weight_samples= (self.q_mu.to(self.device)+eps*self.std_diag.to(self.device)).view(sample_size,2,1).permute(0, 2, 1)\n",
    "#             weight_samples=self.q_mu.view(1,2,1).permute(0, 2, 1).to(self.device)\n",
    "            prediction=torch.mean(torch.sigmoid((weight_samples@x.t()).permute(2, 0, 1)),1)\n",
    "            return prediction\n",
    "#             return torch.sigmoid(x@self.q_mu.to(self.device))\n",
    "        \n",
    "    \n",
    "    def train(self,x,label,sample_size):\n",
    "        train_losses = []\n",
    "        for epoch in range(0,3000):\n",
    "            self.optimizer.zero_grad()\n",
    "            eps=torch.randn(sample_size,2).to(self.device)\n",
    "            weight_samples= (self.q_mu.to(self.device)+eps*self.std_diag.to(self.device)).view(sample_size,2,1).permute(0, 2, 1)\n",
    "            output = torch.mean(torch.mean(torch.sigmoid((weight_samples@x.t()).permute(2, 0, 1)),1),1)\n",
    "            nll_loss= torch.sum(-Bernoulli(probs=output).log_prob(label))\n",
    "            kl=KL_diag_gaussian(self.q_mu.to(self.device),(self.std_diag**2).to(self.device),self.prior_mu.to(self.device),self.prior_diag_cov.to(self.device))\n",
    "            neg_elbo=nll_loss+kl\n",
    "            neg_elbo.backward()\n",
    "            self.optimizer.step()\n",
    "            train_losses.append(neg_elbo.item())\n",
    "        plt.plot(train_losses)\n",
    "        plt.show()\n",
    "        return train_losses\n",
    "        \n",
    "    def test(self):\n",
    "        correct=0\n",
    "        for data, target in test_loader:\n",
    "            pred = self.predict(data)\n",
    "            correct += pred.eq(target.data.view_as(pred)).sum()\n",
    "            correct_ratio= float(correct)/len(test_loader.dataset)\n",
    "        return correct_ratio\n",
    "    "
   ]
  },
  {
   "cell_type": "code",
   "execution_count": 249,
   "metadata": {},
   "outputs": [
    {
     "name": "stdout",
     "output_type": "stream",
     "text": [
      "torch.Size([20, 2])\n",
      "torch.Size([20, 1])\n"
     ]
    },
    {
     "data": {
      "image/png": "[encoded data removed]",
      "text/plain": [
       "<Figure size 432x288 with 1 Axes>"
      ]
     },
     "metadata": {
      "needs_background": "light"
     },
     "output_type": "display_data"
    }
   ],
   "source": [
    "active_bnn = Net(1e-2).to(opt['device'])\n",
    "print(data1_tensor.size())\n",
    "print(label1_tensor.size())\n",
    "nelbo_1=active_bnn.train(data1_tensor.to(opt['device']),label1_tensor.to(opt['device']),10)"
   ]
  },
  {
   "cell_type": "code",
   "execution_count": 250,
   "metadata": {},
   "outputs": [
    {
     "name": "stdout",
     "output_type": "stream",
     "text": [
      "tensor([ 2.5114, -2.0755])\n",
      "[[0.01099961]\n",
      " [0.01247262]\n",
      " [0.0099542 ]\n",
      " [0.00878081]\n",
      " [0.0093196 ]\n",
      " [0.01357507]\n",
      " [0.01361068]\n",
      " [0.0076288 ]\n",
      " [0.00861926]\n",
      " [0.00872736]\n",
      " [0.01314978]\n",
      " [0.01147284]\n",
      " [0.01080637]\n",
      " [0.01045968]\n",
      " [0.01149082]\n",
      " [0.01161531]\n",
      " [0.01393177]\n",
      " [0.01078314]\n",
      " [0.00932223]\n",
      " [0.00987163]]\n"
     ]
    }
   ],
   "source": [
    "prediction=active_bnn.predict(data1_tensor.to(opt['device']),100)\n",
    "print(active_bnn.q_mu)\n",
    "print(prediction.cpu().numpy())"
   ]
  },
  {
   "cell_type": "code",
   "execution_count": 251,
   "metadata": {},
   "outputs": [
    {
     "name": "stdout",
     "output_type": "stream",
     "text": [
      "(1000, 2)\n"
     ]
    },
    {
     "data": {
      "image/png": "[encoded data removed]",
      "text/plain": [
       "<Figure size 432x288 with 1 Axes>"
      ]
     },
     "metadata": {
      "needs_background": "light"
     },
     "output_type": "display_data"
    }
   ],
   "source": [
    "yo=active_bnn.sample_from_posterior(1000).detach().numpy()\n",
    "print(np.shape(yo))\n",
    "plt.scatter(yo[:, 0], yo[:, 1])\n",
    "plt.show()"
   ]
  },
  {
   "cell_type": "code",
   "execution_count": 252,
   "metadata": {},
   "outputs": [
    {
     "data": {
      "image/png": "[encoded data removed]",
      "text/plain": [
       "<Figure size 432x288 with 1 Axes>"
      ]
     },
     "metadata": {
      "needs_background": "light"
     },
     "output_type": "display_data"
    }
   ],
   "source": [
    "active_bnn_true = Net(learning_rate=5e-3).to(opt['device'])\n",
    "nelbo_1=active_bnn_true.train(data_tensor.to(opt['device']),label_tensor.to(opt['device']),50)\n",
    "# nelbo_1=active_bnn_true.train(data2_tensor.to(opt['device']),label2_tensor.to(opt['device']),1)"
   ]
  },
  {
   "cell_type": "code",
   "execution_count": 253,
   "metadata": {},
   "outputs": [
    {
     "name": "stdout",
     "output_type": "stream",
     "text": [
      "tensor([ 2.1862,  0.0033])\n"
     ]
    }
   ],
   "source": [
    "print(active_bnn_true.q_mu)"
   ]
  },
  {
   "cell_type": "code",
   "execution_count": 254,
   "metadata": {},
   "outputs": [
    {
     "name": "stdout",
     "output_type": "stream",
     "text": [
      "tensor([[ 0.1109],\n",
      "        [ 0.1209],\n",
      "        [ 0.1071],\n",
      "        [ 0.1198],\n",
      "        [ 0.1128],\n",
      "        [ 0.1257],\n",
      "        [ 0.1260],\n",
      "        [ 0.0946],\n",
      "        [ 0.1023],\n",
      "        [ 0.1138],\n",
      "        [ 0.1301],\n",
      "        [ 0.1108],\n",
      "        [ 0.1142],\n",
      "        [ 0.1154],\n",
      "        [ 0.1255],\n",
      "        [ 0.1098],\n",
      "        [ 0.1332],\n",
      "        [ 0.1118],\n",
      "        [ 0.1007],\n",
      "        [ 0.1147],\n",
      "        [ 0.9060],\n",
      "        [ 0.9079],\n",
      "        [ 0.8995],\n",
      "        [ 0.8980],\n",
      "        [ 0.8973],\n",
      "        [ 0.9024],\n",
      "        [ 0.9072],\n",
      "        [ 0.9001],\n",
      "        [ 0.9056],\n",
      "        [ 0.8977],\n",
      "        [ 0.8827],\n",
      "        [ 0.8768],\n",
      "        [ 0.9002],\n",
      "        [ 0.8903],\n",
      "        [ 0.9139],\n",
      "        [ 0.9048],\n",
      "        [ 0.8965],\n",
      "        [ 0.8970],\n",
      "        [ 0.9072],\n",
      "        [ 0.9123]], device='cuda:0')\n"
     ]
    }
   ],
   "source": [
    "prediction=active_bnn_true.predict(data_tensor.to(opt['device']),100)\n",
    "print(prediction)"
   ]
  },
  {
   "cell_type": "code",
   "execution_count": 255,
   "metadata": {},
   "outputs": [
    {
     "data": {
      "image/png": "[encoded data removed]",
      "text/plain": [
       "<Figure size 432x288 with 1 Axes>"
      ]
     },
     "metadata": {
      "needs_background": "light"
     },
     "output_type": "display_data"
    }
   ],
   "source": [
    "yo_true=active_bnn_true.sample_from_posterior(1000).detach().numpy()\n",
    "\n",
    "plt.scatter(yo[:, 0], yo[:, 1],c='red')\n",
    "plt.scatter(yo_true[:, 0], yo_true[:, 1],c='green')\n",
    "plt.show()"
   ]
  },
  {
   "cell_type": "code",
   "execution_count": null,
   "metadata": {},
   "outputs": [],
   "source": [
    "for i in range(0,10):\n",
    "    x_new=train_dict[8][21].view(-1,1,28,28)\n",
    "    label_new=torch.tensor([8])\n",
    "    active_bnn_1.online_train(x_new,label_new)\n",
    "    print('entropy',active_bnn_1.predictive_distribution_entropy_2(train_dict[8][20]))\n",
    "    likelihood_of_initial_dataset,accuracy=active_bnn_1.likelihood_eva(initial_train_data_tensor,initial_train_label_tensor)\n",
    "    print('lieklihood',likelihood_of_initial_dataset)\n",
    "    print('accuracy',accuracy)"
   ]
  },
  {
   "cell_type": "code",
   "execution_count": null,
   "metadata": {},
   "outputs": [],
   "source": [
    "x_new=train_dict[4][16].view(-1,1,28,28)\n",
    "label_new=torch.tensor([4])\n",
    "active_bnn_1.online_train(x_new,label_new)"
   ]
  },
  {
   "cell_type": "code",
   "execution_count": null,
   "metadata": {},
   "outputs": [],
   "source": [
    "print(active_bnn_1.predictive_distribution_entropy_2(train_dict[6][20]))\n",
    "print(active_bnn_1.predictive_distribution_entropy_2(train_dict[8][20]))\n",
    "print(active_bnn_1.predictive_distribution_entropy_2(train_dict[8][21]))\n",
    "print(active_bnn_1.predictive_distribution_entropy_2(train_dict[1][20]))\n",
    "print(active_bnn_1.predictive_distribution_entropy_2(train_dict[1][1]))\n",
    "print(active_bnn_1.predictive_distribution_entropy_2(train_dict[0][1]))\n",
    "print(active_bnn_1.predictive_distribution_entropy_2(train_dict[4][1]))\n",
    "print(active_bnn_1.predictive_distribution_entropy_2(train_dict[4][16]))\n",
    "print(active_bnn_1.predictive_distribution_entropy_2(train_dict[4][15]))"
   ]
  },
  {
   "cell_type": "code",
   "execution_count": null,
   "metadata": {},
   "outputs": [],
   "source": [
    "active_bnn_1 = Net(feature_dim=50,q_rank=100)\n",
    "nelbo_1=active_bnn_1.pre_train(initial_train_data_tensor,initial_train_label_tensor)"
   ]
  },
  {
   "cell_type": "code",
   "execution_count": null,
   "metadata": {},
   "outputs": [],
   "source": [
    "x_new=train_dict[4][16].view(-1,1,28,28)\n",
    "label_new=torch.tensor([4])\n",
    "\n",
    "active_bnn_1.online_train(x_new,label_new)"
   ]
  },
  {
   "cell_type": "code",
   "execution_count": null,
   "metadata": {},
   "outputs": [],
   "source": [
    "print(active_bnn_1.predictive_distribution_entropy_2(train_dict[6][20]))\n",
    "print(active_bnn_1.predictive_distribution_entropy_2(train_dict[8][20]))\n",
    "print(active_bnn_1.predictive_distribution_entropy_2(train_dict[8][21]))\n",
    "print(active_bnn_1.predictive_distribution_entropy_2(train_dict[1][20]))\n",
    "print(active_bnn_1.predictive_distribution_entropy_2(train_dict[1][1]))\n",
    "print(active_bnn_1.predictive_distribution_entropy_2(train_dict[0][1]))\n",
    "print(active_bnn_1.predictive_distribution_entropy_2(train_dict[4][1]))\n",
    "print(active_bnn_1.predictive_distribution_entropy_2(train_dict[4][16]))\n",
    "print(active_bnn_1.predictive_distribution_entropy_2(train_dict[4][15]))"
   ]
  },
  {
   "cell_type": "code",
   "execution_count": null,
   "metadata": {},
   "outputs": [],
   "source": [
    "x_new=train_dict[8][20].view(-1,1,28,28)\n",
    "label_new=torch.tensor([8])\n",
    "\n",
    "active_bnn_1.online_train(x_new,label_new)"
   ]
  },
  {
   "cell_type": "code",
   "execution_count": null,
   "metadata": {},
   "outputs": [],
   "source": [
    "print(active_bnn_1.predictive_distribution_entropy_2(train_dict[6][20]))\n",
    "print(active_bnn_1.predictive_distribution_entropy_2(train_dict[8][20]))\n",
    "print(active_bnn_1.predictive_distribution_entropy_2(train_dict[8][21]))\n",
    "print(active_bnn_1.predictive_distribution_entropy_2(train_dict[1][20]))\n",
    "print(active_bnn_1.predictive_distribution_entropy_2(train_dict[1][1]))\n",
    "print(active_bnn_1.predictive_distribution_entropy_2(train_dict[0][1]))\n",
    "print(active_bnn_1.predictive_distribution_entropy_2(train_dict[4][1]))\n",
    "print(active_bnn_1.predictive_distribution_entropy_2(train_dict[4][16]))\n",
    "print(active_bnn_1.predictive_distribution_entropy_2(train_dict[4][15]))"
   ]
  },
  {
   "cell_type": "code",
   "execution_count": null,
   "metadata": {},
   "outputs": [],
   "source": [
    "x_new=train_dict[1][20].view(-1,1,28,28)\n",
    "label_new=torch.tensor([1])\n",
    "\n",
    "active_bnn_1.online_train(x_new,label_new)"
   ]
  },
  {
   "cell_type": "code",
   "execution_count": null,
   "metadata": {},
   "outputs": [],
   "source": [
    "print(active_bnn_1.predictive_distribution_entropy_2(train_dict[6][20]))\n",
    "print(active_bnn_1.predictive_distribution_entropy_2(train_dict[8][20]))\n",
    "print(active_bnn_1.predictive_distribution_entropy_2(train_dict[8][21]))\n",
    "print(active_bnn_1.predictive_distribution_entropy_2(train_dict[1][20]))\n",
    "print(active_bnn_1.predictive_distribution_entropy_2(train_dict[1][1]))\n",
    "print(active_bnn_1.predictive_distribution_entropy_2(train_dict[0][1]))\n",
    "print(active_bnn_1.predictive_distribution_entropy_2(train_dict[4][1]))\n",
    "print(active_bnn_1.predictive_distribution_entropy_2(train_dict[4][16]))\n",
    "print(active_bnn_1.predictive_distribution_entropy_2(train_dict[4][15]))"
   ]
  },
  {
   "cell_type": "code",
   "execution_count": null,
   "metadata": {},
   "outputs": [],
   "source": [
    "x_new=train_dict[8][20].view(-1,1,28,28)\n",
    "label_new=torch.tensor([8])\n",
    "\n",
    "active_bnn_1.online_train(x_new,label_new)"
   ]
  },
  {
   "cell_type": "code",
   "execution_count": null,
   "metadata": {},
   "outputs": [],
   "source": [
    "x_new=train_dict[4][16].view(-1,1,28,28)\n",
    "label_new=torch.tensor([4])\n",
    "\n",
    "active_bnn_1.online_train(x_new,label_new)"
   ]
  },
  {
   "cell_type": "code",
   "execution_count": null,
   "metadata": {},
   "outputs": [],
   "source": [
    "print(active_bnn_1.predictive_distribution_entropy_2(train_dict[6][20]))\n",
    "print(active_bnn_1.predictive_distribution_entropy_2(train_dict[8][20]))\n",
    "print(active_bnn_1.predictive_distribution_entropy_2(train_dict[8][21]))\n",
    "print(active_bnn_1.predictive_distribution_entropy_2(train_dict[8][22]))\n",
    "print(active_bnn_1.predictive_distribution_entropy_2(train_dict[8][23]))\n",
    "print(active_bnn_1.predictive_distribution_entropy_2(train_dict[1][20]))\n",
    "print(active_bnn_1.predictive_distribution_entropy_2(train_dict[1][1]))\n",
    "print(active_bnn_1.predictive_distribution_entropy_2(train_dict[0][1]))\n",
    "print(active_bnn_1.predictive_distribution_entropy_2(train_dict[4][1]))\n",
    "print(active_bnn_1.predictive_distribution_entropy_2(train_dict[4][16]))\n",
    "print(active_bnn_1.predictive_distribution_entropy_2(train_dict[4][15]))"
   ]
  },
  {
   "cell_type": "code",
   "execution_count": null,
   "metadata": {},
   "outputs": [],
   "source": [
    "x_new=train_dict[8][20].view(-1,1,28,28)\n",
    "label_new=torch.tensor([8])\n",
    "\n",
    "active_bnn_1.online_train(x_new,label_new)"
   ]
  },
  {
   "cell_type": "code",
   "execution_count": null,
   "metadata": {},
   "outputs": [],
   "source": [
    "print(active_bnn_1.predictive_distribution_entropy_2(train_dict[6][20]))\n",
    "print(active_bnn_1.predictive_distribution_entropy_2(train_dict[8][20]))\n",
    "print(active_bnn_1.predictive_distribution_entropy_2(train_dict[8][21]))\n",
    "print(active_bnn_1.predictive_distribution_entropy_2(train_dict[8][22]))\n",
    "print(active_bnn_1.predictive_distribution_entropy_2(train_dict[8][23]))\n",
    "print(active_bnn_1.predictive_distribution_entropy_2(train_dict[1][20]))\n",
    "print(active_bnn_1.predictive_distribution_entropy_2(train_dict[1][1]))\n",
    "print(active_bnn_1.predictive_distribution_entropy_2(train_dict[0][1]))\n",
    "print(active_bnn_1.predictive_distribution_entropy_2(train_dict[4][1]))\n",
    "print(active_bnn_1.predictive_distribution_entropy_2(train_dict[4][16]))\n",
    "print(active_bnn_1.predictive_distribution_entropy_2(train_dict[4][15]))"
   ]
  },
  {
   "cell_type": "code",
   "execution_count": null,
   "metadata": {},
   "outputs": [],
   "source": [
    "x_new=train_dict[8][20].view(-1,1,28,28)\n",
    "label_new=torch.tensor([8])\n",
    "\n",
    "active_bnn_2.online_train(x_new,label_new)"
   ]
  },
  {
   "cell_type": "code",
   "execution_count": null,
   "metadata": {},
   "outputs": [],
   "source": [
    "print(active_bnn_1.predictive_distribution_entropy_2(train_dict[6][20]))\n",
    "print(active_bnn_1.predictive_distribution_entropy_2(train_dict[8][20]))\n",
    "print(active_bnn_1.predictive_distribution_entropy_2(train_dict[8][21]))\n",
    "print(active_bnn_1.predictive_distribution_entropy_2(train_dict[8][22]))\n",
    "print(active_bnn_1.predictive_distribution_entropy_2(train_dict[8][23]))\n",
    "print(active_bnn_1.predictive_distribution_entropy_2(train_dict[1][20]))\n",
    "print(active_bnn_1.predictive_distribution_entropy_2(train_dict[1][1]))\n",
    "print(active_bnn_1.predictive_distribution_entropy_2(train_dict[0][1]))\n",
    "print(active_bnn_1.predictive_distribution_entropy_2(train_dict[4][1]))\n",
    "print(active_bnn_1.predictive_distribution_entropy_2(train_dict[4][16]))\n",
    "print(active_bnn_1.predictive_distribution_entropy_2(train_dict[4][15]))"
   ]
  },
  {
   "cell_type": "code",
   "execution_count": null,
   "metadata": {},
   "outputs": [],
   "source": [
    "x_new=train_dict[8][22].view(-1,1,28,28)\n",
    "label_new=torch.tensor([8])\n",
    "\n",
    "active_bnn_2.online_train(x_new,label_new)"
   ]
  },
  {
   "cell_type": "code",
   "execution_count": null,
   "metadata": {},
   "outputs": [],
   "source": [
    "print(active_bnn_1.predictive_distribution_entropy_2(train_dict[6][20]))\n",
    "print(active_bnn_1.predictive_distribution_entropy_2(train_dict[8][20]))\n",
    "print(active_bnn_1.predictive_distribution_entropy_2(train_dict[8][21]))\n",
    "print(active_bnn_1.predictive_distribution_entropy_2(train_dict[8][22]))\n",
    "print(active_bnn_1.predictive_distribution_entropy_2(train_dict[8][23]))\n",
    "print(active_bnn_1.predictive_distribution_entropy_2(train_dict[1][20]))\n",
    "print(active_bnn_1.predictive_distribution_entropy_2(train_dict[1][1]))\n",
    "print(active_bnn_1.predictive_distribution_entropy_2(train_dict[0][1]))\n",
    "print(active_bnn_1.predictive_distribution_entropy_2(train_dict[4][1]))\n",
    "print(active_bnn_1.predictive_distribution_entropy_2(train_dict[4][16]))\n",
    "print(active_bnn_1.predictive_distribution_entropy_2(train_dict[4][15]))"
   ]
  },
  {
   "cell_type": "code",
   "execution_count": null,
   "metadata": {},
   "outputs": [],
   "source": [
    "active_bnn_2 = Net(q_rank=2)\n",
    "nelbo_2=active_bnn_2.pre_train(initial_train_data_tensor,initial_train_label_tensor)"
   ]
  },
  {
   "cell_type": "code",
   "execution_count": null,
   "metadata": {},
   "outputs": [],
   "source": [
    "print(active_bnn_2.predictive_distribution_entropy_2(train_dict[6][20]))\n",
    "print(active_bnn_2.predictive_distribution_entropy_2(train_dict[8][20]))\n",
    "print(active_bnn_2.predictive_distribution_entropy_2(train_dict[8][21]))\n",
    "print(active_bnn_2.predictive_distribution_entropy_2(train_dict[8][22]))\n",
    "print(active_bnn_2.predictive_distribution_entropy_2(train_dict[8][23]))\n",
    "print(active_bnn_2.predictive_distribution_entropy_2(train_dict[1][20]))\n",
    "print(active_bnn_2.predictive_distribution_entropy_2(train_dict[1][1]))\n",
    "print(active_bnn_2.predictive_distribution_entropy_2(train_dict[0][1]))\n",
    "print(active_bnn_2.predictive_distribution_entropy_2(train_dict[4][1]))\n",
    "print(active_bnn_2.predictive_distribution_entropy_2(train_dict[4][16]))\n",
    "print(active_bnn_2.predictive_distribution_entropy_2(train_dict[4][15]))"
   ]
  },
  {
   "cell_type": "code",
   "execution_count": null,
   "metadata": {},
   "outputs": [],
   "source": [
    "active_bnn_3 = Net(q_rank=3)\n",
    "nelbo_3=active_bnn_3.pre_train(initial_train_data_tensor,initial_train_label_tensor)"
   ]
  },
  {
   "cell_type": "code",
   "execution_count": null,
   "metadata": {},
   "outputs": [],
   "source": [
    "active_bnn_10 = Net(q_rank=10)\n",
    "nelbo_10=active_bnn_10.pre_train(initial_train_data_tensor,initial_train_label_tensor)"
   ]
  },
  {
   "cell_type": "code",
   "execution_count": null,
   "metadata": {},
   "outputs": [],
   "source": [
    "print(active_bnn_10.predictive_distribution_entropy_2(train_dict[6][20]))\n",
    "print(active_bnn_10.predictive_distribution_entropy_2(train_dict[8][20]))\n",
    "print(active_bnn_10.predictive_distribution_entropy_2(train_dict[8][21]))\n",
    "print(active_bnn_10.predictive_distribution_entropy_2(train_dict[8][22]))\n",
    "print(active_bnn_10.predictive_distribution_entropy_2(train_dict[8][23]))\n",
    "print(active_bnn_10.predictive_distribution_entropy_2(train_dict[1][20]))\n",
    "print(active_bnn_10.predictive_distribution_entropy_2(train_dict[1][1]))\n",
    "print(active_bnn_10.predictive_distribution_entropy_2(train_dict[0][1]))\n",
    "print(active_bnn_10.predictive_distribution_entropy_2(train_dict[4][1]))\n",
    "print(active_bnn_10.predictive_distribution_entropy_2(train_dict[4][16]))\n",
    "print(active_bnn_10.predictive_distribution_entropy_2(train_dict[4][15]))"
   ]
  },
  {
   "cell_type": "code",
   "execution_count": null,
   "metadata": {},
   "outputs": [],
   "source": [
    "x_new=train_dict[8][20].view(-1,1,28,28)\n",
    "label_new=torch.tensor([8])\n",
    "\n",
    "active_bnn_10.online_train(x_new,label_new)"
   ]
  },
  {
   "cell_type": "code",
   "execution_count": null,
   "metadata": {},
   "outputs": [],
   "source": [
    "print(active_bnn_10.predictive_distribution_entropy_2(train_dict[6][20]))\n",
    "print(active_bnn_10.predictive_distribution_entropy_2(train_dict[8][20]))\n",
    "print(active_bnn_10.predictive_distribution_entropy_2(train_dict[8][21]))\n",
    "print(active_bnn_10.predictive_distribution_entropy_2(train_dict[8][22]))\n",
    "print(active_bnn_10.predictive_distribution_entropy_2(train_dict[8][23]))\n",
    "print(active_bnn_10.predictive_distribution_entropy_2(train_dict[1][20]))\n",
    "print(active_bnn_10.predictive_distribution_entropy_2(train_dict[1][1]))\n",
    "print(active_bnn_10.predictive_distribution_entropy_2(train_dict[0][1]))\n",
    "print(active_bnn_10.predictive_distribution_entropy_2(train_dict[4][1]))\n",
    "print(active_bnn_10.predictive_distribution_entropy_2(train_dict[4][16]))\n",
    "print(active_bnn_10.predictive_distribution_entropy_2(train_dict[4][15]))"
   ]
  },
  {
   "cell_type": "code",
   "execution_count": null,
   "metadata": {},
   "outputs": [],
   "source": [
    "x_new=train_dict[8][21].view(-1,1,28,28)\n",
    "label_new=torch.tensor([8])\n",
    "\n",
    "active_bnn_10.online_train(x_new,label_new)"
   ]
  },
  {
   "cell_type": "code",
   "execution_count": null,
   "metadata": {},
   "outputs": [],
   "source": [
    "print(active_bnn_10.predictive_distribution_entropy_2(train_dict[6][20]))\n",
    "print(active_bnn_10.predictive_distribution_entropy_2(train_dict[8][20]))\n",
    "print(active_bnn_10.predictive_distribution_entropy_2(train_dict[8][21]))\n",
    "print(active_bnn_10.predictive_distribution_entropy_2(train_dict[8][22]))\n",
    "print(active_bnn_10.predictive_distribution_entropy_2(train_dict[8][23]))\n",
    "print(active_bnn_10.predictive_distribution_entropy_2(train_dict[1][20]))\n",
    "print(active_bnn_10.predictive_distribution_entropy_2(train_dict[1][1]))\n",
    "print(active_bnn_10.predictive_distribution_entropy_2(train_dict[0][1]))\n",
    "print(active_bnn_10.predictive_distribution_entropy_2(train_dict[4][1]))\n",
    "print(active_bnn_10.predictive_distribution_entropy_2(train_dict[4][16]))\n",
    "print(active_bnn_10.predictive_distribution_entropy_2(train_dict[4][15]))"
   ]
  },
  {
   "cell_type": "code",
   "execution_count": null,
   "metadata": {},
   "outputs": [],
   "source": [
    "active_bnn_50 = Net(q_rank=50)\n",
    "nelbo_50=active_bnn_50.pre_train(initial_train_data_tensor,initial_train_label_tensor)"
   ]
  },
  {
   "cell_type": "code",
   "execution_count": null,
   "metadata": {},
   "outputs": [],
   "source": [
    "plt.plot(nelbo_50,label='50')\n",
    "plt.plot(nelbo_10,label='10')\n",
    "plt.plot(nelbo_3,label='3')\n",
    "plt.plot(nelbo_2,label='2')\n",
    "plt.plot(nelbo_1,label='1')\n",
    "\n",
    "plt.legend()\n",
    "plt.show()"
   ]
  },
  {
   "cell_type": "code",
   "execution_count": null,
   "metadata": {},
   "outputs": [],
   "source": [
    "print(active_bnn_1.predictive_distribution_entropy_2(train_dict[6][20]))\n",
    "print(active_bnn_1.predictive_distribution_entropy_2(train_dict[8][20]))\n",
    "print(active_bnn_1.predictive_distribution_entropy_2(train_dict[8][21]))\n",
    "print(active_bnn_1.predictive_distribution_entropy_2(train_dict[1][20]))\n",
    "print(active_bnn_1.predictive_distribution_entropy_2(train_dict[1][1]))\n",
    "print(active_bnn_1.predictive_distribution_entropy_2(train_dict[0][1]))\n",
    "print(active_bnn_1.predictive_distribution_entropy_2(train_dict[4][1]))\n",
    "print(active_bnn_1.predictive_distribution_entropy_2(train_dict[4][16]))\n",
    "print(active_bnn_1.predictive_distribution_entropy_2(train_dict[4][15]))"
   ]
  },
  {
   "cell_type": "code",
   "execution_count": null,
   "metadata": {},
   "outputs": [],
   "source": [
    "cccccccccccccccccccc"
   ]
  },
  {
   "cell_type": "code",
   "execution_count": null,
   "metadata": {},
   "outputs": [],
   "source": [
    "print(active_bnn_1.predictive_distribution_entropy_2(train_dict[6][20]))\n",
    "print(active_bnn_1.predictive_distribution_entropy_2(train_dict[8][20]))\n",
    "print(active_bnn_1.predictive_distribution_entropy_2(train_dict[8][21]))\n",
    "print(active_bnn_1.predictive_distribution_entropy_2(train_dict[1][20]))\n",
    "print(active_bnn_1.predictive_distribution_entropy_2(train_dict[1][1]))\n",
    "print(active_bnn_1.predictive_distribution_entropy_2(train_dict[0][1]))\n",
    "print(active_bnn_1.predictive_distribution_entropy_2(train_dict[4][1]))\n",
    "print(active_bnn_1.predictive_distribution_entropy_2(train_dict[4][16]))\n",
    "print(active_bnn_1.predictive_distribution_entropy_2(train_dict[4][15]))"
   ]
  },
  {
   "cell_type": "code",
   "execution_count": null,
   "metadata": {},
   "outputs": [],
   "source": [
    "x_new=train_dict[8][20].view(-1,1,28,28)\n",
    "label_new=torch.tensor([8])\n",
    "\n",
    "active_bnn_1.online_train(x_new,label_new)"
   ]
  },
  {
   "cell_type": "code",
   "execution_count": null,
   "metadata": {},
   "outputs": [],
   "source": [
    "print(active_bnn_1.predictive_distribution_entropy_2(train_dict[6][20]))\n",
    "print(active_bnn_1.predictive_distribution_entropy_2(train_dict[8][20]))\n",
    "print(active_bnn_1.predictive_distribution_entropy_2(train_dict[8][21]))\n",
    "print(active_bnn_1.predictive_distribution_entropy_2(train_dict[1][20]))\n",
    "print(active_bnn_1.predictive_distribution_entropy_2(train_dict[1][1]))\n",
    "print(active_bnn_1.predictive_distribution_entropy_2(train_dict[0][1]))\n",
    "print(active_bnn_1.predictive_distribution_entropy_2(train_dict[4][1]))\n",
    "print(active_bnn_1.predictive_distribution_entropy_2(train_dict[4][16]))\n",
    "print(active_bnn_1.predictive_distribution_entropy_2(train_dict[4][15]))"
   ]
  },
  {
   "cell_type": "code",
   "execution_count": null,
   "metadata": {},
   "outputs": [],
   "source": [
    "x_new=train_dict[8][20].view(-1,1,28,28)\n",
    "label_new=torch.tensor([8])\n",
    "\n",
    "active_bnn_1.online_train(x_new,label_new)"
   ]
  },
  {
   "cell_type": "code",
   "execution_count": null,
   "metadata": {},
   "outputs": [],
   "source": [
    "print(active_bnn_1.predictive_distribution_entropy_2(train_dict[6][20]))\n",
    "print(active_bnn_1.predictive_distribution_entropy_2(train_dict[8][20]))\n",
    "print(active_bnn_1.predictive_distribution_entropy_2(train_dict[8][21]))\n",
    "print(active_bnn_1.predictive_distribution_entropy_2(train_dict[1][20]))\n",
    "print(active_bnn_1.predictive_distribution_entropy_2(train_dict[1][1]))\n",
    "print(active_bnn_1.predictive_distribution_entropy_2(train_dict[0][1]))\n",
    "print(active_bnn_1.predictive_distribution_entropy_2(train_dict[4][1]))\n",
    "print(active_bnn_1.predictive_distribution_entropy_2(train_dict[4][16]))\n",
    "print(active_bnn_1.predictive_distribution_entropy_2(train_dict[4][15]))"
   ]
  },
  {
   "cell_type": "code",
   "execution_count": null,
   "metadata": {},
   "outputs": [],
   "source": [
    "x_new=train_dict[8][21].view(-1,1,28,28)\n",
    "label_new=torch.tensor([8])\n",
    "\n",
    "active_bnn_1.online_train(x_new,label_new)"
   ]
  },
  {
   "cell_type": "code",
   "execution_count": null,
   "metadata": {},
   "outputs": [],
   "source": [
    "print(active_bnn_1.predictive_distribution_entropy_2(train_dict[6][20]))\n",
    "print(active_bnn_1.predictive_distribution_entropy_2(train_dict[8][20]))\n",
    "print(active_bnn_1.predictive_distribution_entropy_2(train_dict[8][21]))\n",
    "print(active_bnn_1.predictive_distribution_entropy_2(train_dict[1][20]))\n",
    "print(active_bnn_1.predictive_distribution_entropy_2(train_dict[1][1]))\n",
    "print(active_bnn_1.predictive_distribution_entropy_2(train_dict[0][1]))\n",
    "print(active_bnn_1.predictive_distribution_entropy_2(train_dict[4][1]))\n",
    "print(active_bnn_1.predictive_distribution_entropy_2(train_dict[4][16]))\n",
    "print(active_bnn_1.predictive_distribution_entropy_2(train_dict[4][15]))"
   ]
  },
  {
   "cell_type": "code",
   "execution_count": null,
   "metadata": {},
   "outputs": [],
   "source": [
    "for i in range(0,30):\n",
    "    print(i)\n",
    "    print(active_bnn.predictive_distribution_entropy(train_dict[1][i]))\n",
    "    print(active_bnn.predictive_distribution_entropy(train_dict[8][i]))"
   ]
  },
  {
   "cell_type": "code",
   "execution_count": null,
   "metadata": {},
   "outputs": [],
   "source": [
    "for i in range(0,30):\n",
    "    x_new=train_dict[8][i].view(-1,1,28,28)\n",
    "    label_new=torch.tensor([8])\n",
    "\n",
    "    active_bnn.online_train(x_new,label_new)"
   ]
  },
  {
   "cell_type": "code",
   "execution_count": null,
   "metadata": {},
   "outputs": [],
   "source": [
    "for i in range(0,30):\n",
    "    print(i)\n",
    "    print(active_bnn.predictive_distribution_entropy(train_dict[1][i]))\n",
    "    print(active_bnn.predictive_distribution_entropy(train_dict[8][i]))"
   ]
  }
 ],
 "metadata": {
  "kernelspec": {
   "display_name": "Python 3",
   "language": "python",
   "name": "python3"
  },
  "language_info": {
   "codemirror_mode": {
    "name": "ipython",
    "version": 3
   },
   "file_extension": ".py",
   "mimetype": "text/x-python",
   "name": "python",
   "nbconvert_exporter": "python",
   "pygments_lexer": "ipython3",
   "version": "3.6.9"
  }
 },
 "nbformat": 4,
 "nbformat_minor": 4
}
